{
  "nbformat": 4,
  "nbformat_minor": 0,
  "metadata": {
    "colab": {
      "provenance": [],
      "toc_visible": true,
      "include_colab_link": true
    },
    "kernelspec": {
      "name": "python3",
      "display_name": "Python 3"
    },
    "language_info": {
      "name": "python"
    }
  },
  "cells": [
    {
      "cell_type": "markdown",
      "metadata": {
        "id": "view-in-github",
        "colab_type": "text"
      },
      "source": [
        "<a href=\"https://colab.research.google.com/github/tungnt28/Natural-Language-Processing/blob/main/Finalexam_NLP.ipynb\" target=\"_parent\"><img src=\"https://colab.research.google.com/assets/colab-badge.svg\" alt=\"Open In Colab\"/></a>"
      ]
    },
    {
      "cell_type": "markdown",
      "source": [
        "# Data preparation"
      ],
      "metadata": {
        "id": "1MchDCxanzYU"
      }
    },
    {
      "cell_type": "markdown",
      "source": [
        "## Get comment data from Shopee"
      ],
      "metadata": {
        "id": "v0pEP1udHrl7"
      }
    },
    {
      "cell_type": "code",
      "source": [
        "import re\n",
        "import json\n",
        "import requests\n",
        "import pandas as pd\n",
        "\n",
        "def get_cmt_from_shopee_url(url):\n",
        "\n",
        "    r = re.search(r\"i\\.(\\d+)\\.(\\d+)\", url)\n",
        "    shop_id, item_id = r[1], r[2]\n",
        "    ratings_url = \"https://shopee.vn/api/v2/item/get_ratings?filter=0&flag=1&itemid={item_id}&limit=50&offset={offset}&shopid={shop_id}&type={rating}\"\n",
        "\n",
        "    # d = {\"username\": [], \"rating\": [], \"comment\": []}\n",
        "    d = {\"comment\": [], \"rating\": []}\n",
        "\n",
        "    for rate in range(1, 6):\n",
        "        offset = 0\n",
        "        while True:\n",
        "            try:\n",
        "              data = requests.get(ratings_url.format(shop_id=shop_id, item_id=item_id, offset=offset, rating = rate)).json()\n",
        "\n",
        "              i = 1\n",
        "              for i, rating in enumerate(data[\"data\"][\"ratings\"], 1):\n",
        "                  d[\"rating\"].append(rating[\"rating_star\"])\n",
        "                  d[\"comment\"].append(rating[\"comment\"])\n",
        "\n",
        "                  # print(rating[\"rating_star\"])\n",
        "                  # print(rating[\"comment\"])\n",
        "                  # print(\"-\" * 100)\n",
        "\n",
        "              offset += 50\n",
        "            except TypeError:\n",
        "              break\n",
        "    return d"
      ],
      "metadata": {
        "id": "e6kIYl9IHygB"
      },
      "execution_count": 1,
      "outputs": []
    },
    {
      "cell_type": "code",
      "source": [
        "url = \"https://shopee.vn/S%E1%BB%AFa-r%E1%BB%ADa-m%E1%BA%B7t-Simple-l%C3%A0nh-t%C3%ADnh-s%E1%BA%A1ch-tho%C3%A1ng-cho-da-nh%E1%BA%A1y-c%E1%BA%A3m-150ml-CH%C3%8DNH-H%C3%83NG-%C4%90%E1%BB%98C-QUY%E1%BB%80N-DI%E1%BB%86N-M%E1%BA%A0O-M%E1%BB%9AI--i.111138057.8587034871\"\n",
        "df = pd.DataFrame(get_cmt_from_shopee_url(url))\n",
        "df"
      ],
      "metadata": {
        "id": "LEPe2YZiISzu",
        "colab": {
          "base_uri": "https://localhost:8080/",
          "height": 424
        },
        "outputId": "357356a1-4361-4b21-93f4-8eee1332e3a2"
      },
      "execution_count": 2,
      "outputs": [
        {
          "output_type": "execute_result",
          "data": {
            "text/plain": [
              "                                                 comment  rating\n",
              "0      Công dụng:rỬa mặt\\nMùi hương:ổn\\nKết cấu:gel\\n...       1\n",
              "1      Công dụng:sữa rửa mặt\\nMùi hương:chưa biết\\nDà...       1\n",
              "2      Dành cho da:lhuf hợp với mọi loại da\\nCông dụn...       1\n",
              "3      Công dụng:Rửa mặt\\nMùi hương:Gần như không có\\...       1\n",
              "4      Công dụng:làm sạch\\nMùi hương:không biết\\nDành...       1\n",
              "...                                                  ...     ...\n",
              "11264  Công dụng:làm sạch bề da mặt\\nMùi hương:không ...       5\n",
              "11265  Công dụng:lamf sạch da\\nMùi hương:thơm dịu\\nDà...       5\n",
              "11266  Nhận hàng, cảm nhận quá tuyệt vời luôn ạ! Shop...       5\n",
              "11267  Dành cho da:nhạy cảm\\nMùi hương:nhẹ\\nCông dụng...       5\n",
              "11268  Công dụng:rỬa mặt\\nMùi hương:tHơm\\nDành cho da...       5\n",
              "\n",
              "[11269 rows x 2 columns]"
            ],
            "text/html": [
              "\n",
              "  <div id=\"df-62f426fb-23fe-46d2-ada3-ab6e52b25bfc\" class=\"colab-df-container\">\n",
              "    <div>\n",
              "<style scoped>\n",
              "    .dataframe tbody tr th:only-of-type {\n",
              "        vertical-align: middle;\n",
              "    }\n",
              "\n",
              "    .dataframe tbody tr th {\n",
              "        vertical-align: top;\n",
              "    }\n",
              "\n",
              "    .dataframe thead th {\n",
              "        text-align: right;\n",
              "    }\n",
              "</style>\n",
              "<table border=\"1\" class=\"dataframe\">\n",
              "  <thead>\n",
              "    <tr style=\"text-align: right;\">\n",
              "      <th></th>\n",
              "      <th>comment</th>\n",
              "      <th>rating</th>\n",
              "    </tr>\n",
              "  </thead>\n",
              "  <tbody>\n",
              "    <tr>\n",
              "      <th>0</th>\n",
              "      <td>Công dụng:rỬa mặt\\nMùi hương:ổn\\nKết cấu:gel\\n...</td>\n",
              "      <td>1</td>\n",
              "    </tr>\n",
              "    <tr>\n",
              "      <th>1</th>\n",
              "      <td>Công dụng:sữa rửa mặt\\nMùi hương:chưa biết\\nDà...</td>\n",
              "      <td>1</td>\n",
              "    </tr>\n",
              "    <tr>\n",
              "      <th>2</th>\n",
              "      <td>Dành cho da:lhuf hợp với mọi loại da\\nCông dụn...</td>\n",
              "      <td>1</td>\n",
              "    </tr>\n",
              "    <tr>\n",
              "      <th>3</th>\n",
              "      <td>Công dụng:Rửa mặt\\nMùi hương:Gần như không có\\...</td>\n",
              "      <td>1</td>\n",
              "    </tr>\n",
              "    <tr>\n",
              "      <th>4</th>\n",
              "      <td>Công dụng:làm sạch\\nMùi hương:không biết\\nDành...</td>\n",
              "      <td>1</td>\n",
              "    </tr>\n",
              "    <tr>\n",
              "      <th>...</th>\n",
              "      <td>...</td>\n",
              "      <td>...</td>\n",
              "    </tr>\n",
              "    <tr>\n",
              "      <th>11264</th>\n",
              "      <td>Công dụng:làm sạch bề da mặt\\nMùi hương:không ...</td>\n",
              "      <td>5</td>\n",
              "    </tr>\n",
              "    <tr>\n",
              "      <th>11265</th>\n",
              "      <td>Công dụng:lamf sạch da\\nMùi hương:thơm dịu\\nDà...</td>\n",
              "      <td>5</td>\n",
              "    </tr>\n",
              "    <tr>\n",
              "      <th>11266</th>\n",
              "      <td>Nhận hàng, cảm nhận quá tuyệt vời luôn ạ! Shop...</td>\n",
              "      <td>5</td>\n",
              "    </tr>\n",
              "    <tr>\n",
              "      <th>11267</th>\n",
              "      <td>Dành cho da:nhạy cảm\\nMùi hương:nhẹ\\nCông dụng...</td>\n",
              "      <td>5</td>\n",
              "    </tr>\n",
              "    <tr>\n",
              "      <th>11268</th>\n",
              "      <td>Công dụng:rỬa mặt\\nMùi hương:tHơm\\nDành cho da...</td>\n",
              "      <td>5</td>\n",
              "    </tr>\n",
              "  </tbody>\n",
              "</table>\n",
              "<p>11269 rows × 2 columns</p>\n",
              "</div>\n",
              "    <div class=\"colab-df-buttons\">\n",
              "\n",
              "  <div class=\"colab-df-container\">\n",
              "    <button class=\"colab-df-convert\" onclick=\"convertToInteractive('df-62f426fb-23fe-46d2-ada3-ab6e52b25bfc')\"\n",
              "            title=\"Convert this dataframe to an interactive table.\"\n",
              "            style=\"display:none;\">\n",
              "\n",
              "  <svg xmlns=\"http://www.w3.org/2000/svg\" height=\"24px\" viewBox=\"0 -960 960 960\">\n",
              "    <path d=\"M120-120v-720h720v720H120Zm60-500h600v-160H180v160Zm220 220h160v-160H400v160Zm0 220h160v-160H400v160ZM180-400h160v-160H180v160Zm440 0h160v-160H620v160ZM180-180h160v-160H180v160Zm440 0h160v-160H620v160Z\"/>\n",
              "  </svg>\n",
              "    </button>\n",
              "\n",
              "  <style>\n",
              "    .colab-df-container {\n",
              "      display:flex;\n",
              "      gap: 12px;\n",
              "    }\n",
              "\n",
              "    .colab-df-convert {\n",
              "      background-color: #E8F0FE;\n",
              "      border: none;\n",
              "      border-radius: 50%;\n",
              "      cursor: pointer;\n",
              "      display: none;\n",
              "      fill: #1967D2;\n",
              "      height: 32px;\n",
              "      padding: 0 0 0 0;\n",
              "      width: 32px;\n",
              "    }\n",
              "\n",
              "    .colab-df-convert:hover {\n",
              "      background-color: #E2EBFA;\n",
              "      box-shadow: 0px 1px 2px rgba(60, 64, 67, 0.3), 0px 1px 3px 1px rgba(60, 64, 67, 0.15);\n",
              "      fill: #174EA6;\n",
              "    }\n",
              "\n",
              "    .colab-df-buttons div {\n",
              "      margin-bottom: 4px;\n",
              "    }\n",
              "\n",
              "    [theme=dark] .colab-df-convert {\n",
              "      background-color: #3B4455;\n",
              "      fill: #D2E3FC;\n",
              "    }\n",
              "\n",
              "    [theme=dark] .colab-df-convert:hover {\n",
              "      background-color: #434B5C;\n",
              "      box-shadow: 0px 1px 3px 1px rgba(0, 0, 0, 0.15);\n",
              "      filter: drop-shadow(0px 1px 2px rgba(0, 0, 0, 0.3));\n",
              "      fill: #FFFFFF;\n",
              "    }\n",
              "  </style>\n",
              "\n",
              "    <script>\n",
              "      const buttonEl =\n",
              "        document.querySelector('#df-62f426fb-23fe-46d2-ada3-ab6e52b25bfc button.colab-df-convert');\n",
              "      buttonEl.style.display =\n",
              "        google.colab.kernel.accessAllowed ? 'block' : 'none';\n",
              "\n",
              "      async function convertToInteractive(key) {\n",
              "        const element = document.querySelector('#df-62f426fb-23fe-46d2-ada3-ab6e52b25bfc');\n",
              "        const dataTable =\n",
              "          await google.colab.kernel.invokeFunction('convertToInteractive',\n",
              "                                                    [key], {});\n",
              "        if (!dataTable) return;\n",
              "\n",
              "        const docLinkHtml = 'Like what you see? Visit the ' +\n",
              "          '<a target=\"_blank\" href=https://colab.research.google.com/notebooks/data_table.ipynb>data table notebook</a>'\n",
              "          + ' to learn more about interactive tables.';\n",
              "        element.innerHTML = '';\n",
              "        dataTable['output_type'] = 'display_data';\n",
              "        await google.colab.output.renderOutput(dataTable, element);\n",
              "        const docLink = document.createElement('div');\n",
              "        docLink.innerHTML = docLinkHtml;\n",
              "        element.appendChild(docLink);\n",
              "      }\n",
              "    </script>\n",
              "  </div>\n",
              "\n",
              "\n",
              "<div id=\"df-4feef24c-f29b-4e3c-ae69-ca16839aec13\">\n",
              "  <button class=\"colab-df-quickchart\" onclick=\"quickchart('df-4feef24c-f29b-4e3c-ae69-ca16839aec13')\"\n",
              "            title=\"Suggest charts\"\n",
              "            style=\"display:none;\">\n",
              "\n",
              "<svg xmlns=\"http://www.w3.org/2000/svg\" height=\"24px\"viewBox=\"0 0 24 24\"\n",
              "     width=\"24px\">\n",
              "    <g>\n",
              "        <path d=\"M19 3H5c-1.1 0-2 .9-2 2v14c0 1.1.9 2 2 2h14c1.1 0 2-.9 2-2V5c0-1.1-.9-2-2-2zM9 17H7v-7h2v7zm4 0h-2V7h2v10zm4 0h-2v-4h2v4z\"/>\n",
              "    </g>\n",
              "</svg>\n",
              "  </button>\n",
              "\n",
              "<style>\n",
              "  .colab-df-quickchart {\n",
              "      --bg-color: #E8F0FE;\n",
              "      --fill-color: #1967D2;\n",
              "      --hover-bg-color: #E2EBFA;\n",
              "      --hover-fill-color: #174EA6;\n",
              "      --disabled-fill-color: #AAA;\n",
              "      --disabled-bg-color: #DDD;\n",
              "  }\n",
              "\n",
              "  [theme=dark] .colab-df-quickchart {\n",
              "      --bg-color: #3B4455;\n",
              "      --fill-color: #D2E3FC;\n",
              "      --hover-bg-color: #434B5C;\n",
              "      --hover-fill-color: #FFFFFF;\n",
              "      --disabled-bg-color: #3B4455;\n",
              "      --disabled-fill-color: #666;\n",
              "  }\n",
              "\n",
              "  .colab-df-quickchart {\n",
              "    background-color: var(--bg-color);\n",
              "    border: none;\n",
              "    border-radius: 50%;\n",
              "    cursor: pointer;\n",
              "    display: none;\n",
              "    fill: var(--fill-color);\n",
              "    height: 32px;\n",
              "    padding: 0;\n",
              "    width: 32px;\n",
              "  }\n",
              "\n",
              "  .colab-df-quickchart:hover {\n",
              "    background-color: var(--hover-bg-color);\n",
              "    box-shadow: 0 1px 2px rgba(60, 64, 67, 0.3), 0 1px 3px 1px rgba(60, 64, 67, 0.15);\n",
              "    fill: var(--button-hover-fill-color);\n",
              "  }\n",
              "\n",
              "  .colab-df-quickchart-complete:disabled,\n",
              "  .colab-df-quickchart-complete:disabled:hover {\n",
              "    background-color: var(--disabled-bg-color);\n",
              "    fill: var(--disabled-fill-color);\n",
              "    box-shadow: none;\n",
              "  }\n",
              "\n",
              "  .colab-df-spinner {\n",
              "    border: 2px solid var(--fill-color);\n",
              "    border-color: transparent;\n",
              "    border-bottom-color: var(--fill-color);\n",
              "    animation:\n",
              "      spin 1s steps(1) infinite;\n",
              "  }\n",
              "\n",
              "  @keyframes spin {\n",
              "    0% {\n",
              "      border-color: transparent;\n",
              "      border-bottom-color: var(--fill-color);\n",
              "      border-left-color: var(--fill-color);\n",
              "    }\n",
              "    20% {\n",
              "      border-color: transparent;\n",
              "      border-left-color: var(--fill-color);\n",
              "      border-top-color: var(--fill-color);\n",
              "    }\n",
              "    30% {\n",
              "      border-color: transparent;\n",
              "      border-left-color: var(--fill-color);\n",
              "      border-top-color: var(--fill-color);\n",
              "      border-right-color: var(--fill-color);\n",
              "    }\n",
              "    40% {\n",
              "      border-color: transparent;\n",
              "      border-right-color: var(--fill-color);\n",
              "      border-top-color: var(--fill-color);\n",
              "    }\n",
              "    60% {\n",
              "      border-color: transparent;\n",
              "      border-right-color: var(--fill-color);\n",
              "    }\n",
              "    80% {\n",
              "      border-color: transparent;\n",
              "      border-right-color: var(--fill-color);\n",
              "      border-bottom-color: var(--fill-color);\n",
              "    }\n",
              "    90% {\n",
              "      border-color: transparent;\n",
              "      border-bottom-color: var(--fill-color);\n",
              "    }\n",
              "  }\n",
              "</style>\n",
              "\n",
              "  <script>\n",
              "    async function quickchart(key) {\n",
              "      const quickchartButtonEl =\n",
              "        document.querySelector('#' + key + ' button');\n",
              "      quickchartButtonEl.disabled = true;  // To prevent multiple clicks.\n",
              "      quickchartButtonEl.classList.add('colab-df-spinner');\n",
              "      try {\n",
              "        const charts = await google.colab.kernel.invokeFunction(\n",
              "            'suggestCharts', [key], {});\n",
              "      } catch (error) {\n",
              "        console.error('Error during call to suggestCharts:', error);\n",
              "      }\n",
              "      quickchartButtonEl.classList.remove('colab-df-spinner');\n",
              "      quickchartButtonEl.classList.add('colab-df-quickchart-complete');\n",
              "    }\n",
              "    (() => {\n",
              "      let quickchartButtonEl =\n",
              "        document.querySelector('#df-4feef24c-f29b-4e3c-ae69-ca16839aec13 button');\n",
              "      quickchartButtonEl.style.display =\n",
              "        google.colab.kernel.accessAllowed ? 'block' : 'none';\n",
              "    })();\n",
              "  </script>\n",
              "</div>\n",
              "    </div>\n",
              "  </div>\n"
            ],
            "application/vnd.google.colaboratory.intrinsic+json": {
              "type": "dataframe",
              "variable_name": "df",
              "summary": "{\n  \"name\": \"df\",\n  \"rows\": 11269,\n  \"fields\": [\n    {\n      \"column\": \"comment\",\n      \"properties\": {\n        \"dtype\": \"string\",\n        \"num_unique_values\": 9518,\n        \"samples\": [\n          \"C\\u00f4ng d\\u1ee5ng:r\\u1eeca m\\u1eb7t\\nM\\u00f9i h\\u01b0\\u01a1ng:kh\\u00f4ng m\\u00f9i\\nD\\u00e0nh cho da:th\\u01b0\\u1eddng\\n\\nThi\\u1ebfu h\\u00e0ng\",\n          \"\\u0110\\u00f3ng g\\u00f3i r\\u1ea5t s\\u01a1 s\\u00e0i , mua nhi\\u1ec1u l\\u1ea7n m\\u00e0 l\\u1ea7n n\\u00e0y \\u0111\\u00f3ng g\\u00f3i si\\u00eau t\\u1ec7\",\n          \"H\\u01a1i th\\u1ea5t v\\u1ecdng v\\u00ec b\\u1eefa m\\u00ecnh mua th\\u00ec c\\u00f3 n\\u00f3i t\\u1eb7ng nc t\\u1ea9y trang khi nh\\u1eadn h\\u00e0ng th\\u00ec l\\u1ea1i k c\\u00f3 , nt th\\u00ec shop tl g\\u00ec k n\\u00ean th, m\\u00e0 sp s\\u00e0i oke\"\n        ],\n        \"semantic_type\": \"\",\n        \"description\": \"\"\n      }\n    },\n    {\n      \"column\": \"rating\",\n      \"properties\": {\n        \"dtype\": \"number\",\n        \"std\": 1,\n        \"min\": 1,\n        \"max\": 5,\n        \"num_unique_values\": 5,\n        \"samples\": [\n          2,\n          5,\n          3\n        ],\n        \"semantic_type\": \"\",\n        \"description\": \"\"\n      }\n    }\n  ]\n}"
            }
          },
          "metadata": {},
          "execution_count": 2
        }
      ]
    },
    {
      "cell_type": "code",
      "source": [
        "from google.colab import drive\n",
        "drive.mount('/content/drive')"
      ],
      "metadata": {
        "colab": {
          "base_uri": "https://localhost:8080/"
        },
        "id": "1toECn91jW1P",
        "outputId": "66921ebb-2939-4439-e147-3615d38ac9d3"
      },
      "execution_count": 3,
      "outputs": [
        {
          "output_type": "stream",
          "name": "stdout",
          "text": [
            "Mounted at /content/drive\n"
          ]
        }
      ]
    },
    {
      "cell_type": "code",
      "source": [
        "df.to_csv(\"/content/drive/MyDrive/Colab Notebooks/shopee_data_final.csv\", index=False)"
      ],
      "metadata": {
        "id": "Qk0F3EghjX8l"
      },
      "execution_count": 4,
      "outputs": []
    },
    {
      "cell_type": "code",
      "source": [
        "df.info()"
      ],
      "metadata": {
        "colab": {
          "base_uri": "https://localhost:8080/"
        },
        "id": "BFD5KuqEjwot",
        "outputId": "b0367999-1cf5-4f7d-9f42-8271436f7231"
      },
      "execution_count": 5,
      "outputs": [
        {
          "output_type": "stream",
          "name": "stdout",
          "text": [
            "<class 'pandas.core.frame.DataFrame'>\n",
            "RangeIndex: 11269 entries, 0 to 11268\n",
            "Data columns (total 2 columns):\n",
            " #   Column   Non-Null Count  Dtype \n",
            "---  ------   --------------  ----- \n",
            " 0   comment  11269 non-null  object\n",
            " 1   rating   11269 non-null  int64 \n",
            "dtypes: int64(1), object(1)\n",
            "memory usage: 176.2+ KB\n"
          ]
        }
      ]
    },
    {
      "cell_type": "code",
      "source": [
        "num_words = 11268"
      ],
      "metadata": {
        "id": "JlRR-q0deRQm"
      },
      "execution_count": 6,
      "outputs": []
    },
    {
      "cell_type": "code",
      "source": [
        "%matplotlib inline\n",
        "import matplotlib.pyplot as plt\n",
        "import tensorflow as tf\n",
        "import numpy as np\n",
        "from scipy.spatial.distance import cdist"
      ],
      "metadata": {
        "id": "Yjg79gsifz-k"
      },
      "execution_count": 7,
      "outputs": []
    },
    {
      "cell_type": "code",
      "source": [
        "from tensorflow.keras.models import Sequential\n",
        "from tensorflow.keras.layers import Dense, GRU, Embedding\n",
        "from tensorflow.keras.optimizers import Adam\n",
        "from tensorflow.keras.preprocessing.text import Tokenizer\n",
        "from tensorflow.keras.preprocessing.sequence import pad_sequences"
      ],
      "metadata": {
        "id": "4Tyeh7gUf97F"
      },
      "execution_count": 8,
      "outputs": []
    },
    {
      "cell_type": "code",
      "source": [
        "! pip install underthesea==6.6.0\n",
        "! pip install stop-words"
      ],
      "metadata": {
        "colab": {
          "base_uri": "https://localhost:8080/"
        },
        "id": "f14dKbeBia-w",
        "outputId": "78468bdc-dd6d-4759-a453-346f447608f6"
      },
      "execution_count": 9,
      "outputs": [
        {
          "output_type": "stream",
          "name": "stdout",
          "text": [
            "Collecting underthesea==6.6.0\n",
            "  Downloading underthesea-6.6.0-py3-none-any.whl (20.9 MB)\n",
            "\u001b[2K     \u001b[90m━━━━━━━━━━━━━━━━━━━━━━━━━━━━━━━━━━━━━━━━\u001b[0m \u001b[32m20.9/20.9 MB\u001b[0m \u001b[31m26.8 MB/s\u001b[0m eta \u001b[36m0:00:00\u001b[0m\n",
            "\u001b[?25hRequirement already satisfied: Click>=6.0 in /usr/local/lib/python3.10/dist-packages (from underthesea==6.6.0) (8.1.7)\n",
            "Collecting python-crfsuite>=0.9.6 (from underthesea==6.6.0)\n",
            "  Downloading python_crfsuite-0.9.10-cp310-cp310-manylinux_2_17_x86_64.manylinux2014_x86_64.whl (1.1 MB)\n",
            "\u001b[2K     \u001b[90m━━━━━━━━━━━━━━━━━━━━━━━━━━━━━━━━━━━━━━━━\u001b[0m \u001b[32m1.1/1.1 MB\u001b[0m \u001b[31m52.9 MB/s\u001b[0m eta \u001b[36m0:00:00\u001b[0m\n",
            "\u001b[?25hRequirement already satisfied: nltk in /usr/local/lib/python3.10/dist-packages (from underthesea==6.6.0) (3.8.1)\n",
            "Requirement already satisfied: tqdm in /usr/local/lib/python3.10/dist-packages (from underthesea==6.6.0) (4.66.2)\n",
            "Requirement already satisfied: requests in /usr/local/lib/python3.10/dist-packages (from underthesea==6.6.0) (2.31.0)\n",
            "Requirement already satisfied: joblib in /usr/local/lib/python3.10/dist-packages (from underthesea==6.6.0) (1.4.0)\n",
            "Requirement already satisfied: scikit-learn in /usr/local/lib/python3.10/dist-packages (from underthesea==6.6.0) (1.2.2)\n",
            "Requirement already satisfied: PyYAML in /usr/local/lib/python3.10/dist-packages (from underthesea==6.6.0) (6.0.1)\n",
            "Collecting underthesea-core==1.0.4 (from underthesea==6.6.0)\n",
            "  Downloading underthesea_core-1.0.4-cp310-cp310-manylinux2010_x86_64.whl (657 kB)\n",
            "\u001b[2K     \u001b[90m━━━━━━━━━━━━━━━━━━━━━━━━━━━━━━━━━━━━━━━━\u001b[0m \u001b[32m657.8/657.8 kB\u001b[0m \u001b[31m44.7 MB/s\u001b[0m eta \u001b[36m0:00:00\u001b[0m\n",
            "\u001b[?25hRequirement already satisfied: regex>=2021.8.3 in /usr/local/lib/python3.10/dist-packages (from nltk->underthesea==6.6.0) (2023.12.25)\n",
            "Requirement already satisfied: charset-normalizer<4,>=2 in /usr/local/lib/python3.10/dist-packages (from requests->underthesea==6.6.0) (3.3.2)\n",
            "Requirement already satisfied: idna<4,>=2.5 in /usr/local/lib/python3.10/dist-packages (from requests->underthesea==6.6.0) (3.7)\n",
            "Requirement already satisfied: urllib3<3,>=1.21.1 in /usr/local/lib/python3.10/dist-packages (from requests->underthesea==6.6.0) (2.0.7)\n",
            "Requirement already satisfied: certifi>=2017.4.17 in /usr/local/lib/python3.10/dist-packages (from requests->underthesea==6.6.0) (2024.2.2)\n",
            "Requirement already satisfied: numpy>=1.17.3 in /usr/local/lib/python3.10/dist-packages (from scikit-learn->underthesea==6.6.0) (1.25.2)\n",
            "Requirement already satisfied: scipy>=1.3.2 in /usr/local/lib/python3.10/dist-packages (from scikit-learn->underthesea==6.6.0) (1.11.4)\n",
            "Requirement already satisfied: threadpoolctl>=2.0.0 in /usr/local/lib/python3.10/dist-packages (from scikit-learn->underthesea==6.6.0) (3.4.0)\n",
            "Installing collected packages: underthesea-core, python-crfsuite, underthesea\n",
            "Successfully installed python-crfsuite-0.9.10 underthesea-6.6.0 underthesea-core-1.0.4\n",
            "Collecting stop-words\n",
            "  Downloading stop-words-2018.7.23.tar.gz (31 kB)\n",
            "  Preparing metadata (setup.py) ... \u001b[?25l\u001b[?25hdone\n",
            "Building wheels for collected packages: stop-words\n",
            "  Building wheel for stop-words (setup.py) ... \u001b[?25l\u001b[?25hdone\n",
            "  Created wheel for stop-words: filename=stop_words-2018.7.23-py3-none-any.whl size=32895 sha256=1c60013fb7284b0848bb8fae36f311bd0df816811a2559016077963510a3278a\n",
            "  Stored in directory: /root/.cache/pip/wheels/d0/1a/23/f12552a50cb09bcc1694a5ebb6c2cd5f2a0311de2b8c3d9a89\n",
            "Successfully built stop-words\n",
            "Installing collected packages: stop-words\n",
            "Successfully installed stop-words-2018.7.23\n"
          ]
        }
      ]
    },
    {
      "cell_type": "markdown",
      "source": [
        "##Standarize commnent by Vietnamese and separte words"
      ],
      "metadata": {
        "id": "SjVLCpfqj8-g"
      }
    },
    {
      "cell_type": "code",
      "source": [
        "from underthesea import sent_tokenize\n",
        "from underthesea import text_normalize\n",
        "from underthesea import word_tokenize"
      ],
      "metadata": {
        "id": "V5DWEqYyimaY"
      },
      "execution_count": 10,
      "outputs": []
    },
    {
      "cell_type": "code",
      "source": [
        "from stop_words import get_stop_words\n",
        "from nltk.tokenize import RegexpTokenizer\n",
        "\n",
        "stop_words = get_stop_words('vi')\n",
        "\n",
        "def remove_vietnamese_stopwords(words):\n",
        "  filtered_words = [word for word in words if word.lower() not in stop_words]\n",
        "  return ' '.join(filtered_words)\n",
        "\n",
        "def assign_label(rating):\n",
        "  new_class = \"neutral\"\n",
        "  if rating>=4:\n",
        "    new_class = \"positive\"\n",
        "  elif rating<=2:\n",
        "    new_class = \"negative\"\n",
        "  return new_class"
      ],
      "metadata": {
        "id": "x8ujU-x5gALk"
      },
      "execution_count": 11,
      "outputs": []
    },
    {
      "cell_type": "code",
      "source": [
        "tokenizer = RegexpTokenizer(r'\\w+')\n",
        "df['words'] = df['comment'].apply(tokenizer.tokenize)\n",
        "df['words'] = df['words'].apply(remove_vietnamese_stopwords)\n",
        "df['label'] = df['rating'].apply(assign_label)\n",
        "df.head(5)"
      ],
      "metadata": {
        "colab": {
          "base_uri": "https://localhost:8080/",
          "height": 206
        },
        "id": "u5X6Wg8EgCOV",
        "outputId": "0d71642b-aa5d-45a4-b4bf-2066c62083f0"
      },
      "execution_count": 12,
      "outputs": [
        {
          "output_type": "execute_result",
          "data": {
            "text/plain": [
              "                                             comment  rating  \\\n",
              "0  Công dụng:rỬa mặt\\nMùi hương:ổn\\nKết cấu:gel\\n...       1   \n",
              "1  Công dụng:sữa rửa mặt\\nMùi hương:chưa biết\\nDà...       1   \n",
              "2  Dành cho da:lhuf hợp với mọi loại da\\nCông dụn...       1   \n",
              "3  Công dụng:Rửa mặt\\nMùi hương:Gần như không có\\...       1   \n",
              "4  Công dụng:làm sạch\\nMùi hương:không biết\\nDành...       1   \n",
              "\n",
              "                                               words     label  \n",
              "0  Công dụng rỬa mặt Mùi hương ổn Kết cấu gel sho...  negative  \n",
              "1  Công dụng sữa rửa mặt Mùi hương da bình chất v...  negative  \n",
              "2  da lhuf hợp da Công dụng sạch da Mùi hương mùi...  negative  \n",
              "3  Công dụng Rửa mặt Mùi hương da da Shipper gọi ...  negative  \n",
              "4  Công dụng sạch Mùi hương da tất flashs sale 1 ...  negative  "
            ],
            "text/html": [
              "\n",
              "  <div id=\"df-1f4c8746-9f98-40e6-a1eb-467f75d67850\" class=\"colab-df-container\">\n",
              "    <div>\n",
              "<style scoped>\n",
              "    .dataframe tbody tr th:only-of-type {\n",
              "        vertical-align: middle;\n",
              "    }\n",
              "\n",
              "    .dataframe tbody tr th {\n",
              "        vertical-align: top;\n",
              "    }\n",
              "\n",
              "    .dataframe thead th {\n",
              "        text-align: right;\n",
              "    }\n",
              "</style>\n",
              "<table border=\"1\" class=\"dataframe\">\n",
              "  <thead>\n",
              "    <tr style=\"text-align: right;\">\n",
              "      <th></th>\n",
              "      <th>comment</th>\n",
              "      <th>rating</th>\n",
              "      <th>words</th>\n",
              "      <th>label</th>\n",
              "    </tr>\n",
              "  </thead>\n",
              "  <tbody>\n",
              "    <tr>\n",
              "      <th>0</th>\n",
              "      <td>Công dụng:rỬa mặt\\nMùi hương:ổn\\nKết cấu:gel\\n...</td>\n",
              "      <td>1</td>\n",
              "      <td>Công dụng rỬa mặt Mùi hương ổn Kết cấu gel sho...</td>\n",
              "      <td>negative</td>\n",
              "    </tr>\n",
              "    <tr>\n",
              "      <th>1</th>\n",
              "      <td>Công dụng:sữa rửa mặt\\nMùi hương:chưa biết\\nDà...</td>\n",
              "      <td>1</td>\n",
              "      <td>Công dụng sữa rửa mặt Mùi hương da bình chất v...</td>\n",
              "      <td>negative</td>\n",
              "    </tr>\n",
              "    <tr>\n",
              "      <th>2</th>\n",
              "      <td>Dành cho da:lhuf hợp với mọi loại da\\nCông dụn...</td>\n",
              "      <td>1</td>\n",
              "      <td>da lhuf hợp da Công dụng sạch da Mùi hương mùi...</td>\n",
              "      <td>negative</td>\n",
              "    </tr>\n",
              "    <tr>\n",
              "      <th>3</th>\n",
              "      <td>Công dụng:Rửa mặt\\nMùi hương:Gần như không có\\...</td>\n",
              "      <td>1</td>\n",
              "      <td>Công dụng Rửa mặt Mùi hương da da Shipper gọi ...</td>\n",
              "      <td>negative</td>\n",
              "    </tr>\n",
              "    <tr>\n",
              "      <th>4</th>\n",
              "      <td>Công dụng:làm sạch\\nMùi hương:không biết\\nDành...</td>\n",
              "      <td>1</td>\n",
              "      <td>Công dụng sạch Mùi hương da tất flashs sale 1 ...</td>\n",
              "      <td>negative</td>\n",
              "    </tr>\n",
              "  </tbody>\n",
              "</table>\n",
              "</div>\n",
              "    <div class=\"colab-df-buttons\">\n",
              "\n",
              "  <div class=\"colab-df-container\">\n",
              "    <button class=\"colab-df-convert\" onclick=\"convertToInteractive('df-1f4c8746-9f98-40e6-a1eb-467f75d67850')\"\n",
              "            title=\"Convert this dataframe to an interactive table.\"\n",
              "            style=\"display:none;\">\n",
              "\n",
              "  <svg xmlns=\"http://www.w3.org/2000/svg\" height=\"24px\" viewBox=\"0 -960 960 960\">\n",
              "    <path d=\"M120-120v-720h720v720H120Zm60-500h600v-160H180v160Zm220 220h160v-160H400v160Zm0 220h160v-160H400v160ZM180-400h160v-160H180v160Zm440 0h160v-160H620v160ZM180-180h160v-160H180v160Zm440 0h160v-160H620v160Z\"/>\n",
              "  </svg>\n",
              "    </button>\n",
              "\n",
              "  <style>\n",
              "    .colab-df-container {\n",
              "      display:flex;\n",
              "      gap: 12px;\n",
              "    }\n",
              "\n",
              "    .colab-df-convert {\n",
              "      background-color: #E8F0FE;\n",
              "      border: none;\n",
              "      border-radius: 50%;\n",
              "      cursor: pointer;\n",
              "      display: none;\n",
              "      fill: #1967D2;\n",
              "      height: 32px;\n",
              "      padding: 0 0 0 0;\n",
              "      width: 32px;\n",
              "    }\n",
              "\n",
              "    .colab-df-convert:hover {\n",
              "      background-color: #E2EBFA;\n",
              "      box-shadow: 0px 1px 2px rgba(60, 64, 67, 0.3), 0px 1px 3px 1px rgba(60, 64, 67, 0.15);\n",
              "      fill: #174EA6;\n",
              "    }\n",
              "\n",
              "    .colab-df-buttons div {\n",
              "      margin-bottom: 4px;\n",
              "    }\n",
              "\n",
              "    [theme=dark] .colab-df-convert {\n",
              "      background-color: #3B4455;\n",
              "      fill: #D2E3FC;\n",
              "    }\n",
              "\n",
              "    [theme=dark] .colab-df-convert:hover {\n",
              "      background-color: #434B5C;\n",
              "      box-shadow: 0px 1px 3px 1px rgba(0, 0, 0, 0.15);\n",
              "      filter: drop-shadow(0px 1px 2px rgba(0, 0, 0, 0.3));\n",
              "      fill: #FFFFFF;\n",
              "    }\n",
              "  </style>\n",
              "\n",
              "    <script>\n",
              "      const buttonEl =\n",
              "        document.querySelector('#df-1f4c8746-9f98-40e6-a1eb-467f75d67850 button.colab-df-convert');\n",
              "      buttonEl.style.display =\n",
              "        google.colab.kernel.accessAllowed ? 'block' : 'none';\n",
              "\n",
              "      async function convertToInteractive(key) {\n",
              "        const element = document.querySelector('#df-1f4c8746-9f98-40e6-a1eb-467f75d67850');\n",
              "        const dataTable =\n",
              "          await google.colab.kernel.invokeFunction('convertToInteractive',\n",
              "                                                    [key], {});\n",
              "        if (!dataTable) return;\n",
              "\n",
              "        const docLinkHtml = 'Like what you see? Visit the ' +\n",
              "          '<a target=\"_blank\" href=https://colab.research.google.com/notebooks/data_table.ipynb>data table notebook</a>'\n",
              "          + ' to learn more about interactive tables.';\n",
              "        element.innerHTML = '';\n",
              "        dataTable['output_type'] = 'display_data';\n",
              "        await google.colab.output.renderOutput(dataTable, element);\n",
              "        const docLink = document.createElement('div');\n",
              "        docLink.innerHTML = docLinkHtml;\n",
              "        element.appendChild(docLink);\n",
              "      }\n",
              "    </script>\n",
              "  </div>\n",
              "\n",
              "\n",
              "<div id=\"df-11f03204-e216-43b1-bcf3-176a04ae1927\">\n",
              "  <button class=\"colab-df-quickchart\" onclick=\"quickchart('df-11f03204-e216-43b1-bcf3-176a04ae1927')\"\n",
              "            title=\"Suggest charts\"\n",
              "            style=\"display:none;\">\n",
              "\n",
              "<svg xmlns=\"http://www.w3.org/2000/svg\" height=\"24px\"viewBox=\"0 0 24 24\"\n",
              "     width=\"24px\">\n",
              "    <g>\n",
              "        <path d=\"M19 3H5c-1.1 0-2 .9-2 2v14c0 1.1.9 2 2 2h14c1.1 0 2-.9 2-2V5c0-1.1-.9-2-2-2zM9 17H7v-7h2v7zm4 0h-2V7h2v10zm4 0h-2v-4h2v4z\"/>\n",
              "    </g>\n",
              "</svg>\n",
              "  </button>\n",
              "\n",
              "<style>\n",
              "  .colab-df-quickchart {\n",
              "      --bg-color: #E8F0FE;\n",
              "      --fill-color: #1967D2;\n",
              "      --hover-bg-color: #E2EBFA;\n",
              "      --hover-fill-color: #174EA6;\n",
              "      --disabled-fill-color: #AAA;\n",
              "      --disabled-bg-color: #DDD;\n",
              "  }\n",
              "\n",
              "  [theme=dark] .colab-df-quickchart {\n",
              "      --bg-color: #3B4455;\n",
              "      --fill-color: #D2E3FC;\n",
              "      --hover-bg-color: #434B5C;\n",
              "      --hover-fill-color: #FFFFFF;\n",
              "      --disabled-bg-color: #3B4455;\n",
              "      --disabled-fill-color: #666;\n",
              "  }\n",
              "\n",
              "  .colab-df-quickchart {\n",
              "    background-color: var(--bg-color);\n",
              "    border: none;\n",
              "    border-radius: 50%;\n",
              "    cursor: pointer;\n",
              "    display: none;\n",
              "    fill: var(--fill-color);\n",
              "    height: 32px;\n",
              "    padding: 0;\n",
              "    width: 32px;\n",
              "  }\n",
              "\n",
              "  .colab-df-quickchart:hover {\n",
              "    background-color: var(--hover-bg-color);\n",
              "    box-shadow: 0 1px 2px rgba(60, 64, 67, 0.3), 0 1px 3px 1px rgba(60, 64, 67, 0.15);\n",
              "    fill: var(--button-hover-fill-color);\n",
              "  }\n",
              "\n",
              "  .colab-df-quickchart-complete:disabled,\n",
              "  .colab-df-quickchart-complete:disabled:hover {\n",
              "    background-color: var(--disabled-bg-color);\n",
              "    fill: var(--disabled-fill-color);\n",
              "    box-shadow: none;\n",
              "  }\n",
              "\n",
              "  .colab-df-spinner {\n",
              "    border: 2px solid var(--fill-color);\n",
              "    border-color: transparent;\n",
              "    border-bottom-color: var(--fill-color);\n",
              "    animation:\n",
              "      spin 1s steps(1) infinite;\n",
              "  }\n",
              "\n",
              "  @keyframes spin {\n",
              "    0% {\n",
              "      border-color: transparent;\n",
              "      border-bottom-color: var(--fill-color);\n",
              "      border-left-color: var(--fill-color);\n",
              "    }\n",
              "    20% {\n",
              "      border-color: transparent;\n",
              "      border-left-color: var(--fill-color);\n",
              "      border-top-color: var(--fill-color);\n",
              "    }\n",
              "    30% {\n",
              "      border-color: transparent;\n",
              "      border-left-color: var(--fill-color);\n",
              "      border-top-color: var(--fill-color);\n",
              "      border-right-color: var(--fill-color);\n",
              "    }\n",
              "    40% {\n",
              "      border-color: transparent;\n",
              "      border-right-color: var(--fill-color);\n",
              "      border-top-color: var(--fill-color);\n",
              "    }\n",
              "    60% {\n",
              "      border-color: transparent;\n",
              "      border-right-color: var(--fill-color);\n",
              "    }\n",
              "    80% {\n",
              "      border-color: transparent;\n",
              "      border-right-color: var(--fill-color);\n",
              "      border-bottom-color: var(--fill-color);\n",
              "    }\n",
              "    90% {\n",
              "      border-color: transparent;\n",
              "      border-bottom-color: var(--fill-color);\n",
              "    }\n",
              "  }\n",
              "</style>\n",
              "\n",
              "  <script>\n",
              "    async function quickchart(key) {\n",
              "      const quickchartButtonEl =\n",
              "        document.querySelector('#' + key + ' button');\n",
              "      quickchartButtonEl.disabled = true;  // To prevent multiple clicks.\n",
              "      quickchartButtonEl.classList.add('colab-df-spinner');\n",
              "      try {\n",
              "        const charts = await google.colab.kernel.invokeFunction(\n",
              "            'suggestCharts', [key], {});\n",
              "      } catch (error) {\n",
              "        console.error('Error during call to suggestCharts:', error);\n",
              "      }\n",
              "      quickchartButtonEl.classList.remove('colab-df-spinner');\n",
              "      quickchartButtonEl.classList.add('colab-df-quickchart-complete');\n",
              "    }\n",
              "    (() => {\n",
              "      let quickchartButtonEl =\n",
              "        document.querySelector('#df-11f03204-e216-43b1-bcf3-176a04ae1927 button');\n",
              "      quickchartButtonEl.style.display =\n",
              "        google.colab.kernel.accessAllowed ? 'block' : 'none';\n",
              "    })();\n",
              "  </script>\n",
              "</div>\n",
              "    </div>\n",
              "  </div>\n"
            ],
            "application/vnd.google.colaboratory.intrinsic+json": {
              "type": "dataframe",
              "variable_name": "df",
              "summary": "{\n  \"name\": \"df\",\n  \"rows\": 11269,\n  \"fields\": [\n    {\n      \"column\": \"comment\",\n      \"properties\": {\n        \"dtype\": \"string\",\n        \"num_unique_values\": 9518,\n        \"samples\": [\n          \"C\\u00f4ng d\\u1ee5ng:r\\u1eeca m\\u1eb7t\\nM\\u00f9i h\\u01b0\\u01a1ng:kh\\u00f4ng m\\u00f9i\\nD\\u00e0nh cho da:th\\u01b0\\u1eddng\\n\\nThi\\u1ebfu h\\u00e0ng\",\n          \"\\u0110\\u00f3ng g\\u00f3i r\\u1ea5t s\\u01a1 s\\u00e0i , mua nhi\\u1ec1u l\\u1ea7n m\\u00e0 l\\u1ea7n n\\u00e0y \\u0111\\u00f3ng g\\u00f3i si\\u00eau t\\u1ec7\",\n          \"H\\u01a1i th\\u1ea5t v\\u1ecdng v\\u00ec b\\u1eefa m\\u00ecnh mua th\\u00ec c\\u00f3 n\\u00f3i t\\u1eb7ng nc t\\u1ea9y trang khi nh\\u1eadn h\\u00e0ng th\\u00ec l\\u1ea1i k c\\u00f3 , nt th\\u00ec shop tl g\\u00ec k n\\u00ean th, m\\u00e0 sp s\\u00e0i oke\"\n        ],\n        \"semantic_type\": \"\",\n        \"description\": \"\"\n      }\n    },\n    {\n      \"column\": \"rating\",\n      \"properties\": {\n        \"dtype\": \"number\",\n        \"std\": 1,\n        \"min\": 1,\n        \"max\": 5,\n        \"num_unique_values\": 5,\n        \"samples\": [\n          2,\n          5,\n          3\n        ],\n        \"semantic_type\": \"\",\n        \"description\": \"\"\n      }\n    },\n    {\n      \"column\": \"words\",\n      \"properties\": {\n        \"dtype\": \"string\",\n        \"num_unique_values\": 9435,\n        \"samples\": [\n          \"C\\u00f4ng d\\u1ee5ng r\\u1eeda s\\u1ea1ch b\\u1ee5i b\\u1ea9n M\\u00f9i h\\u01b0\\u01a1ng m\\u00f9i da nh\\u1ea1y c\\u1ea3m Shop \\u0111\\u00f3ng g\\u00f3i s\\u01a1 s\\u00e0i l\\u1eafm chai s\\u1eefa r\\u1eeda m\\u1eb7t b\\u1ecdc g\\u1eedi \\u0111i Mong shop c\\u1ea3i thi\\u1ec7n \\u0111\\u00f3ng g\\u00f3i\",\n          \"th\\u00f4ng x\\u00e1c qu\\u00e0 t\\u1eb7ng link sp km l\\u1eabn h\\u00e0ng\",\n          \"da da M\\u00f9i h\\u01b0\\u01a1ng k cs m\\u00f9i sd bt hi\\u1ec7u b\\u1ecdt\"\n        ],\n        \"semantic_type\": \"\",\n        \"description\": \"\"\n      }\n    },\n    {\n      \"column\": \"label\",\n      \"properties\": {\n        \"dtype\": \"category\",\n        \"num_unique_values\": 3,\n        \"samples\": [\n          \"negative\",\n          \"neutral\",\n          \"positive\"\n        ],\n        \"semantic_type\": \"\",\n        \"description\": \"\"\n      }\n    }\n  ]\n}"
            }
          },
          "metadata": {},
          "execution_count": 12
        }
      ]
    },
    {
      "cell_type": "code",
      "source": [
        "import matplotlib.pyplot as plt\n",
        "countClass = pd.value_counts(df['label'], sort=True, dropna=False)\n",
        "print(countClass)\n",
        "countClass.plot(kind = \"pie\", autopct= '%1.0f%%')\n",
        "plt.show()"
      ],
      "metadata": {
        "colab": {
          "base_uri": "https://localhost:8080/",
          "height": 493
        },
        "id": "IiUIHEiFi1d_",
        "outputId": "6a01c1e9-51ef-4ec4-81f7-7693bcaf52d5"
      },
      "execution_count": 13,
      "outputs": [
        {
          "output_type": "stream",
          "name": "stdout",
          "text": [
            "label\n",
            "positive    6100\n",
            "negative    3170\n",
            "neutral     1999\n",
            "Name: count, dtype: int64\n"
          ]
        },
        {
          "output_type": "display_data",
          "data": {
            "text/plain": [
              "<Figure size 640x480 with 1 Axes>"
            ],
            "image/png": "[encoded data removed]"
          },
          "metadata": {}
        }
      ]
    },
    {
      "cell_type": "markdown",
      "source": [
        "# Machine Learning"
      ],
      "metadata": {
        "id": "i3ors13rqMIM"
      }
    },
    {
      "cell_type": "markdown",
      "source": [
        "## Naive Bayes **Algorithm**"
      ],
      "metadata": {
        "id": "95pwCuwpqgqq"
      }
    },
    {
      "cell_type": "code",
      "source": [
        "def create_word_features(clean_words):\n",
        "    my_dict = dict([(word, True) for word in clean_words])\n",
        "    return my_dict\n",
        "\n",
        "df['feature'] = df['words'].apply(create_word_features)"
      ],
      "metadata": {
        "id": "HvvmVal3q5CN"
      },
      "execution_count": 14,
      "outputs": []
    },
    {
      "cell_type": "code",
      "source": [
        "from sklearn.feature_extraction.text import CountVectorizer\n",
        "from sklearn.model_selection import train_test_split\n",
        "from sklearn.naive_bayes import MultinomialNB\n",
        "from sklearn.metrics import accuracy_score, classification_report\n",
        "\n",
        "# Convert text data into bag-of-words features\n",
        "vectorizer = CountVectorizer()\n",
        "X = vectorizer.fit_transform(df['words'])\n",
        "\n",
        "# Split the data into training and testing sets\n",
        "X_train, X_test, y_train, y_test = train_test_split(X, df['label'], test_size=0.2, random_state=42)\n",
        "\n",
        "\n",
        "# Initialize and train the Naive Bayes model\n",
        "NB_model = MultinomialNB()\n",
        "NB_model.fit(X_train, y_train)\n",
        "\n",
        "# Make predictions on the test set\n",
        "y_pred = NB_model.predict(X_test)\n",
        "\n",
        "# Evaluate the model\n",
        "accuracy = accuracy_score(y_test, y_pred)\n",
        "report = classification_report(y_test, y_pred)\n",
        "\n",
        "print(f\"Accuracy: {accuracy}\")\n",
        "print(report)"
      ],
      "metadata": {
        "colab": {
          "base_uri": "https://localhost:8080/"
        },
        "id": "Igu_aN5hrEw9",
        "outputId": "8d8a3906-bc75-4bf1-c7b1-e5230b3a8e10"
      },
      "execution_count": 15,
      "outputs": [
        {
          "output_type": "stream",
          "name": "stdout",
          "text": [
            "Accuracy: 0.6033717834960071\n",
            "              precision    recall  f1-score   support\n",
            "\n",
            "    negative       0.58      0.50      0.54       662\n",
            "     neutral       0.20      0.09      0.13       391\n",
            "    positive       0.66      0.83      0.73      1201\n",
            "\n",
            "    accuracy                           0.60      2254\n",
            "   macro avg       0.48      0.47      0.47      2254\n",
            "weighted avg       0.56      0.60      0.57      2254\n",
            "\n"
          ]
        }
      ]
    },
    {
      "cell_type": "code",
      "source": [
        "print(y_test)"
      ],
      "metadata": {
        "colab": {
          "base_uri": "https://localhost:8080/"
        },
        "id": "5B2qgvP9rMtq",
        "outputId": "4fa12325-c318-494e-c0a4-2f8d3ff7cb2b"
      },
      "execution_count": 16,
      "outputs": [
        {
          "output_type": "stream",
          "name": "stdout",
          "text": [
            "9943     positive\n",
            "2517     negative\n",
            "3887      neutral\n",
            "4981      neutral\n",
            "6338     positive\n",
            "           ...   \n",
            "10764    positive\n",
            "4598      neutral\n",
            "6706     positive\n",
            "5632     positive\n",
            "8448     positive\n",
            "Name: label, Length: 2254, dtype: object\n"
          ]
        }
      ]
    },
    {
      "cell_type": "code",
      "source": [
        "from sklearn.metrics import ConfusionMatrixDisplay\n",
        "\n",
        "# Plot non-normalized confusion matrix\n",
        "titles_options = [\n",
        "    (\"Confusion matrix, without normalization\", None),\n",
        "    (\"Normalized confusion matrix\", \"true\"),\n",
        "]\n",
        "for title, normalize in titles_options:\n",
        "    disp = ConfusionMatrixDisplay.from_estimator(\n",
        "        NB_model,\n",
        "        X_test,\n",
        "        y_test,\n",
        "        display_labels=[\"positive\", \"negative\", \"neutral\"],\n",
        "        cmap=plt.cm.Blues,\n",
        "        normalize=normalize,\n",
        "    )\n",
        "    disp.ax_.set_title(title)\n",
        "\n",
        "    print(title)\n",
        "    print(disp.confusion_matrix)\n",
        "\n",
        "plt.show()"
      ],
      "metadata": {
        "colab": {
          "base_uri": "https://localhost:8080/",
          "height": 1000
        },
        "id": "JPT4Ce6zrPml",
        "outputId": "39c4d59b-5350-408c-cbfa-d8464490152f"
      },
      "execution_count": 17,
      "outputs": [
        {
          "output_type": "stream",
          "name": "stdout",
          "text": [
            "Confusion matrix, without normalization\n",
            "[[328  48 286]\n",
            " [122  36 233]\n",
            " [111  94 996]]\n",
            "Normalized confusion matrix\n",
            "[[0.49546828 0.07250755 0.43202417]\n",
            " [0.31202046 0.09207161 0.59590793]\n",
            " [0.09242298 0.07826811 0.82930891]]\n"
          ]
        },
        {
          "output_type": "display_data",
          "data": {
            "text/plain": [
              "<Figure size 640x480 with 2 Axes>"
            ],
            "image/png": "[encoded data removed]"
          },
          "metadata": {}
        },
        {
          "output_type": "display_data",
          "data": {
            "text/plain": [
              "<Figure size 640x480 with 2 Axes>"
            ],
            "image/png": "[encoded data removed]"
          },
          "metadata": {}
        }
      ]
    },
    {
      "cell_type": "markdown",
      "source": [
        "## Support Vector Machine (SVM)"
      ],
      "metadata": {
        "id": "Ptc7S09cqkcq"
      }
    },
    {
      "cell_type": "code",
      "source": [
        "# Import necessary libraries\n",
        "from sklearn.feature_extraction.text import TfidfVectorizer\n",
        "from sklearn.model_selection import train_test_split\n",
        "from sklearn.svm import SVC\n",
        "from sklearn.metrics import accuracy_score, classification_report\n",
        "\n",
        "# Convert text data into TF-IDF features\n",
        "vectorizer = TfidfVectorizer()\n",
        "X = vectorizer.fit_transform(df['words'])\n",
        "\n",
        "# Split the data into training and testing sets\n",
        "X_train, X_test, y_train, y_test = train_test_split(X, df['label'], test_size=0.2, random_state=42)\n",
        "\n",
        "# Initialize and train the SVM classifier\n",
        "svc_model = SVC(kernel='linear')  # You can try different kernels like 'linear', 'rbf', etc.\n",
        "svc_model.fit(X_train, y_train)\n",
        "\n",
        "# Make predictions on the test set\n",
        "y_pred = svc_model.predict(X_test)\n",
        "\n",
        "# Evaluate the model\n",
        "accuracy = accuracy_score(y_test, y_pred)\n",
        "report = classification_report(y_test, y_pred)\n",
        "\n",
        "print(f\"Accuracy: {accuracy}\")\n",
        "print(report)"
      ],
      "metadata": {
        "colab": {
          "base_uri": "https://localhost:8080/"
        },
        "id": "I9Yty-5PrTT6",
        "outputId": "596c61bf-1f4e-4655-8e99-fa5b10af460f"
      },
      "execution_count": 18,
      "outputs": [
        {
          "output_type": "stream",
          "name": "stdout",
          "text": [
            "Accuracy: 0.7000887311446318\n",
            "              precision    recall  f1-score   support\n",
            "\n",
            "    negative       0.58      0.81      0.67       662\n",
            "     neutral       0.25      0.03      0.06       391\n",
            "    positive       0.81      0.86      0.83      1201\n",
            "\n",
            "    accuracy                           0.70      2254\n",
            "   macro avg       0.54      0.57      0.52      2254\n",
            "weighted avg       0.64      0.70      0.65      2254\n",
            "\n"
          ]
        }
      ]
    },
    {
      "cell_type": "code",
      "source": [
        "for title, normalize in titles_options:\n",
        "    disp = ConfusionMatrixDisplay.from_estimator(\n",
        "        svc_model,\n",
        "        X_test,\n",
        "        y_test,\n",
        "        display_labels=[\"positive\", \"negative\", \"neutral\"],\n",
        "        cmap=plt.cm.Blues,\n",
        "        normalize=normalize,\n",
        "    )\n",
        "    disp.ax_.set_title(title)\n",
        "\n",
        "    print(title)\n",
        "    print(disp.confusion_matrix)\n",
        "\n",
        "plt.show()"
      ],
      "metadata": {
        "colab": {
          "base_uri": "https://localhost:8080/",
          "height": 1000
        },
        "id": "glNN6jhNraDH",
        "outputId": "404d97dc-1a28-4e05-89ba-7a9e50f8e5ab"
      },
      "execution_count": 19,
      "outputs": [
        {
          "output_type": "stream",
          "name": "stdout",
          "text": [
            "Confusion matrix, without normalization\n",
            "[[ 534   16  112]\n",
            " [ 244   13  134]\n",
            " [ 147   23 1031]]\n",
            "Normalized confusion matrix\n",
            "[[0.80664653 0.02416918 0.16918429]\n",
            " [0.62404092 0.03324808 0.342711  ]\n",
            " [0.122398   0.01915071 0.85845129]]\n"
          ]
        },
        {
          "output_type": "display_data",
          "data": {
            "text/plain": [
              "<Figure size 640x480 with 2 Axes>"
            ],
            "image/png": "[encoded data removed]"
          },
          "metadata": {}
        },
        {
          "output_type": "display_data",
          "data": {
            "text/plain": [
              "<Figure size 640x480 with 2 Axes>"
            ],
            "image/png": "[encoded data removed]"
          },
          "metadata": {}
        }
      ]
    },
    {
      "cell_type": "markdown",
      "source": [
        "## Logistic Regression"
      ],
      "metadata": {
        "id": "2Y2LytwYqtkR"
      }
    },
    {
      "cell_type": "code",
      "source": [
        "# Import necessary libraries\n",
        "from sklearn.feature_extraction.text import TfidfVectorizer\n",
        "from sklearn.model_selection import train_test_split\n",
        "from sklearn.linear_model import LogisticRegression\n",
        "from sklearn.metrics import accuracy_score, classification_report\n",
        "\n",
        "# Check for and handle None values in the 'sentiment' column\n",
        "df['label'].fillna('None', inplace=True)\n",
        "\n",
        "# Convert text data into TF-IDF features\n",
        "vectorizer = TfidfVectorizer()\n",
        "X = vectorizer.fit_transform(df[\"words\"])\n",
        "\n",
        "# Split the data into training and testing sets\n",
        "X_train, X_test, y_train, y_test = train_test_split(X, df[\"label\"], test_size=0.2, random_state=42)\n",
        "\n",
        "# Initialize and train the Logistic Regression model\n",
        "logistic_regression_model = LogisticRegression()\n",
        "logistic_regression_model.fit(X_train, y_train)\n",
        "\n",
        "# Make predictions on the test set\n",
        "y_pred = logistic_regression_model.predict(X_test)\n",
        "\n",
        "# Evaluate the model\n",
        "accuracy = accuracy_score(y_test, y_pred)\n",
        "report = classification_report(y_test, y_pred)\n",
        "\n",
        "print(f\"Accuracy: {accuracy}\")\n",
        "print(report)"
      ],
      "metadata": {
        "colab": {
          "base_uri": "https://localhost:8080/"
        },
        "id": "HZB3haaIrdqS",
        "outputId": "f38edf0b-9184-4514-f40f-8c55240b818c"
      },
      "execution_count": 20,
      "outputs": [
        {
          "output_type": "stream",
          "name": "stdout",
          "text": [
            "Accuracy: 0.707187222715173\n",
            "              precision    recall  f1-score   support\n",
            "\n",
            "    negative       0.60      0.79      0.68       662\n",
            "     neutral       0.26      0.06      0.09       391\n",
            "    positive       0.81      0.87      0.84      1201\n",
            "\n",
            "    accuracy                           0.71      2254\n",
            "   macro avg       0.56      0.57      0.54      2254\n",
            "weighted avg       0.65      0.71      0.66      2254\n",
            "\n"
          ]
        },
        {
          "output_type": "stream",
          "name": "stderr",
          "text": [
            "/usr/local/lib/python3.10/dist-packages/sklearn/linear_model/_logistic.py:458: ConvergenceWarning: lbfgs failed to converge (status=1):\n",
            "STOP: TOTAL NO. of ITERATIONS REACHED LIMIT.\n",
            "\n",
            "Increase the number of iterations (max_iter) or scale the data as shown in:\n",
            "    https://scikit-learn.org/stable/modules/preprocessing.html\n",
            "Please also refer to the documentation for alternative solver options:\n",
            "    https://scikit-learn.org/stable/modules/linear_model.html#logistic-regression\n",
            "  n_iter_i = _check_optimize_result(\n"
          ]
        }
      ]
    },
    {
      "cell_type": "code",
      "source": [
        "for title, normalize in titles_options:\n",
        "    disp = ConfusionMatrixDisplay.from_estimator(\n",
        "        logistic_regression_model,\n",
        "        X_test,\n",
        "        y_test,\n",
        "        display_labels=[\"positive\", \"negative\", \"neutral\"],\n",
        "        cmap=plt.cm.Blues,\n",
        "        normalize=normalize,\n",
        "    )\n",
        "    disp.ax_.set_title(title)\n",
        "\n",
        "    print(title)\n",
        "    print(disp.confusion_matrix)\n",
        "\n",
        "plt.show()"
      ],
      "metadata": {
        "colab": {
          "base_uri": "https://localhost:8080/",
          "height": 1000
        },
        "id": "y-S3FWafrkca",
        "outputId": "70a79c5b-5996-445c-c5e8-f774e4e87002"
      },
      "execution_count": 21,
      "outputs": [
        {
          "output_type": "stream",
          "name": "stdout",
          "text": [
            "Confusion matrix, without normalization\n",
            "[[ 525   22  115]\n",
            " [ 236   22  133]\n",
            " [ 114   40 1047]]\n",
            "Normalized confusion matrix\n",
            "[[0.79305136 0.03323263 0.17371601]\n",
            " [0.60358056 0.05626598 0.34015345]\n",
            " [0.0949209  0.03330558 0.87177352]]\n"
          ]
        },
        {
          "output_type": "display_data",
          "data": {
            "text/plain": [
              "<Figure size 640x480 with 2 Axes>"
            ],
            "image/png": "[encoded data removed]"
          },
          "metadata": {}
        },
        {
          "output_type": "display_data",
          "data": {
            "text/plain": [
              "<Figure size 640x480 with 2 Axes>"
            ],
            "image/png": "[encoded data removed]"
          },
          "metadata": {}
        }
      ]
    },
    {
      "cell_type": "markdown",
      "source": [
        "## Decision Tree"
      ],
      "metadata": {
        "id": "e8fF93ufqv4V"
      }
    },
    {
      "cell_type": "code",
      "source": [
        "# Import necessary libraries\n",
        "from sklearn import tree\n",
        "\n",
        "# Check for and handle None values in the 'sentiment' column\n",
        "df['label'].fillna('None', inplace=True)\n",
        "\n",
        "# Convert text data into TF-IDF features\n",
        "vectorizer = TfidfVectorizer()\n",
        "X = vectorizer.fit_transform(df[\"words\"])\n",
        "\n",
        "# Split the data into training and testing sets\n",
        "X_train, X_test, y_train, y_test = train_test_split(X, df[\"label\"], test_size=0.2, random_state=42)\n",
        "\n",
        "# Initialize and train the Logistic Regression model\n",
        "decision_tree_model = tree.DecisionTreeClassifier()\n",
        "decision_tree_model.fit(X_train, y_train)\n",
        "\n",
        "# Make predictions on the test set\n",
        "y_pred = decision_tree_model.predict(X_test)\n",
        "\n",
        "# Evaluate the model\n",
        "accuracy = accuracy_score(y_test, y_pred)\n",
        "report = classification_report(y_test, y_pred)\n",
        "\n",
        "print(f\"Accuracy: {accuracy}\")\n",
        "print(report)"
      ],
      "metadata": {
        "colab": {
          "base_uri": "https://localhost:8080/"
        },
        "id": "zZeuTxr3rnx9",
        "outputId": "2234a5a4-07bb-49fb-ecde-60171b15d445"
      },
      "execution_count": 22,
      "outputs": [
        {
          "output_type": "stream",
          "name": "stdout",
          "text": [
            "Accuracy: 0.6299911268855368\n",
            "              precision    recall  f1-score   support\n",
            "\n",
            "    negative       0.54      0.65      0.59       662\n",
            "     neutral       0.20      0.14      0.16       391\n",
            "    positive       0.78      0.78      0.78      1201\n",
            "\n",
            "    accuracy                           0.63      2254\n",
            "   macro avg       0.51      0.52      0.51      2254\n",
            "weighted avg       0.61      0.63      0.62      2254\n",
            "\n"
          ]
        }
      ]
    },
    {
      "cell_type": "code",
      "source": [
        "for title, normalize in titles_options:\n",
        "    disp = ConfusionMatrixDisplay.from_estimator(\n",
        "        decision_tree_model,\n",
        "        X_test,\n",
        "        y_test,\n",
        "        display_labels=[\"positive\", \"negative\", \"neutral\"],\n",
        "        cmap=plt.cm.Blues,\n",
        "        normalize=normalize,\n",
        "    )\n",
        "    disp.ax_.set_title(title)\n",
        "\n",
        "    print(title)\n",
        "    print(disp.confusion_matrix)\n",
        "\n",
        "plt.show()"
      ],
      "metadata": {
        "colab": {
          "base_uri": "https://localhost:8080/",
          "height": 1000
        },
        "id": "l6F48QwYrr11",
        "outputId": "173e1ad3-5c1e-429d-87df-447cb4a141fd"
      },
      "execution_count": 23,
      "outputs": [
        {
          "output_type": "stream",
          "name": "stdout",
          "text": [
            "Confusion matrix, without normalization\n",
            "[[430  95 137]\n",
            " [210  53 128]\n",
            " [151 113 937]]\n",
            "Normalized confusion matrix\n",
            "[[0.64954683 0.14350453 0.20694864]\n",
            " [0.5370844  0.13554987 0.32736573]\n",
            " [0.12572856 0.09408826 0.78018318]]\n"
          ]
        },
        {
          "output_type": "display_data",
          "data": {
            "text/plain": [
              "<Figure size 640x480 with 2 Axes>"
            ],
            "image/png": "[encoded data removed]"
          },
          "metadata": {}
        },
        {
          "output_type": "display_data",
          "data": {
            "text/plain": [
              "<Figure size 640x480 with 2 Axes>"
            ],
            "image/png": "[encoded data removed]"
          },
          "metadata": {}
        }
      ]
    },
    {
      "cell_type": "markdown",
      "source": [
        "# Deep learning"
      ],
      "metadata": {
        "id": "-ndMEbTcjzno"
      }
    },
    {
      "cell_type": "code",
      "source": [
        "def create_word_features(clean_words):\n",
        "    my_dict = dict([(word, True) for word in clean_words])\n",
        "    return my_dict\n",
        "\n",
        "df['feature'] = df['words'].apply(create_word_features)"
      ],
      "metadata": {
        "id": "_429kJpQpmbF"
      },
      "execution_count": 61,
      "outputs": []
    },
    {
      "cell_type": "code",
      "source": [
        "df.head()"
      ],
      "metadata": {
        "colab": {
          "base_uri": "https://localhost:8080/",
          "height": 206
        },
        "id": "0-QAjT-70ozL",
        "outputId": "d476e917-a314-4687-a26a-ccfdf6d3e4c2"
      },
      "execution_count": 64,
      "outputs": [
        {
          "output_type": "execute_result",
          "data": {
            "text/plain": [
              "                                             comment  rating  \\\n",
              "0  Công dụng:rỬa mặt\\nMùi hương:ổn\\nKết cấu:gel\\n...       1   \n",
              "1  Công dụng:sữa rửa mặt\\nMùi hương:chưa biết\\nDà...       1   \n",
              "2  Dành cho da:lhuf hợp với mọi loại da\\nCông dụn...       1   \n",
              "3  Công dụng:Rửa mặt\\nMùi hương:Gần như không có\\...       1   \n",
              "4  Công dụng:làm sạch\\nMùi hương:không biết\\nDành...       1   \n",
              "\n",
              "                                               words     label  \\\n",
              "0  Công dụng rỬa mặt Mùi hương ổn Kết cấu gel sho...  negative   \n",
              "1  Công dụng sữa rửa mặt Mùi hương da bình chất v...  negative   \n",
              "2  da lhuf hợp da Công dụng sạch da Mùi hương mùi...  negative   \n",
              "3  Công dụng Rửa mặt Mùi hương da da Shipper gọi ...  negative   \n",
              "4  Công dụng sạch Mùi hương da tất flashs sale 1 ...  negative   \n",
              "\n",
              "                                             feature  \n",
              "0  {'C': True, 'ô': True, 'n': True, 'g': True, '...  \n",
              "1  {'C': True, 'ô': True, 'n': True, 'g': True, '...  \n",
              "2  {'d': True, 'a': True, ' ': True, 'l': True, '...  \n",
              "3  {'C': True, 'ô': True, 'n': True, 'g': True, '...  \n",
              "4  {'C': True, 'ô': True, 'n': True, 'g': True, '...  "
            ],
            "text/html": [
              "\n",
              "  <div id=\"df-60c59d44-e5af-4804-b6ec-469ba1b29a22\" class=\"colab-df-container\">\n",
              "    <div>\n",
              "<style scoped>\n",
              "    .dataframe tbody tr th:only-of-type {\n",
              "        vertical-align: middle;\n",
              "    }\n",
              "\n",
              "    .dataframe tbody tr th {\n",
              "        vertical-align: top;\n",
              "    }\n",
              "\n",
              "    .dataframe thead th {\n",
              "        text-align: right;\n",
              "    }\n",
              "</style>\n",
              "<table border=\"1\" class=\"dataframe\">\n",
              "  <thead>\n",
              "    <tr style=\"text-align: right;\">\n",
              "      <th></th>\n",
              "      <th>comment</th>\n",
              "      <th>rating</th>\n",
              "      <th>words</th>\n",
              "      <th>label</th>\n",
              "      <th>feature</th>\n",
              "    </tr>\n",
              "  </thead>\n",
              "  <tbody>\n",
              "    <tr>\n",
              "      <th>0</th>\n",
              "      <td>Công dụng:rỬa mặt\\nMùi hương:ổn\\nKết cấu:gel\\n...</td>\n",
              "      <td>1</td>\n",
              "      <td>Công dụng rỬa mặt Mùi hương ổn Kết cấu gel sho...</td>\n",
              "      <td>negative</td>\n",
              "      <td>{'C': True, 'ô': True, 'n': True, 'g': True, '...</td>\n",
              "    </tr>\n",
              "    <tr>\n",
              "      <th>1</th>\n",
              "      <td>Công dụng:sữa rửa mặt\\nMùi hương:chưa biết\\nDà...</td>\n",
              "      <td>1</td>\n",
              "      <td>Công dụng sữa rửa mặt Mùi hương da bình chất v...</td>\n",
              "      <td>negative</td>\n",
              "      <td>{'C': True, 'ô': True, 'n': True, 'g': True, '...</td>\n",
              "    </tr>\n",
              "    <tr>\n",
              "      <th>2</th>\n",
              "      <td>Dành cho da:lhuf hợp với mọi loại da\\nCông dụn...</td>\n",
              "      <td>1</td>\n",
              "      <td>da lhuf hợp da Công dụng sạch da Mùi hương mùi...</td>\n",
              "      <td>negative</td>\n",
              "      <td>{'d': True, 'a': True, ' ': True, 'l': True, '...</td>\n",
              "    </tr>\n",
              "    <tr>\n",
              "      <th>3</th>\n",
              "      <td>Công dụng:Rửa mặt\\nMùi hương:Gần như không có\\...</td>\n",
              "      <td>1</td>\n",
              "      <td>Công dụng Rửa mặt Mùi hương da da Shipper gọi ...</td>\n",
              "      <td>negative</td>\n",
              "      <td>{'C': True, 'ô': True, 'n': True, 'g': True, '...</td>\n",
              "    </tr>\n",
              "    <tr>\n",
              "      <th>4</th>\n",
              "      <td>Công dụng:làm sạch\\nMùi hương:không biết\\nDành...</td>\n",
              "      <td>1</td>\n",
              "      <td>Công dụng sạch Mùi hương da tất flashs sale 1 ...</td>\n",
              "      <td>negative</td>\n",
              "      <td>{'C': True, 'ô': True, 'n': True, 'g': True, '...</td>\n",
              "    </tr>\n",
              "  </tbody>\n",
              "</table>\n",
              "</div>\n",
              "    <div class=\"colab-df-buttons\">\n",
              "\n",
              "  <div class=\"colab-df-container\">\n",
              "    <button class=\"colab-df-convert\" onclick=\"convertToInteractive('df-60c59d44-e5af-4804-b6ec-469ba1b29a22')\"\n",
              "            title=\"Convert this dataframe to an interactive table.\"\n",
              "            style=\"display:none;\">\n",
              "\n",
              "  <svg xmlns=\"http://www.w3.org/2000/svg\" height=\"24px\" viewBox=\"0 -960 960 960\">\n",
              "    <path d=\"M120-120v-720h720v720H120Zm60-500h600v-160H180v160Zm220 220h160v-160H400v160Zm0 220h160v-160H400v160ZM180-400h160v-160H180v160Zm440 0h160v-160H620v160ZM180-180h160v-160H180v160Zm440 0h160v-160H620v160Z\"/>\n",
              "  </svg>\n",
              "    </button>\n",
              "\n",
              "  <style>\n",
              "    .colab-df-container {\n",
              "      display:flex;\n",
              "      gap: 12px;\n",
              "    }\n",
              "\n",
              "    .colab-df-convert {\n",
              "      background-color: #E8F0FE;\n",
              "      border: none;\n",
              "      border-radius: 50%;\n",
              "      cursor: pointer;\n",
              "      display: none;\n",
              "      fill: #1967D2;\n",
              "      height: 32px;\n",
              "      padding: 0 0 0 0;\n",
              "      width: 32px;\n",
              "    }\n",
              "\n",
              "    .colab-df-convert:hover {\n",
              "      background-color: #E2EBFA;\n",
              "      box-shadow: 0px 1px 2px rgba(60, 64, 67, 0.3), 0px 1px 3px 1px rgba(60, 64, 67, 0.15);\n",
              "      fill: #174EA6;\n",
              "    }\n",
              "\n",
              "    .colab-df-buttons div {\n",
              "      margin-bottom: 4px;\n",
              "    }\n",
              "\n",
              "    [theme=dark] .colab-df-convert {\n",
              "      background-color: #3B4455;\n",
              "      fill: #D2E3FC;\n",
              "    }\n",
              "\n",
              "    [theme=dark] .colab-df-convert:hover {\n",
              "      background-color: #434B5C;\n",
              "      box-shadow: 0px 1px 3px 1px rgba(0, 0, 0, 0.15);\n",
              "      filter: drop-shadow(0px 1px 2px rgba(0, 0, 0, 0.3));\n",
              "      fill: #FFFFFF;\n",
              "    }\n",
              "  </style>\n",
              "\n",
              "    <script>\n",
              "      const buttonEl =\n",
              "        document.querySelector('#df-60c59d44-e5af-4804-b6ec-469ba1b29a22 button.colab-df-convert');\n",
              "      buttonEl.style.display =\n",
              "        google.colab.kernel.accessAllowed ? 'block' : 'none';\n",
              "\n",
              "      async function convertToInteractive(key) {\n",
              "        const element = document.querySelector('#df-60c59d44-e5af-4804-b6ec-469ba1b29a22');\n",
              "        const dataTable =\n",
              "          await google.colab.kernel.invokeFunction('convertToInteractive',\n",
              "                                                    [key], {});\n",
              "        if (!dataTable) return;\n",
              "\n",
              "        const docLinkHtml = 'Like what you see? Visit the ' +\n",
              "          '<a target=\"_blank\" href=https://colab.research.google.com/notebooks/data_table.ipynb>data table notebook</a>'\n",
              "          + ' to learn more about interactive tables.';\n",
              "        element.innerHTML = '';\n",
              "        dataTable['output_type'] = 'display_data';\n",
              "        await google.colab.output.renderOutput(dataTable, element);\n",
              "        const docLink = document.createElement('div');\n",
              "        docLink.innerHTML = docLinkHtml;\n",
              "        element.appendChild(docLink);\n",
              "      }\n",
              "    </script>\n",
              "  </div>\n",
              "\n",
              "\n",
              "<div id=\"df-f3b6ce25-ac4a-4463-9442-71943ceedb03\">\n",
              "  <button class=\"colab-df-quickchart\" onclick=\"quickchart('df-f3b6ce25-ac4a-4463-9442-71943ceedb03')\"\n",
              "            title=\"Suggest charts\"\n",
              "            style=\"display:none;\">\n",
              "\n",
              "<svg xmlns=\"http://www.w3.org/2000/svg\" height=\"24px\"viewBox=\"0 0 24 24\"\n",
              "     width=\"24px\">\n",
              "    <g>\n",
              "        <path d=\"M19 3H5c-1.1 0-2 .9-2 2v14c0 1.1.9 2 2 2h14c1.1 0 2-.9 2-2V5c0-1.1-.9-2-2-2zM9 17H7v-7h2v7zm4 0h-2V7h2v10zm4 0h-2v-4h2v4z\"/>\n",
              "    </g>\n",
              "</svg>\n",
              "  </button>\n",
              "\n",
              "<style>\n",
              "  .colab-df-quickchart {\n",
              "      --bg-color: #E8F0FE;\n",
              "      --fill-color: #1967D2;\n",
              "      --hover-bg-color: #E2EBFA;\n",
              "      --hover-fill-color: #174EA6;\n",
              "      --disabled-fill-color: #AAA;\n",
              "      --disabled-bg-color: #DDD;\n",
              "  }\n",
              "\n",
              "  [theme=dark] .colab-df-quickchart {\n",
              "      --bg-color: #3B4455;\n",
              "      --fill-color: #D2E3FC;\n",
              "      --hover-bg-color: #434B5C;\n",
              "      --hover-fill-color: #FFFFFF;\n",
              "      --disabled-bg-color: #3B4455;\n",
              "      --disabled-fill-color: #666;\n",
              "  }\n",
              "\n",
              "  .colab-df-quickchart {\n",
              "    background-color: var(--bg-color);\n",
              "    border: none;\n",
              "    border-radius: 50%;\n",
              "    cursor: pointer;\n",
              "    display: none;\n",
              "    fill: var(--fill-color);\n",
              "    height: 32px;\n",
              "    padding: 0;\n",
              "    width: 32px;\n",
              "  }\n",
              "\n",
              "  .colab-df-quickchart:hover {\n",
              "    background-color: var(--hover-bg-color);\n",
              "    box-shadow: 0 1px 2px rgba(60, 64, 67, 0.3), 0 1px 3px 1px rgba(60, 64, 67, 0.15);\n",
              "    fill: var(--button-hover-fill-color);\n",
              "  }\n",
              "\n",
              "  .colab-df-quickchart-complete:disabled,\n",
              "  .colab-df-quickchart-complete:disabled:hover {\n",
              "    background-color: var(--disabled-bg-color);\n",
              "    fill: var(--disabled-fill-color);\n",
              "    box-shadow: none;\n",
              "  }\n",
              "\n",
              "  .colab-df-spinner {\n",
              "    border: 2px solid var(--fill-color);\n",
              "    border-color: transparent;\n",
              "    border-bottom-color: var(--fill-color);\n",
              "    animation:\n",
              "      spin 1s steps(1) infinite;\n",
              "  }\n",
              "\n",
              "  @keyframes spin {\n",
              "    0% {\n",
              "      border-color: transparent;\n",
              "      border-bottom-color: var(--fill-color);\n",
              "      border-left-color: var(--fill-color);\n",
              "    }\n",
              "    20% {\n",
              "      border-color: transparent;\n",
              "      border-left-color: var(--fill-color);\n",
              "      border-top-color: var(--fill-color);\n",
              "    }\n",
              "    30% {\n",
              "      border-color: transparent;\n",
              "      border-left-color: var(--fill-color);\n",
              "      border-top-color: var(--fill-color);\n",
              "      border-right-color: var(--fill-color);\n",
              "    }\n",
              "    40% {\n",
              "      border-color: transparent;\n",
              "      border-right-color: var(--fill-color);\n",
              "      border-top-color: var(--fill-color);\n",
              "    }\n",
              "    60% {\n",
              "      border-color: transparent;\n",
              "      border-right-color: var(--fill-color);\n",
              "    }\n",
              "    80% {\n",
              "      border-color: transparent;\n",
              "      border-right-color: var(--fill-color);\n",
              "      border-bottom-color: var(--fill-color);\n",
              "    }\n",
              "    90% {\n",
              "      border-color: transparent;\n",
              "      border-bottom-color: var(--fill-color);\n",
              "    }\n",
              "  }\n",
              "</style>\n",
              "\n",
              "  <script>\n",
              "    async function quickchart(key) {\n",
              "      const quickchartButtonEl =\n",
              "        document.querySelector('#' + key + ' button');\n",
              "      quickchartButtonEl.disabled = true;  // To prevent multiple clicks.\n",
              "      quickchartButtonEl.classList.add('colab-df-spinner');\n",
              "      try {\n",
              "        const charts = await google.colab.kernel.invokeFunction(\n",
              "            'suggestCharts', [key], {});\n",
              "      } catch (error) {\n",
              "        console.error('Error during call to suggestCharts:', error);\n",
              "      }\n",
              "      quickchartButtonEl.classList.remove('colab-df-spinner');\n",
              "      quickchartButtonEl.classList.add('colab-df-quickchart-complete');\n",
              "    }\n",
              "    (() => {\n",
              "      let quickchartButtonEl =\n",
              "        document.querySelector('#df-f3b6ce25-ac4a-4463-9442-71943ceedb03 button');\n",
              "      quickchartButtonEl.style.display =\n",
              "        google.colab.kernel.accessAllowed ? 'block' : 'none';\n",
              "    })();\n",
              "  </script>\n",
              "</div>\n",
              "    </div>\n",
              "  </div>\n"
            ],
            "application/vnd.google.colaboratory.intrinsic+json": {
              "type": "dataframe",
              "variable_name": "df",
              "summary": "{\n  \"name\": \"df\",\n  \"rows\": 11269,\n  \"fields\": [\n    {\n      \"column\": \"comment\",\n      \"properties\": {\n        \"dtype\": \"string\",\n        \"num_unique_values\": 9518,\n        \"samples\": [\n          \"C\\u00f4ng d\\u1ee5ng:r\\u1eeca m\\u1eb7t\\nM\\u00f9i h\\u01b0\\u01a1ng:kh\\u00f4ng m\\u00f9i\\nD\\u00e0nh cho da:th\\u01b0\\u1eddng\\n\\nThi\\u1ebfu h\\u00e0ng\",\n          \"\\u0110\\u00f3ng g\\u00f3i r\\u1ea5t s\\u01a1 s\\u00e0i , mua nhi\\u1ec1u l\\u1ea7n m\\u00e0 l\\u1ea7n n\\u00e0y \\u0111\\u00f3ng g\\u00f3i si\\u00eau t\\u1ec7\",\n          \"H\\u01a1i th\\u1ea5t v\\u1ecdng v\\u00ec b\\u1eefa m\\u00ecnh mua th\\u00ec c\\u00f3 n\\u00f3i t\\u1eb7ng nc t\\u1ea9y trang khi nh\\u1eadn h\\u00e0ng th\\u00ec l\\u1ea1i k c\\u00f3 , nt th\\u00ec shop tl g\\u00ec k n\\u00ean th, m\\u00e0 sp s\\u00e0i oke\"\n        ],\n        \"semantic_type\": \"\",\n        \"description\": \"\"\n      }\n    },\n    {\n      \"column\": \"rating\",\n      \"properties\": {\n        \"dtype\": \"number\",\n        \"std\": 1,\n        \"min\": 1,\n        \"max\": 5,\n        \"num_unique_values\": 5,\n        \"samples\": [\n          2,\n          5,\n          3\n        ],\n        \"semantic_type\": \"\",\n        \"description\": \"\"\n      }\n    },\n    {\n      \"column\": \"words\",\n      \"properties\": {\n        \"dtype\": \"string\",\n        \"num_unique_values\": 9435,\n        \"samples\": [\n          \"C\\u00f4ng d\\u1ee5ng r\\u1eeda s\\u1ea1ch b\\u1ee5i b\\u1ea9n M\\u00f9i h\\u01b0\\u01a1ng m\\u00f9i da nh\\u1ea1y c\\u1ea3m Shop \\u0111\\u00f3ng g\\u00f3i s\\u01a1 s\\u00e0i l\\u1eafm chai s\\u1eefa r\\u1eeda m\\u1eb7t b\\u1ecdc g\\u1eedi \\u0111i Mong shop c\\u1ea3i thi\\u1ec7n \\u0111\\u00f3ng g\\u00f3i\",\n          \"th\\u00f4ng x\\u00e1c qu\\u00e0 t\\u1eb7ng link sp km l\\u1eabn h\\u00e0ng\",\n          \"da da M\\u00f9i h\\u01b0\\u01a1ng k cs m\\u00f9i sd bt hi\\u1ec7u b\\u1ecdt\"\n        ],\n        \"semantic_type\": \"\",\n        \"description\": \"\"\n      }\n    },\n    {\n      \"column\": \"label\",\n      \"properties\": {\n        \"dtype\": \"category\",\n        \"num_unique_values\": 3,\n        \"samples\": [\n          \"negative\",\n          \"neutral\",\n          \"positive\"\n        ],\n        \"semantic_type\": \"\",\n        \"description\": \"\"\n      }\n    },\n    {\n      \"column\": \"feature\",\n      \"properties\": {\n        \"dtype\": \"object\",\n        \"semantic_type\": \"\",\n        \"description\": \"\"\n      }\n    }\n  ]\n}"
            }
          },
          "metadata": {},
          "execution_count": 64
        }
      ]
    },
    {
      "cell_type": "code",
      "source": [],
      "metadata": {
        "id": "4mYOguZs5JD3"
      },
      "execution_count": null,
      "outputs": []
    },
    {
      "cell_type": "code",
      "source": [
        "from sklearn.feature_extraction.text import CountVectorizer\n",
        "from sklearn.model_selection import train_test_split\n",
        "from sklearn.naive_bayes import MultinomialNB\n",
        "from sklearn.metrics import accuracy_score, classification_report\n",
        "from sklearn.preprocessing import LabelEncoder\n",
        "\n",
        "le = LabelEncoder()\n",
        "le.fit(df['label'])\n",
        "encoded_labels = le.transform(df['label'])\n",
        "\n",
        "# Convert text data into bag-of-words features\n",
        "# vectorizer = CountVectorizer()\n",
        "# x = vectorizer.fit_transform(df['words'])"
      ],
      "metadata": {
        "id": "vqDYGU4AmY4E"
      },
      "execution_count": 149,
      "outputs": []
    },
    {
      "cell_type": "code",
      "source": [
        "df['label_num'] = encoded_labels"
      ],
      "metadata": {
        "id": "jhk_YH-06IPu"
      },
      "execution_count": 150,
      "outputs": []
    },
    {
      "cell_type": "code",
      "source": [
        "df.head(-50)"
      ],
      "metadata": {
        "colab": {
          "base_uri": "https://localhost:8080/",
          "height": 528
        },
        "id": "_0lxe6Hv6QMT",
        "outputId": "15ca55e8-cf96-41e1-c809-e0ceb68786ad"
      },
      "execution_count": 154,
      "outputs": [
        {
          "output_type": "execute_result",
          "data": {
            "text/plain": [
              "                                                 comment  rating  \\\n",
              "0      Công dụng:rỬa mặt\\nMùi hương:ổn\\nKết cấu:gel\\n...       1   \n",
              "1      Công dụng:sữa rửa mặt\\nMùi hương:chưa biết\\nDà...       1   \n",
              "2      Dành cho da:lhuf hợp với mọi loại da\\nCông dụn...       1   \n",
              "3      Công dụng:Rửa mặt\\nMùi hương:Gần như không có\\...       1   \n",
              "4      Công dụng:làm sạch\\nMùi hương:không biết\\nDành...       1   \n",
              "...                                                  ...     ...   \n",
              "11214  tôi đã mua 10000000 lần yêu srm này lắm 🥺😭💗 dù...       5   \n",
              "11215  Mùi hương:khong mui\\nDành cho da:moi loai da\\n...       5   \n",
              "11216  Công dụng:sạch da\\nMùi hương:nhẹ '\\nDành cho d...       5   \n",
              "11217  Dành cho da:mọi loại da\\nMùi hương:không mùi\\n...       5   \n",
              "11218  Mua lần thứ n rồi mà dùng vẫn thích nên vẫn ch...       5   \n",
              "\n",
              "                                                   words     label  \\\n",
              "0      Công dụng rỬa mặt Mùi hương ổn Kết cấu gel sho...  negative   \n",
              "1      Công dụng sữa rửa mặt Mùi hương da bình chất v...  negative   \n",
              "2      da lhuf hợp da Công dụng sạch da Mùi hương mùi...  negative   \n",
              "3      Công dụng Rửa mặt Mùi hương da da Shipper gọi ...  negative   \n",
              "4      Công dụng sạch Mùi hương da tất flashs sale 1 ...  negative   \n",
              "...                                                  ...       ...   \n",
              "11214  mua 10000000 yêu srm lắm sạch mềm da nma makeu...  positive   \n",
              "11215  Mùi hương khong mui da moi loai da Công dụng s...  positive   \n",
              "11216  Công dụng sạch da Mùi hương nhẹ da nhạy cảm da...  positive   \n",
              "11217  da da Mùi hương mùi Công dụng sạch da mặt mua ...  positive   \n",
              "11218                       Mua n định đổi Rẻ Phù hợp da  positive   \n",
              "\n",
              "                                                 feature  label_num  \n",
              "0      {'C': True, 'ô': True, 'n': True, 'g': True, '...          0  \n",
              "1      {'C': True, 'ô': True, 'n': True, 'g': True, '...          0  \n",
              "2      {'d': True, 'a': True, ' ': True, 'l': True, '...          0  \n",
              "3      {'C': True, 'ô': True, 'n': True, 'g': True, '...          0  \n",
              "4      {'C': True, 'ô': True, 'n': True, 'g': True, '...          0  \n",
              "...                                                  ...        ...  \n",
              "11214  {'m': True, 'u': True, 'a': True, ' ': True, '...          2  \n",
              "11215  {'M': True, 'ù': True, 'i': True, ' ': True, '...          2  \n",
              "11216  {'C': True, 'ô': True, 'n': True, 'g': True, '...          2  \n",
              "11217  {'d': True, 'a': True, ' ': True, 'M': True, '...          2  \n",
              "11218  {'M': True, 'u': True, 'a': True, ' ': True, '...          2  \n",
              "\n",
              "[11219 rows x 6 columns]"
            ],
            "text/html": [
              "\n",
              "  <div id=\"df-75f161f2-d1fa-4d8f-b744-d22fa8e5a655\" class=\"colab-df-container\">\n",
              "    <div>\n",
              "<style scoped>\n",
              "    .dataframe tbody tr th:only-of-type {\n",
              "        vertical-align: middle;\n",
              "    }\n",
              "\n",
              "    .dataframe tbody tr th {\n",
              "        vertical-align: top;\n",
              "    }\n",
              "\n",
              "    .dataframe thead th {\n",
              "        text-align: right;\n",
              "    }\n",
              "</style>\n",
              "<table border=\"1\" class=\"dataframe\">\n",
              "  <thead>\n",
              "    <tr style=\"text-align: right;\">\n",
              "      <th></th>\n",
              "      <th>comment</th>\n",
              "      <th>rating</th>\n",
              "      <th>words</th>\n",
              "      <th>label</th>\n",
              "      <th>feature</th>\n",
              "      <th>label_num</th>\n",
              "    </tr>\n",
              "  </thead>\n",
              "  <tbody>\n",
              "    <tr>\n",
              "      <th>0</th>\n",
              "      <td>Công dụng:rỬa mặt\\nMùi hương:ổn\\nKết cấu:gel\\n...</td>\n",
              "      <td>1</td>\n",
              "      <td>Công dụng rỬa mặt Mùi hương ổn Kết cấu gel sho...</td>\n",
              "      <td>negative</td>\n",
              "      <td>{'C': True, 'ô': True, 'n': True, 'g': True, '...</td>\n",
              "      <td>0</td>\n",
              "    </tr>\n",
              "    <tr>\n",
              "      <th>1</th>\n",
              "      <td>Công dụng:sữa rửa mặt\\nMùi hương:chưa biết\\nDà...</td>\n",
              "      <td>1</td>\n",
              "      <td>Công dụng sữa rửa mặt Mùi hương da bình chất v...</td>\n",
              "      <td>negative</td>\n",
              "      <td>{'C': True, 'ô': True, 'n': True, 'g': True, '...</td>\n",
              "      <td>0</td>\n",
              "    </tr>\n",
              "    <tr>\n",
              "      <th>2</th>\n",
              "      <td>Dành cho da:lhuf hợp với mọi loại da\\nCông dụn...</td>\n",
              "      <td>1</td>\n",
              "      <td>da lhuf hợp da Công dụng sạch da Mùi hương mùi...</td>\n",
              "      <td>negative</td>\n",
              "      <td>{'d': True, 'a': True, ' ': True, 'l': True, '...</td>\n",
              "      <td>0</td>\n",
              "    </tr>\n",
              "    <tr>\n",
              "      <th>3</th>\n",
              "      <td>Công dụng:Rửa mặt\\nMùi hương:Gần như không có\\...</td>\n",
              "      <td>1</td>\n",
              "      <td>Công dụng Rửa mặt Mùi hương da da Shipper gọi ...</td>\n",
              "      <td>negative</td>\n",
              "      <td>{'C': True, 'ô': True, 'n': True, 'g': True, '...</td>\n",
              "      <td>0</td>\n",
              "    </tr>\n",
              "    <tr>\n",
              "      <th>4</th>\n",
              "      <td>Công dụng:làm sạch\\nMùi hương:không biết\\nDành...</td>\n",
              "      <td>1</td>\n",
              "      <td>Công dụng sạch Mùi hương da tất flashs sale 1 ...</td>\n",
              "      <td>negative</td>\n",
              "      <td>{'C': True, 'ô': True, 'n': True, 'g': True, '...</td>\n",
              "      <td>0</td>\n",
              "    </tr>\n",
              "    <tr>\n",
              "      <th>...</th>\n",
              "      <td>...</td>\n",
              "      <td>...</td>\n",
              "      <td>...</td>\n",
              "      <td>...</td>\n",
              "      <td>...</td>\n",
              "      <td>...</td>\n",
              "    </tr>\n",
              "    <tr>\n",
              "      <th>11214</th>\n",
              "      <td>tôi đã mua 10000000 lần yêu srm này lắm 🥺😭💗 dù...</td>\n",
              "      <td>5</td>\n",
              "      <td>mua 10000000 yêu srm lắm sạch mềm da nma makeu...</td>\n",
              "      <td>positive</td>\n",
              "      <td>{'m': True, 'u': True, 'a': True, ' ': True, '...</td>\n",
              "      <td>2</td>\n",
              "    </tr>\n",
              "    <tr>\n",
              "      <th>11215</th>\n",
              "      <td>Mùi hương:khong mui\\nDành cho da:moi loai da\\n...</td>\n",
              "      <td>5</td>\n",
              "      <td>Mùi hương khong mui da moi loai da Công dụng s...</td>\n",
              "      <td>positive</td>\n",
              "      <td>{'M': True, 'ù': True, 'i': True, ' ': True, '...</td>\n",
              "      <td>2</td>\n",
              "    </tr>\n",
              "    <tr>\n",
              "      <th>11216</th>\n",
              "      <td>Công dụng:sạch da\\nMùi hương:nhẹ '\\nDành cho d...</td>\n",
              "      <td>5</td>\n",
              "      <td>Công dụng sạch da Mùi hương nhẹ da nhạy cảm da...</td>\n",
              "      <td>positive</td>\n",
              "      <td>{'C': True, 'ô': True, 'n': True, 'g': True, '...</td>\n",
              "      <td>2</td>\n",
              "    </tr>\n",
              "    <tr>\n",
              "      <th>11217</th>\n",
              "      <td>Dành cho da:mọi loại da\\nMùi hương:không mùi\\n...</td>\n",
              "      <td>5</td>\n",
              "      <td>da da Mùi hương mùi Công dụng sạch da mặt mua ...</td>\n",
              "      <td>positive</td>\n",
              "      <td>{'d': True, 'a': True, ' ': True, 'M': True, '...</td>\n",
              "      <td>2</td>\n",
              "    </tr>\n",
              "    <tr>\n",
              "      <th>11218</th>\n",
              "      <td>Mua lần thứ n rồi mà dùng vẫn thích nên vẫn ch...</td>\n",
              "      <td>5</td>\n",
              "      <td>Mua n định đổi Rẻ Phù hợp da</td>\n",
              "      <td>positive</td>\n",
              "      <td>{'M': True, 'u': True, 'a': True, ' ': True, '...</td>\n",
              "      <td>2</td>\n",
              "    </tr>\n",
              "  </tbody>\n",
              "</table>\n",
              "<p>11219 rows × 6 columns</p>\n",
              "</div>\n",
              "    <div class=\"colab-df-buttons\">\n",
              "\n",
              "  <div class=\"colab-df-container\">\n",
              "    <button class=\"colab-df-convert\" onclick=\"convertToInteractive('df-75f161f2-d1fa-4d8f-b744-d22fa8e5a655')\"\n",
              "            title=\"Convert this dataframe to an interactive table.\"\n",
              "            style=\"display:none;\">\n",
              "\n",
              "  <svg xmlns=\"http://www.w3.org/2000/svg\" height=\"24px\" viewBox=\"0 -960 960 960\">\n",
              "    <path d=\"M120-120v-720h720v720H120Zm60-500h600v-160H180v160Zm220 220h160v-160H400v160Zm0 220h160v-160H400v160ZM180-400h160v-160H180v160Zm440 0h160v-160H620v160ZM180-180h160v-160H180v160Zm440 0h160v-160H620v160Z\"/>\n",
              "  </svg>\n",
              "    </button>\n",
              "\n",
              "  <style>\n",
              "    .colab-df-container {\n",
              "      display:flex;\n",
              "      gap: 12px;\n",
              "    }\n",
              "\n",
              "    .colab-df-convert {\n",
              "      background-color: #E8F0FE;\n",
              "      border: none;\n",
              "      border-radius: 50%;\n",
              "      cursor: pointer;\n",
              "      display: none;\n",
              "      fill: #1967D2;\n",
              "      height: 32px;\n",
              "      padding: 0 0 0 0;\n",
              "      width: 32px;\n",
              "    }\n",
              "\n",
              "    .colab-df-convert:hover {\n",
              "      background-color: #E2EBFA;\n",
              "      box-shadow: 0px 1px 2px rgba(60, 64, 67, 0.3), 0px 1px 3px 1px rgba(60, 64, 67, 0.15);\n",
              "      fill: #174EA6;\n",
              "    }\n",
              "\n",
              "    .colab-df-buttons div {\n",
              "      margin-bottom: 4px;\n",
              "    }\n",
              "\n",
              "    [theme=dark] .colab-df-convert {\n",
              "      background-color: #3B4455;\n",
              "      fill: #D2E3FC;\n",
              "    }\n",
              "\n",
              "    [theme=dark] .colab-df-convert:hover {\n",
              "      background-color: #434B5C;\n",
              "      box-shadow: 0px 1px 3px 1px rgba(0, 0, 0, 0.15);\n",
              "      filter: drop-shadow(0px 1px 2px rgba(0, 0, 0, 0.3));\n",
              "      fill: #FFFFFF;\n",
              "    }\n",
              "  </style>\n",
              "\n",
              "    <script>\n",
              "      const buttonEl =\n",
              "        document.querySelector('#df-75f161f2-d1fa-4d8f-b744-d22fa8e5a655 button.colab-df-convert');\n",
              "      buttonEl.style.display =\n",
              "        google.colab.kernel.accessAllowed ? 'block' : 'none';\n",
              "\n",
              "      async function convertToInteractive(key) {\n",
              "        const element = document.querySelector('#df-75f161f2-d1fa-4d8f-b744-d22fa8e5a655');\n",
              "        const dataTable =\n",
              "          await google.colab.kernel.invokeFunction('convertToInteractive',\n",
              "                                                    [key], {});\n",
              "        if (!dataTable) return;\n",
              "\n",
              "        const docLinkHtml = 'Like what you see? Visit the ' +\n",
              "          '<a target=\"_blank\" href=https://colab.research.google.com/notebooks/data_table.ipynb>data table notebook</a>'\n",
              "          + ' to learn more about interactive tables.';\n",
              "        element.innerHTML = '';\n",
              "        dataTable['output_type'] = 'display_data';\n",
              "        await google.colab.output.renderOutput(dataTable, element);\n",
              "        const docLink = document.createElement('div');\n",
              "        docLink.innerHTML = docLinkHtml;\n",
              "        element.appendChild(docLink);\n",
              "      }\n",
              "    </script>\n",
              "  </div>\n",
              "\n",
              "\n",
              "<div id=\"df-2e696a81-bd29-409f-9e65-459f5d1b50c7\">\n",
              "  <button class=\"colab-df-quickchart\" onclick=\"quickchart('df-2e696a81-bd29-409f-9e65-459f5d1b50c7')\"\n",
              "            title=\"Suggest charts\"\n",
              "            style=\"display:none;\">\n",
              "\n",
              "<svg xmlns=\"http://www.w3.org/2000/svg\" height=\"24px\"viewBox=\"0 0 24 24\"\n",
              "     width=\"24px\">\n",
              "    <g>\n",
              "        <path d=\"M19 3H5c-1.1 0-2 .9-2 2v14c0 1.1.9 2 2 2h14c1.1 0 2-.9 2-2V5c0-1.1-.9-2-2-2zM9 17H7v-7h2v7zm4 0h-2V7h2v10zm4 0h-2v-4h2v4z\"/>\n",
              "    </g>\n",
              "</svg>\n",
              "  </button>\n",
              "\n",
              "<style>\n",
              "  .colab-df-quickchart {\n",
              "      --bg-color: #E8F0FE;\n",
              "      --fill-color: #1967D2;\n",
              "      --hover-bg-color: #E2EBFA;\n",
              "      --hover-fill-color: #174EA6;\n",
              "      --disabled-fill-color: #AAA;\n",
              "      --disabled-bg-color: #DDD;\n",
              "  }\n",
              "\n",
              "  [theme=dark] .colab-df-quickchart {\n",
              "      --bg-color: #3B4455;\n",
              "      --fill-color: #D2E3FC;\n",
              "      --hover-bg-color: #434B5C;\n",
              "      --hover-fill-color: #FFFFFF;\n",
              "      --disabled-bg-color: #3B4455;\n",
              "      --disabled-fill-color: #666;\n",
              "  }\n",
              "\n",
              "  .colab-df-quickchart {\n",
              "    background-color: var(--bg-color);\n",
              "    border: none;\n",
              "    border-radius: 50%;\n",
              "    cursor: pointer;\n",
              "    display: none;\n",
              "    fill: var(--fill-color);\n",
              "    height: 32px;\n",
              "    padding: 0;\n",
              "    width: 32px;\n",
              "  }\n",
              "\n",
              "  .colab-df-quickchart:hover {\n",
              "    background-color: var(--hover-bg-color);\n",
              "    box-shadow: 0 1px 2px rgba(60, 64, 67, 0.3), 0 1px 3px 1px rgba(60, 64, 67, 0.15);\n",
              "    fill: var(--button-hover-fill-color);\n",
              "  }\n",
              "\n",
              "  .colab-df-quickchart-complete:disabled,\n",
              "  .colab-df-quickchart-complete:disabled:hover {\n",
              "    background-color: var(--disabled-bg-color);\n",
              "    fill: var(--disabled-fill-color);\n",
              "    box-shadow: none;\n",
              "  }\n",
              "\n",
              "  .colab-df-spinner {\n",
              "    border: 2px solid var(--fill-color);\n",
              "    border-color: transparent;\n",
              "    border-bottom-color: var(--fill-color);\n",
              "    animation:\n",
              "      spin 1s steps(1) infinite;\n",
              "  }\n",
              "\n",
              "  @keyframes spin {\n",
              "    0% {\n",
              "      border-color: transparent;\n",
              "      border-bottom-color: var(--fill-color);\n",
              "      border-left-color: var(--fill-color);\n",
              "    }\n",
              "    20% {\n",
              "      border-color: transparent;\n",
              "      border-left-color: var(--fill-color);\n",
              "      border-top-color: var(--fill-color);\n",
              "    }\n",
              "    30% {\n",
              "      border-color: transparent;\n",
              "      border-left-color: var(--fill-color);\n",
              "      border-top-color: var(--fill-color);\n",
              "      border-right-color: var(--fill-color);\n",
              "    }\n",
              "    40% {\n",
              "      border-color: transparent;\n",
              "      border-right-color: var(--fill-color);\n",
              "      border-top-color: var(--fill-color);\n",
              "    }\n",
              "    60% {\n",
              "      border-color: transparent;\n",
              "      border-right-color: var(--fill-color);\n",
              "    }\n",
              "    80% {\n",
              "      border-color: transparent;\n",
              "      border-right-color: var(--fill-color);\n",
              "      border-bottom-color: var(--fill-color);\n",
              "    }\n",
              "    90% {\n",
              "      border-color: transparent;\n",
              "      border-bottom-color: var(--fill-color);\n",
              "    }\n",
              "  }\n",
              "</style>\n",
              "\n",
              "  <script>\n",
              "    async function quickchart(key) {\n",
              "      const quickchartButtonEl =\n",
              "        document.querySelector('#' + key + ' button');\n",
              "      quickchartButtonEl.disabled = true;  // To prevent multiple clicks.\n",
              "      quickchartButtonEl.classList.add('colab-df-spinner');\n",
              "      try {\n",
              "        const charts = await google.colab.kernel.invokeFunction(\n",
              "            'suggestCharts', [key], {});\n",
              "      } catch (error) {\n",
              "        console.error('Error during call to suggestCharts:', error);\n",
              "      }\n",
              "      quickchartButtonEl.classList.remove('colab-df-spinner');\n",
              "      quickchartButtonEl.classList.add('colab-df-quickchart-complete');\n",
              "    }\n",
              "    (() => {\n",
              "      let quickchartButtonEl =\n",
              "        document.querySelector('#df-2e696a81-bd29-409f-9e65-459f5d1b50c7 button');\n",
              "      quickchartButtonEl.style.display =\n",
              "        google.colab.kernel.accessAllowed ? 'block' : 'none';\n",
              "    })();\n",
              "  </script>\n",
              "</div>\n",
              "    </div>\n",
              "  </div>\n"
            ],
            "application/vnd.google.colaboratory.intrinsic+json": {
              "type": "dataframe",
              "variable_name": "df",
              "summary": "{\n  \"name\": \"df\",\n  \"rows\": 11269,\n  \"fields\": [\n    {\n      \"column\": \"comment\",\n      \"properties\": {\n        \"dtype\": \"string\",\n        \"num_unique_values\": 9518,\n        \"samples\": [\n          \"C\\u00f4ng d\\u1ee5ng:r\\u1eeca m\\u1eb7t\\nM\\u00f9i h\\u01b0\\u01a1ng:kh\\u00f4ng m\\u00f9i\\nD\\u00e0nh cho da:th\\u01b0\\u1eddng\\n\\nThi\\u1ebfu h\\u00e0ng\",\n          \"\\u0110\\u00f3ng g\\u00f3i r\\u1ea5t s\\u01a1 s\\u00e0i , mua nhi\\u1ec1u l\\u1ea7n m\\u00e0 l\\u1ea7n n\\u00e0y \\u0111\\u00f3ng g\\u00f3i si\\u00eau t\\u1ec7\",\n          \"H\\u01a1i th\\u1ea5t v\\u1ecdng v\\u00ec b\\u1eefa m\\u00ecnh mua th\\u00ec c\\u00f3 n\\u00f3i t\\u1eb7ng nc t\\u1ea9y trang khi nh\\u1eadn h\\u00e0ng th\\u00ec l\\u1ea1i k c\\u00f3 , nt th\\u00ec shop tl g\\u00ec k n\\u00ean th, m\\u00e0 sp s\\u00e0i oke\"\n        ],\n        \"semantic_type\": \"\",\n        \"description\": \"\"\n      }\n    },\n    {\n      \"column\": \"rating\",\n      \"properties\": {\n        \"dtype\": \"number\",\n        \"std\": 1,\n        \"min\": 1,\n        \"max\": 5,\n        \"num_unique_values\": 5,\n        \"samples\": [\n          2,\n          5,\n          3\n        ],\n        \"semantic_type\": \"\",\n        \"description\": \"\"\n      }\n    },\n    {\n      \"column\": \"words\",\n      \"properties\": {\n        \"dtype\": \"string\",\n        \"num_unique_values\": 9435,\n        \"samples\": [\n          \"C\\u00f4ng d\\u1ee5ng r\\u1eeda s\\u1ea1ch b\\u1ee5i b\\u1ea9n M\\u00f9i h\\u01b0\\u01a1ng m\\u00f9i da nh\\u1ea1y c\\u1ea3m Shop \\u0111\\u00f3ng g\\u00f3i s\\u01a1 s\\u00e0i l\\u1eafm chai s\\u1eefa r\\u1eeda m\\u1eb7t b\\u1ecdc g\\u1eedi \\u0111i Mong shop c\\u1ea3i thi\\u1ec7n \\u0111\\u00f3ng g\\u00f3i\",\n          \"th\\u00f4ng x\\u00e1c qu\\u00e0 t\\u1eb7ng link sp km l\\u1eabn h\\u00e0ng\",\n          \"da da M\\u00f9i h\\u01b0\\u01a1ng k cs m\\u00f9i sd bt hi\\u1ec7u b\\u1ecdt\"\n        ],\n        \"semantic_type\": \"\",\n        \"description\": \"\"\n      }\n    },\n    {\n      \"column\": \"label\",\n      \"properties\": {\n        \"dtype\": \"category\",\n        \"num_unique_values\": 3,\n        \"samples\": [\n          \"negative\",\n          \"neutral\",\n          \"positive\"\n        ],\n        \"semantic_type\": \"\",\n        \"description\": \"\"\n      }\n    },\n    {\n      \"column\": \"feature\",\n      \"properties\": {\n        \"dtype\": \"object\",\n        \"semantic_type\": \"\",\n        \"description\": \"\"\n      }\n    },\n    {\n      \"column\": \"label_num\",\n      \"properties\": {\n        \"dtype\": \"number\",\n        \"std\": 0,\n        \"min\": 0,\n        \"max\": 2,\n        \"num_unique_values\": 3,\n        \"samples\": [\n          0,\n          1,\n          2\n        ],\n        \"semantic_type\": \"\",\n        \"description\": \"\"\n      }\n    }\n  ]\n}"
            }
          },
          "metadata": {},
          "execution_count": 154
        }
      ]
    },
    {
      "cell_type": "code",
      "source": [
        "# Split the data into training and testing sets\n",
        "x_train_text, x_test_text, y_train, y_test = train_test_split(df['words'], df['label_num'], test_size= 0.2, random_state = 42)"
      ],
      "metadata": {
        "id": "FRw2UOOz0nur"
      },
      "execution_count": 155,
      "outputs": []
    },
    {
      "cell_type": "code",
      "source": [
        "x_train_text.shape"
      ],
      "metadata": {
        "colab": {
          "base_uri": "https://localhost:8080/"
        },
        "id": "mxqlCqY9zokz",
        "outputId": "6c0fbc06-fd9c-4e8d-aad7-33468f933a6a"
      },
      "execution_count": 156,
      "outputs": [
        {
          "output_type": "execute_result",
          "data": {
            "text/plain": [
              "(9015,)"
            ]
          },
          "metadata": {},
          "execution_count": 156
        }
      ]
    },
    {
      "cell_type": "code",
      "source": [
        "x_test_text.shape"
      ],
      "metadata": {
        "colab": {
          "base_uri": "https://localhost:8080/"
        },
        "id": "vBPGK_S_zwCq",
        "outputId": "1f658b34-6fe0-4aa8-bf95-7aad0f2b6738"
      },
      "execution_count": 157,
      "outputs": [
        {
          "output_type": "execute_result",
          "data": {
            "text/plain": [
              "(2254,)"
            ]
          },
          "metadata": {},
          "execution_count": 157
        }
      ]
    },
    {
      "cell_type": "code",
      "source": [
        "x_train_text[1]"
      ],
      "metadata": {
        "colab": {
          "base_uri": "https://localhost:8080/",
          "height": 35
        },
        "id": "NUYVOFCjz1nF",
        "outputId": "c90ae72d-dffe-4258-f7dc-f06b3be93fca"
      },
      "execution_count": 158,
      "outputs": [
        {
          "output_type": "execute_result",
          "data": {
            "text/plain": [
              "'Công dụng sữa rửa mặt Mùi hương da bình chất vỏ nghi ngờ chất'"
            ],
            "application/vnd.google.colaboratory.intrinsic+json": {
              "type": "string"
            }
          },
          "metadata": {},
          "execution_count": 158
        }
      ]
    },
    {
      "cell_type": "code",
      "source": [
        "# Convert to numpy arrays\n",
        "y_train = np.array(y_train)\n",
        "y_test = np.array(y_test)"
      ],
      "metadata": {
        "id": "4xXSO5tqugiO"
      },
      "execution_count": 76,
      "outputs": []
    },
    {
      "cell_type": "code",
      "source": [
        "# # Conver to numpy arrays\n",
        "# x_train_text = np.array(x_train_text)\n",
        "# x_test_text = np.array(x_test_text)"
      ],
      "metadata": {
        "id": "EelgW8W99GcM"
      },
      "execution_count": 40,
      "outputs": []
    },
    {
      "cell_type": "code",
      "source": [
        "x_train_text.shape"
      ],
      "metadata": {
        "colab": {
          "base_uri": "https://localhost:8080/"
        },
        "id": "jQb36ppp8JGU",
        "outputId": "f0fbae9e-1c27-4538-8356-8eae34e6c93b"
      },
      "execution_count": 159,
      "outputs": [
        {
          "output_type": "execute_result",
          "data": {
            "text/plain": [
              "(9015,)"
            ]
          },
          "metadata": {},
          "execution_count": 159
        }
      ]
    },
    {
      "cell_type": "code",
      "source": [
        "# print(\"Train-set size: \", len(x_train_text))\n",
        "# print(\"Test-set size:  \", len(x_test_text))"
      ],
      "metadata": {
        "id": "ddK5Mm7n7v-5"
      },
      "execution_count": null,
      "outputs": []
    },
    {
      "cell_type": "code",
      "source": [
        "x_train_text[1]"
      ],
      "metadata": {
        "colab": {
          "base_uri": "https://localhost:8080/",
          "height": 35
        },
        "id": "sTSNjUlt7t_f",
        "outputId": "adf6d4b2-4c4b-45f1-f36a-17e3daabd7d8"
      },
      "execution_count": 160,
      "outputs": [
        {
          "output_type": "execute_result",
          "data": {
            "text/plain": [
              "'Công dụng sữa rửa mặt Mùi hương da bình chất vỏ nghi ngờ chất'"
            ],
            "application/vnd.google.colaboratory.intrinsic+json": {
              "type": "string"
            }
          },
          "metadata": {},
          "execution_count": 160
        }
      ]
    },
    {
      "cell_type": "markdown",
      "source": [
        "**Tokenization**\n"
      ],
      "metadata": {
        "id": "-s0PCvj8_sB_"
      }
    },
    {
      "cell_type": "code",
      "source": [
        "num_words = 10000"
      ],
      "metadata": {
        "id": "usbU7rhdkgSW"
      },
      "execution_count": 161,
      "outputs": []
    },
    {
      "cell_type": "code",
      "source": [
        "tokenizer = Tokenizer(num_words=num_words)"
      ],
      "metadata": {
        "id": "vRfTKZ_PkhdP"
      },
      "execution_count": 98,
      "outputs": []
    },
    {
      "cell_type": "code",
      "source": [
        "%%time\n",
        "tokenizer.fit_on_texts(df['words'])"
      ],
      "metadata": {
        "colab": {
          "base_uri": "https://localhost:8080/"
        },
        "id": "tsLhswZiklD3",
        "outputId": "01402a65-d2fd-4d9f-f9ef-6348e350f6a9"
      },
      "execution_count": 162,
      "outputs": [
        {
          "output_type": "stream",
          "name": "stdout",
          "text": [
            "CPU times: user 674 ms, sys: 4.62 ms, total: 678 ms\n",
            "Wall time: 676 ms\n"
          ]
        }
      ]
    },
    {
      "cell_type": "code",
      "source": [
        "if num_words is None:\n",
        "    num_words = len(tokenizer.word_index)"
      ],
      "metadata": {
        "id": "0htLqFCpkw-Z"
      },
      "execution_count": 163,
      "outputs": []
    },
    {
      "cell_type": "code",
      "source": [
        "tokenizer.word_index"
      ],
      "metadata": {
        "id": "RA_ynqz3kyMx",
        "colab": {
          "base_uri": "https://localhost:8080/"
        },
        "outputId": "808db504-fbe1-4fb3-d5f4-466dd714fbac"
      },
      "execution_count": 164,
      "outputs": [
        {
          "output_type": "execute_result",
          "data": {
            "text/plain": [
              "{'da': 1,\n",
              " 'mùi': 2,\n",
              " 'hàng': 3,\n",
              " 'dụng': 4,\n",
              " 'hương': 5,\n",
              " 'công': 6,\n",
              " 'mặt': 7,\n",
              " 'rửa': 8,\n",
              " 'mua': 9,\n",
              " 'giao': 10,\n",
              " 'shop': 11,\n",
              " 'gói': 12,\n",
              " 'ko': 13,\n",
              " 'tặng': 14,\n",
              " 'đóng': 15,\n",
              " 'sạch': 16,\n",
              " 'k': 17,\n",
              " 'phẩm': 18,\n",
              " 'sản': 19,\n",
              " 'cảm': 20,\n",
              " 'trang': 21,\n",
              " 'tẩy': 22,\n",
              " 'nhẹ': 23,\n",
              " 'nhạy': 24,\n",
              " '1': 25,\n",
              " 'giá': 26,\n",
              " 'sữa': 27,\n",
              " 'hợp': 28,\n",
              " 'chất': 29,\n",
              " 'ok': 30,\n",
              " 'đc': 31,\n",
              " 'nha': 32,\n",
              " 'chai': 33,\n",
              " 'lắm': 34,\n",
              " 'sài': 35,\n",
              " 'srm': 36,\n",
              " 'dịu': 37,\n",
              " 'kèm': 38,\n",
              " 'thơm': 39,\n",
              " 'cẩn': 40,\n",
              " 'thận': 41,\n",
              " 'hơi': 42,\n",
              " 'ổn': 43,\n",
              " 'sử': 44,\n",
              " 'khô': 45,\n",
              " 'sơ': 46,\n",
              " 'quà': 47,\n",
              " 'phù': 48,\n",
              " '2': 49,\n",
              " 'sp': 50,\n",
              " 'hình': 51,\n",
              " 'đầu': 52,\n",
              " 'bao': 53,\n",
              " 'dầu': 54,\n",
              " 'vọng': 55,\n",
              " 'mụn': 56,\n",
              " 'ảnh': 57,\n",
              " 'xài': 58,\n",
              " 'simple': 59,\n",
              " 'sale': 60,\n",
              " 'rẻ': 61,\n",
              " 'chống': 62,\n",
              " 'hộp': 63,\n",
              " 'xong': 64,\n",
              " 'thất': 65,\n",
              " 'bọc': 66,\n",
              " 'đẹp': 67,\n",
              " 'hộ': 68,\n",
              " 'ủng': 69,\n",
              " 'kh': 70,\n",
              " 'mall': 71,\n",
              " 'nắp': 72,\n",
              " 'ứng': 73,\n",
              " 'hãng': 74,\n",
              " 'sốc': 75,\n",
              " 'mn': 76,\n",
              " 'thử': 77,\n",
              " 'hôm': 78,\n",
              " 'bì': 79,\n",
              " '3': 80,\n",
              " 'kích': 81,\n",
              " 'đánh': 82,\n",
              " 'bảo': 83,\n",
              " 'r': 84,\n",
              " 'kết': 85,\n",
              " 'nhắn': 86,\n",
              " 'tâm': 87,\n",
              " 'chắn': 88,\n",
              " 'kĩ': 89,\n",
              " 'bọt': 90,\n",
              " 'cấu': 91,\n",
              " 'lọ': 92,\n",
              " 'gel': 93,\n",
              " 'tưởng': 94,\n",
              " 'nghiệm': 95,\n",
              " 'bt': 96,\n",
              " 'sửa': 97,\n",
              " 'bình': 98,\n",
              " 'tiếp': 99,\n",
              " 'đi': 100,\n",
              " 'săn': 101,\n",
              " 'ghi': 102,\n",
              " 'lành': 103,\n",
              " 'kinh': 104,\n",
              " 'ship': 105,\n",
              " 'siêu': 106,\n",
              " 'tệ': 107,\n",
              " 'shipper': 108,\n",
              " 'thể': 109,\n",
              " 'xu': 110,\n",
              " 'mk': 111,\n",
              " 'oke': 112,\n",
              " 'ưng': 113,\n",
              " 'hắc': 114,\n",
              " 'méo': 115,\n",
              " 'yên': 116,\n",
              " 'mịn': 117,\n",
              " 'đơn': 118,\n",
              " 'tiền': 119,\n",
              " 'lợi': 120,\n",
              " 'dính': 121,\n",
              " 'mong': 122,\n",
              " 'thiện': 123,\n",
              " 'ích': 124,\n",
              " 'dc': 125,\n",
              " 'mấy': 126,\n",
              " 'chán': 127,\n",
              " 'thân': 128,\n",
              " 'tạm': 129,\n",
              " 'ẩm': 130,\n",
              " 'dán': 131,\n",
              " 'kiểu': 132,\n",
              " 'túi': 133,\n",
              " 'giác': 134,\n",
              " 'tất': 135,\n",
              " 'móp': 136,\n",
              " 'cx': 137,\n",
              " 'băng': 138,\n",
              " 'cực': 139,\n",
              " 'shopee': 140,\n",
              " 'vs': 141,\n",
              " 'tình': 142,\n",
              " 'fake': 143,\n",
              " 'hiệu': 144,\n",
              " '4': 145,\n",
              " 'nma': 146,\n",
              " 'gửi': 147,\n",
              " 'vận': 148,\n",
              " 'lừa': 149,\n",
              " 'đổ': 150,\n",
              " 'thời': 151,\n",
              " 'hài': 152,\n",
              " 'độ': 153,\n",
              " 'thoáng': 154,\n",
              " '5': 155,\n",
              " 'chuẩn': 156,\n",
              " 'gian': 157,\n",
              " 'nhàng': 158,\n",
              " 'j': 159,\n",
              " 'thành': 160,\n",
              " 'dạng': 161,\n",
              " 'chảy': 162,\n",
              " 'tem': 163,\n",
              " 'may': 164,\n",
              " 'sd': 165,\n",
              " 'mik': 166,\n",
              " 'hời': 167,\n",
              " 'vỡ': 168,\n",
              " 'dưỡng': 169,\n",
              " 'nc': 170,\n",
              " 'nhớt': 171,\n",
              " 'mãi': 172,\n",
              " 'deal': 173,\n",
              " 'ơn': 174,\n",
              " 'lỏng': 175,\n",
              " 'chả': 176,\n",
              " 'căng': 177,\n",
              " 'kỹ': 178,\n",
              " 'bẩn': 179,\n",
              " '10': 180,\n",
              " 'nhiên': 181,\n",
              " 'uy': 182,\n",
              " 'kì': 183,\n",
              " 'mat': 184,\n",
              " 'tín': 185,\n",
              " 'mẹo': 186,\n",
              " 'nhiệt': 187,\n",
              " 'keo': 188,\n",
              " 'mẫu': 189,\n",
              " 'toàn': 190,\n",
              " 'mềm': 191,\n",
              " 'ng': 192,\n",
              " 't': 193,\n",
              " 'nhờn': 194,\n",
              " 'rua': 195,\n",
              " 'cũ': 196,\n",
              " 'giúp': 197,\n",
              " 'tuyệt': 198,\n",
              " 'khong': 199,\n",
              " 'e': 200,\n",
              " 'bụi': 201,\n",
              " 'tui': 202,\n",
              " 'khuyến': 203,\n",
              " 'lớp': 204,\n",
              " 'nổi': 205,\n",
              " 'm': 206,\n",
              " 'lun': 207,\n",
              " 'n': 208,\n",
              " 'hồi': 209,\n",
              " 'v': 210,\n",
              " 'vời': 211,\n",
              " 'cáo': 212,\n",
              " 'mát': 213,\n",
              " 'bàn': 214,\n",
              " 'quảng': 215,\n",
              " 'rep': 216,\n",
              " 'trc': 217,\n",
              " 'sach': 218,\n",
              " 'sinh': 219,\n",
              " 'tuýp': 220,\n",
              " 'í': 221,\n",
              " 'phản': 222,\n",
              " 'đợt': 223,\n",
              " 'minh': 224,\n",
              " 'tả': 225,\n",
              " 'hỗn': 226,\n",
              " 'nt': 227,\n",
              " 'vụ': 228,\n",
              " 'hề': 229,\n",
              " 'an': 230,\n",
              " 'ẩu': 231,\n",
              " 'chóng': 232,\n",
              " 'trừ': 233,\n",
              " 'mã': 234,\n",
              " 'ràng': 235,\n",
              " 'buồn': 236,\n",
              " 'vô': 237,\n",
              " 'hai': 238,\n",
              " 'lm': 239,\n",
              " 'thực': 240,\n",
              " 'rùi': 241,\n",
              " 'rữa': 242,\n",
              " 'bth': 243,\n",
              " 'vấn': 244,\n",
              " 'màu': 245,\n",
              " 'đừng': 246,\n",
              " 'đăng': 247,\n",
              " 'đề': 248,\n",
              " 'chút': 249,\n",
              " 'mng': 250,\n",
              " 'học': 251,\n",
              " 'nhe': 252,\n",
              " 'i': 253,\n",
              " 'mô': 254,\n",
              " 'nồng': 255,\n",
              " 'hôi': 256,\n",
              " 'động': 257,\n",
              " 'kém': 258,\n",
              " 'đổi': 259,\n",
              " 'đặc': 260,\n",
              " 'áp': 261,\n",
              " 'ngờ': 262,\n",
              " 'đồ': 263,\n",
              " 'miếng': 264,\n",
              " 'lý': 265,\n",
              " 'lam': 266,\n",
              " 'dung': 267,\n",
              " 'sóc': 268,\n",
              " 'dịch': 269,\n",
              " 'video': 270,\n",
              " 'đảo': 271,\n",
              " 'phục': 272,\n",
              " 'nè': 273,\n",
              " 'combo': 274,\n",
              " 'mắc': 275,\n",
              " 'a': 276,\n",
              " 'tiên': 277,\n",
              " 'trời': 278,\n",
              " 'chê': 279,\n",
              " '6': 280,\n",
              " '200ml': 281,\n",
              " 'toner': 282,\n",
              " 'đắt': 283,\n",
              " 'sâu': 284,\n",
              " 'bóng': 285,\n",
              " '8': 286,\n",
              " 'ghê': 287,\n",
              " 'tục': 288,\n",
              " 'kêu': 289,\n",
              " 'treo': 290,\n",
              " 'chỗ': 291,\n",
              " 'chx': 292,\n",
              " 'liệu': 293,\n",
              " 'dê': 294,\n",
              " 'rát': 295,\n",
              " 'viên': 296,\n",
              " 's': 297,\n",
              " 'giả': 298,\n",
              " 'nhìu': 299,\n",
              " 'nhma': 300,\n",
              " 'to': 301,\n",
              " 'thịt': 302,\n",
              " 'chó': 303,\n",
              " 'yêu': 304,\n",
              " 'mui': 305,\n",
              " 'chẳng': 306,\n",
              " 'nguyên': 307,\n",
              " 'làn': 308,\n",
              " 'oki': 309,\n",
              " 'lí': 310,\n",
              " 'giấy': 311,\n",
              " 'ngửi': 312,\n",
              " 'la': 313,\n",
              " 'bể': 314,\n",
              " 'rách': 315,\n",
              " 'hẳn': 316,\n",
              " 'all': 317,\n",
              " 'sợ': 318,\n",
              " 'nhân': 319,\n",
              " 'êm': 320,\n",
              " 'liên': 321,\n",
              " 'giỏ': 322,\n",
              " 'tuần': 323,\n",
              " 'giải': 324,\n",
              " 'lo': 325,\n",
              " 'bấm': 326,\n",
              " 'nửa': 327,\n",
              " 'bóc': 328,\n",
              " 'định': 329,\n",
              " 'mặc': 330,\n",
              " 'hạn': 331,\n",
              " 'màng': 332,\n",
              " 'gọi': 333,\n",
              " '11': 334,\n",
              " 'thương': 335,\n",
              " 'hành': 336,\n",
              " 'đọc': 337,\n",
              " 'thông': 338,\n",
              " 'date': 339,\n",
              " 'bất': 340,\n",
              " 'khâu': 341,\n",
              " 'check': 342,\n",
              " 'đấy': 343,\n",
              " 'moi': 344,\n",
              " 'ntn': 345,\n",
              " 'nx': 346,\n",
              " 'h': 347,\n",
              " 'mác': 348,\n",
              " 'tầm': 349,\n",
              " 'tiếng': 350,\n",
              " 'quen': 351,\n",
              " 'ph': 352,\n",
              " 'ngứa': 353,\n",
              " 'y': 354,\n",
              " 'xíu': 355,\n",
              " 'thả': 356,\n",
              " 'mắt': 357,\n",
              " 'gia': 358,\n",
              " 'lỗi': 359,\n",
              " '15': 360,\n",
              " 'kỳ': 361,\n",
              " 'hong': 362,\n",
              " '0đ': 363,\n",
              " 'trắng': 364,\n",
              " 'đối': 365,\n",
              " 'xanh': 366,\n",
              " 'shoppe': 367,\n",
              " '150ml': 368,\n",
              " 'nhắc': 369,\n",
              " 'trình': 370,\n",
              " 'review': 371,\n",
              " 'cải': 372,\n",
              " 'cồn': 373,\n",
              " 'cam': 374,\n",
              " 'thiên': 375,\n",
              " 'thái': 376,\n",
              " '7': 377,\n",
              " 'xịn': 378,\n",
              " 'đỏ': 379,\n",
              " 'biệt': 380,\n",
              " 'bung': 381,\n",
              " 'quan': 382,\n",
              " 'lưu': 383,\n",
              " 'mùa': 384,\n",
              " 'cẩu': 385,\n",
              " 'cân': 386,\n",
              " 'trải': 387,\n",
              " 'nhay': 388,\n",
              " 'kem': 389,\n",
              " 'dị': 390,\n",
              " 'thui': 391,\n",
              " 'ib': 392,\n",
              " 'xốp': 393,\n",
              " 'tra': 394,\n",
              " 'chi': 395,\n",
              " 'chăm': 396,\n",
              " 'tràn': 397,\n",
              " 'quấn': 398,\n",
              " 'trông': 399,\n",
              " 'hoa': 400,\n",
              " 'ch': 401,\n",
              " 'xuất': 402,\n",
              " 'hỏng': 403,\n",
              " 'mại': 404,\n",
              " 'chứa': 405,\n",
              " 'ta': 406,\n",
              " 'bịp': 407,\n",
              " 'đợi': 408,\n",
              " 'lạ': 409,\n",
              " 'đoạn': 410,\n",
              " 'hiện': 411,\n",
              " '12': 412,\n",
              " 'hủy': 413,\n",
              " 'loai': 414,\n",
              " '9': 415,\n",
              " 'vẻ': 416,\n",
              " 'hoàn': 417,\n",
              " 'lẻo': 418,\n",
              " 'quyết': 419,\n",
              " 'tư': 420,\n",
              " 'ms': 421,\n",
              " 'quên': 422,\n",
              " 'hệ': 423,\n",
              " 'in': 424,\n",
              " 'kiểm': 425,\n",
              " 'máy': 426,\n",
              " 'real': 427,\n",
              " 'chân': 428,\n",
              " 'vui': 429,\n",
              " 'đỡ': 430,\n",
              " 'hoá': 431,\n",
              " 'ưu': 432,\n",
              " 'rít': 433,\n",
              " 'đam': 434,\n",
              " 'lông': 435,\n",
              " 'mướt': 436,\n",
              " 'vitamin': 437,\n",
              " 'vỏ': 438,\n",
              " 'z': 439,\n",
              " 'tí': 440,\n",
              " '0': 441,\n",
              " 'thèm': 442,\n",
              " 'đồng': 443,\n",
              " 'tl': 444,\n",
              " 'vẹn': 445,\n",
              " 'phòng': 446,\n",
              " 'mỏng': 447,\n",
              " 'thay': 448,\n",
              " 'shiper': 449,\n",
              " 'sai': 450,\n",
              " 'món': 451,\n",
              " 'trường': 452,\n",
              " 'vệ': 453,\n",
              " 'co': 454,\n",
              " 'lỗ': 455,\n",
              " 'tối': 456,\n",
              " 'hi': 457,\n",
              " 'nh': 458,\n",
              " 'nilong': 459,\n",
              " 'lum': 460,\n",
              " 'bắt': 461,\n",
              " 'nhg': 462,\n",
              " 'nhựa': 463,\n",
              " 'cầm': 464,\n",
              " 'chấp': 465,\n",
              " 'cầu': 466,\n",
              " 'nilon': 467,\n",
              " 'ấn': 468,\n",
              " 'nhãn': 469,\n",
              " 'mỹ': 470,\n",
              " 'nhầm': 471,\n",
              " 'chương': 472,\n",
              " 'dân': 473,\n",
              " 'hoạ': 474,\n",
              " 'tương': 475,\n",
              " 'p': 476,\n",
              " 'báo': 477,\n",
              " 'nhiêu': 478,\n",
              " 'ẩn': 479,\n",
              " 'suốt': 480,\n",
              " 'tội': 481,\n",
              " 'họa': 482,\n",
              " 'chu': 483,\n",
              " 'tận': 484,\n",
              " 'skincare': 485,\n",
              " 'đảm': 486,\n",
              " 'tùm': 487,\n",
              " 'hang': 488,\n",
              " 'unilever': 489,\n",
              " 'hóa': 490,\n",
              " 'huhu': 491,\n",
              " 'kia': 492,\n",
              " 'thị': 493,\n",
              " 'dòng': 494,\n",
              " 'thức': 495,\n",
              " 'c': 496,\n",
              " 'make': 497,\n",
              " 'chụp': 498,\n",
              " 'bực': 499,\n",
              " 'nát': 500,\n",
              " 'vị': 501,\n",
              " 'khui': 502,\n",
              " 'vơi': 503,\n",
              " 'chậm': 504,\n",
              " 'trọng': 505,\n",
              " 'tot': 506,\n",
              " 'san': 507,\n",
              " 'xinh': 508,\n",
              " 'hihi': 509,\n",
              " 'khí': 510,\n",
              " 'bít': 511,\n",
              " 'cố': 512,\n",
              " 'xét': 513,\n",
              " 'kbt': 514,\n",
              " 'mó': 515,\n",
              " 'hoàng': 516,\n",
              " 'đỉnh': 517,\n",
              " 'giản': 518,\n",
              " 'hy': 519,\n",
              " 'trung': 520,\n",
              " 'hư': 521,\n",
              " 'thoi': 522,\n",
              " 'mai': 523,\n",
              " 'hưởng': 524,\n",
              " 'thắc': 525,\n",
              " 'đông': 526,\n",
              " 'bong': 527,\n",
              " 'trách': 528,\n",
              " 'ni': 529,\n",
              " 'chủ': 530,\n",
              " 'biet': 531,\n",
              " 'tích': 532,\n",
              " 'trà': 533,\n",
              " 'nắng': 534,\n",
              " 'tác': 535,\n",
              " 'you': 536,\n",
              " 'kb': 537,\n",
              " 'nhá': 538,\n",
              " 'giới': 539,\n",
              " 'tế': 540,\n",
              " 'đãi': 541,\n",
              " 'up': 542,\n",
              " 'vaseline': 543,\n",
              " 'xà': 544,\n",
              " 'bé': 545,\n",
              " 'mẹ': 546,\n",
              " 'tượng': 547,\n",
              " 'góp': 548,\n",
              " 'vãi': 549,\n",
              " 'việt': 550,\n",
              " 'má': 551,\n",
              " 'de': 552,\n",
              " 'auth': 553,\n",
              " 'hăng': 554,\n",
              " 'siu': 555,\n",
              " 'tiết': 556,\n",
              " 'ngon': 557,\n",
              " 'hsd': 558,\n",
              " 'cục': 559,\n",
              " 'xơ': 560,\n",
              " 'năng': 561,\n",
              " 'lẽ': 562,\n",
              " 'bóp': 563,\n",
              " 'tt': 564,\n",
              " 'trai': 565,\n",
              " 'km': 566,\n",
              " '100': 567,\n",
              " 'sua': 568,\n",
              " 'd': 569,\n",
              " 'dậy': 570,\n",
              " 'điện': 571,\n",
              " 'tc': 572,\n",
              " 'dám': 573,\n",
              " 'phí': 574,\n",
              " 'hại': 575,\n",
              " 'khuyên': 576,\n",
              " 'b': 577,\n",
              " 'xốc': 578,\n",
              " 'xog': 579,\n",
              " 'rcm': 580,\n",
              " 'ghim': 581,\n",
              " 'ha': 582,\n",
              " 'okela': 583,\n",
              " 'hồng': 584,\n",
              " 'chữ': 585,\n",
              " 'xử': 586,\n",
              " 'va': 587,\n",
              " 'lầm': 588,\n",
              " 'diu': 589,\n",
              " 'áo': 590,\n",
              " 'trơn': 591,\n",
              " 'chế': 592,\n",
              " 'bthg': 593,\n",
              " 'đựng': 594,\n",
              " 'live': 595,\n",
              " 'ca': 596,\n",
              " 'ngừa': 597,\n",
              " 'nhaa': 598,\n",
              " 'thom': 599,\n",
              " 'nghi': 600,\n",
              " 'thiệu': 601,\n",
              " 'chặt': 602,\n",
              " 'tham': 603,\n",
              " 'nhiệm': 604,\n",
              " 'gọn': 605,\n",
              " 'phát': 606,\n",
              " 'đàng': 607,\n",
              " 'dè': 608,\n",
              " 'lót': 609,\n",
              " 'tức': 610,\n",
              " 'lưỡng': 611,\n",
              " 'kiến': 612,\n",
              " 'hạt': 613,\n",
              " 'trị': 614,\n",
              " 'tùy': 615,\n",
              " 'hssv': 616,\n",
              " 'dịp': 617,\n",
              " 'nấm': 618,\n",
              " 'sách': 619,\n",
              " 'tinh': 620,\n",
              " 'hà': 621,\n",
              " 'dối': 622,\n",
              " 'câu': 623,\n",
              " 'chiều': 624,\n",
              " 'niêm': 625,\n",
              " 'coi': 626,\n",
              " 'đời': 627,\n",
              " 'thiệt': 628,\n",
              " 'lỡ': 629,\n",
              " 'quốc': 630,\n",
              " 'tiếc': 631,\n",
              " 'cung': 632,\n",
              " 'the': 633,\n",
              " 'refreshing': 634,\n",
              " 'chat': 635,\n",
              " 'kho': 636,\n",
              " 'dẻ': 637,\n",
              " 'tạp': 638,\n",
              " 'hướng': 639,\n",
              " '25': 640,\n",
              " 'tr': 641,\n",
              " 'goi': 642,\n",
              " 'ma': 643,\n",
              " 'u': 644,\n",
              " 'đáo': 645,\n",
              " 'thoải': 646,\n",
              " 'mái': 647,\n",
              " 'chuyên': 648,\n",
              " 'bề': 649,\n",
              " 'nội': 650,\n",
              " 'hên': 651,\n",
              " 'trạng': 652,\n",
              " 'thủng': 653,\n",
              " 'đa': 654,\n",
              " 'khả': 655,\n",
              " 'phong': 656,\n",
              " 'khum': 657,\n",
              " 'quanh': 658,\n",
              " 'bữa': 659,\n",
              " 't2': 660,\n",
              " 'nghị': 661,\n",
              " 'trl': 662,\n",
              " 'chúc': 663,\n",
              " 'nhảy': 664,\n",
              " '10đ': 665,\n",
              " 'phụ': 666,\n",
              " 'hoi': 667,\n",
              " 'test': 668,\n",
              " 'thoa': 669,\n",
              " 'chào': 670,\n",
              " 'mừng': 671,\n",
              " 'văn': 672,\n",
              " 'spham': 673,\n",
              " 'th': 674,\n",
              " 'chua': 675,\n",
              " 'gái': 676,\n",
              " 'trưa': 677,\n",
              " 'đống': 678,\n",
              " 'nghiệp': 679,\n",
              " 'bịch': 680,\n",
              " 'khắc': 681,\n",
              " 'bh': 682,\n",
              " 'khủng': 683,\n",
              " 'rút': 684,\n",
              " 'kín': 685,\n",
              " 'thi': 686,\n",
              " 'nhan': 687,\n",
              " 'cộng': 688,\n",
              " 'tn': 689,\n",
              " 'bớt': 690,\n",
              " 'chờ': 691,\n",
              " 'giáo': 692,\n",
              " 'đường': 693,\n",
              " 'mẩn': 694,\n",
              " 'link': 695,\n",
              " 'yếu': 696,\n",
              " 'nen': 697,\n",
              " 'and': 698,\n",
              " 'b5': 699,\n",
              " 'tươi': 700,\n",
              " 'hở': 701,\n",
              " 'hông': 702,\n",
              " 'miệng': 703,\n",
              " 'cskh': 704,\n",
              " 'hụt': 705,\n",
              " 'lượt': 706,\n",
              " 'tết': 707,\n",
              " 'ướt': 708,\n",
              " 'lamf': 709,\n",
              " 'tuýt': 710,\n",
              " 'tử': 711,\n",
              " 'ngta': 712,\n",
              " 'gỡ': 713,\n",
              " 'thuong': 714,\n",
              " 'mưa': 715,\n",
              " 'khỏe': 716,\n",
              " 'khoản': 717,\n",
              " 'ncl': 718,\n",
              " 'mượt': 719,\n",
              " 'kít': 720,\n",
              " 'pham': 721,\n",
              " 'sẵn': 722,\n",
              " 'đôi': 723,\n",
              " 'cửa': 724,\n",
              " 'ban': 725,\n",
              " 'nhaaa': 726,\n",
              " 'hcm': 727,\n",
              " 'đáp': 728,\n",
              " 'o': 729,\n",
              " 'vạch': 730,\n",
              " 'bật': 731,\n",
              " 'kg': 732,\n",
              " 'qc': 733,\n",
              " 'hỗ': 734,\n",
              " 'toán': 735,\n",
              " 'thoảng': 736,\n",
              " 'nam': 737,\n",
              " 'kịp': 738,\n",
              " 'xác': 739,\n",
              " 'xấu': 740,\n",
              " 'chỉnh': 741,\n",
              " 'cá': 742,\n",
              " 'ròi': 743,\n",
              " 'kin': 744,\n",
              " 'vật': 745,\n",
              " 'sắc': 746,\n",
              " 'cãi': 747,\n",
              " 'hội': 748,\n",
              " 'hầu': 749,\n",
              " 'thuốc': 750,\n",
              " 'bay': 751,\n",
              " 'xóc': 752,\n",
              " 'gi': 753,\n",
              " 'khảo': 754,\n",
              " 'cay': 755,\n",
              " 'lô': 756,\n",
              " 'bôi': 757,\n",
              " 'liền': 758,\n",
              " '20': 759,\n",
              " 'thùng': 760,\n",
              " '100k': 761,\n",
              " 'thiết': 762,\n",
              " 'ntt': 763,\n",
              " 'lựa': 764,\n",
              " 'shopp': 765,\n",
              " 'bảng': 766,\n",
              " 'quý': 767,\n",
              " 'lẹ': 768,\n",
              " 'https': 769,\n",
              " 'hk': 770,\n",
              " 'makeup': 771,\n",
              " 'dong': 772,\n",
              " 'ngủ': 773,\n",
              " 'good': 774,\n",
              " 'lẻ': 775,\n",
              " 'phân': 776,\n",
              " 'bìa': 777,\n",
              " 'hn': 778,\n",
              " 'nua': 779,\n",
              " 'nại': 780,\n",
              " 'nhè': 781,\n",
              " 'nứt': 782,\n",
              " 'hả': 783,\n",
              " 'thu': 784,\n",
              " 'trợ': 785,\n",
              " 'ns': 786,\n",
              " 'flash': 787,\n",
              " 'binh': 788,\n",
              " 'nhưg': 789,\n",
              " 'dùg': 790,\n",
              " 'quản': 791,\n",
              " 'trở': 792,\n",
              " 'địa': 793,\n",
              " 'nhu': 794,\n",
              " 'môi': 795,\n",
              " 'sdung': 796,\n",
              " 'bit': 797,\n",
              " 'nhật': 798,\n",
              " 'thik': 799,\n",
              " 'gấp': 800,\n",
              " 'hqua': 801,\n",
              " 'xỉu': 802,\n",
              " 'canh': 803,\n",
              " 'mọc': 804,\n",
              " 'khiếu': 805,\n",
              " 'lắp': 806,\n",
              " 'tổng': 807,\n",
              " 'kiện': 808,\n",
              " 'vòng': 809,\n",
              " 'g': 810,\n",
              " 'dau': 811,\n",
              " 'gboard': 812,\n",
              " 'chép': 813,\n",
              " 'xóa': 814,\n",
              " 'kỉ': 815,\n",
              " 'chấm': 816,\n",
              " 'giặt': 817,\n",
              " 'cận': 818,\n",
              " 'danh': 819,\n",
              " 'lá': 820,\n",
              " 'ôk': 821,\n",
              " 'nchung': 822,\n",
              " 'sachj': 823,\n",
              " 'pro': 824,\n",
              " 'sệt': 825,\n",
              " 'hic': 826,\n",
              " 'nhen': 827,\n",
              " 'sống': 828,\n",
              " 'mĩ': 829,\n",
              " 'đập': 830,\n",
              " 'kiếm': 831,\n",
              " 'l': 832,\n",
              " 'xứng': 833,\n",
              " 'seal': 834,\n",
              " 'thống': 835,\n",
              " 'ruột': 836,\n",
              " 'thẩm': 837,\n",
              " 'sốp': 838,\n",
              " 'hàg': 839,\n",
              " 'xước': 840,\n",
              " 'hẫng': 841,\n",
              " 'mục': 842,\n",
              " 'bây': 843,\n",
              " 'đ': 844,\n",
              " 'shoppee': 845,\n",
              " 'ghé': 846,\n",
              " 'free': 847,\n",
              " 'tam': 848,\n",
              " 'face': 849,\n",
              " 'ti': 850,\n",
              " 'iu': 851,\n",
              " 'oce': 852,\n",
              " 'vía': 853,\n",
              " 'trẻ': 854,\n",
              " 'nch': 855,\n",
              " 'tài': 856,\n",
              " 'tập': 857,\n",
              " 'bổ': 858,\n",
              " 'mun': 859,\n",
              " 'hs': 860,\n",
              " 'nghèo': 861,\n",
              " 'dàng': 862,\n",
              " 'tháo': 863,\n",
              " 'khít': 864,\n",
              " 'mạng': 865,\n",
              " 'thanks': 866,\n",
              " 'góc': 867,\n",
              " 'đk': 868,\n",
              " 'vc': 869,\n",
              " 'nhấn': 870,\n",
              " 'chứng': 871,\n",
              " 'chay': 872,\n",
              " 'bn': 873,\n",
              " 'đóg': 874,\n",
              " 'huỷ': 875,\n",
              " 'long': 876,\n",
              " 'quần': 877,\n",
              " 'bét': 878,\n",
              " 'xoa': 879,\n",
              " 'rơi': 880,\n",
              " 'hẹn': 881,\n",
              " 'đậm': 882,\n",
              " 'vớ': 883,\n",
              " 'rớt': 884,\n",
              " 'cmt': 885,\n",
              " 'ty': 886,\n",
              " 'voi': 887,\n",
              " 'dk': 888,\n",
              " 'kế': 889,\n",
              " 'on': 890,\n",
              " 'lười': 891,\n",
              " 'dùm': 892,\n",
              " 'suy': 893,\n",
              " 'gội': 894,\n",
              " 'chạm': 895,\n",
              " 'of': 896,\n",
              " 'bùn': 897,\n",
              " 'khoáng': 898,\n",
              " 'thoang': 899,\n",
              " 'mê': 900,\n",
              " 'okk': 901,\n",
              " 'okla': 902,\n",
              " 'trộm': 903,\n",
              " 'hop': 904,\n",
              " 'dự': 905,\n",
              " 'vd': 906,\n",
              " 'gắn': 907,\n",
              " 'nhái': 908,\n",
              " 'su': 909,\n",
              " 'trá': 910,\n",
              " 'hoài': 911,\n",
              " 'hồn': 912,\n",
              " 'trog': 913,\n",
              " 'lan': 914,\n",
              " 'vẩn': 915,\n",
              " 'vn': 916,\n",
              " 'loa': 917,\n",
              " 'mũi': 918,\n",
              " 'bắc': 919,\n",
              " 'ah': 920,\n",
              " 'tồi': 921,\n",
              " 'bố': 922,\n",
              " 'miền': 923,\n",
              " 'bù': 924,\n",
              " 'my': 925,\n",
              " 'ánh': 926,\n",
              " 'cỏ': 927,\n",
              " 'đất': 928,\n",
              " 'tiện': 929,\n",
              " 'lương': 930,\n",
              " '14': 931,\n",
              " 'tb': 932,\n",
              " 'quy': 933,\n",
              " '33': 934,\n",
              " 'nhập': 935,\n",
              " 'xuyên': 936,\n",
              " 'châm': 937,\n",
              " 'gòi': 938,\n",
              " 'nm': 939,\n",
              " 'fragrance': 940,\n",
              " 'miễn': 941,\n",
              " 'cổ': 942,\n",
              " 'rv': 943,\n",
              " 'duoc': 944,\n",
              " 'tràm': 945,\n",
              " 'wash': 946,\n",
              " 'benefits': 947,\n",
              " 'ak': 948,\n",
              " '16': 949,\n",
              " '1srm': 950,\n",
              " 'mail': 951,\n",
              " 'kiềm': 952,\n",
              " '1sao': 953,\n",
              " 'khoong': 954,\n",
              " 'xúc': 955,\n",
              " 'f': 956,\n",
              " 'luon': 957,\n",
              " 'đằng': 958,\n",
              " 'cc': 959,\n",
              " 'diệu': 960,\n",
              " 'trò': 961,\n",
              " 'dơ': 962,\n",
              " 'shope': 963,\n",
              " '23': 964,\n",
              " 'dã': 965,\n",
              " 'chục': 966,\n",
              " 'ngang': 967,\n",
              " 'bết': 968,\n",
              " 'bận': 969,\n",
              " 'hh': 970,\n",
              " 'haha': 971,\n",
              " 'chát': 972,\n",
              " 'hasaki': 973,\n",
              " 'chạy': 974,\n",
              " 'gió': 975,\n",
              " 'ảo': 976,\n",
              " 'đen': 977,\n",
              " 'lẫn': 978,\n",
              " 'nhầy': 979,\n",
              " 'cs': 980,\n",
              " 'tiệm': 981,\n",
              " 'mẫn': 982,\n",
              " 'hoang': 983,\n",
              " 'thần': 984,\n",
              " 'di': 985,\n",
              " 'go': 986,\n",
              " 'x2': 987,\n",
              " 'đêm': 988,\n",
              " '80k': 989,\n",
              " 'gắt': 990,\n",
              " 'tg': 991,\n",
              " 'vid': 992,\n",
              " '89k': 993,\n",
              " 'phâ': 994,\n",
              " 'cứu': 995,\n",
              " 'khuẩn': 996,\n",
              " 'kha': 997,\n",
              " 'rạch': 998,\n",
              " 'phiên': 999,\n",
              " 'phúc': 1000,\n",
              " ...}"
            ]
          },
          "metadata": {},
          "execution_count": 164
        }
      ]
    },
    {
      "cell_type": "code",
      "source": [
        "x_train_tokens = tokenizer.texts_to_sequences(x_train_text)"
      ],
      "metadata": {
        "id": "mUw4HjnU7ng7"
      },
      "execution_count": 165,
      "outputs": []
    },
    {
      "cell_type": "code",
      "source": [
        "x_train_text[1]"
      ],
      "metadata": {
        "colab": {
          "base_uri": "https://localhost:8080/",
          "height": 35
        },
        "id": "Fy_rSenk7u-t",
        "outputId": "f318adf2-2276-49a7-bada-11786146ff76"
      },
      "execution_count": 166,
      "outputs": [
        {
          "output_type": "execute_result",
          "data": {
            "text/plain": [
              "'Công dụng sữa rửa mặt Mùi hương da bình chất vỏ nghi ngờ chất'"
            ],
            "application/vnd.google.colaboratory.intrinsic+json": {
              "type": "string"
            }
          },
          "metadata": {},
          "execution_count": 166
        }
      ]
    },
    {
      "cell_type": "code",
      "source": [
        "np.array(x_train_tokens[1])"
      ],
      "metadata": {
        "colab": {
          "base_uri": "https://localhost:8080/"
        },
        "id": "NhA8k40E7y2u",
        "outputId": "fbdcdc46-d712-444c-bd95-3a99fc04f167"
      },
      "execution_count": 167,
      "outputs": [
        {
          "output_type": "execute_result",
          "data": {
            "text/plain": [
              "array([   2,    5, 2730,  533,    1,    1,    6,    4,    8,    7,   16,\n",
              "          3,   15,   12,   40,   41,   42,    2, 2730,  533,  161,   93,\n",
              "         16,   30,   37,   23,   26,   48,   28,  860, 1237,    9])"
            ]
          },
          "metadata": {},
          "execution_count": 167
        }
      ]
    },
    {
      "cell_type": "code",
      "source": [
        "x_test_tokens = tokenizer.texts_to_sequences(x_test_text)"
      ],
      "metadata": {
        "id": "vKIha3EmHAL6"
      },
      "execution_count": 168,
      "outputs": []
    },
    {
      "cell_type": "code",
      "source": [
        "len(x_train_tokens),len(x_test_text)"
      ],
      "metadata": {
        "colab": {
          "base_uri": "https://localhost:8080/"
        },
        "id": "B-XSDGag3VCO",
        "outputId": "046684ec-6799-4b4e-f84e-9636b1963a0b"
      },
      "execution_count": 169,
      "outputs": [
        {
          "output_type": "execute_result",
          "data": {
            "text/plain": [
              "(9015, 2254)"
            ]
          },
          "metadata": {},
          "execution_count": 169
        }
      ]
    },
    {
      "cell_type": "markdown",
      "source": [
        "Padding and Truncating Data"
      ],
      "metadata": {
        "id": "AEMVYyA7HDLW"
      }
    },
    {
      "cell_type": "code",
      "source": [
        "num_tokens = [len(tokens) for tokens in x_train_tokens + x_test_tokens]\n",
        "num_tokens = np.array(num_tokens)"
      ],
      "metadata": {
        "id": "DB6IOP7mHEMu"
      },
      "execution_count": 170,
      "outputs": []
    },
    {
      "cell_type": "markdown",
      "source": [
        "The average number of tokens in a sequence is:"
      ],
      "metadata": {
        "id": "toIK416LHIwt"
      }
    },
    {
      "cell_type": "code",
      "source": [
        "np.mean(num_tokens)"
      ],
      "metadata": {
        "colab": {
          "base_uri": "https://localhost:8080/"
        },
        "id": "ZmCfrsT6HKBi",
        "outputId": "8765a566-3ecb-4dd0-d65e-e7070f5184ec"
      },
      "execution_count": 171,
      "outputs": [
        {
          "output_type": "execute_result",
          "data": {
            "text/plain": [
              "15.639630845682847"
            ]
          },
          "metadata": {},
          "execution_count": 171
        }
      ]
    },
    {
      "cell_type": "markdown",
      "source": [
        "The maximum number of tokens in a sequence is:"
      ],
      "metadata": {
        "id": "6S9V5kNOHSv6"
      }
    },
    {
      "cell_type": "code",
      "source": [
        "np.max(num_tokens)"
      ],
      "metadata": {
        "colab": {
          "base_uri": "https://localhost:8080/"
        },
        "id": "z7HvP6XqHULj",
        "outputId": "d7b7b61b-b95b-451d-92a5-8b7108434929"
      },
      "execution_count": 172,
      "outputs": [
        {
          "output_type": "execute_result",
          "data": {
            "text/plain": [
              "330"
            ]
          },
          "metadata": {},
          "execution_count": 172
        }
      ]
    },
    {
      "cell_type": "markdown",
      "source": [],
      "metadata": {
        "id": "8vYH9104G53J"
      }
    },
    {
      "cell_type": "markdown",
      "source": [
        "Số lượng token tối đa cho phép được đặt ở mức trung bình cộng với 2 độ lệch chuẩn."
      ],
      "metadata": {
        "id": "3xZ-b1SRHWvm"
      }
    },
    {
      "cell_type": "code",
      "source": [
        "max_tokens = np.mean(num_tokens) + 2 * np.std(num_tokens)\n",
        "max_tokens = int(max_tokens)\n",
        "max_tokens"
      ],
      "metadata": {
        "colab": {
          "base_uri": "https://localhost:8080/"
        },
        "id": "lIj5DjZ5HX3q",
        "outputId": "08ff9b86-cb34-48fd-b5df-410d2e1b9d10"
      },
      "execution_count": 173,
      "outputs": [
        {
          "output_type": "execute_result",
          "data": {
            "text/plain": [
              "41"
            ]
          },
          "metadata": {},
          "execution_count": 173
        }
      ]
    },
    {
      "cell_type": "code",
      "source": [
        "This covers about 95% of the data-set."
      ],
      "metadata": {
        "id": "YzCtg2MLHbB_"
      },
      "execution_count": null,
      "outputs": []
    },
    {
      "cell_type": "code",
      "source": [
        "np.sum(num_tokens < max_tokens) / len(num_tokens)"
      ],
      "metadata": {
        "colab": {
          "base_uri": "https://localhost:8080/"
        },
        "id": "VhuhyFl9Hcsv",
        "outputId": "60ed3bc9-6a2a-416a-abff-1a31a7f69594"
      },
      "execution_count": 174,
      "outputs": [
        {
          "output_type": "execute_result",
          "data": {
            "text/plain": [
              "0.9743544236400745"
            ]
          },
          "metadata": {},
          "execution_count": 174
        }
      ]
    },
    {
      "cell_type": "markdown",
      "source": [
        "Khi thêm hoặc cắt các chuỗi có độ dài khác nhau, chúng ta cần quyết định liệu chúng ta muốn thực hiện việc thêm hoặc cắt 'pre' hay 'post'. Nếu một chuỗi bị cắt, điều đó có nghĩa là một phần của chuỗi được loại bỏ. Nếu một chuỗi được thêm, điều đó có nghĩa là các số không được thêm vào chuỗi.\n",
        "\n",
        "Đúng, việc lựa chọn 'pre' hoặc 'post' có thể quan trọng vì nó xác định liệu chúng ta sẽ loại bỏ phần đầu hay phần cuối của một chuỗi khi cắt, và nó xác định liệu chúng ta sẽ thêm các số không vào đầu hoặc cuối của chuỗi khi thêm. Điều này có thể làm rối loạn Recurrent Neural Network."
      ],
      "metadata": {
        "id": "wmiaASejHfIH"
      }
    },
    {
      "cell_type": "code",
      "source": [
        "pad = 'pre'"
      ],
      "metadata": {
        "id": "dPD1WS7HHgWp"
      },
      "execution_count": 175,
      "outputs": []
    },
    {
      "cell_type": "code",
      "source": [
        "x_train_pad = pad_sequences(x_train_tokens, maxlen=max_tokens,\n",
        "                            padding=pad, truncating=pad)"
      ],
      "metadata": {
        "id": "SzGq6gt8HjQR"
      },
      "execution_count": 176,
      "outputs": []
    },
    {
      "cell_type": "code",
      "source": [
        "x_test_pad = pad_sequences(x_test_tokens, maxlen=max_tokens,\n",
        "                           padding=pad, truncating=pad)"
      ],
      "metadata": {
        "id": "3hdPJYqHHlQl"
      },
      "execution_count": 177,
      "outputs": []
    },
    {
      "cell_type": "markdown",
      "source": [
        "Bây giờ chúng ta đã biến đổi tập dữ liệu huấn luyện thành một ma trận lớn chứa các số nguyên (token) có hình dạng:"
      ],
      "metadata": {
        "id": "1lqZ5XeFHnoT"
      }
    },
    {
      "cell_type": "code",
      "source": [
        "x_train_pad.shape"
      ],
      "metadata": {
        "colab": {
          "base_uri": "https://localhost:8080/"
        },
        "id": "TSeUoDWQHoqX",
        "outputId": "ca04f541-1009-4387-970c-846221a449a7"
      },
      "execution_count": 178,
      "outputs": [
        {
          "output_type": "execute_result",
          "data": {
            "text/plain": [
              "(9015, 41)"
            ]
          },
          "metadata": {},
          "execution_count": 178
        }
      ]
    },
    {
      "cell_type": "markdown",
      "source": [
        "The matrix for the test-set has the same shape:"
      ],
      "metadata": {
        "id": "k2bAiqkmHySX"
      }
    },
    {
      "cell_type": "code",
      "source": [
        "x_test_pad.shape\n"
      ],
      "metadata": {
        "colab": {
          "base_uri": "https://localhost:8080/"
        },
        "id": "k7uDxlgIHzzE",
        "outputId": "b7f51e76-c513-4d25-e1c2-435d65cb1abb"
      },
      "execution_count": 179,
      "outputs": [
        {
          "output_type": "execute_result",
          "data": {
            "text/plain": [
              "(2254, 41)"
            ]
          },
          "metadata": {},
          "execution_count": 179
        }
      ]
    },
    {
      "cell_type": "code",
      "source": [
        "np.array(x_train_tokens[1])"
      ],
      "metadata": {
        "colab": {
          "base_uri": "https://localhost:8080/"
        },
        "id": "s0NVi55BH4M2",
        "outputId": "49c65b4b-b669-432d-b331-9f18a268ca9d"
      },
      "execution_count": 180,
      "outputs": [
        {
          "output_type": "execute_result",
          "data": {
            "text/plain": [
              "array([   2,    5, 2730,  533,    1,    1,    6,    4,    8,    7,   16,\n",
              "          3,   15,   12,   40,   41,   42,    2, 2730,  533,  161,   93,\n",
              "         16,   30,   37,   23,   26,   48,   28,  860, 1237,    9])"
            ]
          },
          "metadata": {},
          "execution_count": 180
        }
      ]
    },
    {
      "cell_type": "markdown",
      "source": [
        "\n",
        "Đây đã được đệm đơn giản để tạo ra chuỗi sau. Lưu ý rằng khi đầu vào này được đưa vào Recurrent Neural Network, nó trước tiên đầu vào nhiều số không. Nếu chúng ta đã đệm 'post' thì nó sẽ đầu vào các số nguyên trước và sau đó là nhiều số không. Điều này có thể làm rối loạn Recurrent Neural Network.."
      ],
      "metadata": {
        "id": "LYcWlp2mH9Mj"
      }
    },
    {
      "cell_type": "code",
      "source": [
        "x_train_pad[1]"
      ],
      "metadata": {
        "colab": {
          "base_uri": "https://localhost:8080/"
        },
        "id": "Z7zUgB-4H7K1",
        "outputId": "68a26e94-1de3-4a4c-ff7b-ff41374be426"
      },
      "execution_count": 181,
      "outputs": [
        {
          "output_type": "execute_result",
          "data": {
            "text/plain": [
              "array([   0,    0,    0,    0,    0,    0,    0,    0,    0,    2,    5,\n",
              "       2730,  533,    1,    1,    6,    4,    8,    7,   16,    3,   15,\n",
              "         12,   40,   41,   42,    2, 2730,  533,  161,   93,   16,   30,\n",
              "         37,   23,   26,   48,   28,  860, 1237,    9], dtype=int32)"
            ]
          },
          "metadata": {},
          "execution_count": 181
        }
      ]
    },
    {
      "cell_type": "markdown",
      "source": [
        "##Tokenizer Inverse Map"
      ],
      "metadata": {
        "id": "bec9Gcv_IFdV"
      }
    },
    {
      "cell_type": "code",
      "source": [
        "idx = tokenizer.word_index\n",
        "inverse_map = dict(zip(idx.values(), idx.keys()))"
      ],
      "metadata": {
        "id": "waA4-BZnIHCP"
      },
      "execution_count": 182,
      "outputs": []
    },
    {
      "cell_type": "code",
      "source": [
        "def tokens_to_string(tokens):\n",
        "    # Map from tokens back to words.\n",
        "    words = [inverse_map[token] for token in tokens if token != 0]\n",
        "\n",
        "    # Concatenate all words.\n",
        "    text = \" \".join(words)\n",
        "\n",
        "    return text"
      ],
      "metadata": {
        "id": "ZzTrrw4mIKVL"
      },
      "execution_count": 183,
      "outputs": []
    },
    {
      "cell_type": "code",
      "source": [
        "x_train_text[1]"
      ],
      "metadata": {
        "colab": {
          "base_uri": "https://localhost:8080/",
          "height": 35
        },
        "id": "t2sgs9vGIMHD",
        "outputId": "5a0d2c8e-a316-4868-e1f4-2f782d992d0f"
      },
      "execution_count": 184,
      "outputs": [
        {
          "output_type": "execute_result",
          "data": {
            "text/plain": [
              "'Công dụng sữa rửa mặt Mùi hương da bình chất vỏ nghi ngờ chất'"
            ],
            "application/vnd.google.colaboratory.intrinsic+json": {
              "type": "string"
            }
          },
          "metadata": {},
          "execution_count": 184
        }
      ]
    },
    {
      "cell_type": "code",
      "source": [
        "tokens_to_string(x_train_tokens[1])"
      ],
      "metadata": {
        "colab": {
          "base_uri": "https://localhost:8080/",
          "height": 35
        },
        "id": "fYnF6tb8IOQK",
        "outputId": "29484532-7164-42b7-95d6-b6ee815e0ed6"
      },
      "execution_count": 185,
      "outputs": [
        {
          "output_type": "execute_result",
          "data": {
            "text/plain": [
              "'mùi hương chàm trà da da công dụng rửa mặt sạch hàng đóng gói cẩn thận hơi mùi chàm trà dạng gel sạch ok dịu nhẹ giá phù hợp hs sv mua'"
            ],
            "application/vnd.google.colaboratory.intrinsic+json": {
              "type": "string"
            }
          },
          "metadata": {},
          "execution_count": 185
        }
      ]
    },
    {
      "cell_type": "markdown",
      "source": [
        "##Create the Recurrent Neural Network"
      ],
      "metadata": {
        "id": "5xQM82OeIVGa"
      }
    },
    {
      "cell_type": "code",
      "source": [
        "# Xây dựng mô hình RNN\n",
        "model = Sequential()"
      ],
      "metadata": {
        "id": "aWW87WUvIXES"
      },
      "execution_count": 186,
      "outputs": []
    },
    {
      "cell_type": "code",
      "source": [
        "embedding_size = 8"
      ],
      "metadata": {
        "id": "6Ne5Vo3RIbMT"
      },
      "execution_count": 187,
      "outputs": []
    },
    {
      "cell_type": "markdown",
      "source": [
        "The embedding-layer also needs to know the number of words in the vocabulary (num_words) and the length of the padded token-sequences (max_tokens). We also give this layer a name because we need to retrieve its weights further below."
      ],
      "metadata": {
        "id": "cI9LRq4sIeXp"
      }
    },
    {
      "cell_type": "code",
      "source": [
        "model.add(Embedding(input_dim=num_words,\n",
        "                    output_dim=embedding_size,\n",
        "                    input_length=max_tokens,\n",
        "                    name='layer_embedding'))"
      ],
      "metadata": {
        "id": "JbqNwxq4IcOC"
      },
      "execution_count": 188,
      "outputs": []
    },
    {
      "cell_type": "markdown",
      "source": [
        "We can now add the first Gated Recurrent Unit (GRU) to the network. This will have 16 outputs. Because we will add a second GRU after this one, we need to return sequences of data because the next GRU expects sequences as its input."
      ],
      "metadata": {
        "id": "JlG0DR1IIrwv"
      }
    },
    {
      "cell_type": "code",
      "source": [
        "model.add(GRU(units=16, return_sequences=True))"
      ],
      "metadata": {
        "id": "C4qUF1QqIlLd"
      },
      "execution_count": 189,
      "outputs": []
    },
    {
      "cell_type": "code",
      "source": [
        "model.add(GRU(units=8, return_sequences=True))"
      ],
      "metadata": {
        "id": "hfc12CaYIjuQ"
      },
      "execution_count": 190,
      "outputs": []
    },
    {
      "cell_type": "code",
      "source": [
        "model.add(GRU(units=4))"
      ],
      "metadata": {
        "id": "Qkv2PZJIIwfU"
      },
      "execution_count": 191,
      "outputs": []
    },
    {
      "cell_type": "code",
      "source": [
        "model.add(Dense(3, activation='sigmoid'))"
      ],
      "metadata": {
        "id": "06N8z6Z_IzKt"
      },
      "execution_count": 192,
      "outputs": []
    },
    {
      "cell_type": "code",
      "source": [
        "optimizer = Adam(lr=1e-3)"
      ],
      "metadata": {
        "colab": {
          "base_uri": "https://localhost:8080/"
        },
        "id": "UZwsqlQ9I1no",
        "outputId": "ec683b5d-781e-403c-cc4d-fe6da684bd10"
      },
      "execution_count": 193,
      "outputs": [
        {
          "output_type": "stream",
          "name": "stderr",
          "text": [
            "WARNING:absl:`lr` is deprecated in Keras optimizer, please use `learning_rate` or use the legacy optimizer, e.g.,tf.keras.optimizers.legacy.Adam.\n"
          ]
        }
      ]
    },
    {
      "cell_type": "code",
      "source": [
        "# Biên dịch mô hình\n",
        "model.compile(loss='sparse_categorical_crossentropy',\n",
        "              optimizer=optimizer,\n",
        "              metrics=['accuracy'])"
      ],
      "metadata": {
        "id": "MINajWyeI55i"
      },
      "execution_count": 194,
      "outputs": []
    },
    {
      "cell_type": "code",
      "source": [
        "model.summary()"
      ],
      "metadata": {
        "colab": {
          "base_uri": "https://localhost:8080/"
        },
        "id": "OgY1uH9CI7u0",
        "outputId": "7d5c2491-0e2b-471d-c3e1-c21ce68b3392"
      },
      "execution_count": 195,
      "outputs": [
        {
          "output_type": "stream",
          "name": "stdout",
          "text": [
            "Model: \"sequential_1\"\n",
            "_________________________________________________________________\n",
            " Layer (type)                Output Shape              Param #   \n",
            "=================================================================\n",
            " layer_embedding (Embedding  (None, 41, 8)             80000     \n",
            " )                                                               \n",
            "                                                                 \n",
            " gru_3 (GRU)                 (None, 41, 16)            1248      \n",
            "                                                                 \n",
            " gru_4 (GRU)                 (None, 41, 8)             624       \n",
            "                                                                 \n",
            " gru_5 (GRU)                 (None, 4)                 168       \n",
            "                                                                 \n",
            " dense_1 (Dense)             (None, 3)                 15        \n",
            "                                                                 \n",
            "=================================================================\n",
            "Total params: 82055 (320.53 KB)\n",
            "Trainable params: 82055 (320.53 KB)\n",
            "Non-trainable params: 0 (0.00 Byte)\n",
            "_________________________________________________________________\n"
          ]
        }
      ]
    },
    {
      "cell_type": "markdown",
      "source": [
        "##Train the Recurrent Neural Network\n"
      ],
      "metadata": {
        "id": "qoFtuI5nI-Te"
      }
    },
    {
      "cell_type": "markdown",
      "source": [
        "We can now train the model. Note that we are using the data-set with the paddedsequences. We use 5% of the training-set as a small validation-set, so we have a rough idea whether the model is generalizing well or if it is perhaps over-fitting to the training-set."
      ],
      "metadata": {
        "id": "ssEdgI3NJD7p"
      }
    },
    {
      "cell_type": "code",
      "source": [
        "x_train_pad"
      ],
      "metadata": {
        "colab": {
          "base_uri": "https://localhost:8080/"
        },
        "id": "KA2kOlCw4Clu",
        "outputId": "16adaf56-2353-474c-a3b2-975e1472b2d9"
      },
      "execution_count": 196,
      "outputs": [
        {
          "output_type": "execute_result",
          "data": {
            "text/plain": [
              "array([[   0,    0,    0, ...,   11,  475, 1051],\n",
              "       [   0,    0,    0, ...,  860, 1237,    9],\n",
              "       [   0,    0,    0, ...,   29,   82,   26],\n",
              "       ...,\n",
              "       [   0,    0,    0, ...,   35,   10,    3],\n",
              "       [   0,    0,    0, ...,    8,    7,  162],\n",
              "       [   0,    0,    0, ...,   12,    3,  345]], dtype=int32)"
            ]
          },
          "metadata": {},
          "execution_count": 196
        }
      ]
    },
    {
      "cell_type": "code",
      "source": [
        "y_train"
      ],
      "metadata": {
        "colab": {
          "base_uri": "https://localhost:8080/"
        },
        "id": "Lyhb1DcZ4FOb",
        "outputId": "ec18f726-caf8-49a0-9dd0-6873843523af"
      },
      "execution_count": 197,
      "outputs": [
        {
          "output_type": "execute_result",
          "data": {
            "text/plain": [
              "10685    2\n",
              "8478     2\n",
              "6347     2\n",
              "7376     2\n",
              "11203    2\n",
              "        ..\n",
              "5734     2\n",
              "5191     2\n",
              "5390     2\n",
              "860      0\n",
              "7270     2\n",
              "Name: label_num, Length: 9015, dtype: int64"
            ]
          },
          "metadata": {},
          "execution_count": 197
        }
      ]
    },
    {
      "cell_type": "code",
      "source": [
        "%%time\n",
        "model.fit(x_train_pad, y_train,\n",
        "          validation_split=0.05, epochs=3, batch_size=64)"
      ],
      "metadata": {
        "colab": {
          "base_uri": "https://localhost:8080/"
        },
        "id": "87YUYMi4ERKl",
        "outputId": "2dda25cc-85e3-49ee-81fe-afcae64c7483"
      },
      "execution_count": 198,
      "outputs": [
        {
          "output_type": "stream",
          "name": "stdout",
          "text": [
            "Epoch 1/3\n",
            "134/134 [==============================] - 17s 75ms/step - loss: 0.8836 - accuracy: 0.5975 - val_loss: 0.7285 - val_accuracy: 0.6829\n",
            "Epoch 2/3\n",
            "134/134 [==============================] - 7s 55ms/step - loss: 0.7078 - accuracy: 0.6959 - val_loss: 0.6919 - val_accuracy: 0.6962\n",
            "Epoch 3/3\n",
            "134/134 [==============================] - 9s 67ms/step - loss: 0.6594 - accuracy: 0.7196 - val_loss: 0.6899 - val_accuracy: 0.7029\n",
            "CPU times: user 41.9 s, sys: 1.18 s, total: 43.1 s\n",
            "Wall time: 47.1 s\n"
          ]
        },
        {
          "output_type": "execute_result",
          "data": {
            "text/plain": [
              "<keras.src.callbacks.History at 0x7b65a779d240>"
            ]
          },
          "metadata": {},
          "execution_count": 198
        }
      ]
    },
    {
      "cell_type": "markdown",
      "source": [
        "Performance on Test-Set\n"
      ],
      "metadata": {
        "id": "JpLcMzkoGH1q"
      }
    },
    {
      "cell_type": "code",
      "source": [
        "%%time\n",
        "result = model.evaluate(x_test_pad, y_test)"
      ],
      "metadata": {
        "colab": {
          "base_uri": "https://localhost:8080/"
        },
        "id": "gqkZ7f9dGJ_I",
        "outputId": "c8f145ac-1f13-4c52-9cb3-28af1237834a"
      },
      "execution_count": 199,
      "outputs": [
        {
          "output_type": "stream",
          "name": "stdout",
          "text": [
            "71/71 [==============================] - 1s 12ms/step - loss: 0.6962 - accuracy: 0.7059\n",
            "CPU times: user 1.38 s, sys: 45.6 ms, total: 1.43 s\n",
            "Wall time: 1.35 s\n"
          ]
        }
      ]
    },
    {
      "cell_type": "code",
      "source": [
        "print(\"Accuracy: {0:.2%}\".format(result[1]))"
      ],
      "metadata": {
        "colab": {
          "base_uri": "https://localhost:8080/"
        },
        "id": "DOYSuU6-QqHb",
        "outputId": "392d6096-98e7-44b8-9ca2-4dcaac32bd71"
      },
      "execution_count": 200,
      "outputs": [
        {
          "output_type": "stream",
          "name": "stdout",
          "text": [
            "Accuracy: 70.59%\n"
          ]
        }
      ]
    },
    {
      "cell_type": "markdown",
      "source": [
        "## Example of Mis-Classified Text"
      ],
      "metadata": {
        "id": "8Kto3Upx10b7"
      }
    },
    {
      "cell_type": "code",
      "source": [
        "%%time\n",
        "y_pred = model.predict(x=x_test_pad[0:1000])\n",
        "y_pred = y_pred.T[0]"
      ],
      "metadata": {
        "colab": {
          "base_uri": "https://localhost:8080/"
        },
        "id": "BkoPH8AY11QW",
        "outputId": "9d526d45-7ce5-466e-8139-3b2c4877d2f2"
      },
      "execution_count": 201,
      "outputs": [
        {
          "output_type": "stream",
          "name": "stdout",
          "text": [
            "32/32 [==============================] - 2s 14ms/step\n",
            "CPU times: user 2.01 s, sys: 56.4 ms, total: 2.06 s\n",
            "Wall time: 1.84 s\n"
          ]
        }
      ]
    },
    {
      "cell_type": "code",
      "source": [
        "cls_pred = np.array([1.0 if p>0.5 else 0.0 for p in y_pred])"
      ],
      "metadata": {
        "id": "gt6qEu8015Cw"
      },
      "execution_count": 202,
      "outputs": []
    },
    {
      "cell_type": "code",
      "source": [
        "cls_true = np.array(y_test[0:1000])"
      ],
      "metadata": {
        "id": "QcUnUAd0165O"
      },
      "execution_count": 203,
      "outputs": []
    },
    {
      "cell_type": "code",
      "source": [
        "incorrect = np.where(cls_pred != cls_true)\n",
        "incorrect = incorrect[0]"
      ],
      "metadata": {
        "id": "b9V6GCZg19nb"
      },
      "execution_count": 204,
      "outputs": []
    },
    {
      "cell_type": "code",
      "source": [
        "len(incorrect)"
      ],
      "metadata": {
        "colab": {
          "base_uri": "https://localhost:8080/"
        },
        "id": "GIAO9Osm1_Nl",
        "outputId": "63cb26f7-a770-4388-bd6d-0780fc9f5834"
      },
      "execution_count": 205,
      "outputs": [
        {
          "output_type": "execute_result",
          "data": {
            "text/plain": [
              "844"
            ]
          },
          "metadata": {},
          "execution_count": 205
        }
      ]
    },
    {
      "cell_type": "code",
      "source": [
        "idx = incorrect[0]\n",
        "idx"
      ],
      "metadata": {
        "colab": {
          "base_uri": "https://localhost:8080/"
        },
        "id": "Nl46ucW-2BCm",
        "outputId": "024046df-7b48-4184-e75f-4deb32a2d77d"
      },
      "execution_count": 206,
      "outputs": [
        {
          "output_type": "execute_result",
          "data": {
            "text/plain": [
              "0"
            ]
          },
          "metadata": {},
          "execution_count": 206
        }
      ]
    },
    {
      "cell_type": "code",
      "source": [
        "text = x_test_text[idx]\n",
        "text"
      ],
      "metadata": {
        "colab": {
          "base_uri": "https://localhost:8080/",
          "height": 35
        },
        "id": "BmujuJWM2C9q",
        "outputId": "d5d480db-3864-4b53-91eb-7feba9b2c64b"
      },
      "execution_count": 208,
      "outputs": [
        {
          "output_type": "execute_result",
          "data": {
            "text/plain": [
              "'Công dụng rỬa mặt Mùi hương ổn Kết cấu gel shop giao 1 tuýp lành lặn tuýp băng bó băng dính dở ship k lí j lỗi Đóng gói cẩn thận giao hàng'"
            ],
            "application/vnd.google.colaboratory.intrinsic+json": {
              "type": "string"
            }
          },
          "metadata": {},
          "execution_count": 208
        }
      ]
    },
    {
      "cell_type": "code",
      "source": [
        "y_pred[idx]"
      ],
      "metadata": {
        "colab": {
          "base_uri": "https://localhost:8080/"
        },
        "id": "qJhT3K9k2FoK",
        "outputId": "0123a8bd-7b90-4daa-8c4a-9aa824e971b0"
      },
      "execution_count": 209,
      "outputs": [
        {
          "output_type": "execute_result",
          "data": {
            "text/plain": [
              "0.07762841"
            ]
          },
          "metadata": {},
          "execution_count": 209
        }
      ]
    },
    {
      "cell_type": "code",
      "source": [
        "cls_true[idx]"
      ],
      "metadata": {
        "colab": {
          "base_uri": "https://localhost:8080/"
        },
        "id": "6TyufWsL2HTD",
        "outputId": "ff50ee01-ec93-47ea-d831-d9094d6303de"
      },
      "execution_count": 210,
      "outputs": [
        {
          "output_type": "execute_result",
          "data": {
            "text/plain": [
              "2"
            ]
          },
          "metadata": {},
          "execution_count": 210
        }
      ]
    },
    {
      "cell_type": "markdown",
      "source": [
        "## New Data"
      ],
      "metadata": {
        "id": "kiupxy2W2PMF"
      }
    },
    {
      "cell_type": "code",
      "source": [
        "text1 = \"Sản phẩm rất tuyệt mọi người nên dùng thử\"\n",
        "text2 = \"Sản phẩm tốt\"\n",
        "text3 = \"Tôi thích sản phẩm này\"\n",
        "text4 = \"Bình thường\"\n",
        "text5 = \"Ok\"\n",
        "text6 = \"Sản phẩm không phù hợp\"\n",
        "text7 = \"Sản phẩm tệ, kém chất lượng\"\n",
        "text8 = \"Tôi không thích sản phẩm này, có thể hoàn tiền lại không?\"\n",
        "texts = [text1, text2, text3, text4, text5, text6, text7, text8]"
      ],
      "metadata": {
        "id": "fgRHF_d82SUV"
      },
      "execution_count": 211,
      "outputs": []
    },
    {
      "cell_type": "code",
      "source": [
        "tokens = tokenizer.texts_to_sequences(texts)"
      ],
      "metadata": {
        "id": "jnJmbmsa2vwk"
      },
      "execution_count": 212,
      "outputs": []
    },
    {
      "cell_type": "code",
      "source": [
        "tokens_pad = pad_sequences(tokens, maxlen=max_tokens,\n",
        "                           padding=pad, truncating=pad)\n",
        "tokens_pad.shape"
      ],
      "metadata": {
        "colab": {
          "base_uri": "https://localhost:8080/"
        },
        "id": "ix7ErZp02xdO",
        "outputId": "303d7dd0-fb4a-42d2-8ca5-5bf611bd3273"
      },
      "execution_count": 213,
      "outputs": [
        {
          "output_type": "execute_result",
          "data": {
            "text/plain": [
              "(8, 41)"
            ]
          },
          "metadata": {},
          "execution_count": 213
        }
      ]
    },
    {
      "cell_type": "code",
      "source": [
        "model.predict(tokens_pad)"
      ],
      "metadata": {
        "colab": {
          "base_uri": "https://localhost:8080/"
        },
        "id": "jEOIMCw92zSn",
        "outputId": "fc5e5a11-3296-4d4d-b4fa-a2dcdb27cff5"
      },
      "execution_count": 214,
      "outputs": [
        {
          "output_type": "stream",
          "name": "stdout",
          "text": [
            "1/1 [==============================] - 0s 30ms/step\n"
          ]
        },
        {
          "output_type": "execute_result",
          "data": {
            "text/plain": [
              "array([[0.3572566 , 0.37505978, 0.61133623],\n",
              "       [0.67739993, 0.53568375, 0.38662323],\n",
              "       [0.67739993, 0.53568375, 0.38662323],\n",
              "       [0.7107016 , 0.5587392 , 0.36020443],\n",
              "       [0.5213445 , 0.45893803, 0.50640017],\n",
              "       [0.38822627, 0.3895022 , 0.5887101 ],\n",
              "       [0.81832397, 0.6545948 , 0.26544958],\n",
              "       [0.7526077 , 0.5813435 , 0.31973898]], dtype=float32)"
            ]
          },
          "metadata": {},
          "execution_count": 214
        }
      ]
    },
    {
      "cell_type": "markdown",
      "source": [
        "A value close to 0.0 means a negative sentiment and a value close to 1.0 means a positive sentiment. These numbers will vary every time you train the model."
      ],
      "metadata": {
        "id": "X1XS78MZ26b5"
      }
    },
    {
      "cell_type": "markdown",
      "source": [
        "## Embeddings"
      ],
      "metadata": {
        "id": "BNeH66fV273n"
      }
    },
    {
      "cell_type": "code",
      "source": [
        "layer_embedding = model.get_layer('layer_embedding')"
      ],
      "metadata": {
        "id": "hRpIVQzq2_FA"
      },
      "execution_count": 215,
      "outputs": []
    },
    {
      "cell_type": "code",
      "source": [
        "weights_embedding = layer_embedding.get_weights()[0]"
      ],
      "metadata": {
        "id": "I95oBO6y3RFd"
      },
      "execution_count": 216,
      "outputs": []
    },
    {
      "cell_type": "code",
      "source": [
        "weights_embedding.shape"
      ],
      "metadata": {
        "colab": {
          "base_uri": "https://localhost:8080/"
        },
        "id": "_WmqTNst3TcF",
        "outputId": "257aec56-71a7-4b1b-9b60-5c33e801a7d2"
      },
      "execution_count": 217,
      "outputs": [
        {
          "output_type": "execute_result",
          "data": {
            "text/plain": [
              "(10000, 8)"
            ]
          },
          "metadata": {},
          "execution_count": 217
        }
      ]
    },
    {
      "cell_type": "code",
      "source": [
        "token_good = tokenizer.word_index['đen']\n",
        "token_good"
      ],
      "metadata": {
        "colab": {
          "base_uri": "https://localhost:8080/"
        },
        "id": "bCZEg-573VVR",
        "outputId": "51f46320-d243-4363-8d3e-e5df0205cfdf"
      },
      "execution_count": 220,
      "outputs": [
        {
          "output_type": "execute_result",
          "data": {
            "text/plain": [
              "977"
            ]
          },
          "metadata": {},
          "execution_count": 220
        }
      ]
    },
    {
      "cell_type": "code",
      "source": [
        "token_great = tokenizer.word_index['tuyệt']\n",
        "token_great"
      ],
      "metadata": {
        "colab": {
          "base_uri": "https://localhost:8080/"
        },
        "id": "1pAawXoL3bpf",
        "outputId": "a9f234bd-ac85-4b1b-fd78-684ace8af859"
      },
      "execution_count": 221,
      "outputs": [
        {
          "output_type": "execute_result",
          "data": {
            "text/plain": [
              "198"
            ]
          },
          "metadata": {},
          "execution_count": 221
        }
      ]
    },
    {
      "cell_type": "code",
      "source": [
        "weights_embedding[token_good]"
      ],
      "metadata": {
        "colab": {
          "base_uri": "https://localhost:8080/"
        },
        "id": "OpWBQzr63fs0",
        "outputId": "e0bfd662-449d-4442-a577-af02c95b5627"
      },
      "execution_count": 222,
      "outputs": [
        {
          "output_type": "execute_result",
          "data": {
            "text/plain": [
              "array([-0.02548719,  0.07295464, -0.00817317,  0.006568  , -0.0525652 ,\n",
              "       -0.01049997,  0.02546997,  0.01300524], dtype=float32)"
            ]
          },
          "metadata": {},
          "execution_count": 222
        }
      ]
    },
    {
      "cell_type": "code",
      "source": [
        "weights_embedding[token_great]"
      ],
      "metadata": {
        "colab": {
          "base_uri": "https://localhost:8080/"
        },
        "id": "gEyL938O3hf5",
        "outputId": "96677f90-40d8-448e-bcdd-884783418d8f"
      },
      "execution_count": 223,
      "outputs": [
        {
          "output_type": "execute_result",
          "data": {
            "text/plain": [
              "array([ 0.09398428, -0.09341595,  0.06482931,  0.10904122,  0.11051554,\n",
              "       -0.08921243, -0.12165135,  0.0374115 ], dtype=float32)"
            ]
          },
          "metadata": {},
          "execution_count": 223
        }
      ]
    },
    {
      "cell_type": "code",
      "source": [
        "token_bad = tokenizer.word_index['dở']\n",
        "token_horrible = tokenizer.word_index['tệ']"
      ],
      "metadata": {
        "id": "-zSvSHlu3j9e"
      },
      "execution_count": 224,
      "outputs": []
    },
    {
      "cell_type": "code",
      "source": [
        "weights_embedding[token_bad]"
      ],
      "metadata": {
        "colab": {
          "base_uri": "https://localhost:8080/"
        },
        "id": "9ggIb5kN3pGB",
        "outputId": "afab698d-9731-473e-b3ca-d2418bdddc16"
      },
      "execution_count": 225,
      "outputs": [
        {
          "output_type": "execute_result",
          "data": {
            "text/plain": [
              "array([-0.04146627,  0.00821352, -0.00787958,  0.0059235 , -0.00848396,\n",
              "        0.04816312,  0.02925163, -0.02375223], dtype=float32)"
            ]
          },
          "metadata": {},
          "execution_count": 225
        }
      ]
    },
    {
      "cell_type": "code",
      "source": [
        "weights_embedding[token_horrible]"
      ],
      "metadata": {
        "colab": {
          "base_uri": "https://localhost:8080/"
        },
        "id": "zqFTr8Oe3qiT",
        "outputId": "d988ce01-567e-463f-b535-bf0f4ac3c356"
      },
      "execution_count": 226,
      "outputs": [
        {
          "output_type": "execute_result",
          "data": {
            "text/plain": [
              "array([-0.22619545,  0.21742421, -0.19613096, -0.21240307, -0.18031938,\n",
              "        0.15783028,  0.14542834, -0.17860447], dtype=float32)"
            ]
          },
          "metadata": {},
          "execution_count": 226
        }
      ]
    },
    {
      "cell_type": "markdown",
      "source": [
        "## Sorted Words\n",
        "We can also sort all the words in the vocabulary according to their \"similarity\" in the embedding-space. We want to see if words that have similar embedding-vectors also have similar meanings.\n",
        "\n",
        "Similarity of embedding-vectors can be measured by different metrics, e.g. Euclidean distance or cosine distance.\n",
        "\n",
        "We have a helper-function for calculating these distances and printing the words in sorted order."
      ],
      "metadata": {
        "id": "frN60uCk3wyN"
      }
    },
    {
      "cell_type": "code",
      "source": [
        "def print_sorted_words(word, metric='cosine'):\n",
        "\n",
        "    # Get the token (i.e. integer ID) for the given word.\n",
        "    token = tokenizer.word_index[word]\n",
        "\n",
        "    # Get the embedding for the given word. Note that the\n",
        "    # embedding-weight-matrix is indexed by the word-tokens\n",
        "    # which are integer IDs.\n",
        "    embedding = weights_embedding[token]\n",
        "\n",
        "    # Calculate the distance between the embeddings for\n",
        "    # this word and all other words in the vocabulary.\n",
        "    distances = cdist(weights_embedding, [embedding],\n",
        "                      metric=metric).T[0]\n",
        "\n",
        "    # Get an index sorted according to the embedding-distances.\n",
        "    # These are the tokens (integer IDs) for words in the vocabulary.\n",
        "    sorted_index = np.argsort(distances)\n",
        "\n",
        "    # Sort the embedding-distances.\n",
        "    sorted_distances = distances[sorted_index]\n",
        "\n",
        "    # Sort all the words in the vocabulary according to their\n",
        "    # embedding-distance. This is a bit excessive because we\n",
        "    # will only print the top and bottom words.\n",
        "    sorted_words = [inverse_map[token] for token in sorted_index\n",
        "                    if token != 0]\n",
        "\n",
        "    # Helper-function for printing words and embedding-distances.\n",
        "    def _print_words(words, distances):\n",
        "        for word, distance in zip(words, distances):\n",
        "            print(\"{0:.3f} - {1}\".format(distance, word))\n",
        "\n",
        "    # Number of words to print from the top and bottom of the list.\n",
        "    k = 10\n",
        "\n",
        "    print(\"Distance from '{0}':\".format(word))\n",
        "\n",
        "    # Print the words with smallest embedding-distance.\n",
        "    _print_words(sorted_words[0:k], sorted_distances[0:k])\n",
        "\n",
        "    print(\"...\")\n",
        "\n",
        "    # Print the words with highest embedding-distance.\n",
        "    _print_words(sorted_words[-k:], sorted_distances[-k:])"
      ],
      "metadata": {
        "id": "uom1duZI31kD"
      },
      "execution_count": 227,
      "outputs": []
    },
    {
      "cell_type": "code",
      "source": [
        "print_sorted_words('đen', metric='cosine')"
      ],
      "metadata": {
        "colab": {
          "base_uri": "https://localhost:8080/",
          "height": 408
        },
        "id": "fiIpJgGV36yw",
        "outputId": "73c45af2-7239-4bb3-9459-a54dd9a9b7af"
      },
      "execution_count": 232,
      "outputs": [
        {
          "output_type": "error",
          "ename": "KeyError",
          "evalue": "8694",
          "traceback": [
            "\u001b[0;31m---------------------------------------------------------------------------\u001b[0m",
            "\u001b[0;31mKeyError\u001b[0m                                  Traceback (most recent call last)",
            "\u001b[0;32m<ipython-input-232-b9e27f6d3985>\u001b[0m in \u001b[0;36m<cell line: 1>\u001b[0;34m()\u001b[0m\n\u001b[0;32m----> 1\u001b[0;31m \u001b[0mprint_sorted_words\u001b[0m\u001b[0;34m(\u001b[0m\u001b[0;34m'đen'\u001b[0m\u001b[0;34m,\u001b[0m \u001b[0mmetric\u001b[0m\u001b[0;34m=\u001b[0m\u001b[0;34m'cosine'\u001b[0m\u001b[0;34m)\u001b[0m\u001b[0;34m\u001b[0m\u001b[0;34m\u001b[0m\u001b[0m\n\u001b[0m",
            "\u001b[0;32m<ipython-input-227-898317793dae>\u001b[0m in \u001b[0;36mprint_sorted_words\u001b[0;34m(word, metric)\u001b[0m\n\u001b[1;32m     24\u001b[0m     \u001b[0;31m# embedding-distance. This is a bit excessive because we\u001b[0m\u001b[0;34m\u001b[0m\u001b[0;34m\u001b[0m\u001b[0m\n\u001b[1;32m     25\u001b[0m     \u001b[0;31m# will only print the top and bottom words.\u001b[0m\u001b[0;34m\u001b[0m\u001b[0;34m\u001b[0m\u001b[0m\n\u001b[0;32m---> 26\u001b[0;31m     sorted_words = [inverse_map[token] for token in sorted_index\n\u001b[0m\u001b[1;32m     27\u001b[0m                     if token != 0]\n\u001b[1;32m     28\u001b[0m \u001b[0;34m\u001b[0m\u001b[0m\n",
            "\u001b[0;32m<ipython-input-227-898317793dae>\u001b[0m in \u001b[0;36m<listcomp>\u001b[0;34m(.0)\u001b[0m\n\u001b[1;32m     24\u001b[0m     \u001b[0;31m# embedding-distance. This is a bit excessive because we\u001b[0m\u001b[0;34m\u001b[0m\u001b[0;34m\u001b[0m\u001b[0m\n\u001b[1;32m     25\u001b[0m     \u001b[0;31m# will only print the top and bottom words.\u001b[0m\u001b[0;34m\u001b[0m\u001b[0;34m\u001b[0m\u001b[0m\n\u001b[0;32m---> 26\u001b[0;31m     sorted_words = [inverse_map[token] for token in sorted_index\n\u001b[0m\u001b[1;32m     27\u001b[0m                     if token != 0]\n\u001b[1;32m     28\u001b[0m \u001b[0;34m\u001b[0m\u001b[0m\n",
            "\u001b[0;31mKeyError\u001b[0m: 8694"
          ]
        }
      ]
    },
    {
      "cell_type": "code",
      "source": [
        "print_sorted_words('dở', metric='cosine')"
      ],
      "metadata": {
        "colab": {
          "base_uri": "https://localhost:8080/",
          "height": 287
        },
        "id": "BRZcXIUl4U5t",
        "outputId": "49cb2a85-714c-4724-d1ed-84e55ed6a8f5"
      },
      "execution_count": 230,
      "outputs": [
        {
          "output_type": "error",
          "ename": "KeyError",
          "evalue": "6805",
          "traceback": [
            "\u001b[0;31m---------------------------------------------------------------------------\u001b[0m",
            "\u001b[0;31mKeyError\u001b[0m                                  Traceback (most recent call last)",
            "\u001b[0;32m<ipython-input-230-f81daafcad58>\u001b[0m in \u001b[0;36m<cell line: 1>\u001b[0;34m()\u001b[0m\n\u001b[0;32m----> 1\u001b[0;31m \u001b[0mprint_sorted_words\u001b[0m\u001b[0;34m(\u001b[0m\u001b[0;34m'dở'\u001b[0m\u001b[0;34m,\u001b[0m \u001b[0mmetric\u001b[0m\u001b[0;34m=\u001b[0m\u001b[0;34m'cosine'\u001b[0m\u001b[0;34m)\u001b[0m\u001b[0;34m\u001b[0m\u001b[0;34m\u001b[0m\u001b[0m\n\u001b[0m",
            "\u001b[0;32m<ipython-input-227-898317793dae>\u001b[0m in \u001b[0;36mprint_sorted_words\u001b[0;34m(word, metric)\u001b[0m\n\u001b[1;32m     24\u001b[0m     \u001b[0;31m# embedding-distance. This is a bit excessive because we\u001b[0m\u001b[0;34m\u001b[0m\u001b[0;34m\u001b[0m\u001b[0m\n\u001b[1;32m     25\u001b[0m     \u001b[0;31m# will only print the top and bottom words.\u001b[0m\u001b[0;34m\u001b[0m\u001b[0;34m\u001b[0m\u001b[0m\n\u001b[0;32m---> 26\u001b[0;31m     sorted_words = [inverse_map[token] for token in sorted_index\n\u001b[0m\u001b[1;32m     27\u001b[0m                     if token != 0]\n\u001b[1;32m     28\u001b[0m \u001b[0;34m\u001b[0m\u001b[0m\n",
            "\u001b[0;32m<ipython-input-227-898317793dae>\u001b[0m in \u001b[0;36m<listcomp>\u001b[0;34m(.0)\u001b[0m\n\u001b[1;32m     24\u001b[0m     \u001b[0;31m# embedding-distance. This is a bit excessive because we\u001b[0m\u001b[0;34m\u001b[0m\u001b[0;34m\u001b[0m\u001b[0m\n\u001b[1;32m     25\u001b[0m     \u001b[0;31m# will only print the top and bottom words.\u001b[0m\u001b[0;34m\u001b[0m\u001b[0;34m\u001b[0m\u001b[0m\n\u001b[0;32m---> 26\u001b[0;31m     sorted_words = [inverse_map[token] for token in sorted_index\n\u001b[0m\u001b[1;32m     27\u001b[0m                     if token != 0]\n\u001b[1;32m     28\u001b[0m \u001b[0;34m\u001b[0m\u001b[0m\n",
            "\u001b[0;31mKeyError\u001b[0m: 6805"
          ]
        }
      ]
    },
    {
      "cell_type": "markdown",
      "source": [
        "# Long short-term memory"
      ],
      "metadata": {
        "id": "04vorKg3MYUi"
      }
    },
    {
      "cell_type": "code",
      "source": [
        "from tensorflow.keras.layers import Input,Dense,LSTM,Reshape\n",
        "from tensorflow.keras.models import Model\n",
        "from tensorflow.keras.optimizers import Adam\n",
        "\n",
        "def create_lstm_model():\n",
        "    input_layer = Input(shape=(500,))\n",
        "\n",
        "    layer = Reshape((10, 50))(input_layer)\n",
        "    layer = LSTM(128, activation='relu')(layer)\n",
        "    layer = Dense(64, activation='relu')(layer)\n",
        "\n",
        "\n",
        "    output_layer = Dense(3, activation='softmax')(layer)\n",
        "\n",
        "    classifier = Model(input_layer, output_layer)\n",
        "\n",
        "    classifier.compile(optimizer=Adam(1e-3), loss='sparse_categorical_crossentropy', metrics=['accuracy'])\n",
        "\n",
        "    return classifier"
      ],
      "metadata": {
        "id": "BNjUZ6Ieufo8"
      },
      "execution_count": 237,
      "outputs": []
    },
    {
      "cell_type": "code",
      "source": [
        "classifier = create_lstm_model()\n",
        "classifier.summary()"
      ],
      "metadata": {
        "colab": {
          "base_uri": "https://localhost:8080/"
        },
        "id": "ip0g1Q8aupiO",
        "outputId": "ee8d09ca-830a-4fd2-bfd5-c9bed4898709"
      },
      "execution_count": 238,
      "outputs": [
        {
          "output_type": "stream",
          "name": "stdout",
          "text": [
            "Model: \"model_1\"\n",
            "_________________________________________________________________\n",
            " Layer (type)                Output Shape              Param #   \n",
            "=================================================================\n",
            " input_2 (InputLayer)        [(None, 500)]             0         \n",
            "                                                                 \n",
            " reshape_1 (Reshape)         (None, 10, 50)            0         \n",
            "                                                                 \n",
            " lstm_1 (LSTM)               (None, 128)               91648     \n",
            "                                                                 \n",
            " dense_4 (Dense)             (None, 64)                8256      \n",
            "                                                                 \n",
            " dense_5 (Dense)             (None, 3)                 195       \n",
            "                                                                 \n",
            "=================================================================\n",
            "Total params: 100099 (391.01 KB)\n",
            "Trainable params: 100099 (391.01 KB)\n",
            "Non-trainable params: 0 (0.00 Byte)\n",
            "_________________________________________________________________\n"
          ]
        }
      ]
    },
    {
      "cell_type": "code",
      "source": [
        "classifier = create_lstm_model()\n",
        "\n",
        "train_model_nn(classifier=classifier, X_data=X_train_tfidf_svd, y_data=y_train_n, X_test=X_test_tfidf_svd, y_test=y_test_n, n_epochs=30)"
      ],
      "metadata": {
        "colab": {
          "base_uri": "https://localhost:8080/",
          "height": 176
        },
        "id": "I8Aeg_aAutlO",
        "outputId": "dc3e6de2-2fce-4ecd-e3d3-82271b09c970"
      },
      "execution_count": 239,
      "outputs": [
        {
          "output_type": "error",
          "ename": "NameError",
          "evalue": "name 'train_model_nn' is not defined",
          "traceback": [
            "\u001b[0;31m---------------------------------------------------------------------------\u001b[0m",
            "\u001b[0;31mNameError\u001b[0m                                 Traceback (most recent call last)",
            "\u001b[0;32m<ipython-input-239-3dccd79dd542>\u001b[0m in \u001b[0;36m<cell line: 3>\u001b[0;34m()\u001b[0m\n\u001b[1;32m      1\u001b[0m \u001b[0mclassifier\u001b[0m \u001b[0;34m=\u001b[0m \u001b[0mcreate_lstm_model\u001b[0m\u001b[0;34m(\u001b[0m\u001b[0;34m)\u001b[0m\u001b[0;34m\u001b[0m\u001b[0;34m\u001b[0m\u001b[0m\n\u001b[1;32m      2\u001b[0m \u001b[0;34m\u001b[0m\u001b[0m\n\u001b[0;32m----> 3\u001b[0;31m \u001b[0mtrain_model_nn\u001b[0m\u001b[0;34m(\u001b[0m\u001b[0mclassifier\u001b[0m\u001b[0;34m=\u001b[0m\u001b[0mclassifier\u001b[0m\u001b[0;34m,\u001b[0m \u001b[0mX_data\u001b[0m\u001b[0;34m=\u001b[0m\u001b[0mX_train_tfidf_svd\u001b[0m\u001b[0;34m,\u001b[0m \u001b[0my_data\u001b[0m\u001b[0;34m=\u001b[0m\u001b[0my_train_n\u001b[0m\u001b[0;34m,\u001b[0m \u001b[0mX_test\u001b[0m\u001b[0;34m=\u001b[0m\u001b[0mX_test_tfidf_svd\u001b[0m\u001b[0;34m,\u001b[0m \u001b[0my_test\u001b[0m\u001b[0;34m=\u001b[0m\u001b[0my_test_n\u001b[0m\u001b[0;34m,\u001b[0m \u001b[0mn_epochs\u001b[0m\u001b[0;34m=\u001b[0m\u001b[0;36m30\u001b[0m\u001b[0;34m)\u001b[0m\u001b[0;34m\u001b[0m\u001b[0;34m\u001b[0m\u001b[0m\n\u001b[0m",
            "\u001b[0;31mNameError\u001b[0m: name 'train_model_nn' is not defined"
          ]
        }
      ]
    }
  ]
}