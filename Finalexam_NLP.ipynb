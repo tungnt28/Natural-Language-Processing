{
  "nbformat": 4,
  "nbformat_minor": 0,
  "metadata": {
    "colab": {
      "provenance": [],
      "toc_visible": true,
      "include_colab_link": true
    },
    "kernelspec": {
      "name": "python3",
      "display_name": "Python 3"
    },
    "language_info": {
      "name": "python"
    }
  },
  "cells": [
    {
      "cell_type": "markdown",
      "metadata": {
        "id": "view-in-github",
        "colab_type": "text"
      },
      "source": [
        "<a href=\"https://colab.research.google.com/github/tungnt28/Natural-Language-Processing/blob/main/Finalexam_NLP.ipynb\" target=\"_parent\"><img src=\"https://colab.research.google.com/assets/colab-badge.svg\" alt=\"Open In Colab\"/></a>"
      ]
    },
    {
      "cell_type": "markdown",
      "source": [
        "# Data preparation"
      ],
      "metadata": {
        "id": "1MchDCxanzYU"
      }
    },
    {
      "cell_type": "markdown",
      "source": [
        "## Get comment data from Shopee"
      ],
      "metadata": {
        "id": "v0pEP1udHrl7"
      }
    },
    {
      "cell_type": "code",
      "source": [
        "import re\n",
        "import json\n",
        "import requests\n",
        "import pandas as pd\n",
        "\n",
        "def get_cmt_from_shopee_url(url):\n",
        "\n",
        "    r = re.search(r\"i\\.(\\d+)\\.(\\d+)\", url)\n",
        "    shop_id, item_id = r[1], r[2]\n",
        "    ratings_url = \"https://shopee.vn/api/v2/item/get_ratings?filter=0&flag=1&itemid={item_id}&limit=50&offset={offset}&shopid={shop_id}&type={rating}\"\n",
        "\n",
        "    # d = {\"username\": [], \"rating\": [], \"comment\": []}\n",
        "    d = {\"comment\": [], \"rating\": []}\n",
        "\n",
        "    for rate in range(1, 6):\n",
        "        offset = 0\n",
        "        while True:\n",
        "            try:\n",
        "              data = requests.get(ratings_url.format(shop_id=shop_id, item_id=item_id, offset=offset, rating = rate)).json()\n",
        "\n",
        "              i = 1\n",
        "              for i, rating in enumerate(data[\"data\"][\"ratings\"], 1):\n",
        "                  d[\"rating\"].append(rating[\"rating_star\"])\n",
        "                  d[\"comment\"].append(rating[\"comment\"])\n",
        "\n",
        "                  # print(rating[\"rating_star\"])\n",
        "                  # print(rating[\"comment\"])\n",
        "                  # print(\"-\" * 100)\n",
        "\n",
        "              offset += 50\n",
        "            except TypeError:\n",
        "              break\n",
        "    return d"
      ],
      "metadata": {
        "id": "e6kIYl9IHygB"
      },
      "execution_count": 5,
      "outputs": []
    },
    {
      "cell_type": "code",
      "source": [
        "url = \"https://shopee.vn/S%E1%BB%AFa-r%E1%BB%ADa-m%E1%BA%B7t-Simple-l%C3%A0nh-t%C3%ADnh-s%E1%BA%A1ch-tho%C3%A1ng-cho-da-nh%E1%BA%A1y-c%E1%BA%A3m-150ml-CH%C3%8DNH-H%C3%83NG-%C4%90%E1%BB%98C-QUY%E1%BB%80N-DI%E1%BB%86N-M%E1%BA%A0O-M%E1%BB%9AI--i.111138057.8587034871\"\n",
        "df = pd.DataFrame(get_cmt_from_shopee_url(url))\n",
        "df"
      ],
      "metadata": {
        "id": "LEPe2YZiISzu",
        "colab": {
          "base_uri": "https://localhost:8080/",
          "height": 424
        },
        "outputId": "45f509e2-90fb-41af-9f96-620b82488ea9"
      },
      "execution_count": 6,
      "outputs": [
        {
          "output_type": "execute_result",
          "data": {
            "text/plain": [
              "                                                 comment  rating\n",
              "0      Công dụng:rỬa mặt\\nMùi hương:ổn\\nKết cấu:gel\\n...       1\n",
              "1      Công dụng:sữa rửa mặt\\nMùi hương:chưa biết\\nDà...       1\n",
              "2      Dành cho da:lhuf hợp với mọi loại da\\nCông dụn...       1\n",
              "3      Công dụng:Rửa mặt\\nMùi hương:Gần như không có\\...       1\n",
              "4      Công dụng:làm sạch\\nMùi hương:không biết\\nDành...       1\n",
              "...                                                  ...     ...\n",
              "11264  Công dụng:làm sạch bề da mặt\\nMùi hương:không ...       5\n",
              "11265  Công dụng:lamf sạch da\\nMùi hương:thơm dịu\\nDà...       5\n",
              "11266  Nhận hàng, cảm nhận quá tuyệt vời luôn ạ! Shop...       5\n",
              "11267  Dành cho da:nhạy cảm\\nMùi hương:nhẹ\\nCông dụng...       5\n",
              "11268  Công dụng:rỬa mặt\\nMùi hương:tHơm\\nDành cho da...       5\n",
              "\n",
              "[11269 rows x 2 columns]"
            ],
            "text/html": [
              "\n",
              "  <div id=\"df-04c18285-e0dc-4727-b61a-1aa8aa076c22\" class=\"colab-df-container\">\n",
              "    <div>\n",
              "<style scoped>\n",
              "    .dataframe tbody tr th:only-of-type {\n",
              "        vertical-align: middle;\n",
              "    }\n",
              "\n",
              "    .dataframe tbody tr th {\n",
              "        vertical-align: top;\n",
              "    }\n",
              "\n",
              "    .dataframe thead th {\n",
              "        text-align: right;\n",
              "    }\n",
              "</style>\n",
              "<table border=\"1\" class=\"dataframe\">\n",
              "  <thead>\n",
              "    <tr style=\"text-align: right;\">\n",
              "      <th></th>\n",
              "      <th>comment</th>\n",
              "      <th>rating</th>\n",
              "    </tr>\n",
              "  </thead>\n",
              "  <tbody>\n",
              "    <tr>\n",
              "      <th>0</th>\n",
              "      <td>Công dụng:rỬa mặt\\nMùi hương:ổn\\nKết cấu:gel\\n...</td>\n",
              "      <td>1</td>\n",
              "    </tr>\n",
              "    <tr>\n",
              "      <th>1</th>\n",
              "      <td>Công dụng:sữa rửa mặt\\nMùi hương:chưa biết\\nDà...</td>\n",
              "      <td>1</td>\n",
              "    </tr>\n",
              "    <tr>\n",
              "      <th>2</th>\n",
              "      <td>Dành cho da:lhuf hợp với mọi loại da\\nCông dụn...</td>\n",
              "      <td>1</td>\n",
              "    </tr>\n",
              "    <tr>\n",
              "      <th>3</th>\n",
              "      <td>Công dụng:Rửa mặt\\nMùi hương:Gần như không có\\...</td>\n",
              "      <td>1</td>\n",
              "    </tr>\n",
              "    <tr>\n",
              "      <th>4</th>\n",
              "      <td>Công dụng:làm sạch\\nMùi hương:không biết\\nDành...</td>\n",
              "      <td>1</td>\n",
              "    </tr>\n",
              "    <tr>\n",
              "      <th>...</th>\n",
              "      <td>...</td>\n",
              "      <td>...</td>\n",
              "    </tr>\n",
              "    <tr>\n",
              "      <th>11264</th>\n",
              "      <td>Công dụng:làm sạch bề da mặt\\nMùi hương:không ...</td>\n",
              "      <td>5</td>\n",
              "    </tr>\n",
              "    <tr>\n",
              "      <th>11265</th>\n",
              "      <td>Công dụng:lamf sạch da\\nMùi hương:thơm dịu\\nDà...</td>\n",
              "      <td>5</td>\n",
              "    </tr>\n",
              "    <tr>\n",
              "      <th>11266</th>\n",
              "      <td>Nhận hàng, cảm nhận quá tuyệt vời luôn ạ! Shop...</td>\n",
              "      <td>5</td>\n",
              "    </tr>\n",
              "    <tr>\n",
              "      <th>11267</th>\n",
              "      <td>Dành cho da:nhạy cảm\\nMùi hương:nhẹ\\nCông dụng...</td>\n",
              "      <td>5</td>\n",
              "    </tr>\n",
              "    <tr>\n",
              "      <th>11268</th>\n",
              "      <td>Công dụng:rỬa mặt\\nMùi hương:tHơm\\nDành cho da...</td>\n",
              "      <td>5</td>\n",
              "    </tr>\n",
              "  </tbody>\n",
              "</table>\n",
              "<p>11269 rows × 2 columns</p>\n",
              "</div>\n",
              "    <div class=\"colab-df-buttons\">\n",
              "\n",
              "  <div class=\"colab-df-container\">\n",
              "    <button class=\"colab-df-convert\" onclick=\"convertToInteractive('df-04c18285-e0dc-4727-b61a-1aa8aa076c22')\"\n",
              "            title=\"Convert this dataframe to an interactive table.\"\n",
              "            style=\"display:none;\">\n",
              "\n",
              "  <svg xmlns=\"http://www.w3.org/2000/svg\" height=\"24px\" viewBox=\"0 -960 960 960\">\n",
              "    <path d=\"M120-120v-720h720v720H120Zm60-500h600v-160H180v160Zm220 220h160v-160H400v160Zm0 220h160v-160H400v160ZM180-400h160v-160H180v160Zm440 0h160v-160H620v160ZM180-180h160v-160H180v160Zm440 0h160v-160H620v160Z\"/>\n",
              "  </svg>\n",
              "    </button>\n",
              "\n",
              "  <style>\n",
              "    .colab-df-container {\n",
              "      display:flex;\n",
              "      gap: 12px;\n",
              "    }\n",
              "\n",
              "    .colab-df-convert {\n",
              "      background-color: #E8F0FE;\n",
              "      border: none;\n",
              "      border-radius: 50%;\n",
              "      cursor: pointer;\n",
              "      display: none;\n",
              "      fill: #1967D2;\n",
              "      height: 32px;\n",
              "      padding: 0 0 0 0;\n",
              "      width: 32px;\n",
              "    }\n",
              "\n",
              "    .colab-df-convert:hover {\n",
              "      background-color: #E2EBFA;\n",
              "      box-shadow: 0px 1px 2px rgba(60, 64, 67, 0.3), 0px 1px 3px 1px rgba(60, 64, 67, 0.15);\n",
              "      fill: #174EA6;\n",
              "    }\n",
              "\n",
              "    .colab-df-buttons div {\n",
              "      margin-bottom: 4px;\n",
              "    }\n",
              "\n",
              "    [theme=dark] .colab-df-convert {\n",
              "      background-color: #3B4455;\n",
              "      fill: #D2E3FC;\n",
              "    }\n",
              "\n",
              "    [theme=dark] .colab-df-convert:hover {\n",
              "      background-color: #434B5C;\n",
              "      box-shadow: 0px 1px 3px 1px rgba(0, 0, 0, 0.15);\n",
              "      filter: drop-shadow(0px 1px 2px rgba(0, 0, 0, 0.3));\n",
              "      fill: #FFFFFF;\n",
              "    }\n",
              "  </style>\n",
              "\n",
              "    <script>\n",
              "      const buttonEl =\n",
              "        document.querySelector('#df-04c18285-e0dc-4727-b61a-1aa8aa076c22 button.colab-df-convert');\n",
              "      buttonEl.style.display =\n",
              "        google.colab.kernel.accessAllowed ? 'block' : 'none';\n",
              "\n",
              "      async function convertToInteractive(key) {\n",
              "        const element = document.querySelector('#df-04c18285-e0dc-4727-b61a-1aa8aa076c22');\n",
              "        const dataTable =\n",
              "          await google.colab.kernel.invokeFunction('convertToInteractive',\n",
              "                                                    [key], {});\n",
              "        if (!dataTable) return;\n",
              "\n",
              "        const docLinkHtml = 'Like what you see? Visit the ' +\n",
              "          '<a target=\"_blank\" href=https://colab.research.google.com/notebooks/data_table.ipynb>data table notebook</a>'\n",
              "          + ' to learn more about interactive tables.';\n",
              "        element.innerHTML = '';\n",
              "        dataTable['output_type'] = 'display_data';\n",
              "        await google.colab.output.renderOutput(dataTable, element);\n",
              "        const docLink = document.createElement('div');\n",
              "        docLink.innerHTML = docLinkHtml;\n",
              "        element.appendChild(docLink);\n",
              "      }\n",
              "    </script>\n",
              "  </div>\n",
              "\n",
              "\n",
              "<div id=\"df-80e0d80d-f680-4a04-a603-8885afd4f1d7\">\n",
              "  <button class=\"colab-df-quickchart\" onclick=\"quickchart('df-80e0d80d-f680-4a04-a603-8885afd4f1d7')\"\n",
              "            title=\"Suggest charts\"\n",
              "            style=\"display:none;\">\n",
              "\n",
              "<svg xmlns=\"http://www.w3.org/2000/svg\" height=\"24px\"viewBox=\"0 0 24 24\"\n",
              "     width=\"24px\">\n",
              "    <g>\n",
              "        <path d=\"M19 3H5c-1.1 0-2 .9-2 2v14c0 1.1.9 2 2 2h14c1.1 0 2-.9 2-2V5c0-1.1-.9-2-2-2zM9 17H7v-7h2v7zm4 0h-2V7h2v10zm4 0h-2v-4h2v4z\"/>\n",
              "    </g>\n",
              "</svg>\n",
              "  </button>\n",
              "\n",
              "<style>\n",
              "  .colab-df-quickchart {\n",
              "      --bg-color: #E8F0FE;\n",
              "      --fill-color: #1967D2;\n",
              "      --hover-bg-color: #E2EBFA;\n",
              "      --hover-fill-color: #174EA6;\n",
              "      --disabled-fill-color: #AAA;\n",
              "      --disabled-bg-color: #DDD;\n",
              "  }\n",
              "\n",
              "  [theme=dark] .colab-df-quickchart {\n",
              "      --bg-color: #3B4455;\n",
              "      --fill-color: #D2E3FC;\n",
              "      --hover-bg-color: #434B5C;\n",
              "      --hover-fill-color: #FFFFFF;\n",
              "      --disabled-bg-color: #3B4455;\n",
              "      --disabled-fill-color: #666;\n",
              "  }\n",
              "\n",
              "  .colab-df-quickchart {\n",
              "    background-color: var(--bg-color);\n",
              "    border: none;\n",
              "    border-radius: 50%;\n",
              "    cursor: pointer;\n",
              "    display: none;\n",
              "    fill: var(--fill-color);\n",
              "    height: 32px;\n",
              "    padding: 0;\n",
              "    width: 32px;\n",
              "  }\n",
              "\n",
              "  .colab-df-quickchart:hover {\n",
              "    background-color: var(--hover-bg-color);\n",
              "    box-shadow: 0 1px 2px rgba(60, 64, 67, 0.3), 0 1px 3px 1px rgba(60, 64, 67, 0.15);\n",
              "    fill: var(--button-hover-fill-color);\n",
              "  }\n",
              "\n",
              "  .colab-df-quickchart-complete:disabled,\n",
              "  .colab-df-quickchart-complete:disabled:hover {\n",
              "    background-color: var(--disabled-bg-color);\n",
              "    fill: var(--disabled-fill-color);\n",
              "    box-shadow: none;\n",
              "  }\n",
              "\n",
              "  .colab-df-spinner {\n",
              "    border: 2px solid var(--fill-color);\n",
              "    border-color: transparent;\n",
              "    border-bottom-color: var(--fill-color);\n",
              "    animation:\n",
              "      spin 1s steps(1) infinite;\n",
              "  }\n",
              "\n",
              "  @keyframes spin {\n",
              "    0% {\n",
              "      border-color: transparent;\n",
              "      border-bottom-color: var(--fill-color);\n",
              "      border-left-color: var(--fill-color);\n",
              "    }\n",
              "    20% {\n",
              "      border-color: transparent;\n",
              "      border-left-color: var(--fill-color);\n",
              "      border-top-color: var(--fill-color);\n",
              "    }\n",
              "    30% {\n",
              "      border-color: transparent;\n",
              "      border-left-color: var(--fill-color);\n",
              "      border-top-color: var(--fill-color);\n",
              "      border-right-color: var(--fill-color);\n",
              "    }\n",
              "    40% {\n",
              "      border-color: transparent;\n",
              "      border-right-color: var(--fill-color);\n",
              "      border-top-color: var(--fill-color);\n",
              "    }\n",
              "    60% {\n",
              "      border-color: transparent;\n",
              "      border-right-color: var(--fill-color);\n",
              "    }\n",
              "    80% {\n",
              "      border-color: transparent;\n",
              "      border-right-color: var(--fill-color);\n",
              "      border-bottom-color: var(--fill-color);\n",
              "    }\n",
              "    90% {\n",
              "      border-color: transparent;\n",
              "      border-bottom-color: var(--fill-color);\n",
              "    }\n",
              "  }\n",
              "</style>\n",
              "\n",
              "  <script>\n",
              "    async function quickchart(key) {\n",
              "      const quickchartButtonEl =\n",
              "        document.querySelector('#' + key + ' button');\n",
              "      quickchartButtonEl.disabled = true;  // To prevent multiple clicks.\n",
              "      quickchartButtonEl.classList.add('colab-df-spinner');\n",
              "      try {\n",
              "        const charts = await google.colab.kernel.invokeFunction(\n",
              "            'suggestCharts', [key], {});\n",
              "      } catch (error) {\n",
              "        console.error('Error during call to suggestCharts:', error);\n",
              "      }\n",
              "      quickchartButtonEl.classList.remove('colab-df-spinner');\n",
              "      quickchartButtonEl.classList.add('colab-df-quickchart-complete');\n",
              "    }\n",
              "    (() => {\n",
              "      let quickchartButtonEl =\n",
              "        document.querySelector('#df-80e0d80d-f680-4a04-a603-8885afd4f1d7 button');\n",
              "      quickchartButtonEl.style.display =\n",
              "        google.colab.kernel.accessAllowed ? 'block' : 'none';\n",
              "    })();\n",
              "  </script>\n",
              "</div>\n",
              "    </div>\n",
              "  </div>\n"
            ],
            "application/vnd.google.colaboratory.intrinsic+json": {
              "type": "dataframe",
              "variable_name": "df",
              "summary": "{\n  \"name\": \"df\",\n  \"rows\": 11269,\n  \"fields\": [\n    {\n      \"column\": \"comment\",\n      \"properties\": {\n        \"dtype\": \"string\",\n        \"num_unique_values\": 9520,\n        \"samples\": [\n          \"C\\u00f4ng d\\u1ee5ng:l\\u00e0m s\\u1ea1ch da\\nM\\u00f9i h\\u01b0\\u01a1ng:m\\u00f9i nh\\u1ea1t\\n\\nGiao h\\u00e0ng nhanh, \\u0111\\u00f3ng g\\u00f3i \\u1ed5n. M\\u1edbi d\\u00f9ng mn ko th\\u1ea5y m\\u00f9i \\u0111\\u00e2u, d\\u00f9ng hai ba l\\u1ea7n m\\u1edbi th\\u1ea5y m\\u00f9i d\\u1ecbu d\\u1ecbu.\",\n          \"H\\u00ecnh \\u1ea3nh ch\\u1ec9 mang t\\u00ednh ch\\u1ea5t minh ho\\u1ea1 \\u0111\\u00e1nh gi\\u00e1 \\u0111\\u1ec3 l\\u1ea5y xu ko c\\u00f3 \\u0111\\u00e2u\",\n          \"C\\u00f4ng d\\u1ee5ng:ok\\n\\nC\\u0169ng ok , hong c\\u00f3 \\u0111i\\u1ec3m g\\u00ec qu\\u00e1 \\u0111\\u1eb7c bi\\u1ec7t nma x\\u00e0i c\\u0169ng dc gi\\u00e1 th\\u00e0nh r\\u1ebb \\u00f3 n\\u00ean mua\"\n        ],\n        \"semantic_type\": \"\",\n        \"description\": \"\"\n      }\n    },\n    {\n      \"column\": \"rating\",\n      \"properties\": {\n        \"dtype\": \"number\",\n        \"std\": 1,\n        \"min\": 1,\n        \"max\": 5,\n        \"num_unique_values\": 5,\n        \"samples\": [\n          2,\n          5,\n          3\n        ],\n        \"semantic_type\": \"\",\n        \"description\": \"\"\n      }\n    }\n  ]\n}"
            }
          },
          "metadata": {},
          "execution_count": 6
        }
      ]
    },
    {
      "cell_type": "code",
      "source": [
        "from google.colab import drive\n",
        "drive.mount('/content/drive')"
      ],
      "metadata": {
        "colab": {
          "base_uri": "https://localhost:8080/"
        },
        "id": "1toECn91jW1P",
        "outputId": "a9c6fdc0-c056-4581-85af-f8deccc9d315"
      },
      "execution_count": 7,
      "outputs": [
        {
          "output_type": "stream",
          "name": "stdout",
          "text": [
            "Mounted at /content/drive\n"
          ]
        }
      ]
    },
    {
      "cell_type": "code",
      "source": [
        "df.to_csv(\"/content/drive/MyDrive/Colab Notebooks/shopee_data_final.csv\", index=False)"
      ],
      "metadata": {
        "id": "Qk0F3EghjX8l"
      },
      "execution_count": 8,
      "outputs": []
    },
    {
      "cell_type": "code",
      "source": [
        "df.info()"
      ],
      "metadata": {
        "colab": {
          "base_uri": "https://localhost:8080/"
        },
        "id": "BFD5KuqEjwot",
        "outputId": "8325d684-9a87-4b0e-e56e-0c1ec1ac324e"
      },
      "execution_count": 9,
      "outputs": [
        {
          "output_type": "stream",
          "name": "stdout",
          "text": [
            "<class 'pandas.core.frame.DataFrame'>\n",
            "RangeIndex: 11269 entries, 0 to 11268\n",
            "Data columns (total 2 columns):\n",
            " #   Column   Non-Null Count  Dtype \n",
            "---  ------   --------------  ----- \n",
            " 0   comment  11269 non-null  object\n",
            " 1   rating   11269 non-null  int64 \n",
            "dtypes: int64(1), object(1)\n",
            "memory usage: 176.2+ KB\n"
          ]
        }
      ]
    },
    {
      "cell_type": "code",
      "source": [
        "num_words = 11268"
      ],
      "metadata": {
        "id": "JlRR-q0deRQm"
      },
      "execution_count": 10,
      "outputs": []
    },
    {
      "cell_type": "code",
      "source": [
        "%matplotlib inline\n",
        "import matplotlib.pyplot as plt\n",
        "import tensorflow as tf\n",
        "import numpy as np\n",
        "from scipy.spatial.distance import cdist"
      ],
      "metadata": {
        "id": "Yjg79gsifz-k"
      },
      "execution_count": 11,
      "outputs": []
    },
    {
      "cell_type": "code",
      "source": [
        "from tensorflow.keras.models import Sequential\n",
        "from tensorflow.keras.layers import Dense, GRU, Embedding\n",
        "from tensorflow.keras.optimizers import Adam\n",
        "from tensorflow.keras.preprocessing.text import Tokenizer\n",
        "from tensorflow.keras.preprocessing.sequence import pad_sequences"
      ],
      "metadata": {
        "id": "4Tyeh7gUf97F"
      },
      "execution_count": 12,
      "outputs": []
    },
    {
      "cell_type": "code",
      "source": [
        "! pip install underthesea==6.6.0\n",
        "! pip install stop-words"
      ],
      "metadata": {
        "colab": {
          "base_uri": "https://localhost:8080/"
        },
        "id": "f14dKbeBia-w",
        "outputId": "51b80ed7-ab7d-4f3b-cd26-94ff936ba945"
      },
      "execution_count": 13,
      "outputs": [
        {
          "output_type": "stream",
          "name": "stdout",
          "text": [
            "Collecting underthesea==6.6.0\n",
            "  Downloading underthesea-6.6.0-py3-none-any.whl (20.9 MB)\n",
            "\u001b[2K     \u001b[90m━━━━━━━━━━━━━━━━━━━━━━━━━━━━━━━━━━━━━━━━\u001b[0m \u001b[32m20.9/20.9 MB\u001b[0m \u001b[31m52.6 MB/s\u001b[0m eta \u001b[36m0:00:00\u001b[0m\n",
            "\u001b[?25hRequirement already satisfied: Click>=6.0 in /usr/local/lib/python3.10/dist-packages (from underthesea==6.6.0) (8.1.7)\n",
            "Collecting python-crfsuite>=0.9.6 (from underthesea==6.6.0)\n",
            "  Downloading python_crfsuite-0.9.10-cp310-cp310-manylinux_2_17_x86_64.manylinux2014_x86_64.whl (1.1 MB)\n",
            "\u001b[2K     \u001b[90m━━━━━━━━━━━━━━━━━━━━━━━━━━━━━━━━━━━━━━━━\u001b[0m \u001b[32m1.1/1.1 MB\u001b[0m \u001b[31m68.2 MB/s\u001b[0m eta \u001b[36m0:00:00\u001b[0m\n",
            "\u001b[?25hRequirement already satisfied: nltk in /usr/local/lib/python3.10/dist-packages (from underthesea==6.6.0) (3.8.1)\n",
            "Requirement already satisfied: tqdm in /usr/local/lib/python3.10/dist-packages (from underthesea==6.6.0) (4.66.2)\n",
            "Requirement already satisfied: requests in /usr/local/lib/python3.10/dist-packages (from underthesea==6.6.0) (2.31.0)\n",
            "Requirement already satisfied: joblib in /usr/local/lib/python3.10/dist-packages (from underthesea==6.6.0) (1.4.0)\n",
            "Requirement already satisfied: scikit-learn in /usr/local/lib/python3.10/dist-packages (from underthesea==6.6.0) (1.2.2)\n",
            "Requirement already satisfied: PyYAML in /usr/local/lib/python3.10/dist-packages (from underthesea==6.6.0) (6.0.1)\n",
            "Collecting underthesea-core==1.0.4 (from underthesea==6.6.0)\n",
            "  Downloading underthesea_core-1.0.4-cp310-cp310-manylinux2010_x86_64.whl (657 kB)\n",
            "\u001b[2K     \u001b[90m━━━━━━━━━━━━━━━━━━━━━━━━━━━━━━━━━━━━━━━━\u001b[0m \u001b[32m657.8/657.8 kB\u001b[0m \u001b[31m48.0 MB/s\u001b[0m eta \u001b[36m0:00:00\u001b[0m\n",
            "\u001b[?25hRequirement already satisfied: regex>=2021.8.3 in /usr/local/lib/python3.10/dist-packages (from nltk->underthesea==6.6.0) (2023.12.25)\n",
            "Requirement already satisfied: charset-normalizer<4,>=2 in /usr/local/lib/python3.10/dist-packages (from requests->underthesea==6.6.0) (3.3.2)\n",
            "Requirement already satisfied: idna<4,>=2.5 in /usr/local/lib/python3.10/dist-packages (from requests->underthesea==6.6.0) (3.7)\n",
            "Requirement already satisfied: urllib3<3,>=1.21.1 in /usr/local/lib/python3.10/dist-packages (from requests->underthesea==6.6.0) (2.0.7)\n",
            "Requirement already satisfied: certifi>=2017.4.17 in /usr/local/lib/python3.10/dist-packages (from requests->underthesea==6.6.0) (2024.2.2)\n",
            "Requirement already satisfied: numpy>=1.17.3 in /usr/local/lib/python3.10/dist-packages (from scikit-learn->underthesea==6.6.0) (1.25.2)\n",
            "Requirement already satisfied: scipy>=1.3.2 in /usr/local/lib/python3.10/dist-packages (from scikit-learn->underthesea==6.6.0) (1.11.4)\n",
            "Requirement already satisfied: threadpoolctl>=2.0.0 in /usr/local/lib/python3.10/dist-packages (from scikit-learn->underthesea==6.6.0) (3.4.0)\n",
            "Installing collected packages: underthesea-core, python-crfsuite, underthesea\n",
            "Successfully installed python-crfsuite-0.9.10 underthesea-6.6.0 underthesea-core-1.0.4\n",
            "Collecting stop-words\n",
            "  Downloading stop-words-2018.7.23.tar.gz (31 kB)\n",
            "  Preparing metadata (setup.py) ... \u001b[?25l\u001b[?25hdone\n",
            "Building wheels for collected packages: stop-words\n",
            "  Building wheel for stop-words (setup.py) ... \u001b[?25l\u001b[?25hdone\n",
            "  Created wheel for stop-words: filename=stop_words-2018.7.23-py3-none-any.whl size=32895 sha256=8926b0953d098bc9b1339d8f7df8c4f2d3b6c0600a353b3303171b855bde364f\n",
            "  Stored in directory: /root/.cache/pip/wheels/d0/1a/23/f12552a50cb09bcc1694a5ebb6c2cd5f2a0311de2b8c3d9a89\n",
            "Successfully built stop-words\n",
            "Installing collected packages: stop-words\n",
            "Successfully installed stop-words-2018.7.23\n"
          ]
        }
      ]
    },
    {
      "cell_type": "markdown",
      "source": [
        "##Standarize commnent by Vietnamese and separte words"
      ],
      "metadata": {
        "id": "SjVLCpfqj8-g"
      }
    },
    {
      "cell_type": "code",
      "source": [
        "from underthesea import sent_tokenize\n",
        "from underthesea import text_normalize\n",
        "from underthesea import word_tokenize"
      ],
      "metadata": {
        "id": "V5DWEqYyimaY"
      },
      "execution_count": 14,
      "outputs": []
    },
    {
      "cell_type": "code",
      "source": [
        "from stop_words import get_stop_words\n",
        "from nltk.tokenize import RegexpTokenizer\n",
        "\n",
        "stop_words = get_stop_words('vi')\n",
        "\n",
        "def remove_vietnamese_stopwords(words):\n",
        "  filtered_words = [word for word in words if word.lower() not in stop_words]\n",
        "  return ' '.join(filtered_words)\n",
        "\n",
        "def assign_label(rating):\n",
        "  new_class = \"neutral\"\n",
        "  if rating>=4:\n",
        "    new_class = \"positive\"\n",
        "  elif rating<=2:\n",
        "    new_class = \"negative\"\n",
        "  return new_class"
      ],
      "metadata": {
        "id": "x8ujU-x5gALk"
      },
      "execution_count": 15,
      "outputs": []
    },
    {
      "cell_type": "code",
      "source": [
        "tokenizer = RegexpTokenizer(r'\\w+')\n",
        "df['words'] = df['comment'].apply(tokenizer.tokenize)\n",
        "df['words'] = df['words'].apply(remove_vietnamese_stopwords)\n",
        "df['label'] = df['rating'].apply(assign_label)\n",
        "df.head(5)"
      ],
      "metadata": {
        "colab": {
          "base_uri": "https://localhost:8080/",
          "height": 206
        },
        "id": "u5X6Wg8EgCOV",
        "outputId": "439e911c-bf36-4d22-fe5b-30255850da62"
      },
      "execution_count": 16,
      "outputs": [
        {
          "output_type": "execute_result",
          "data": {
            "text/plain": [
              "                                             comment  rating  \\\n",
              "0  Công dụng:rỬa mặt\\nMùi hương:ổn\\nKết cấu:gel\\n...       1   \n",
              "1  Công dụng:sữa rửa mặt\\nMùi hương:chưa biết\\nDà...       1   \n",
              "2  Dành cho da:lhuf hợp với mọi loại da\\nCông dụn...       1   \n",
              "3  Công dụng:Rửa mặt\\nMùi hương:Gần như không có\\...       1   \n",
              "4  Công dụng:làm sạch\\nMùi hương:không biết\\nDành...       1   \n",
              "\n",
              "                                               words     label  \n",
              "0  Công dụng rỬa mặt Mùi hương ổn Kết cấu gel sho...  negative  \n",
              "1  Công dụng sữa rửa mặt Mùi hương da bình chất v...  negative  \n",
              "2  da lhuf hợp da Công dụng sạch da Mùi hương mùi...  negative  \n",
              "3  Công dụng Rửa mặt Mùi hương da da Shipper gọi ...  negative  \n",
              "4  Công dụng sạch Mùi hương da tất flashs sale 1 ...  negative  "
            ],
            "text/html": [
              "\n",
              "  <div id=\"df-aa802174-488f-43e2-8e28-73c2d5b09a80\" class=\"colab-df-container\">\n",
              "    <div>\n",
              "<style scoped>\n",
              "    .dataframe tbody tr th:only-of-type {\n",
              "        vertical-align: middle;\n",
              "    }\n",
              "\n",
              "    .dataframe tbody tr th {\n",
              "        vertical-align: top;\n",
              "    }\n",
              "\n",
              "    .dataframe thead th {\n",
              "        text-align: right;\n",
              "    }\n",
              "</style>\n",
              "<table border=\"1\" class=\"dataframe\">\n",
              "  <thead>\n",
              "    <tr style=\"text-align: right;\">\n",
              "      <th></th>\n",
              "      <th>comment</th>\n",
              "      <th>rating</th>\n",
              "      <th>words</th>\n",
              "      <th>label</th>\n",
              "    </tr>\n",
              "  </thead>\n",
              "  <tbody>\n",
              "    <tr>\n",
              "      <th>0</th>\n",
              "      <td>Công dụng:rỬa mặt\\nMùi hương:ổn\\nKết cấu:gel\\n...</td>\n",
              "      <td>1</td>\n",
              "      <td>Công dụng rỬa mặt Mùi hương ổn Kết cấu gel sho...</td>\n",
              "      <td>negative</td>\n",
              "    </tr>\n",
              "    <tr>\n",
              "      <th>1</th>\n",
              "      <td>Công dụng:sữa rửa mặt\\nMùi hương:chưa biết\\nDà...</td>\n",
              "      <td>1</td>\n",
              "      <td>Công dụng sữa rửa mặt Mùi hương da bình chất v...</td>\n",
              "      <td>negative</td>\n",
              "    </tr>\n",
              "    <tr>\n",
              "      <th>2</th>\n",
              "      <td>Dành cho da:lhuf hợp với mọi loại da\\nCông dụn...</td>\n",
              "      <td>1</td>\n",
              "      <td>da lhuf hợp da Công dụng sạch da Mùi hương mùi...</td>\n",
              "      <td>negative</td>\n",
              "    </tr>\n",
              "    <tr>\n",
              "      <th>3</th>\n",
              "      <td>Công dụng:Rửa mặt\\nMùi hương:Gần như không có\\...</td>\n",
              "      <td>1</td>\n",
              "      <td>Công dụng Rửa mặt Mùi hương da da Shipper gọi ...</td>\n",
              "      <td>negative</td>\n",
              "    </tr>\n",
              "    <tr>\n",
              "      <th>4</th>\n",
              "      <td>Công dụng:làm sạch\\nMùi hương:không biết\\nDành...</td>\n",
              "      <td>1</td>\n",
              "      <td>Công dụng sạch Mùi hương da tất flashs sale 1 ...</td>\n",
              "      <td>negative</td>\n",
              "    </tr>\n",
              "  </tbody>\n",
              "</table>\n",
              "</div>\n",
              "    <div class=\"colab-df-buttons\">\n",
              "\n",
              "  <div class=\"colab-df-container\">\n",
              "    <button class=\"colab-df-convert\" onclick=\"convertToInteractive('df-aa802174-488f-43e2-8e28-73c2d5b09a80')\"\n",
              "            title=\"Convert this dataframe to an interactive table.\"\n",
              "            style=\"display:none;\">\n",
              "\n",
              "  <svg xmlns=\"http://www.w3.org/2000/svg\" height=\"24px\" viewBox=\"0 -960 960 960\">\n",
              "    <path d=\"M120-120v-720h720v720H120Zm60-500h600v-160H180v160Zm220 220h160v-160H400v160Zm0 220h160v-160H400v160ZM180-400h160v-160H180v160Zm440 0h160v-160H620v160ZM180-180h160v-160H180v160Zm440 0h160v-160H620v160Z\"/>\n",
              "  </svg>\n",
              "    </button>\n",
              "\n",
              "  <style>\n",
              "    .colab-df-container {\n",
              "      display:flex;\n",
              "      gap: 12px;\n",
              "    }\n",
              "\n",
              "    .colab-df-convert {\n",
              "      background-color: #E8F0FE;\n",
              "      border: none;\n",
              "      border-radius: 50%;\n",
              "      cursor: pointer;\n",
              "      display: none;\n",
              "      fill: #1967D2;\n",
              "      height: 32px;\n",
              "      padding: 0 0 0 0;\n",
              "      width: 32px;\n",
              "    }\n",
              "\n",
              "    .colab-df-convert:hover {\n",
              "      background-color: #E2EBFA;\n",
              "      box-shadow: 0px 1px 2px rgba(60, 64, 67, 0.3), 0px 1px 3px 1px rgba(60, 64, 67, 0.15);\n",
              "      fill: #174EA6;\n",
              "    }\n",
              "\n",
              "    .colab-df-buttons div {\n",
              "      margin-bottom: 4px;\n",
              "    }\n",
              "\n",
              "    [theme=dark] .colab-df-convert {\n",
              "      background-color: #3B4455;\n",
              "      fill: #D2E3FC;\n",
              "    }\n",
              "\n",
              "    [theme=dark] .colab-df-convert:hover {\n",
              "      background-color: #434B5C;\n",
              "      box-shadow: 0px 1px 3px 1px rgba(0, 0, 0, 0.15);\n",
              "      filter: drop-shadow(0px 1px 2px rgba(0, 0, 0, 0.3));\n",
              "      fill: #FFFFFF;\n",
              "    }\n",
              "  </style>\n",
              "\n",
              "    <script>\n",
              "      const buttonEl =\n",
              "        document.querySelector('#df-aa802174-488f-43e2-8e28-73c2d5b09a80 button.colab-df-convert');\n",
              "      buttonEl.style.display =\n",
              "        google.colab.kernel.accessAllowed ? 'block' : 'none';\n",
              "\n",
              "      async function convertToInteractive(key) {\n",
              "        const element = document.querySelector('#df-aa802174-488f-43e2-8e28-73c2d5b09a80');\n",
              "        const dataTable =\n",
              "          await google.colab.kernel.invokeFunction('convertToInteractive',\n",
              "                                                    [key], {});\n",
              "        if (!dataTable) return;\n",
              "\n",
              "        const docLinkHtml = 'Like what you see? Visit the ' +\n",
              "          '<a target=\"_blank\" href=https://colab.research.google.com/notebooks/data_table.ipynb>data table notebook</a>'\n",
              "          + ' to learn more about interactive tables.';\n",
              "        element.innerHTML = '';\n",
              "        dataTable['output_type'] = 'display_data';\n",
              "        await google.colab.output.renderOutput(dataTable, element);\n",
              "        const docLink = document.createElement('div');\n",
              "        docLink.innerHTML = docLinkHtml;\n",
              "        element.appendChild(docLink);\n",
              "      }\n",
              "    </script>\n",
              "  </div>\n",
              "\n",
              "\n",
              "<div id=\"df-7803145d-29f0-430f-abdf-f8d1246c7711\">\n",
              "  <button class=\"colab-df-quickchart\" onclick=\"quickchart('df-7803145d-29f0-430f-abdf-f8d1246c7711')\"\n",
              "            title=\"Suggest charts\"\n",
              "            style=\"display:none;\">\n",
              "\n",
              "<svg xmlns=\"http://www.w3.org/2000/svg\" height=\"24px\"viewBox=\"0 0 24 24\"\n",
              "     width=\"24px\">\n",
              "    <g>\n",
              "        <path d=\"M19 3H5c-1.1 0-2 .9-2 2v14c0 1.1.9 2 2 2h14c1.1 0 2-.9 2-2V5c0-1.1-.9-2-2-2zM9 17H7v-7h2v7zm4 0h-2V7h2v10zm4 0h-2v-4h2v4z\"/>\n",
              "    </g>\n",
              "</svg>\n",
              "  </button>\n",
              "\n",
              "<style>\n",
              "  .colab-df-quickchart {\n",
              "      --bg-color: #E8F0FE;\n",
              "      --fill-color: #1967D2;\n",
              "      --hover-bg-color: #E2EBFA;\n",
              "      --hover-fill-color: #174EA6;\n",
              "      --disabled-fill-color: #AAA;\n",
              "      --disabled-bg-color: #DDD;\n",
              "  }\n",
              "\n",
              "  [theme=dark] .colab-df-quickchart {\n",
              "      --bg-color: #3B4455;\n",
              "      --fill-color: #D2E3FC;\n",
              "      --hover-bg-color: #434B5C;\n",
              "      --hover-fill-color: #FFFFFF;\n",
              "      --disabled-bg-color: #3B4455;\n",
              "      --disabled-fill-color: #666;\n",
              "  }\n",
              "\n",
              "  .colab-df-quickchart {\n",
              "    background-color: var(--bg-color);\n",
              "    border: none;\n",
              "    border-radius: 50%;\n",
              "    cursor: pointer;\n",
              "    display: none;\n",
              "    fill: var(--fill-color);\n",
              "    height: 32px;\n",
              "    padding: 0;\n",
              "    width: 32px;\n",
              "  }\n",
              "\n",
              "  .colab-df-quickchart:hover {\n",
              "    background-color: var(--hover-bg-color);\n",
              "    box-shadow: 0 1px 2px rgba(60, 64, 67, 0.3), 0 1px 3px 1px rgba(60, 64, 67, 0.15);\n",
              "    fill: var(--button-hover-fill-color);\n",
              "  }\n",
              "\n",
              "  .colab-df-quickchart-complete:disabled,\n",
              "  .colab-df-quickchart-complete:disabled:hover {\n",
              "    background-color: var(--disabled-bg-color);\n",
              "    fill: var(--disabled-fill-color);\n",
              "    box-shadow: none;\n",
              "  }\n",
              "\n",
              "  .colab-df-spinner {\n",
              "    border: 2px solid var(--fill-color);\n",
              "    border-color: transparent;\n",
              "    border-bottom-color: var(--fill-color);\n",
              "    animation:\n",
              "      spin 1s steps(1) infinite;\n",
              "  }\n",
              "\n",
              "  @keyframes spin {\n",
              "    0% {\n",
              "      border-color: transparent;\n",
              "      border-bottom-color: var(--fill-color);\n",
              "      border-left-color: var(--fill-color);\n",
              "    }\n",
              "    20% {\n",
              "      border-color: transparent;\n",
              "      border-left-color: var(--fill-color);\n",
              "      border-top-color: var(--fill-color);\n",
              "    }\n",
              "    30% {\n",
              "      border-color: transparent;\n",
              "      border-left-color: var(--fill-color);\n",
              "      border-top-color: var(--fill-color);\n",
              "      border-right-color: var(--fill-color);\n",
              "    }\n",
              "    40% {\n",
              "      border-color: transparent;\n",
              "      border-right-color: var(--fill-color);\n",
              "      border-top-color: var(--fill-color);\n",
              "    }\n",
              "    60% {\n",
              "      border-color: transparent;\n",
              "      border-right-color: var(--fill-color);\n",
              "    }\n",
              "    80% {\n",
              "      border-color: transparent;\n",
              "      border-right-color: var(--fill-color);\n",
              "      border-bottom-color: var(--fill-color);\n",
              "    }\n",
              "    90% {\n",
              "      border-color: transparent;\n",
              "      border-bottom-color: var(--fill-color);\n",
              "    }\n",
              "  }\n",
              "</style>\n",
              "\n",
              "  <script>\n",
              "    async function quickchart(key) {\n",
              "      const quickchartButtonEl =\n",
              "        document.querySelector('#' + key + ' button');\n",
              "      quickchartButtonEl.disabled = true;  // To prevent multiple clicks.\n",
              "      quickchartButtonEl.classList.add('colab-df-spinner');\n",
              "      try {\n",
              "        const charts = await google.colab.kernel.invokeFunction(\n",
              "            'suggestCharts', [key], {});\n",
              "      } catch (error) {\n",
              "        console.error('Error during call to suggestCharts:', error);\n",
              "      }\n",
              "      quickchartButtonEl.classList.remove('colab-df-spinner');\n",
              "      quickchartButtonEl.classList.add('colab-df-quickchart-complete');\n",
              "    }\n",
              "    (() => {\n",
              "      let quickchartButtonEl =\n",
              "        document.querySelector('#df-7803145d-29f0-430f-abdf-f8d1246c7711 button');\n",
              "      quickchartButtonEl.style.display =\n",
              "        google.colab.kernel.accessAllowed ? 'block' : 'none';\n",
              "    })();\n",
              "  </script>\n",
              "</div>\n",
              "    </div>\n",
              "  </div>\n"
            ],
            "application/vnd.google.colaboratory.intrinsic+json": {
              "type": "dataframe",
              "variable_name": "df",
              "summary": "{\n  \"name\": \"df\",\n  \"rows\": 11269,\n  \"fields\": [\n    {\n      \"column\": \"comment\",\n      \"properties\": {\n        \"dtype\": \"string\",\n        \"num_unique_values\": 9520,\n        \"samples\": [\n          \"C\\u00f4ng d\\u1ee5ng:l\\u00e0m s\\u1ea1ch da\\nM\\u00f9i h\\u01b0\\u01a1ng:m\\u00f9i nh\\u1ea1t\\n\\nGiao h\\u00e0ng nhanh, \\u0111\\u00f3ng g\\u00f3i \\u1ed5n. M\\u1edbi d\\u00f9ng mn ko th\\u1ea5y m\\u00f9i \\u0111\\u00e2u, d\\u00f9ng hai ba l\\u1ea7n m\\u1edbi th\\u1ea5y m\\u00f9i d\\u1ecbu d\\u1ecbu.\",\n          \"H\\u00ecnh \\u1ea3nh ch\\u1ec9 mang t\\u00ednh ch\\u1ea5t minh ho\\u1ea1 \\u0111\\u00e1nh gi\\u00e1 \\u0111\\u1ec3 l\\u1ea5y xu ko c\\u00f3 \\u0111\\u00e2u\",\n          \"C\\u00f4ng d\\u1ee5ng:ok\\n\\nC\\u0169ng ok , hong c\\u00f3 \\u0111i\\u1ec3m g\\u00ec qu\\u00e1 \\u0111\\u1eb7c bi\\u1ec7t nma x\\u00e0i c\\u0169ng dc gi\\u00e1 th\\u00e0nh r\\u1ebb \\u00f3 n\\u00ean mua\"\n        ],\n        \"semantic_type\": \"\",\n        \"description\": \"\"\n      }\n    },\n    {\n      \"column\": \"rating\",\n      \"properties\": {\n        \"dtype\": \"number\",\n        \"std\": 1,\n        \"min\": 1,\n        \"max\": 5,\n        \"num_unique_values\": 5,\n        \"samples\": [\n          2,\n          5,\n          3\n        ],\n        \"semantic_type\": \"\",\n        \"description\": \"\"\n      }\n    },\n    {\n      \"column\": \"words\",\n      \"properties\": {\n        \"dtype\": \"string\",\n        \"num_unique_values\": 9437,\n        \"samples\": [\n          \"C\\u00f4ng d\\u1ee5ng M\\u00f9i h\\u01b0\\u01a1ng da s\\u0103n sale 15 6 b\\u1ea3o mua 1 srm t\\u1eb7ng 1 chai t\\u1ea9y trang h\\u00e0ng ko t\\u1ea9y trang nt shop ko x\\u1eed l\\u00fd \\u0111\\u1ea7u mua c\\u1ea3m th\\u1ea5t v\\u1ecdng ko bao l2\",\n          \"\\u0110\\u00f3ng g\\u00f3i ko c\\u1ea9n th\\u1eadn G\\u00f3i h\\u00e0ng r\\u00e1ch\",\n          \"C\\u00f4ng d\\u1ee5ng s\\u1eefa r\\u1eeda m\\u1eb7t d\\u1ecbu nh\\u1eb9 da m\\u1ee5n M\\u00f9i h\\u01b0\\u01a1ng m\\u00f9i Ph\\u00f9 h\\u1ee3p da da m\\u1ee5n Mua quen d\\u1ecbu nh\\u1eb9\"\n        ],\n        \"semantic_type\": \"\",\n        \"description\": \"\"\n      }\n    },\n    {\n      \"column\": \"label\",\n      \"properties\": {\n        \"dtype\": \"category\",\n        \"num_unique_values\": 3,\n        \"samples\": [\n          \"negative\",\n          \"neutral\",\n          \"positive\"\n        ],\n        \"semantic_type\": \"\",\n        \"description\": \"\"\n      }\n    }\n  ]\n}"
            }
          },
          "metadata": {},
          "execution_count": 16
        }
      ]
    },
    {
      "cell_type": "code",
      "source": [
        "import matplotlib.pyplot as plt\n",
        "countClass = pd.value_counts(df['label'], sort=True, dropna=False)\n",
        "print(countClass)\n",
        "countClass.plot(kind = \"pie\", autopct= '%1.0f%%')\n",
        "plt.show()"
      ],
      "metadata": {
        "colab": {
          "base_uri": "https://localhost:8080/",
          "height": 493
        },
        "id": "IiUIHEiFi1d_",
        "outputId": "fcdb8254-f762-4d41-dd39-730814d907dd"
      },
      "execution_count": 17,
      "outputs": [
        {
          "output_type": "stream",
          "name": "stdout",
          "text": [
            "label\n",
            "positive    6100\n",
            "negative    3170\n",
            "neutral     1999\n",
            "Name: count, dtype: int64\n"
          ]
        },
        {
          "output_type": "display_data",
          "data": {
            "text/plain": [
              "<Figure size 640x480 with 1 Axes>"
            ],
            "image/png": "[encoded data removed]"
          },
          "metadata": {}
        }
      ]
    },
    {
      "cell_type": "markdown",
      "source": [
        "# Machine Learning"
      ],
      "metadata": {
        "id": "i3ors13rqMIM"
      }
    },
    {
      "cell_type": "markdown",
      "source": [
        "## Naive Bayes Algorithm"
      ],
      "metadata": {
        "id": "95pwCuwpqgqq"
      }
    },
    {
      "cell_type": "code",
      "source": [
        "def create_word_features(clean_words):\n",
        "    my_dict = dict([(word, True) for word in clean_words])\n",
        "    return my_dict\n",
        "\n",
        "df['feature'] = df['words'].apply(create_word_features)"
      ],
      "metadata": {
        "id": "HvvmVal3q5CN"
      },
      "execution_count": 18,
      "outputs": []
    },
    {
      "cell_type": "code",
      "source": [
        "from sklearn.feature_extraction.text import CountVectorizer\n",
        "from sklearn.model_selection import train_test_split\n",
        "from sklearn.naive_bayes import MultinomialNB\n",
        "from sklearn.metrics import accuracy_score, classification_report\n",
        "\n",
        "# Convert text data into bag-of-words features\n",
        "vectorizer = CountVectorizer()\n",
        "X = vectorizer.fit_transform(df['words'])\n",
        "\n",
        "# Split the data into training and testing sets\n",
        "X_train, X_test, y_train, y_test = train_test_split(X, df['label'], test_size=0.2, random_state=42)\n",
        "\n",
        "\n",
        "# Initialize and train the Naive Bayes model\n",
        "NB_model = MultinomialNB()\n",
        "NB_model.fit(X_train, y_train)\n",
        "\n",
        "# Make predictions on the test set\n",
        "y_pred = NB_model.predict(X_test)\n",
        "\n",
        "# Evaluate the model\n",
        "accuracy = accuracy_score(y_test, y_pred)\n",
        "report = classification_report(y_test, y_pred)\n",
        "\n",
        "print(f\"Accuracy: {accuracy}\")\n",
        "print(report)"
      ],
      "metadata": {
        "colab": {
          "base_uri": "https://localhost:8080/"
        },
        "id": "Igu_aN5hrEw9",
        "outputId": "b805c71a-b79b-4759-870f-4f0e580b4770"
      },
      "execution_count": 19,
      "outputs": [
        {
          "output_type": "stream",
          "name": "stdout",
          "text": [
            "Accuracy: 0.6015971606033718\n",
            "              precision    recall  f1-score   support\n",
            "\n",
            "    negative       0.58      0.50      0.53       662\n",
            "     neutral       0.20      0.09      0.13       391\n",
            "    positive       0.66      0.83      0.73      1201\n",
            "\n",
            "    accuracy                           0.60      2254\n",
            "   macro avg       0.48      0.47      0.46      2254\n",
            "weighted avg       0.56      0.60      0.57      2254\n",
            "\n"
          ]
        }
      ]
    },
    {
      "cell_type": "code",
      "source": [
        "print(y_test)"
      ],
      "metadata": {
        "colab": {
          "base_uri": "https://localhost:8080/"
        },
        "id": "5B2qgvP9rMtq",
        "outputId": "4a1b18a5-033c-46f1-eab8-640f0f6c0843"
      },
      "execution_count": 20,
      "outputs": [
        {
          "output_type": "stream",
          "name": "stdout",
          "text": [
            "9943     positive\n",
            "2517     negative\n",
            "3887      neutral\n",
            "4981      neutral\n",
            "6338     positive\n",
            "           ...   \n",
            "10764    positive\n",
            "4598      neutral\n",
            "6706     positive\n",
            "5632     positive\n",
            "8448     positive\n",
            "Name: label, Length: 2254, dtype: object\n"
          ]
        }
      ]
    },
    {
      "cell_type": "code",
      "source": [
        "from sklearn.metrics import ConfusionMatrixDisplay\n",
        "\n",
        "# Plot non-normalized confusion matrix\n",
        "titles_options = [\n",
        "    (\"Confusion matrix, without normalization\", None),\n",
        "    (\"Normalized confusion matrix\", \"true\"),\n",
        "]\n",
        "for title, normalize in titles_options:\n",
        "    disp = ConfusionMatrixDisplay.from_estimator(\n",
        "        NB_model,\n",
        "        X_test,\n",
        "        y_test,\n",
        "        display_labels=[\"positive\", \"negative\", \"neutral\"],\n",
        "        cmap=plt.cm.Blues,\n",
        "        normalize=normalize,\n",
        "    )\n",
        "    disp.ax_.set_title(title)\n",
        "\n",
        "    print(title)\n",
        "    print(disp.confusion_matrix)\n",
        "\n",
        "plt.show()"
      ],
      "metadata": {
        "colab": {
          "base_uri": "https://localhost:8080/",
          "height": 1000
        },
        "id": "JPT4Ce6zrPml",
        "outputId": "085cd492-a451-4ad5-f673-6afb6ec01687"
      },
      "execution_count": 21,
      "outputs": [
        {
          "output_type": "stream",
          "name": "stdout",
          "text": [
            "Confusion matrix, without normalization\n",
            "[[328  48 286]\n",
            " [123  36 232]\n",
            " [117  92 992]]\n",
            "Normalized confusion matrix\n",
            "[[0.49546828 0.07250755 0.43202417]\n",
            " [0.31457801 0.09207161 0.59335038]\n",
            " [0.09741882 0.07660283 0.82597835]]\n"
          ]
        },
        {
          "output_type": "display_data",
          "data": {
            "text/plain": [
              "<Figure size 640x480 with 2 Axes>"
            ],
            "image/png": "[encoded data removed]"
          },
          "metadata": {}
        },
        {
          "output_type": "display_data",
          "data": {
            "text/plain": [
              "<Figure size 640x480 with 2 Axes>"
            ],
            "image/png": "[encoded data removed]"
          },
          "metadata": {}
        }
      ]
    },
    {
      "cell_type": "markdown",
      "source": [
        "## Support Vector Machine (SVM)"
      ],
      "metadata": {
        "id": "Ptc7S09cqkcq"
      }
    },
    {
      "cell_type": "code",
      "source": [
        "# Import necessary libraries\n",
        "from sklearn.feature_extraction.text import TfidfVectorizer\n",
        "from sklearn.model_selection import train_test_split\n",
        "from sklearn.svm import SVC\n",
        "from sklearn.metrics import accuracy_score, classification_report\n",
        "\n",
        "# Convert text data into TF-IDF features\n",
        "vectorizer = TfidfVectorizer()\n",
        "X = vectorizer.fit_transform(df['words'])\n",
        "\n",
        "# Split the data into training and testing sets\n",
        "X_train, X_test, y_train, y_test = train_test_split(X, df['label'], test_size=0.2, random_state=42)\n",
        "\n",
        "# Initialize and train the SVM classifier\n",
        "svc_model = SVC(kernel='linear')  # You can try different kernels like 'linear', 'rbf', etc.\n",
        "svc_model.fit(X_train, y_train)\n",
        "\n",
        "# Make predictions on the test set\n",
        "y_pred = svc_model.predict(X_test)\n",
        "\n",
        "# Evaluate the model\n",
        "accuracy = accuracy_score(y_test, y_pred)\n",
        "report = classification_report(y_test, y_pred)\n",
        "\n",
        "print(f\"Accuracy: {accuracy}\")\n",
        "print(report)"
      ],
      "metadata": {
        "id": "I9Yty-5PrTT6",
        "colab": {
          "base_uri": "https://localhost:8080/"
        },
        "outputId": "46103f5f-8d3d-45f7-9c9a-358776dc2d51"
      },
      "execution_count": 22,
      "outputs": [
        {
          "output_type": "stream",
          "name": "stdout",
          "text": [
            "Accuracy: 0.69698314108252\n",
            "              precision    recall  f1-score   support\n",
            "\n",
            "    negative       0.57      0.81      0.67       662\n",
            "     neutral       0.28      0.04      0.07       391\n",
            "    positive       0.81      0.85      0.83      1201\n",
            "\n",
            "    accuracy                           0.70      2254\n",
            "   macro avg       0.55      0.57      0.52      2254\n",
            "weighted avg       0.65      0.70      0.65      2254\n",
            "\n"
          ]
        }
      ]
    },
    {
      "cell_type": "code",
      "source": [
        "for title, normalize in titles_options:\n",
        "    disp = ConfusionMatrixDisplay.from_estimator(\n",
        "        svc_model,\n",
        "        X_test,\n",
        "        y_test,\n",
        "        display_labels=[\"positive\", \"negative\", \"neutral\"],\n",
        "        cmap=plt.cm.Blues,\n",
        "        normalize=normalize,\n",
        "    )\n",
        "    disp.ax_.set_title(title)\n",
        "\n",
        "    print(title)\n",
        "    print(disp.confusion_matrix)\n",
        "\n",
        "plt.show()"
      ],
      "metadata": {
        "id": "glNN6jhNraDH",
        "colab": {
          "base_uri": "https://localhost:8080/",
          "height": 1000
        },
        "outputId": "354b9d0e-e603-4dec-c18d-1b8bdfc48784"
      },
      "execution_count": 23,
      "outputs": [
        {
          "output_type": "stream",
          "name": "stdout",
          "text": [
            "Confusion matrix, without normalization\n",
            "[[ 535   17  110]\n",
            " [ 245   15  131]\n",
            " [ 158   22 1021]]\n",
            "Normalized confusion matrix\n",
            "[[0.8081571  0.02567976 0.16616314]\n",
            " [0.62659847 0.03836317 0.33503836]\n",
            " [0.13155704 0.01831807 0.8501249 ]]\n"
          ]
        },
        {
          "output_type": "display_data",
          "data": {
            "text/plain": [
              "<Figure size 640x480 with 2 Axes>"
            ],
            "image/png": "[encoded data removed]"
          },
          "metadata": {}
        },
        {
          "output_type": "display_data",
          "data": {
            "text/plain": [
              "<Figure size 640x480 with 2 Axes>"
            ],
            "image/png": "[encoded data removed]"
          },
          "metadata": {}
        }
      ]
    },
    {
      "cell_type": "markdown",
      "source": [
        "## Logistic Regression"
      ],
      "metadata": {
        "id": "2Y2LytwYqtkR"
      }
    },
    {
      "cell_type": "code",
      "source": [
        "# Import necessary libraries\n",
        "from sklearn.feature_extraction.text import TfidfVectorizer\n",
        "from sklearn.model_selection import train_test_split\n",
        "from sklearn.linear_model import LogisticRegression\n",
        "from sklearn.metrics import accuracy_score, classification_report\n",
        "\n",
        "# Check for and handle None values in the 'sentiment' column\n",
        "df['label'].fillna('None', inplace=True)\n",
        "\n",
        "# Convert text data into TF-IDF features\n",
        "vectorizer = TfidfVectorizer()\n",
        "X = vectorizer.fit_transform(df[\"words\"])\n",
        "\n",
        "# Split the data into training and testing sets\n",
        "X_train, X_test, y_train, y_test = train_test_split(X, df[\"label\"], test_size=0.2, random_state=42)\n",
        "\n",
        "# Initialize and train the Logistic Regression model\n",
        "logistic_regression_model = LogisticRegression()\n",
        "logistic_regression_model.fit(X_train, y_train)\n",
        "\n",
        "# Make predictions on the test set\n",
        "y_pred = logistic_regression_model.predict(X_test)\n",
        "\n",
        "# Evaluate the model\n",
        "accuracy = accuracy_score(y_test, y_pred)\n",
        "report = classification_report(y_test, y_pred)\n",
        "\n",
        "print(f\"Accuracy: {accuracy}\")\n",
        "print(report)"
      ],
      "metadata": {
        "id": "HZB3haaIrdqS",
        "colab": {
          "base_uri": "https://localhost:8080/"
        },
        "outputId": "3d14985a-bfe3-4131-b810-baf7125b9552"
      },
      "execution_count": 24,
      "outputs": [
        {
          "output_type": "stream",
          "name": "stderr",
          "text": [
            "/usr/local/lib/python3.10/dist-packages/sklearn/linear_model/_logistic.py:458: ConvergenceWarning: lbfgs failed to converge (status=1):\n",
            "STOP: TOTAL NO. of ITERATIONS REACHED LIMIT.\n",
            "\n",
            "Increase the number of iterations (max_iter) or scale the data as shown in:\n",
            "    https://scikit-learn.org/stable/modules/preprocessing.html\n",
            "Please also refer to the documentation for alternative solver options:\n",
            "    https://scikit-learn.org/stable/modules/linear_model.html#logistic-regression\n",
            "  n_iter_i = _check_optimize_result(\n"
          ]
        },
        {
          "output_type": "stream",
          "name": "stdout",
          "text": [
            "Accuracy: 0.7067435669920142\n",
            "              precision    recall  f1-score   support\n",
            "\n",
            "    negative       0.60      0.79      0.68       662\n",
            "     neutral       0.29      0.06      0.10       391\n",
            "    positive       0.81      0.87      0.84      1201\n",
            "\n",
            "    accuracy                           0.71      2254\n",
            "   macro avg       0.56      0.57      0.54      2254\n",
            "weighted avg       0.66      0.71      0.66      2254\n",
            "\n"
          ]
        }
      ]
    },
    {
      "cell_type": "code",
      "source": [
        "for title, normalize in titles_options:\n",
        "    disp = ConfusionMatrixDisplay.from_estimator(\n",
        "        logistic_regression_model,\n",
        "        X_test,\n",
        "        y_test,\n",
        "        display_labels=[\"positive\", \"negative\", \"neutral\"],\n",
        "        cmap=plt.cm.Blues,\n",
        "        normalize=normalize,\n",
        "    )\n",
        "    disp.ax_.set_title(title)\n",
        "\n",
        "    print(title)\n",
        "    print(disp.confusion_matrix)\n",
        "\n",
        "plt.show()"
      ],
      "metadata": {
        "id": "y-S3FWafrkca",
        "colab": {
          "base_uri": "https://localhost:8080/",
          "height": 1000
        },
        "outputId": "e01c313a-bdb8-4981-b5aa-90e30a6582e5"
      },
      "execution_count": 25,
      "outputs": [
        {
          "output_type": "stream",
          "name": "stdout",
          "text": [
            "Confusion matrix, without normalization\n",
            "[[ 525   23  114]\n",
            " [ 234   23  134]\n",
            " [ 122   34 1045]]\n",
            "Normalized confusion matrix\n",
            "[[0.79305136 0.0347432  0.17220544]\n",
            " [0.59846547 0.05882353 0.342711  ]\n",
            " [0.10158201 0.02830974 0.87010824]]\n"
          ]
        },
        {
          "output_type": "display_data",
          "data": {
            "text/plain": [
              "<Figure size 640x480 with 2 Axes>"
            ],
            "image/png": "[encoded data removed]"
          },
          "metadata": {}
        },
        {
          "output_type": "display_data",
          "data": {
            "text/plain": [
              "<Figure size 640x480 with 2 Axes>"
            ],
            "image/png": "[encoded data removed]"
          },
          "metadata": {}
        }
      ]
    },
    {
      "cell_type": "markdown",
      "source": [
        "## Decision Tree"
      ],
      "metadata": {
        "id": "e8fF93ufqv4V"
      }
    },
    {
      "cell_type": "code",
      "source": [
        "# Import necessary libraries\n",
        "from sklearn import tree\n",
        "\n",
        "# Check for and handle None values in the 'sentiment' column\n",
        "df['label'].fillna('None', inplace=True)\n",
        "\n",
        "# Convert text data into TF-IDF features\n",
        "vectorizer = TfidfVectorizer()\n",
        "X = vectorizer.fit_transform(df[\"words\"])\n",
        "\n",
        "# Split the data into training and testing sets\n",
        "X_train, X_test, y_train, y_test = train_test_split(X, df[\"label\"], test_size=0.2, random_state=42)\n",
        "\n",
        "# Initialize and train the Logistic Regression model\n",
        "decision_tree_model = tree.DecisionTreeClassifier()\n",
        "decision_tree_model.fit(X_train, y_train)\n",
        "\n",
        "# Make predictions on the test set\n",
        "y_pred = decision_tree_model.predict(X_test)\n",
        "\n",
        "# Evaluate the model\n",
        "accuracy = accuracy_score(y_test, y_pred)\n",
        "report = classification_report(y_test, y_pred)\n",
        "\n",
        "print(f\"Accuracy: {accuracy}\")\n",
        "print(report)"
      ],
      "metadata": {
        "id": "zZeuTxr3rnx9",
        "colab": {
          "base_uri": "https://localhost:8080/"
        },
        "outputId": "ced45d4f-9b11-43c4-9c39-3eea2dcb1f7d"
      },
      "execution_count": 26,
      "outputs": [
        {
          "output_type": "stream",
          "name": "stdout",
          "text": [
            "Accuracy: 0.6162377994676131\n",
            "              precision    recall  f1-score   support\n",
            "\n",
            "    negative       0.52      0.65      0.57       662\n",
            "     neutral       0.19      0.11      0.14       391\n",
            "    positive       0.77      0.76      0.77      1201\n",
            "\n",
            "    accuracy                           0.62      2254\n",
            "   macro avg       0.49      0.51      0.49      2254\n",
            "weighted avg       0.59      0.62      0.60      2254\n",
            "\n"
          ]
        }
      ]
    },
    {
      "cell_type": "code",
      "source": [
        "for title, normalize in titles_options:\n",
        "    disp = ConfusionMatrixDisplay.from_estimator(\n",
        "        decision_tree_model,\n",
        "        X_test,\n",
        "        y_test,\n",
        "        display_labels=[\"positive\", \"negative\", \"neutral\"],\n",
        "        cmap=plt.cm.Blues,\n",
        "        normalize=normalize,\n",
        "    )\n",
        "    disp.ax_.set_title(title)\n",
        "\n",
        "    print(title)\n",
        "    print(disp.confusion_matrix)\n",
        "\n",
        "plt.show()"
      ],
      "metadata": {
        "id": "l6F48QwYrr11",
        "colab": {
          "base_uri": "https://localhost:8080/",
          "height": 1000
        },
        "outputId": "0def7d31-0ead-4370-9ec8-d8cd0d862b74"
      },
      "execution_count": 27,
      "outputs": [
        {
          "output_type": "stream",
          "name": "stdout",
          "text": [
            "Confusion matrix, without normalization\n",
            "[[427  86 149]\n",
            " [224  44 123]\n",
            " [177 106 918]]\n",
            "Normalized confusion matrix\n",
            "[[0.64501511 0.12990937 0.22507553]\n",
            " [0.57289003 0.11253197 0.31457801]\n",
            " [0.14737719 0.08825978 0.76436303]]\n"
          ]
        },
        {
          "output_type": "display_data",
          "data": {
            "text/plain": [
              "<Figure size 640x480 with 2 Axes>"
            ],
            "image/png": "[encoded data removed]"
          },
          "metadata": {}
        },
        {
          "output_type": "display_data",
          "data": {
            "text/plain": [
              "<Figure size 640x480 with 2 Axes>"
            ],
            "image/png": "[encoded data removed]"
          },
          "metadata": {}
        }
      ]
    },
    {
      "cell_type": "markdown",
      "source": [
        "# Deep learning"
      ],
      "metadata": {
        "id": "-ndMEbTcjzno"
      }
    },
    {
      "cell_type": "code",
      "source": [
        "def create_word_features(clean_words):\n",
        "    my_dict = dict([(word, True) for word in clean_words])\n",
        "    return my_dict\n",
        "\n",
        "df['feature'] = df['words'].apply(create_word_features)"
      ],
      "metadata": {
        "id": "_429kJpQpmbF"
      },
      "execution_count": 28,
      "outputs": []
    },
    {
      "cell_type": "code",
      "source": [
        "df.head()"
      ],
      "metadata": {
        "id": "0-QAjT-70ozL",
        "colab": {
          "base_uri": "https://localhost:8080/",
          "height": 206
        },
        "outputId": "5464b99e-7dcb-465d-afac-2ce887d9f0f6"
      },
      "execution_count": 29,
      "outputs": [
        {
          "output_type": "execute_result",
          "data": {
            "text/plain": [
              "                                             comment  rating  \\\n",
              "0  Công dụng:rỬa mặt\\nMùi hương:ổn\\nKết cấu:gel\\n...       1   \n",
              "1  Công dụng:sữa rửa mặt\\nMùi hương:chưa biết\\nDà...       1   \n",
              "2  Dành cho da:lhuf hợp với mọi loại da\\nCông dụn...       1   \n",
              "3  Công dụng:Rửa mặt\\nMùi hương:Gần như không có\\...       1   \n",
              "4  Công dụng:làm sạch\\nMùi hương:không biết\\nDành...       1   \n",
              "\n",
              "                                               words     label  \\\n",
              "0  Công dụng rỬa mặt Mùi hương ổn Kết cấu gel sho...  negative   \n",
              "1  Công dụng sữa rửa mặt Mùi hương da bình chất v...  negative   \n",
              "2  da lhuf hợp da Công dụng sạch da Mùi hương mùi...  negative   \n",
              "3  Công dụng Rửa mặt Mùi hương da da Shipper gọi ...  negative   \n",
              "4  Công dụng sạch Mùi hương da tất flashs sale 1 ...  negative   \n",
              "\n",
              "                                             feature  \n",
              "0  {'C': True, 'ô': True, 'n': True, 'g': True, '...  \n",
              "1  {'C': True, 'ô': True, 'n': True, 'g': True, '...  \n",
              "2  {'d': True, 'a': True, ' ': True, 'l': True, '...  \n",
              "3  {'C': True, 'ô': True, 'n': True, 'g': True, '...  \n",
              "4  {'C': True, 'ô': True, 'n': True, 'g': True, '...  "
            ],
            "text/html": [
              "\n",
              "  <div id=\"df-d0a38199-fbca-4ae0-bda3-915887ec0fef\" class=\"colab-df-container\">\n",
              "    <div>\n",
              "<style scoped>\n",
              "    .dataframe tbody tr th:only-of-type {\n",
              "        vertical-align: middle;\n",
              "    }\n",
              "\n",
              "    .dataframe tbody tr th {\n",
              "        vertical-align: top;\n",
              "    }\n",
              "\n",
              "    .dataframe thead th {\n",
              "        text-align: right;\n",
              "    }\n",
              "</style>\n",
              "<table border=\"1\" class=\"dataframe\">\n",
              "  <thead>\n",
              "    <tr style=\"text-align: right;\">\n",
              "      <th></th>\n",
              "      <th>comment</th>\n",
              "      <th>rating</th>\n",
              "      <th>words</th>\n",
              "      <th>label</th>\n",
              "      <th>feature</th>\n",
              "    </tr>\n",
              "  </thead>\n",
              "  <tbody>\n",
              "    <tr>\n",
              "      <th>0</th>\n",
              "      <td>Công dụng:rỬa mặt\\nMùi hương:ổn\\nKết cấu:gel\\n...</td>\n",
              "      <td>1</td>\n",
              "      <td>Công dụng rỬa mặt Mùi hương ổn Kết cấu gel sho...</td>\n",
              "      <td>negative</td>\n",
              "      <td>{'C': True, 'ô': True, 'n': True, 'g': True, '...</td>\n",
              "    </tr>\n",
              "    <tr>\n",
              "      <th>1</th>\n",
              "      <td>Công dụng:sữa rửa mặt\\nMùi hương:chưa biết\\nDà...</td>\n",
              "      <td>1</td>\n",
              "      <td>Công dụng sữa rửa mặt Mùi hương da bình chất v...</td>\n",
              "      <td>negative</td>\n",
              "      <td>{'C': True, 'ô': True, 'n': True, 'g': True, '...</td>\n",
              "    </tr>\n",
              "    <tr>\n",
              "      <th>2</th>\n",
              "      <td>Dành cho da:lhuf hợp với mọi loại da\\nCông dụn...</td>\n",
              "      <td>1</td>\n",
              "      <td>da lhuf hợp da Công dụng sạch da Mùi hương mùi...</td>\n",
              "      <td>negative</td>\n",
              "      <td>{'d': True, 'a': True, ' ': True, 'l': True, '...</td>\n",
              "    </tr>\n",
              "    <tr>\n",
              "      <th>3</th>\n",
              "      <td>Công dụng:Rửa mặt\\nMùi hương:Gần như không có\\...</td>\n",
              "      <td>1</td>\n",
              "      <td>Công dụng Rửa mặt Mùi hương da da Shipper gọi ...</td>\n",
              "      <td>negative</td>\n",
              "      <td>{'C': True, 'ô': True, 'n': True, 'g': True, '...</td>\n",
              "    </tr>\n",
              "    <tr>\n",
              "      <th>4</th>\n",
              "      <td>Công dụng:làm sạch\\nMùi hương:không biết\\nDành...</td>\n",
              "      <td>1</td>\n",
              "      <td>Công dụng sạch Mùi hương da tất flashs sale 1 ...</td>\n",
              "      <td>negative</td>\n",
              "      <td>{'C': True, 'ô': True, 'n': True, 'g': True, '...</td>\n",
              "    </tr>\n",
              "  </tbody>\n",
              "</table>\n",
              "</div>\n",
              "    <div class=\"colab-df-buttons\">\n",
              "\n",
              "  <div class=\"colab-df-container\">\n",
              "    <button class=\"colab-df-convert\" onclick=\"convertToInteractive('df-d0a38199-fbca-4ae0-bda3-915887ec0fef')\"\n",
              "            title=\"Convert this dataframe to an interactive table.\"\n",
              "            style=\"display:none;\">\n",
              "\n",
              "  <svg xmlns=\"http://www.w3.org/2000/svg\" height=\"24px\" viewBox=\"0 -960 960 960\">\n",
              "    <path d=\"M120-120v-720h720v720H120Zm60-500h600v-160H180v160Zm220 220h160v-160H400v160Zm0 220h160v-160H400v160ZM180-400h160v-160H180v160Zm440 0h160v-160H620v160ZM180-180h160v-160H180v160Zm440 0h160v-160H620v160Z\"/>\n",
              "  </svg>\n",
              "    </button>\n",
              "\n",
              "  <style>\n",
              "    .colab-df-container {\n",
              "      display:flex;\n",
              "      gap: 12px;\n",
              "    }\n",
              "\n",
              "    .colab-df-convert {\n",
              "      background-color: #E8F0FE;\n",
              "      border: none;\n",
              "      border-radius: 50%;\n",
              "      cursor: pointer;\n",
              "      display: none;\n",
              "      fill: #1967D2;\n",
              "      height: 32px;\n",
              "      padding: 0 0 0 0;\n",
              "      width: 32px;\n",
              "    }\n",
              "\n",
              "    .colab-df-convert:hover {\n",
              "      background-color: #E2EBFA;\n",
              "      box-shadow: 0px 1px 2px rgba(60, 64, 67, 0.3), 0px 1px 3px 1px rgba(60, 64, 67, 0.15);\n",
              "      fill: #174EA6;\n",
              "    }\n",
              "\n",
              "    .colab-df-buttons div {\n",
              "      margin-bottom: 4px;\n",
              "    }\n",
              "\n",
              "    [theme=dark] .colab-df-convert {\n",
              "      background-color: #3B4455;\n",
              "      fill: #D2E3FC;\n",
              "    }\n",
              "\n",
              "    [theme=dark] .colab-df-convert:hover {\n",
              "      background-color: #434B5C;\n",
              "      box-shadow: 0px 1px 3px 1px rgba(0, 0, 0, 0.15);\n",
              "      filter: drop-shadow(0px 1px 2px rgba(0, 0, 0, 0.3));\n",
              "      fill: #FFFFFF;\n",
              "    }\n",
              "  </style>\n",
              "\n",
              "    <script>\n",
              "      const buttonEl =\n",
              "        document.querySelector('#df-d0a38199-fbca-4ae0-bda3-915887ec0fef button.colab-df-convert');\n",
              "      buttonEl.style.display =\n",
              "        google.colab.kernel.accessAllowed ? 'block' : 'none';\n",
              "\n",
              "      async function convertToInteractive(key) {\n",
              "        const element = document.querySelector('#df-d0a38199-fbca-4ae0-bda3-915887ec0fef');\n",
              "        const dataTable =\n",
              "          await google.colab.kernel.invokeFunction('convertToInteractive',\n",
              "                                                    [key], {});\n",
              "        if (!dataTable) return;\n",
              "\n",
              "        const docLinkHtml = 'Like what you see? Visit the ' +\n",
              "          '<a target=\"_blank\" href=https://colab.research.google.com/notebooks/data_table.ipynb>data table notebook</a>'\n",
              "          + ' to learn more about interactive tables.';\n",
              "        element.innerHTML = '';\n",
              "        dataTable['output_type'] = 'display_data';\n",
              "        await google.colab.output.renderOutput(dataTable, element);\n",
              "        const docLink = document.createElement('div');\n",
              "        docLink.innerHTML = docLinkHtml;\n",
              "        element.appendChild(docLink);\n",
              "      }\n",
              "    </script>\n",
              "  </div>\n",
              "\n",
              "\n",
              "<div id=\"df-0c69bd75-05b3-43e4-bff7-87685c7cd931\">\n",
              "  <button class=\"colab-df-quickchart\" onclick=\"quickchart('df-0c69bd75-05b3-43e4-bff7-87685c7cd931')\"\n",
              "            title=\"Suggest charts\"\n",
              "            style=\"display:none;\">\n",
              "\n",
              "<svg xmlns=\"http://www.w3.org/2000/svg\" height=\"24px\"viewBox=\"0 0 24 24\"\n",
              "     width=\"24px\">\n",
              "    <g>\n",
              "        <path d=\"M19 3H5c-1.1 0-2 .9-2 2v14c0 1.1.9 2 2 2h14c1.1 0 2-.9 2-2V5c0-1.1-.9-2-2-2zM9 17H7v-7h2v7zm4 0h-2V7h2v10zm4 0h-2v-4h2v4z\"/>\n",
              "    </g>\n",
              "</svg>\n",
              "  </button>\n",
              "\n",
              "<style>\n",
              "  .colab-df-quickchart {\n",
              "      --bg-color: #E8F0FE;\n",
              "      --fill-color: #1967D2;\n",
              "      --hover-bg-color: #E2EBFA;\n",
              "      --hover-fill-color: #174EA6;\n",
              "      --disabled-fill-color: #AAA;\n",
              "      --disabled-bg-color: #DDD;\n",
              "  }\n",
              "\n",
              "  [theme=dark] .colab-df-quickchart {\n",
              "      --bg-color: #3B4455;\n",
              "      --fill-color: #D2E3FC;\n",
              "      --hover-bg-color: #434B5C;\n",
              "      --hover-fill-color: #FFFFFF;\n",
              "      --disabled-bg-color: #3B4455;\n",
              "      --disabled-fill-color: #666;\n",
              "  }\n",
              "\n",
              "  .colab-df-quickchart {\n",
              "    background-color: var(--bg-color);\n",
              "    border: none;\n",
              "    border-radius: 50%;\n",
              "    cursor: pointer;\n",
              "    display: none;\n",
              "    fill: var(--fill-color);\n",
              "    height: 32px;\n",
              "    padding: 0;\n",
              "    width: 32px;\n",
              "  }\n",
              "\n",
              "  .colab-df-quickchart:hover {\n",
              "    background-color: var(--hover-bg-color);\n",
              "    box-shadow: 0 1px 2px rgba(60, 64, 67, 0.3), 0 1px 3px 1px rgba(60, 64, 67, 0.15);\n",
              "    fill: var(--button-hover-fill-color);\n",
              "  }\n",
              "\n",
              "  .colab-df-quickchart-complete:disabled,\n",
              "  .colab-df-quickchart-complete:disabled:hover {\n",
              "    background-color: var(--disabled-bg-color);\n",
              "    fill: var(--disabled-fill-color);\n",
              "    box-shadow: none;\n",
              "  }\n",
              "\n",
              "  .colab-df-spinner {\n",
              "    border: 2px solid var(--fill-color);\n",
              "    border-color: transparent;\n",
              "    border-bottom-color: var(--fill-color);\n",
              "    animation:\n",
              "      spin 1s steps(1) infinite;\n",
              "  }\n",
              "\n",
              "  @keyframes spin {\n",
              "    0% {\n",
              "      border-color: transparent;\n",
              "      border-bottom-color: var(--fill-color);\n",
              "      border-left-color: var(--fill-color);\n",
              "    }\n",
              "    20% {\n",
              "      border-color: transparent;\n",
              "      border-left-color: var(--fill-color);\n",
              "      border-top-color: var(--fill-color);\n",
              "    }\n",
              "    30% {\n",
              "      border-color: transparent;\n",
              "      border-left-color: var(--fill-color);\n",
              "      border-top-color: var(--fill-color);\n",
              "      border-right-color: var(--fill-color);\n",
              "    }\n",
              "    40% {\n",
              "      border-color: transparent;\n",
              "      border-right-color: var(--fill-color);\n",
              "      border-top-color: var(--fill-color);\n",
              "    }\n",
              "    60% {\n",
              "      border-color: transparent;\n",
              "      border-right-color: var(--fill-color);\n",
              "    }\n",
              "    80% {\n",
              "      border-color: transparent;\n",
              "      border-right-color: var(--fill-color);\n",
              "      border-bottom-color: var(--fill-color);\n",
              "    }\n",
              "    90% {\n",
              "      border-color: transparent;\n",
              "      border-bottom-color: var(--fill-color);\n",
              "    }\n",
              "  }\n",
              "</style>\n",
              "\n",
              "  <script>\n",
              "    async function quickchart(key) {\n",
              "      const quickchartButtonEl =\n",
              "        document.querySelector('#' + key + ' button');\n",
              "      quickchartButtonEl.disabled = true;  // To prevent multiple clicks.\n",
              "      quickchartButtonEl.classList.add('colab-df-spinner');\n",
              "      try {\n",
              "        const charts = await google.colab.kernel.invokeFunction(\n",
              "            'suggestCharts', [key], {});\n",
              "      } catch (error) {\n",
              "        console.error('Error during call to suggestCharts:', error);\n",
              "      }\n",
              "      quickchartButtonEl.classList.remove('colab-df-spinner');\n",
              "      quickchartButtonEl.classList.add('colab-df-quickchart-complete');\n",
              "    }\n",
              "    (() => {\n",
              "      let quickchartButtonEl =\n",
              "        document.querySelector('#df-0c69bd75-05b3-43e4-bff7-87685c7cd931 button');\n",
              "      quickchartButtonEl.style.display =\n",
              "        google.colab.kernel.accessAllowed ? 'block' : 'none';\n",
              "    })();\n",
              "  </script>\n",
              "</div>\n",
              "    </div>\n",
              "  </div>\n"
            ],
            "application/vnd.google.colaboratory.intrinsic+json": {
              "type": "dataframe",
              "variable_name": "df",
              "summary": "{\n  \"name\": \"df\",\n  \"rows\": 11269,\n  \"fields\": [\n    {\n      \"column\": \"comment\",\n      \"properties\": {\n        \"dtype\": \"string\",\n        \"num_unique_values\": 9520,\n        \"samples\": [\n          \"C\\u00f4ng d\\u1ee5ng:l\\u00e0m s\\u1ea1ch da\\nM\\u00f9i h\\u01b0\\u01a1ng:m\\u00f9i nh\\u1ea1t\\n\\nGiao h\\u00e0ng nhanh, \\u0111\\u00f3ng g\\u00f3i \\u1ed5n. M\\u1edbi d\\u00f9ng mn ko th\\u1ea5y m\\u00f9i \\u0111\\u00e2u, d\\u00f9ng hai ba l\\u1ea7n m\\u1edbi th\\u1ea5y m\\u00f9i d\\u1ecbu d\\u1ecbu.\",\n          \"H\\u00ecnh \\u1ea3nh ch\\u1ec9 mang t\\u00ednh ch\\u1ea5t minh ho\\u1ea1 \\u0111\\u00e1nh gi\\u00e1 \\u0111\\u1ec3 l\\u1ea5y xu ko c\\u00f3 \\u0111\\u00e2u\",\n          \"C\\u00f4ng d\\u1ee5ng:ok\\n\\nC\\u0169ng ok , hong c\\u00f3 \\u0111i\\u1ec3m g\\u00ec qu\\u00e1 \\u0111\\u1eb7c bi\\u1ec7t nma x\\u00e0i c\\u0169ng dc gi\\u00e1 th\\u00e0nh r\\u1ebb \\u00f3 n\\u00ean mua\"\n        ],\n        \"semantic_type\": \"\",\n        \"description\": \"\"\n      }\n    },\n    {\n      \"column\": \"rating\",\n      \"properties\": {\n        \"dtype\": \"number\",\n        \"std\": 1,\n        \"min\": 1,\n        \"max\": 5,\n        \"num_unique_values\": 5,\n        \"samples\": [\n          2,\n          5,\n          3\n        ],\n        \"semantic_type\": \"\",\n        \"description\": \"\"\n      }\n    },\n    {\n      \"column\": \"words\",\n      \"properties\": {\n        \"dtype\": \"string\",\n        \"num_unique_values\": 9437,\n        \"samples\": [\n          \"C\\u00f4ng d\\u1ee5ng M\\u00f9i h\\u01b0\\u01a1ng da s\\u0103n sale 15 6 b\\u1ea3o mua 1 srm t\\u1eb7ng 1 chai t\\u1ea9y trang h\\u00e0ng ko t\\u1ea9y trang nt shop ko x\\u1eed l\\u00fd \\u0111\\u1ea7u mua c\\u1ea3m th\\u1ea5t v\\u1ecdng ko bao l2\",\n          \"\\u0110\\u00f3ng g\\u00f3i ko c\\u1ea9n th\\u1eadn G\\u00f3i h\\u00e0ng r\\u00e1ch\",\n          \"C\\u00f4ng d\\u1ee5ng s\\u1eefa r\\u1eeda m\\u1eb7t d\\u1ecbu nh\\u1eb9 da m\\u1ee5n M\\u00f9i h\\u01b0\\u01a1ng m\\u00f9i Ph\\u00f9 h\\u1ee3p da da m\\u1ee5n Mua quen d\\u1ecbu nh\\u1eb9\"\n        ],\n        \"semantic_type\": \"\",\n        \"description\": \"\"\n      }\n    },\n    {\n      \"column\": \"label\",\n      \"properties\": {\n        \"dtype\": \"category\",\n        \"num_unique_values\": 3,\n        \"samples\": [\n          \"negative\",\n          \"neutral\",\n          \"positive\"\n        ],\n        \"semantic_type\": \"\",\n        \"description\": \"\"\n      }\n    },\n    {\n      \"column\": \"feature\",\n      \"properties\": {\n        \"dtype\": \"object\",\n        \"semantic_type\": \"\",\n        \"description\": \"\"\n      }\n    }\n  ]\n}"
            }
          },
          "metadata": {},
          "execution_count": 29
        }
      ]
    },
    {
      "cell_type": "code",
      "source": [],
      "metadata": {
        "id": "4mYOguZs5JD3"
      },
      "execution_count": 29,
      "outputs": []
    },
    {
      "cell_type": "code",
      "source": [
        "from sklearn.feature_extraction.text import CountVectorizer\n",
        "from sklearn.model_selection import train_test_split\n",
        "from sklearn.naive_bayes import MultinomialNB\n",
        "from sklearn.metrics import accuracy_score, classification_report\n",
        "from sklearn.preprocessing import LabelEncoder\n",
        "\n",
        "le = LabelEncoder()\n",
        "le.fit(df['label'])\n",
        "encoded_labels = le.transform(df['label'])\n",
        "\n",
        "# Convert text data into bag-of-words features\n",
        "# vectorizer = CountVectorizer()\n",
        "# x = vectorizer.fit_transform(df['words'])"
      ],
      "metadata": {
        "id": "vqDYGU4AmY4E"
      },
      "execution_count": 30,
      "outputs": []
    },
    {
      "cell_type": "code",
      "source": [
        "df['label_num'] = encoded_labels"
      ],
      "metadata": {
        "id": "jhk_YH-06IPu"
      },
      "execution_count": 31,
      "outputs": []
    },
    {
      "cell_type": "code",
      "source": [
        "df.head(-50)"
      ],
      "metadata": {
        "id": "_0lxe6Hv6QMT",
        "colab": {
          "base_uri": "https://localhost:8080/",
          "height": 424
        },
        "outputId": "21cf941e-f1a7-4171-ce59-1174c18c1679"
      },
      "execution_count": 32,
      "outputs": [
        {
          "output_type": "execute_result",
          "data": {
            "text/plain": [
              "                                                 comment  rating  \\\n",
              "0      Công dụng:rỬa mặt\\nMùi hương:ổn\\nKết cấu:gel\\n...       1   \n",
              "1      Công dụng:sữa rửa mặt\\nMùi hương:chưa biết\\nDà...       1   \n",
              "2      Dành cho da:lhuf hợp với mọi loại da\\nCông dụn...       1   \n",
              "3      Công dụng:Rửa mặt\\nMùi hương:Gần như không có\\...       1   \n",
              "4      Công dụng:làm sạch\\nMùi hương:không biết\\nDành...       1   \n",
              "...                                                  ...     ...   \n",
              "11214  tôi đã mua 10000000 lần yêu srm này lắm 🥺😭💗 dù...       5   \n",
              "11215  Mùi hương:khong mui\\nDành cho da:moi loai da\\n...       5   \n",
              "11216  Công dụng:sạch da\\nMùi hương:nhẹ '\\nDành cho d...       5   \n",
              "11217  Dành cho da:mọi loại da\\nMùi hương:không mùi\\n...       5   \n",
              "11218  Mua lần thứ n rồi mà dùng vẫn thích nên vẫn ch...       5   \n",
              "\n",
              "                                                   words     label  \\\n",
              "0      Công dụng rỬa mặt Mùi hương ổn Kết cấu gel sho...  negative   \n",
              "1      Công dụng sữa rửa mặt Mùi hương da bình chất v...  negative   \n",
              "2      da lhuf hợp da Công dụng sạch da Mùi hương mùi...  negative   \n",
              "3      Công dụng Rửa mặt Mùi hương da da Shipper gọi ...  negative   \n",
              "4      Công dụng sạch Mùi hương da tất flashs sale 1 ...  negative   \n",
              "...                                                  ...       ...   \n",
              "11214  mua 10000000 yêu srm lắm sạch mềm da nma makeu...  positive   \n",
              "11215  Mùi hương khong mui da moi loai da Công dụng s...  positive   \n",
              "11216  Công dụng sạch da Mùi hương nhẹ da nhạy cảm da...  positive   \n",
              "11217  da da Mùi hương mùi Công dụng sạch da mặt mua ...  positive   \n",
              "11218                       Mua n định đổi Rẻ Phù hợp da  positive   \n",
              "\n",
              "                                                 feature  label_num  \n",
              "0      {'C': True, 'ô': True, 'n': True, 'g': True, '...          0  \n",
              "1      {'C': True, 'ô': True, 'n': True, 'g': True, '...          0  \n",
              "2      {'d': True, 'a': True, ' ': True, 'l': True, '...          0  \n",
              "3      {'C': True, 'ô': True, 'n': True, 'g': True, '...          0  \n",
              "4      {'C': True, 'ô': True, 'n': True, 'g': True, '...          0  \n",
              "...                                                  ...        ...  \n",
              "11214  {'m': True, 'u': True, 'a': True, ' ': True, '...          2  \n",
              "11215  {'M': True, 'ù': True, 'i': True, ' ': True, '...          2  \n",
              "11216  {'C': True, 'ô': True, 'n': True, 'g': True, '...          2  \n",
              "11217  {'d': True, 'a': True, ' ': True, 'M': True, '...          2  \n",
              "11218  {'M': True, 'u': True, 'a': True, ' ': True, '...          2  \n",
              "\n",
              "[11219 rows x 6 columns]"
            ],
            "text/html": [
              "\n",
              "  <div id=\"df-57752c26-2001-4da6-9782-52521b3f9c87\" class=\"colab-df-container\">\n",
              "    <div>\n",
              "<style scoped>\n",
              "    .dataframe tbody tr th:only-of-type {\n",
              "        vertical-align: middle;\n",
              "    }\n",
              "\n",
              "    .dataframe tbody tr th {\n",
              "        vertical-align: top;\n",
              "    }\n",
              "\n",
              "    .dataframe thead th {\n",
              "        text-align: right;\n",
              "    }\n",
              "</style>\n",
              "<table border=\"1\" class=\"dataframe\">\n",
              "  <thead>\n",
              "    <tr style=\"text-align: right;\">\n",
              "      <th></th>\n",
              "      <th>comment</th>\n",
              "      <th>rating</th>\n",
              "      <th>words</th>\n",
              "      <th>label</th>\n",
              "      <th>feature</th>\n",
              "      <th>label_num</th>\n",
              "    </tr>\n",
              "  </thead>\n",
              "  <tbody>\n",
              "    <tr>\n",
              "      <th>0</th>\n",
              "      <td>Công dụng:rỬa mặt\\nMùi hương:ổn\\nKết cấu:gel\\n...</td>\n",
              "      <td>1</td>\n",
              "      <td>Công dụng rỬa mặt Mùi hương ổn Kết cấu gel sho...</td>\n",
              "      <td>negative</td>\n",
              "      <td>{'C': True, 'ô': True, 'n': True, 'g': True, '...</td>\n",
              "      <td>0</td>\n",
              "    </tr>\n",
              "    <tr>\n",
              "      <th>1</th>\n",
              "      <td>Công dụng:sữa rửa mặt\\nMùi hương:chưa biết\\nDà...</td>\n",
              "      <td>1</td>\n",
              "      <td>Công dụng sữa rửa mặt Mùi hương da bình chất v...</td>\n",
              "      <td>negative</td>\n",
              "      <td>{'C': True, 'ô': True, 'n': True, 'g': True, '...</td>\n",
              "      <td>0</td>\n",
              "    </tr>\n",
              "    <tr>\n",
              "      <th>2</th>\n",
              "      <td>Dành cho da:lhuf hợp với mọi loại da\\nCông dụn...</td>\n",
              "      <td>1</td>\n",
              "      <td>da lhuf hợp da Công dụng sạch da Mùi hương mùi...</td>\n",
              "      <td>negative</td>\n",
              "      <td>{'d': True, 'a': True, ' ': True, 'l': True, '...</td>\n",
              "      <td>0</td>\n",
              "    </tr>\n",
              "    <tr>\n",
              "      <th>3</th>\n",
              "      <td>Công dụng:Rửa mặt\\nMùi hương:Gần như không có\\...</td>\n",
              "      <td>1</td>\n",
              "      <td>Công dụng Rửa mặt Mùi hương da da Shipper gọi ...</td>\n",
              "      <td>negative</td>\n",
              "      <td>{'C': True, 'ô': True, 'n': True, 'g': True, '...</td>\n",
              "      <td>0</td>\n",
              "    </tr>\n",
              "    <tr>\n",
              "      <th>4</th>\n",
              "      <td>Công dụng:làm sạch\\nMùi hương:không biết\\nDành...</td>\n",
              "      <td>1</td>\n",
              "      <td>Công dụng sạch Mùi hương da tất flashs sale 1 ...</td>\n",
              "      <td>negative</td>\n",
              "      <td>{'C': True, 'ô': True, 'n': True, 'g': True, '...</td>\n",
              "      <td>0</td>\n",
              "    </tr>\n",
              "    <tr>\n",
              "      <th>...</th>\n",
              "      <td>...</td>\n",
              "      <td>...</td>\n",
              "      <td>...</td>\n",
              "      <td>...</td>\n",
              "      <td>...</td>\n",
              "      <td>...</td>\n",
              "    </tr>\n",
              "    <tr>\n",
              "      <th>11214</th>\n",
              "      <td>tôi đã mua 10000000 lần yêu srm này lắm 🥺😭💗 dù...</td>\n",
              "      <td>5</td>\n",
              "      <td>mua 10000000 yêu srm lắm sạch mềm da nma makeu...</td>\n",
              "      <td>positive</td>\n",
              "      <td>{'m': True, 'u': True, 'a': True, ' ': True, '...</td>\n",
              "      <td>2</td>\n",
              "    </tr>\n",
              "    <tr>\n",
              "      <th>11215</th>\n",
              "      <td>Mùi hương:khong mui\\nDành cho da:moi loai da\\n...</td>\n",
              "      <td>5</td>\n",
              "      <td>Mùi hương khong mui da moi loai da Công dụng s...</td>\n",
              "      <td>positive</td>\n",
              "      <td>{'M': True, 'ù': True, 'i': True, ' ': True, '...</td>\n",
              "      <td>2</td>\n",
              "    </tr>\n",
              "    <tr>\n",
              "      <th>11216</th>\n",
              "      <td>Công dụng:sạch da\\nMùi hương:nhẹ '\\nDành cho d...</td>\n",
              "      <td>5</td>\n",
              "      <td>Công dụng sạch da Mùi hương nhẹ da nhạy cảm da...</td>\n",
              "      <td>positive</td>\n",
              "      <td>{'C': True, 'ô': True, 'n': True, 'g': True, '...</td>\n",
              "      <td>2</td>\n",
              "    </tr>\n",
              "    <tr>\n",
              "      <th>11217</th>\n",
              "      <td>Dành cho da:mọi loại da\\nMùi hương:không mùi\\n...</td>\n",
              "      <td>5</td>\n",
              "      <td>da da Mùi hương mùi Công dụng sạch da mặt mua ...</td>\n",
              "      <td>positive</td>\n",
              "      <td>{'d': True, 'a': True, ' ': True, 'M': True, '...</td>\n",
              "      <td>2</td>\n",
              "    </tr>\n",
              "    <tr>\n",
              "      <th>11218</th>\n",
              "      <td>Mua lần thứ n rồi mà dùng vẫn thích nên vẫn ch...</td>\n",
              "      <td>5</td>\n",
              "      <td>Mua n định đổi Rẻ Phù hợp da</td>\n",
              "      <td>positive</td>\n",
              "      <td>{'M': True, 'u': True, 'a': True, ' ': True, '...</td>\n",
              "      <td>2</td>\n",
              "    </tr>\n",
              "  </tbody>\n",
              "</table>\n",
              "<p>11219 rows × 6 columns</p>\n",
              "</div>\n",
              "    <div class=\"colab-df-buttons\">\n",
              "\n",
              "  <div class=\"colab-df-container\">\n",
              "    <button class=\"colab-df-convert\" onclick=\"convertToInteractive('df-57752c26-2001-4da6-9782-52521b3f9c87')\"\n",
              "            title=\"Convert this dataframe to an interactive table.\"\n",
              "            style=\"display:none;\">\n",
              "\n",
              "  <svg xmlns=\"http://www.w3.org/2000/svg\" height=\"24px\" viewBox=\"0 -960 960 960\">\n",
              "    <path d=\"M120-120v-720h720v720H120Zm60-500h600v-160H180v160Zm220 220h160v-160H400v160Zm0 220h160v-160H400v160ZM180-400h160v-160H180v160Zm440 0h160v-160H620v160ZM180-180h160v-160H180v160Zm440 0h160v-160H620v160Z\"/>\n",
              "  </svg>\n",
              "    </button>\n",
              "\n",
              "  <style>\n",
              "    .colab-df-container {\n",
              "      display:flex;\n",
              "      gap: 12px;\n",
              "    }\n",
              "\n",
              "    .colab-df-convert {\n",
              "      background-color: #E8F0FE;\n",
              "      border: none;\n",
              "      border-radius: 50%;\n",
              "      cursor: pointer;\n",
              "      display: none;\n",
              "      fill: #1967D2;\n",
              "      height: 32px;\n",
              "      padding: 0 0 0 0;\n",
              "      width: 32px;\n",
              "    }\n",
              "\n",
              "    .colab-df-convert:hover {\n",
              "      background-color: #E2EBFA;\n",
              "      box-shadow: 0px 1px 2px rgba(60, 64, 67, 0.3), 0px 1px 3px 1px rgba(60, 64, 67, 0.15);\n",
              "      fill: #174EA6;\n",
              "    }\n",
              "\n",
              "    .colab-df-buttons div {\n",
              "      margin-bottom: 4px;\n",
              "    }\n",
              "\n",
              "    [theme=dark] .colab-df-convert {\n",
              "      background-color: #3B4455;\n",
              "      fill: #D2E3FC;\n",
              "    }\n",
              "\n",
              "    [theme=dark] .colab-df-convert:hover {\n",
              "      background-color: #434B5C;\n",
              "      box-shadow: 0px 1px 3px 1px rgba(0, 0, 0, 0.15);\n",
              "      filter: drop-shadow(0px 1px 2px rgba(0, 0, 0, 0.3));\n",
              "      fill: #FFFFFF;\n",
              "    }\n",
              "  </style>\n",
              "\n",
              "    <script>\n",
              "      const buttonEl =\n",
              "        document.querySelector('#df-57752c26-2001-4da6-9782-52521b3f9c87 button.colab-df-convert');\n",
              "      buttonEl.style.display =\n",
              "        google.colab.kernel.accessAllowed ? 'block' : 'none';\n",
              "\n",
              "      async function convertToInteractive(key) {\n",
              "        const element = document.querySelector('#df-57752c26-2001-4da6-9782-52521b3f9c87');\n",
              "        const dataTable =\n",
              "          await google.colab.kernel.invokeFunction('convertToInteractive',\n",
              "                                                    [key], {});\n",
              "        if (!dataTable) return;\n",
              "\n",
              "        const docLinkHtml = 'Like what you see? Visit the ' +\n",
              "          '<a target=\"_blank\" href=https://colab.research.google.com/notebooks/data_table.ipynb>data table notebook</a>'\n",
              "          + ' to learn more about interactive tables.';\n",
              "        element.innerHTML = '';\n",
              "        dataTable['output_type'] = 'display_data';\n",
              "        await google.colab.output.renderOutput(dataTable, element);\n",
              "        const docLink = document.createElement('div');\n",
              "        docLink.innerHTML = docLinkHtml;\n",
              "        element.appendChild(docLink);\n",
              "      }\n",
              "    </script>\n",
              "  </div>\n",
              "\n",
              "\n",
              "<div id=\"df-3bf7d36d-9f16-4170-8829-3c9cb524722d\">\n",
              "  <button class=\"colab-df-quickchart\" onclick=\"quickchart('df-3bf7d36d-9f16-4170-8829-3c9cb524722d')\"\n",
              "            title=\"Suggest charts\"\n",
              "            style=\"display:none;\">\n",
              "\n",
              "<svg xmlns=\"http://www.w3.org/2000/svg\" height=\"24px\"viewBox=\"0 0 24 24\"\n",
              "     width=\"24px\">\n",
              "    <g>\n",
              "        <path d=\"M19 3H5c-1.1 0-2 .9-2 2v14c0 1.1.9 2 2 2h14c1.1 0 2-.9 2-2V5c0-1.1-.9-2-2-2zM9 17H7v-7h2v7zm4 0h-2V7h2v10zm4 0h-2v-4h2v4z\"/>\n",
              "    </g>\n",
              "</svg>\n",
              "  </button>\n",
              "\n",
              "<style>\n",
              "  .colab-df-quickchart {\n",
              "      --bg-color: #E8F0FE;\n",
              "      --fill-color: #1967D2;\n",
              "      --hover-bg-color: #E2EBFA;\n",
              "      --hover-fill-color: #174EA6;\n",
              "      --disabled-fill-color: #AAA;\n",
              "      --disabled-bg-color: #DDD;\n",
              "  }\n",
              "\n",
              "  [theme=dark] .colab-df-quickchart {\n",
              "      --bg-color: #3B4455;\n",
              "      --fill-color: #D2E3FC;\n",
              "      --hover-bg-color: #434B5C;\n",
              "      --hover-fill-color: #FFFFFF;\n",
              "      --disabled-bg-color: #3B4455;\n",
              "      --disabled-fill-color: #666;\n",
              "  }\n",
              "\n",
              "  .colab-df-quickchart {\n",
              "    background-color: var(--bg-color);\n",
              "    border: none;\n",
              "    border-radius: 50%;\n",
              "    cursor: pointer;\n",
              "    display: none;\n",
              "    fill: var(--fill-color);\n",
              "    height: 32px;\n",
              "    padding: 0;\n",
              "    width: 32px;\n",
              "  }\n",
              "\n",
              "  .colab-df-quickchart:hover {\n",
              "    background-color: var(--hover-bg-color);\n",
              "    box-shadow: 0 1px 2px rgba(60, 64, 67, 0.3), 0 1px 3px 1px rgba(60, 64, 67, 0.15);\n",
              "    fill: var(--button-hover-fill-color);\n",
              "  }\n",
              "\n",
              "  .colab-df-quickchart-complete:disabled,\n",
              "  .colab-df-quickchart-complete:disabled:hover {\n",
              "    background-color: var(--disabled-bg-color);\n",
              "    fill: var(--disabled-fill-color);\n",
              "    box-shadow: none;\n",
              "  }\n",
              "\n",
              "  .colab-df-spinner {\n",
              "    border: 2px solid var(--fill-color);\n",
              "    border-color: transparent;\n",
              "    border-bottom-color: var(--fill-color);\n",
              "    animation:\n",
              "      spin 1s steps(1) infinite;\n",
              "  }\n",
              "\n",
              "  @keyframes spin {\n",
              "    0% {\n",
              "      border-color: transparent;\n",
              "      border-bottom-color: var(--fill-color);\n",
              "      border-left-color: var(--fill-color);\n",
              "    }\n",
              "    20% {\n",
              "      border-color: transparent;\n",
              "      border-left-color: var(--fill-color);\n",
              "      border-top-color: var(--fill-color);\n",
              "    }\n",
              "    30% {\n",
              "      border-color: transparent;\n",
              "      border-left-color: var(--fill-color);\n",
              "      border-top-color: var(--fill-color);\n",
              "      border-right-color: var(--fill-color);\n",
              "    }\n",
              "    40% {\n",
              "      border-color: transparent;\n",
              "      border-right-color: var(--fill-color);\n",
              "      border-top-color: var(--fill-color);\n",
              "    }\n",
              "    60% {\n",
              "      border-color: transparent;\n",
              "      border-right-color: var(--fill-color);\n",
              "    }\n",
              "    80% {\n",
              "      border-color: transparent;\n",
              "      border-right-color: var(--fill-color);\n",
              "      border-bottom-color: var(--fill-color);\n",
              "    }\n",
              "    90% {\n",
              "      border-color: transparent;\n",
              "      border-bottom-color: var(--fill-color);\n",
              "    }\n",
              "  }\n",
              "</style>\n",
              "\n",
              "  <script>\n",
              "    async function quickchart(key) {\n",
              "      const quickchartButtonEl =\n",
              "        document.querySelector('#' + key + ' button');\n",
              "      quickchartButtonEl.disabled = true;  // To prevent multiple clicks.\n",
              "      quickchartButtonEl.classList.add('colab-df-spinner');\n",
              "      try {\n",
              "        const charts = await google.colab.kernel.invokeFunction(\n",
              "            'suggestCharts', [key], {});\n",
              "      } catch (error) {\n",
              "        console.error('Error during call to suggestCharts:', error);\n",
              "      }\n",
              "      quickchartButtonEl.classList.remove('colab-df-spinner');\n",
              "      quickchartButtonEl.classList.add('colab-df-quickchart-complete');\n",
              "    }\n",
              "    (() => {\n",
              "      let quickchartButtonEl =\n",
              "        document.querySelector('#df-3bf7d36d-9f16-4170-8829-3c9cb524722d button');\n",
              "      quickchartButtonEl.style.display =\n",
              "        google.colab.kernel.accessAllowed ? 'block' : 'none';\n",
              "    })();\n",
              "  </script>\n",
              "</div>\n",
              "    </div>\n",
              "  </div>\n"
            ],
            "application/vnd.google.colaboratory.intrinsic+json": {
              "type": "dataframe",
              "variable_name": "df",
              "summary": "{\n  \"name\": \"df\",\n  \"rows\": 11269,\n  \"fields\": [\n    {\n      \"column\": \"comment\",\n      \"properties\": {\n        \"dtype\": \"string\",\n        \"num_unique_values\": 9520,\n        \"samples\": [\n          \"C\\u00f4ng d\\u1ee5ng:l\\u00e0m s\\u1ea1ch da\\nM\\u00f9i h\\u01b0\\u01a1ng:m\\u00f9i nh\\u1ea1t\\n\\nGiao h\\u00e0ng nhanh, \\u0111\\u00f3ng g\\u00f3i \\u1ed5n. M\\u1edbi d\\u00f9ng mn ko th\\u1ea5y m\\u00f9i \\u0111\\u00e2u, d\\u00f9ng hai ba l\\u1ea7n m\\u1edbi th\\u1ea5y m\\u00f9i d\\u1ecbu d\\u1ecbu.\",\n          \"H\\u00ecnh \\u1ea3nh ch\\u1ec9 mang t\\u00ednh ch\\u1ea5t minh ho\\u1ea1 \\u0111\\u00e1nh gi\\u00e1 \\u0111\\u1ec3 l\\u1ea5y xu ko c\\u00f3 \\u0111\\u00e2u\",\n          \"C\\u00f4ng d\\u1ee5ng:ok\\n\\nC\\u0169ng ok , hong c\\u00f3 \\u0111i\\u1ec3m g\\u00ec qu\\u00e1 \\u0111\\u1eb7c bi\\u1ec7t nma x\\u00e0i c\\u0169ng dc gi\\u00e1 th\\u00e0nh r\\u1ebb \\u00f3 n\\u00ean mua\"\n        ],\n        \"semantic_type\": \"\",\n        \"description\": \"\"\n      }\n    },\n    {\n      \"column\": \"rating\",\n      \"properties\": {\n        \"dtype\": \"number\",\n        \"std\": 1,\n        \"min\": 1,\n        \"max\": 5,\n        \"num_unique_values\": 5,\n        \"samples\": [\n          2,\n          5,\n          3\n        ],\n        \"semantic_type\": \"\",\n        \"description\": \"\"\n      }\n    },\n    {\n      \"column\": \"words\",\n      \"properties\": {\n        \"dtype\": \"string\",\n        \"num_unique_values\": 9437,\n        \"samples\": [\n          \"C\\u00f4ng d\\u1ee5ng M\\u00f9i h\\u01b0\\u01a1ng da s\\u0103n sale 15 6 b\\u1ea3o mua 1 srm t\\u1eb7ng 1 chai t\\u1ea9y trang h\\u00e0ng ko t\\u1ea9y trang nt shop ko x\\u1eed l\\u00fd \\u0111\\u1ea7u mua c\\u1ea3m th\\u1ea5t v\\u1ecdng ko bao l2\",\n          \"\\u0110\\u00f3ng g\\u00f3i ko c\\u1ea9n th\\u1eadn G\\u00f3i h\\u00e0ng r\\u00e1ch\",\n          \"C\\u00f4ng d\\u1ee5ng s\\u1eefa r\\u1eeda m\\u1eb7t d\\u1ecbu nh\\u1eb9 da m\\u1ee5n M\\u00f9i h\\u01b0\\u01a1ng m\\u00f9i Ph\\u00f9 h\\u1ee3p da da m\\u1ee5n Mua quen d\\u1ecbu nh\\u1eb9\"\n        ],\n        \"semantic_type\": \"\",\n        \"description\": \"\"\n      }\n    },\n    {\n      \"column\": \"label\",\n      \"properties\": {\n        \"dtype\": \"category\",\n        \"num_unique_values\": 3,\n        \"samples\": [\n          \"negative\",\n          \"neutral\",\n          \"positive\"\n        ],\n        \"semantic_type\": \"\",\n        \"description\": \"\"\n      }\n    },\n    {\n      \"column\": \"feature\",\n      \"properties\": {\n        \"dtype\": \"object\",\n        \"semantic_type\": \"\",\n        \"description\": \"\"\n      }\n    },\n    {\n      \"column\": \"label_num\",\n      \"properties\": {\n        \"dtype\": \"number\",\n        \"std\": 0,\n        \"min\": 0,\n        \"max\": 2,\n        \"num_unique_values\": 3,\n        \"samples\": [\n          0,\n          1,\n          2\n        ],\n        \"semantic_type\": \"\",\n        \"description\": \"\"\n      }\n    }\n  ]\n}"
            }
          },
          "metadata": {},
          "execution_count": 32
        }
      ]
    },
    {
      "cell_type": "code",
      "source": [
        "# Split the data into training and testing sets\n",
        "x_train_text, x_test_text, y_train, y_test = train_test_split(df['words'], df['label_num'], test_size= 0.2, random_state = 42)"
      ],
      "metadata": {
        "id": "FRw2UOOz0nur"
      },
      "execution_count": 33,
      "outputs": []
    },
    {
      "cell_type": "code",
      "source": [
        "x_train_text.shape"
      ],
      "metadata": {
        "id": "mxqlCqY9zokz",
        "colab": {
          "base_uri": "https://localhost:8080/"
        },
        "outputId": "c18e2f74-75b0-4e34-de9f-55c140c83184"
      },
      "execution_count": 34,
      "outputs": [
        {
          "output_type": "execute_result",
          "data": {
            "text/plain": [
              "(9015,)"
            ]
          },
          "metadata": {},
          "execution_count": 34
        }
      ]
    },
    {
      "cell_type": "code",
      "source": [
        "x_test_text.shape"
      ],
      "metadata": {
        "id": "vBPGK_S_zwCq",
        "colab": {
          "base_uri": "https://localhost:8080/"
        },
        "outputId": "dc6c8ff8-ba10-4723-daa2-7a9762876937"
      },
      "execution_count": 35,
      "outputs": [
        {
          "output_type": "execute_result",
          "data": {
            "text/plain": [
              "(2254,)"
            ]
          },
          "metadata": {},
          "execution_count": 35
        }
      ]
    },
    {
      "cell_type": "code",
      "source": [
        "x_train_text[1]"
      ],
      "metadata": {
        "id": "NUYVOFCjz1nF",
        "colab": {
          "base_uri": "https://localhost:8080/",
          "height": 35
        },
        "outputId": "777f6572-4d0b-4ed8-d4f7-c48870dbeb98"
      },
      "execution_count": 36,
      "outputs": [
        {
          "output_type": "execute_result",
          "data": {
            "text/plain": [
              "'Công dụng sữa rửa mặt Mùi hương da bình chất vỏ nghi ngờ chất'"
            ],
            "application/vnd.google.colaboratory.intrinsic+json": {
              "type": "string"
            }
          },
          "metadata": {},
          "execution_count": 36
        }
      ]
    },
    {
      "cell_type": "code",
      "source": [
        "# Convert to numpy arrays\n",
        "y_train = np.array(y_train)\n",
        "y_test = np.array(y_test)"
      ],
      "metadata": {
        "id": "4xXSO5tqugiO"
      },
      "execution_count": 37,
      "outputs": []
    },
    {
      "cell_type": "code",
      "source": [
        "# # Conver to numpy arrays\n",
        "# x_train_text = np.array(x_train_text)\n",
        "# x_test_text = np.array(x_test_text)"
      ],
      "metadata": {
        "id": "EelgW8W99GcM"
      },
      "execution_count": 38,
      "outputs": []
    },
    {
      "cell_type": "code",
      "source": [
        "x_train_text.shape"
      ],
      "metadata": {
        "id": "jQb36ppp8JGU",
        "colab": {
          "base_uri": "https://localhost:8080/"
        },
        "outputId": "9d25a008-e520-4bed-edbf-b1a6b4a02f55"
      },
      "execution_count": 39,
      "outputs": [
        {
          "output_type": "execute_result",
          "data": {
            "text/plain": [
              "(9015,)"
            ]
          },
          "metadata": {},
          "execution_count": 39
        }
      ]
    },
    {
      "cell_type": "code",
      "source": [
        "# print(\"Train-set size: \", len(x_train_text))\n",
        "# print(\"Test-set size:  \", len(x_test_text))"
      ],
      "metadata": {
        "id": "ddK5Mm7n7v-5"
      },
      "execution_count": 40,
      "outputs": []
    },
    {
      "cell_type": "code",
      "source": [
        "x_train_text[1]"
      ],
      "metadata": {
        "id": "sTSNjUlt7t_f",
        "colab": {
          "base_uri": "https://localhost:8080/",
          "height": 35
        },
        "outputId": "2ec9b42d-4e1f-493e-df22-14ec78b35ef5"
      },
      "execution_count": 41,
      "outputs": [
        {
          "output_type": "execute_result",
          "data": {
            "text/plain": [
              "'Công dụng sữa rửa mặt Mùi hương da bình chất vỏ nghi ngờ chất'"
            ],
            "application/vnd.google.colaboratory.intrinsic+json": {
              "type": "string"
            }
          },
          "metadata": {},
          "execution_count": 41
        }
      ]
    },
    {
      "cell_type": "markdown",
      "source": [
        "**Tokenization**\n"
      ],
      "metadata": {
        "id": "-s0PCvj8_sB_"
      }
    },
    {
      "cell_type": "code",
      "source": [
        "num_words = 10000"
      ],
      "metadata": {
        "id": "usbU7rhdkgSW"
      },
      "execution_count": 42,
      "outputs": []
    },
    {
      "cell_type": "code",
      "source": [
        "tokenizer = Tokenizer(num_words=num_words)"
      ],
      "metadata": {
        "id": "vRfTKZ_PkhdP"
      },
      "execution_count": 43,
      "outputs": []
    },
    {
      "cell_type": "code",
      "source": [
        "%%time\n",
        "tokenizer.fit_on_texts(df['words'])"
      ],
      "metadata": {
        "id": "tsLhswZiklD3",
        "colab": {
          "base_uri": "https://localhost:8080/"
        },
        "outputId": "d2b46e8e-061e-4b8e-8a20-e638fab06ebf"
      },
      "execution_count": 44,
      "outputs": [
        {
          "output_type": "stream",
          "name": "stdout",
          "text": [
            "CPU times: user 503 ms, sys: 3.33 ms, total: 506 ms\n",
            "Wall time: 882 ms\n"
          ]
        }
      ]
    },
    {
      "cell_type": "code",
      "source": [
        "if num_words is None:\n",
        "    num_words = len(tokenizer.word_index)"
      ],
      "metadata": {
        "id": "0htLqFCpkw-Z"
      },
      "execution_count": 45,
      "outputs": []
    },
    {
      "cell_type": "code",
      "source": [
        "tokenizer.word_index"
      ],
      "metadata": {
        "id": "RA_ynqz3kyMx",
        "colab": {
          "base_uri": "https://localhost:8080/"
        },
        "outputId": "b9e2b36d-423f-456f-e483-c997d118cc51"
      },
      "execution_count": 46,
      "outputs": [
        {
          "output_type": "execute_result",
          "data": {
            "text/plain": [
              "{'da': 1,\n",
              " 'mùi': 2,\n",
              " 'hàng': 3,\n",
              " 'dụng': 4,\n",
              " 'hương': 5,\n",
              " 'công': 6,\n",
              " 'mặt': 7,\n",
              " 'rửa': 8,\n",
              " 'mua': 9,\n",
              " 'giao': 10,\n",
              " 'shop': 11,\n",
              " 'gói': 12,\n",
              " 'ko': 13,\n",
              " 'tặng': 14,\n",
              " 'đóng': 15,\n",
              " 'sạch': 16,\n",
              " 'k': 17,\n",
              " 'phẩm': 18,\n",
              " 'sản': 19,\n",
              " 'cảm': 20,\n",
              " 'trang': 21,\n",
              " 'tẩy': 22,\n",
              " 'nhẹ': 23,\n",
              " 'nhạy': 24,\n",
              " '1': 25,\n",
              " 'giá': 26,\n",
              " 'sữa': 27,\n",
              " 'hợp': 28,\n",
              " 'chất': 29,\n",
              " 'ok': 30,\n",
              " 'đc': 31,\n",
              " 'nha': 32,\n",
              " 'chai': 33,\n",
              " 'lắm': 34,\n",
              " 'sài': 35,\n",
              " 'srm': 36,\n",
              " 'dịu': 37,\n",
              " 'kèm': 38,\n",
              " 'thơm': 39,\n",
              " 'cẩn': 40,\n",
              " 'thận': 41,\n",
              " 'hơi': 42,\n",
              " 'ổn': 43,\n",
              " 'sử': 44,\n",
              " 'khô': 45,\n",
              " 'sơ': 46,\n",
              " 'quà': 47,\n",
              " 'phù': 48,\n",
              " '2': 49,\n",
              " 'sp': 50,\n",
              " 'hình': 51,\n",
              " 'đầu': 52,\n",
              " 'bao': 53,\n",
              " 'vọng': 54,\n",
              " 'dầu': 55,\n",
              " 'mụn': 56,\n",
              " 'ảnh': 57,\n",
              " 'xài': 58,\n",
              " 'simple': 59,\n",
              " 'sale': 60,\n",
              " 'rẻ': 61,\n",
              " 'chống': 62,\n",
              " 'hộp': 63,\n",
              " 'xong': 64,\n",
              " 'thất': 65,\n",
              " 'bọc': 66,\n",
              " 'đẹp': 67,\n",
              " 'hộ': 68,\n",
              " 'ủng': 69,\n",
              " 'kh': 70,\n",
              " 'mall': 71,\n",
              " 'nắp': 72,\n",
              " 'ứng': 73,\n",
              " 'hãng': 74,\n",
              " 'sốc': 75,\n",
              " 'mn': 76,\n",
              " 'thử': 77,\n",
              " 'hôm': 78,\n",
              " 'bì': 79,\n",
              " '3': 80,\n",
              " 'kích': 81,\n",
              " 'đánh': 82,\n",
              " 'bảo': 83,\n",
              " 'r': 84,\n",
              " 'kết': 85,\n",
              " 'nhắn': 86,\n",
              " 'tâm': 87,\n",
              " 'chắn': 88,\n",
              " 'kĩ': 89,\n",
              " 'bọt': 90,\n",
              " 'cấu': 91,\n",
              " 'lọ': 92,\n",
              " 'gel': 93,\n",
              " 'tưởng': 94,\n",
              " 'nghiệm': 95,\n",
              " 'bt': 96,\n",
              " 'sửa': 97,\n",
              " 'bình': 98,\n",
              " 'đi': 99,\n",
              " 'tiếp': 100,\n",
              " 'săn': 101,\n",
              " 'ghi': 102,\n",
              " 'lành': 103,\n",
              " 'kinh': 104,\n",
              " 'ship': 105,\n",
              " 'siêu': 106,\n",
              " 'tệ': 107,\n",
              " 'shipper': 108,\n",
              " 'thể': 109,\n",
              " 'xu': 110,\n",
              " 'mk': 111,\n",
              " 'oke': 112,\n",
              " 'ưng': 113,\n",
              " 'hắc': 114,\n",
              " 'méo': 115,\n",
              " 'yên': 116,\n",
              " 'mịn': 117,\n",
              " 'đơn': 118,\n",
              " 'tiền': 119,\n",
              " 'lợi': 120,\n",
              " 'dính': 121,\n",
              " 'mong': 122,\n",
              " 'thiện': 123,\n",
              " 'ích': 124,\n",
              " 'dc': 125,\n",
              " 'mấy': 126,\n",
              " 'chán': 127,\n",
              " 'thân': 128,\n",
              " 'tạm': 129,\n",
              " 'ẩm': 130,\n",
              " 'dán': 131,\n",
              " 'túi': 132,\n",
              " 'kiểu': 133,\n",
              " 'giác': 134,\n",
              " 'tất': 135,\n",
              " 'móp': 136,\n",
              " 'cx': 137,\n",
              " 'băng': 138,\n",
              " 'cực': 139,\n",
              " 'shopee': 140,\n",
              " 'vs': 141,\n",
              " 'tình': 142,\n",
              " 'fake': 143,\n",
              " 'hiệu': 144,\n",
              " '4': 145,\n",
              " 'nma': 146,\n",
              " 'gửi': 147,\n",
              " 'vận': 148,\n",
              " 'lừa': 149,\n",
              " 'đổ': 150,\n",
              " 'thời': 151,\n",
              " 'hài': 152,\n",
              " 'độ': 153,\n",
              " 'thoáng': 154,\n",
              " '5': 155,\n",
              " 'chuẩn': 156,\n",
              " 'gian': 157,\n",
              " 'nhàng': 158,\n",
              " 'j': 159,\n",
              " 'thành': 160,\n",
              " 'dạng': 161,\n",
              " 'chảy': 162,\n",
              " 'tem': 163,\n",
              " 'may': 164,\n",
              " 'sd': 165,\n",
              " 'mik': 166,\n",
              " 'hời': 167,\n",
              " 'vỡ': 168,\n",
              " 'dưỡng': 169,\n",
              " 'nc': 170,\n",
              " 'nhớt': 171,\n",
              " 'mãi': 172,\n",
              " 'deal': 173,\n",
              " 'ơn': 174,\n",
              " 'lỏng': 175,\n",
              " 'chả': 176,\n",
              " 'căng': 177,\n",
              " 'kỹ': 178,\n",
              " 'bẩn': 179,\n",
              " '10': 180,\n",
              " 'nhiên': 181,\n",
              " 'uy': 182,\n",
              " 'kì': 183,\n",
              " 'mat': 184,\n",
              " 'tín': 185,\n",
              " 'mẹo': 186,\n",
              " 'mẫu': 187,\n",
              " 'nhiệt': 188,\n",
              " 'keo': 189,\n",
              " 'toàn': 190,\n",
              " 'mềm': 191,\n",
              " 'ng': 192,\n",
              " 't': 193,\n",
              " 'nhờn': 194,\n",
              " 'cũ': 195,\n",
              " 'rua': 196,\n",
              " 'giúp': 197,\n",
              " 'tuyệt': 198,\n",
              " 'khong': 199,\n",
              " 'e': 200,\n",
              " 'bụi': 201,\n",
              " 'tui': 202,\n",
              " 'khuyến': 203,\n",
              " 'lớp': 204,\n",
              " 'nổi': 205,\n",
              " 'm': 206,\n",
              " 'lun': 207,\n",
              " 'n': 208,\n",
              " 'hồi': 209,\n",
              " 'v': 210,\n",
              " 'vời': 211,\n",
              " 'cáo': 212,\n",
              " 'mát': 213,\n",
              " 'bàn': 214,\n",
              " 'quảng': 215,\n",
              " 'rep': 216,\n",
              " 'trc': 217,\n",
              " 'sach': 218,\n",
              " 'sinh': 219,\n",
              " 'tuýp': 220,\n",
              " 'í': 221,\n",
              " 'phản': 222,\n",
              " 'đợt': 223,\n",
              " 'minh': 224,\n",
              " 'tả': 225,\n",
              " 'hỗn': 226,\n",
              " 'nt': 227,\n",
              " 'vụ': 228,\n",
              " 'hề': 229,\n",
              " 'an': 230,\n",
              " 'mã': 231,\n",
              " 'ẩu': 232,\n",
              " 'chóng': 233,\n",
              " 'trừ': 234,\n",
              " 'buồn': 235,\n",
              " 'ràng': 236,\n",
              " 'vô': 237,\n",
              " 'lm': 238,\n",
              " 'hai': 239,\n",
              " 'thực': 240,\n",
              " 'rùi': 241,\n",
              " 'rữa': 242,\n",
              " 'bth': 243,\n",
              " 'vấn': 244,\n",
              " 'màu': 245,\n",
              " 'đừng': 246,\n",
              " 'đăng': 247,\n",
              " 'đề': 248,\n",
              " 'chút': 249,\n",
              " 'mng': 250,\n",
              " 'học': 251,\n",
              " 'nhe': 252,\n",
              " 'i': 253,\n",
              " 'mô': 254,\n",
              " 'nồng': 255,\n",
              " 'hôi': 256,\n",
              " 'động': 257,\n",
              " 'kém': 258,\n",
              " 'đổi': 259,\n",
              " 'đặc': 260,\n",
              " 'áp': 261,\n",
              " 'ngờ': 262,\n",
              " 'đồ': 263,\n",
              " 'miếng': 264,\n",
              " 'lý': 265,\n",
              " 'lam': 266,\n",
              " 'dung': 267,\n",
              " 'sóc': 268,\n",
              " 'dịch': 269,\n",
              " 'video': 270,\n",
              " 'đảo': 271,\n",
              " 'phục': 272,\n",
              " 'nè': 273,\n",
              " 'combo': 274,\n",
              " 'mắc': 275,\n",
              " 'a': 276,\n",
              " 'tiên': 277,\n",
              " 'trời': 278,\n",
              " 'chê': 279,\n",
              " '6': 280,\n",
              " '200ml': 281,\n",
              " 'toner': 282,\n",
              " 'bóng': 283,\n",
              " 'đắt': 284,\n",
              " 'sâu': 285,\n",
              " '8': 286,\n",
              " 'ghê': 287,\n",
              " 'tục': 288,\n",
              " 'kêu': 289,\n",
              " 'treo': 290,\n",
              " 'chỗ': 291,\n",
              " 'chx': 292,\n",
              " 'liệu': 293,\n",
              " 'dê': 294,\n",
              " 'rát': 295,\n",
              " 'viên': 296,\n",
              " 's': 297,\n",
              " 'giả': 298,\n",
              " 'nhìu': 299,\n",
              " 'nhma': 300,\n",
              " 'to': 301,\n",
              " 'thịt': 302,\n",
              " 'chó': 303,\n",
              " 'yêu': 304,\n",
              " 'mui': 305,\n",
              " 'chẳng': 306,\n",
              " 'nguyên': 307,\n",
              " 'làn': 308,\n",
              " 'oki': 309,\n",
              " 'lí': 310,\n",
              " 'giấy': 311,\n",
              " 'ngửi': 312,\n",
              " 'la': 313,\n",
              " 'bể': 314,\n",
              " 'rách': 315,\n",
              " 'hẳn': 316,\n",
              " 'all': 317,\n",
              " 'sợ': 318,\n",
              " 'nhân': 319,\n",
              " 'êm': 320,\n",
              " 'liên': 321,\n",
              " 'giỏ': 322,\n",
              " 'tuần': 323,\n",
              " 'giải': 324,\n",
              " 'lo': 325,\n",
              " 'bấm': 326,\n",
              " 'nửa': 327,\n",
              " 'bóc': 328,\n",
              " 'định': 329,\n",
              " 'mặc': 330,\n",
              " 'hạn': 331,\n",
              " 'màng': 332,\n",
              " 'gọi': 333,\n",
              " '11': 334,\n",
              " 'thương': 335,\n",
              " 'hành': 336,\n",
              " 'đọc': 337,\n",
              " 'thông': 338,\n",
              " 'date': 339,\n",
              " 'bất': 340,\n",
              " 'khâu': 341,\n",
              " 'check': 342,\n",
              " 'đấy': 343,\n",
              " 'moi': 344,\n",
              " 'ntn': 345,\n",
              " 'nx': 346,\n",
              " 'h': 347,\n",
              " 'mác': 348,\n",
              " 'tầm': 349,\n",
              " 'tiếng': 350,\n",
              " 'quen': 351,\n",
              " 'ph': 352,\n",
              " 'ngứa': 353,\n",
              " 'y': 354,\n",
              " 'xíu': 355,\n",
              " 'thả': 356,\n",
              " 'mắt': 357,\n",
              " 'gia': 358,\n",
              " 'lỗi': 359,\n",
              " '15': 360,\n",
              " 'kỳ': 361,\n",
              " 'hong': 362,\n",
              " '0đ': 363,\n",
              " 'trắng': 364,\n",
              " 'đối': 365,\n",
              " 'xanh': 366,\n",
              " 'shoppe': 367,\n",
              " '150ml': 368,\n",
              " 'nhắc': 369,\n",
              " 'trình': 370,\n",
              " 'review': 371,\n",
              " 'cải': 372,\n",
              " 'cồn': 373,\n",
              " 'cam': 374,\n",
              " 'thiên': 375,\n",
              " 'thái': 376,\n",
              " '7': 377,\n",
              " 'xịn': 378,\n",
              " 'đỏ': 379,\n",
              " 'biệt': 380,\n",
              " 'bung': 381,\n",
              " 'quan': 382,\n",
              " 'lưu': 383,\n",
              " 'mùa': 384,\n",
              " 'cẩu': 385,\n",
              " 'cân': 386,\n",
              " 'trải': 387,\n",
              " 'nhay': 388,\n",
              " 'kem': 389,\n",
              " 'dị': 390,\n",
              " 'thui': 391,\n",
              " 'ib': 392,\n",
              " 'xốp': 393,\n",
              " 'tra': 394,\n",
              " 'chi': 395,\n",
              " 'chăm': 396,\n",
              " 'tràn': 397,\n",
              " 'quấn': 398,\n",
              " 'trông': 399,\n",
              " 'hoa': 400,\n",
              " 'ch': 401,\n",
              " 'xuất': 402,\n",
              " 'hỏng': 403,\n",
              " 'mại': 404,\n",
              " 'chứa': 405,\n",
              " 'ta': 406,\n",
              " 'bịp': 407,\n",
              " 'đợi': 408,\n",
              " 'lạ': 409,\n",
              " 'đoạn': 410,\n",
              " 'hiện': 411,\n",
              " '12': 412,\n",
              " 'hủy': 413,\n",
              " 'loai': 414,\n",
              " '9': 415,\n",
              " 'vẻ': 416,\n",
              " 'hoàn': 417,\n",
              " 'lẻo': 418,\n",
              " 'quyết': 419,\n",
              " 'tư': 420,\n",
              " 'ms': 421,\n",
              " 'quên': 422,\n",
              " 'hệ': 423,\n",
              " 'in': 424,\n",
              " 'kiểm': 425,\n",
              " 'máy': 426,\n",
              " 'real': 427,\n",
              " 'chân': 428,\n",
              " 'vui': 429,\n",
              " 'đỡ': 430,\n",
              " 'hoá': 431,\n",
              " 'ưu': 432,\n",
              " 'rít': 433,\n",
              " 'đam': 434,\n",
              " 'lông': 435,\n",
              " 'mướt': 436,\n",
              " 'vitamin': 437,\n",
              " 'vỏ': 438,\n",
              " 'z': 439,\n",
              " 'tí': 440,\n",
              " '0': 441,\n",
              " 'thèm': 442,\n",
              " 'đồng': 443,\n",
              " 'tl': 444,\n",
              " 'vẹn': 445,\n",
              " 'phòng': 446,\n",
              " 'mỏng': 447,\n",
              " 'thay': 448,\n",
              " 'shiper': 449,\n",
              " 'sai': 450,\n",
              " 'món': 451,\n",
              " 'trường': 452,\n",
              " 'vệ': 453,\n",
              " 'co': 454,\n",
              " 'lỗ': 455,\n",
              " 'tối': 456,\n",
              " 'hi': 457,\n",
              " 'nh': 458,\n",
              " 'nilong': 459,\n",
              " 'lum': 460,\n",
              " 'bắt': 461,\n",
              " 'nhg': 462,\n",
              " 'nhựa': 463,\n",
              " 'cầm': 464,\n",
              " 'chấp': 465,\n",
              " 'cầu': 466,\n",
              " 'nilon': 467,\n",
              " 'ấn': 468,\n",
              " 'nhãn': 469,\n",
              " 'mỹ': 470,\n",
              " 'nhầm': 471,\n",
              " 'chương': 472,\n",
              " 'dân': 473,\n",
              " 'hoạ': 474,\n",
              " 'tương': 475,\n",
              " 'p': 476,\n",
              " 'báo': 477,\n",
              " 'nhiêu': 478,\n",
              " 'ẩn': 479,\n",
              " 'suốt': 480,\n",
              " 'tội': 481,\n",
              " 'họa': 482,\n",
              " 'chu': 483,\n",
              " 'tận': 484,\n",
              " 'skincare': 485,\n",
              " 'đảm': 486,\n",
              " 'tùm': 487,\n",
              " 'hang': 488,\n",
              " 'unilever': 489,\n",
              " 'hóa': 490,\n",
              " 'huhu': 491,\n",
              " 'kia': 492,\n",
              " 'thị': 493,\n",
              " 'dòng': 494,\n",
              " 'thức': 495,\n",
              " 'c': 496,\n",
              " 'make': 497,\n",
              " 'chụp': 498,\n",
              " 'bực': 499,\n",
              " 'nát': 500,\n",
              " 'vị': 501,\n",
              " 'khui': 502,\n",
              " 'vơi': 503,\n",
              " 'chậm': 504,\n",
              " 'trọng': 505,\n",
              " 'tot': 506,\n",
              " 'san': 507,\n",
              " 'xinh': 508,\n",
              " 'hihi': 509,\n",
              " 'khí': 510,\n",
              " 'bít': 511,\n",
              " 'cố': 512,\n",
              " 'xét': 513,\n",
              " 'kbt': 514,\n",
              " 'mó': 515,\n",
              " 'hoàng': 516,\n",
              " 'đỉnh': 517,\n",
              " 'giản': 518,\n",
              " 'hy': 519,\n",
              " 'trung': 520,\n",
              " 'hư': 521,\n",
              " 'thoi': 522,\n",
              " 'mai': 523,\n",
              " 'hưởng': 524,\n",
              " 'thắc': 525,\n",
              " 'đông': 526,\n",
              " 'bong': 527,\n",
              " 'trách': 528,\n",
              " 'ni': 529,\n",
              " 'chủ': 530,\n",
              " 'biet': 531,\n",
              " 'tích': 532,\n",
              " 'trà': 533,\n",
              " 'nắng': 534,\n",
              " 'tác': 535,\n",
              " 'you': 536,\n",
              " 'kb': 537,\n",
              " 'nhá': 538,\n",
              " 'giới': 539,\n",
              " 'tế': 540,\n",
              " 'đãi': 541,\n",
              " 'up': 542,\n",
              " 'vaseline': 543,\n",
              " 'xà': 544,\n",
              " 'bé': 545,\n",
              " 'mẹ': 546,\n",
              " 'tượng': 547,\n",
              " 'góp': 548,\n",
              " 'vãi': 549,\n",
              " 'việt': 550,\n",
              " 'má': 551,\n",
              " 'de': 552,\n",
              " 'auth': 553,\n",
              " 'hăng': 554,\n",
              " 'siu': 555,\n",
              " 'tiết': 556,\n",
              " 'ngon': 557,\n",
              " 'hsd': 558,\n",
              " 'cục': 559,\n",
              " 'xơ': 560,\n",
              " 'năng': 561,\n",
              " 'lẽ': 562,\n",
              " 'xốc': 563,\n",
              " 'bóp': 564,\n",
              " 'tt': 565,\n",
              " 'trai': 566,\n",
              " 'km': 567,\n",
              " '100': 568,\n",
              " 'sua': 569,\n",
              " 'd': 570,\n",
              " 'dậy': 571,\n",
              " 'điện': 572,\n",
              " 'tc': 573,\n",
              " 'dám': 574,\n",
              " 'phí': 575,\n",
              " 'hại': 576,\n",
              " 'khuyên': 577,\n",
              " 'b': 578,\n",
              " 'xog': 579,\n",
              " 'rcm': 580,\n",
              " 'ghim': 581,\n",
              " 'ha': 582,\n",
              " 'okela': 583,\n",
              " 'hồng': 584,\n",
              " 'chữ': 585,\n",
              " 'xử': 586,\n",
              " 'va': 587,\n",
              " 'lầm': 588,\n",
              " 'diu': 589,\n",
              " 'áo': 590,\n",
              " 'trơn': 591,\n",
              " 'chế': 592,\n",
              " 'bthg': 593,\n",
              " 'đựng': 594,\n",
              " 'live': 595,\n",
              " 'ca': 596,\n",
              " 'ngừa': 597,\n",
              " 'nhaa': 598,\n",
              " 'thom': 599,\n",
              " 'nghi': 600,\n",
              " 'thiệu': 601,\n",
              " 'chặt': 602,\n",
              " 'tham': 603,\n",
              " 'nhiệm': 604,\n",
              " 'gọn': 605,\n",
              " 'phát': 606,\n",
              " 'đàng': 607,\n",
              " 'dè': 608,\n",
              " 'lót': 609,\n",
              " 'tức': 610,\n",
              " 'lưỡng': 611,\n",
              " 'kiến': 612,\n",
              " 'hạt': 613,\n",
              " 'trị': 614,\n",
              " 'tùy': 615,\n",
              " 'hssv': 616,\n",
              " 'dịp': 617,\n",
              " 'nấm': 618,\n",
              " 'sách': 619,\n",
              " 'tinh': 620,\n",
              " 'hà': 621,\n",
              " 'dối': 622,\n",
              " 'câu': 623,\n",
              " 'chiều': 624,\n",
              " 'niêm': 625,\n",
              " 'coi': 626,\n",
              " 'đời': 627,\n",
              " 'thiệt': 628,\n",
              " 'lỡ': 629,\n",
              " 'quốc': 630,\n",
              " 'tiếc': 631,\n",
              " 'cung': 632,\n",
              " 'the': 633,\n",
              " 'refreshing': 634,\n",
              " 'chat': 635,\n",
              " 'kho': 636,\n",
              " 'dẻ': 637,\n",
              " 'tạp': 638,\n",
              " 'hướng': 639,\n",
              " '25': 640,\n",
              " 'tr': 641,\n",
              " 'goi': 642,\n",
              " 'ma': 643,\n",
              " 'u': 644,\n",
              " 'đáo': 645,\n",
              " 'thoải': 646,\n",
              " 'mái': 647,\n",
              " 'chuyên': 648,\n",
              " 'bề': 649,\n",
              " 'nội': 650,\n",
              " 'hên': 651,\n",
              " 'trạng': 652,\n",
              " 'thủng': 653,\n",
              " 'đa': 654,\n",
              " 'khả': 655,\n",
              " 'phong': 656,\n",
              " 'khum': 657,\n",
              " 'quanh': 658,\n",
              " 'bữa': 659,\n",
              " 't2': 660,\n",
              " 'nghị': 661,\n",
              " 'trl': 662,\n",
              " 'chúc': 663,\n",
              " 'nhảy': 664,\n",
              " '10đ': 665,\n",
              " 'phụ': 666,\n",
              " 'hoi': 667,\n",
              " 'test': 668,\n",
              " 'thoa': 669,\n",
              " 'chào': 670,\n",
              " 'mừng': 671,\n",
              " 'văn': 672,\n",
              " 'spham': 673,\n",
              " 'th': 674,\n",
              " 'chua': 675,\n",
              " 'gái': 676,\n",
              " 'trưa': 677,\n",
              " 'đống': 678,\n",
              " 'nghiệp': 679,\n",
              " 'bịch': 680,\n",
              " 'khắc': 681,\n",
              " 'bh': 682,\n",
              " 'khủng': 683,\n",
              " 'rút': 684,\n",
              " 'kín': 685,\n",
              " 'thi': 686,\n",
              " 'nhan': 687,\n",
              " 'cộng': 688,\n",
              " 'tn': 689,\n",
              " 'bớt': 690,\n",
              " 'chờ': 691,\n",
              " 'giáo': 692,\n",
              " 'đường': 693,\n",
              " 'mẩn': 694,\n",
              " 'link': 695,\n",
              " 'yếu': 696,\n",
              " 'nen': 697,\n",
              " 'and': 698,\n",
              " 'b5': 699,\n",
              " 'tươi': 700,\n",
              " 'hở': 701,\n",
              " 'hông': 702,\n",
              " 'miệng': 703,\n",
              " 'cskh': 704,\n",
              " 'hụt': 705,\n",
              " 'lượt': 706,\n",
              " 'tết': 707,\n",
              " 'ướt': 708,\n",
              " 'lamf': 709,\n",
              " 'tuýt': 710,\n",
              " 'tử': 711,\n",
              " 'ngta': 712,\n",
              " 'gỡ': 713,\n",
              " 'thuong': 714,\n",
              " 'mưa': 715,\n",
              " 'khỏe': 716,\n",
              " 'khoản': 717,\n",
              " 'ncl': 718,\n",
              " 'mượt': 719,\n",
              " 'kít': 720,\n",
              " 'pham': 721,\n",
              " 'sẵn': 722,\n",
              " 'đôi': 723,\n",
              " 'cửa': 724,\n",
              " 'ban': 725,\n",
              " 'nhaaa': 726,\n",
              " 'hcm': 727,\n",
              " 'đáp': 728,\n",
              " 'o': 729,\n",
              " 'vạch': 730,\n",
              " 'bật': 731,\n",
              " 'kg': 732,\n",
              " 'qc': 733,\n",
              " 'hỗ': 734,\n",
              " 'toán': 735,\n",
              " 'thoảng': 736,\n",
              " 'nam': 737,\n",
              " 'kịp': 738,\n",
              " 'xác': 739,\n",
              " 'xấu': 740,\n",
              " 'chỉnh': 741,\n",
              " 'cá': 742,\n",
              " 'ròi': 743,\n",
              " 'kin': 744,\n",
              " 'vật': 745,\n",
              " 'sắc': 746,\n",
              " 'cãi': 747,\n",
              " 'hội': 748,\n",
              " 'hầu': 749,\n",
              " 'thuốc': 750,\n",
              " 'bay': 751,\n",
              " 'xóc': 752,\n",
              " 'gi': 753,\n",
              " 'khảo': 754,\n",
              " 'cay': 755,\n",
              " 'lô': 756,\n",
              " 'bôi': 757,\n",
              " 'liền': 758,\n",
              " '20': 759,\n",
              " 'thùng': 760,\n",
              " '100k': 761,\n",
              " 'thiết': 762,\n",
              " 'ntt': 763,\n",
              " 'lựa': 764,\n",
              " 'shopp': 765,\n",
              " 'bảng': 766,\n",
              " 'quý': 767,\n",
              " 'lẹ': 768,\n",
              " 'https': 769,\n",
              " 'hk': 770,\n",
              " 'makeup': 771,\n",
              " 'dong': 772,\n",
              " 'ngủ': 773,\n",
              " 'good': 774,\n",
              " 'lẻ': 775,\n",
              " 'phân': 776,\n",
              " 'bìa': 777,\n",
              " 'hn': 778,\n",
              " 'nua': 779,\n",
              " 'nại': 780,\n",
              " 'nhè': 781,\n",
              " 'nứt': 782,\n",
              " 'hả': 783,\n",
              " 'thu': 784,\n",
              " 'trợ': 785,\n",
              " 'ns': 786,\n",
              " 'flash': 787,\n",
              " 'binh': 788,\n",
              " 'nhưg': 789,\n",
              " 'dùg': 790,\n",
              " 'quản': 791,\n",
              " 'trở': 792,\n",
              " 'địa': 793,\n",
              " 'nhu': 794,\n",
              " 'môi': 795,\n",
              " 'sdung': 796,\n",
              " 'bit': 797,\n",
              " 'nhật': 798,\n",
              " 'thik': 799,\n",
              " 'gấp': 800,\n",
              " 'hqua': 801,\n",
              " 'xỉu': 802,\n",
              " 'canh': 803,\n",
              " 'mọc': 804,\n",
              " 'khiếu': 805,\n",
              " 'lắp': 806,\n",
              " 'tổng': 807,\n",
              " 'kiện': 808,\n",
              " 'vòng': 809,\n",
              " 'g': 810,\n",
              " 'dau': 811,\n",
              " 'gboard': 812,\n",
              " 'chép': 813,\n",
              " 'xóa': 814,\n",
              " 'kỉ': 815,\n",
              " 'chấm': 816,\n",
              " 'giặt': 817,\n",
              " 'cận': 818,\n",
              " 'danh': 819,\n",
              " 'lá': 820,\n",
              " 'ôk': 821,\n",
              " 'nchung': 822,\n",
              " 'sachj': 823,\n",
              " 'pro': 824,\n",
              " 'sệt': 825,\n",
              " 'hic': 826,\n",
              " 'nhen': 827,\n",
              " 'sống': 828,\n",
              " 'mĩ': 829,\n",
              " 'vc': 830,\n",
              " 'đập': 831,\n",
              " 'kiếm': 832,\n",
              " 'l': 833,\n",
              " 'xứng': 834,\n",
              " 'seal': 835,\n",
              " 'thống': 836,\n",
              " 'ruột': 837,\n",
              " 'thẩm': 838,\n",
              " 'sốp': 839,\n",
              " 'hàg': 840,\n",
              " 'xước': 841,\n",
              " 'hẫng': 842,\n",
              " 'mục': 843,\n",
              " 'bây': 844,\n",
              " 'đ': 845,\n",
              " 'shoppee': 846,\n",
              " 'ghé': 847,\n",
              " 'free': 848,\n",
              " 'tam': 849,\n",
              " 'face': 850,\n",
              " 'ti': 851,\n",
              " 'iu': 852,\n",
              " 'oce': 853,\n",
              " 'vía': 854,\n",
              " 'trẻ': 855,\n",
              " 'nch': 856,\n",
              " 'tài': 857,\n",
              " 'tập': 858,\n",
              " 'bổ': 859,\n",
              " 'mun': 860,\n",
              " 'hs': 861,\n",
              " 'nghèo': 862,\n",
              " 'dàng': 863,\n",
              " 'tháo': 864,\n",
              " 'khít': 865,\n",
              " 'mạng': 866,\n",
              " 'thanks': 867,\n",
              " 'góc': 868,\n",
              " 'đk': 869,\n",
              " 'nhấn': 870,\n",
              " 'chứng': 871,\n",
              " 'chay': 872,\n",
              " 'bn': 873,\n",
              " 'đóg': 874,\n",
              " 'huỷ': 875,\n",
              " 'long': 876,\n",
              " 'quần': 877,\n",
              " 'bét': 878,\n",
              " 'xoa': 879,\n",
              " 'rơi': 880,\n",
              " 'hẹn': 881,\n",
              " 'đậm': 882,\n",
              " 'vớ': 883,\n",
              " 'rớt': 884,\n",
              " 'cmt': 885,\n",
              " 'ty': 886,\n",
              " 'voi': 887,\n",
              " 'dk': 888,\n",
              " 'kế': 889,\n",
              " 'on': 890,\n",
              " 'lười': 891,\n",
              " 'dùm': 892,\n",
              " 'suy': 893,\n",
              " 'gội': 894,\n",
              " 'chạm': 895,\n",
              " 'of': 896,\n",
              " 'bùn': 897,\n",
              " 'khoáng': 898,\n",
              " 'thoang': 899,\n",
              " 'mê': 900,\n",
              " 'okk': 901,\n",
              " 'okla': 902,\n",
              " 'trộm': 903,\n",
              " 'hop': 904,\n",
              " 'dự': 905,\n",
              " 'vd': 906,\n",
              " 'gắn': 907,\n",
              " 'nhái': 908,\n",
              " 'su': 909,\n",
              " 'trá': 910,\n",
              " 'hoài': 911,\n",
              " 'hồn': 912,\n",
              " 'trog': 913,\n",
              " 'lan': 914,\n",
              " 'vẩn': 915,\n",
              " 'vn': 916,\n",
              " 'loa': 917,\n",
              " 'mũi': 918,\n",
              " 'bắc': 919,\n",
              " 'ah': 920,\n",
              " 'tồi': 921,\n",
              " 'bố': 922,\n",
              " 'miền': 923,\n",
              " 'bù': 924,\n",
              " 'my': 925,\n",
              " 'ánh': 926,\n",
              " 'cỏ': 927,\n",
              " 'đất': 928,\n",
              " 'tiện': 929,\n",
              " 'lương': 930,\n",
              " '14': 931,\n",
              " 'tb': 932,\n",
              " 'quy': 933,\n",
              " '33': 934,\n",
              " 'nhập': 935,\n",
              " 'xuyên': 936,\n",
              " 'châm': 937,\n",
              " 'gòi': 938,\n",
              " 'nm': 939,\n",
              " 'fragrance': 940,\n",
              " 'miễn': 941,\n",
              " 'cổ': 942,\n",
              " 'rv': 943,\n",
              " 'duoc': 944,\n",
              " 'tràm': 945,\n",
              " 'wash': 946,\n",
              " 'benefits': 947,\n",
              " 'ak': 948,\n",
              " '16': 949,\n",
              " '1srm': 950,\n",
              " 'mail': 951,\n",
              " 'kiềm': 952,\n",
              " '1sao': 953,\n",
              " 'khoong': 954,\n",
              " 'xúc': 955,\n",
              " 'f': 956,\n",
              " 'luon': 957,\n",
              " 'đằng': 958,\n",
              " 'cc': 959,\n",
              " 'diệu': 960,\n",
              " 'trò': 961,\n",
              " 'dơ': 962,\n",
              " 'shope': 963,\n",
              " '23': 964,\n",
              " 'dã': 965,\n",
              " 'chục': 966,\n",
              " 'ngang': 967,\n",
              " 'bết': 968,\n",
              " 'bận': 969,\n",
              " 'hh': 970,\n",
              " 'haha': 971,\n",
              " 'chát': 972,\n",
              " 'hasaki': 973,\n",
              " 'chạy': 974,\n",
              " 'gió': 975,\n",
              " 'ảo': 976,\n",
              " 'đen': 977,\n",
              " 'lẫn': 978,\n",
              " 'nhầy': 979,\n",
              " 'cs': 980,\n",
              " 'tiệm': 981,\n",
              " 'mẫn': 982,\n",
              " 'hoang': 983,\n",
              " 'thần': 984,\n",
              " 'di': 985,\n",
              " 'go': 986,\n",
              " 'x2': 987,\n",
              " 'đêm': 988,\n",
              " '80k': 989,\n",
              " 'gắt': 990,\n",
              " 'tg': 991,\n",
              " 'vid': 992,\n",
              " '89k': 993,\n",
              " 'phâ': 994,\n",
              " 'cứu': 995,\n",
              " 'khuẩn': 996,\n",
              " 'kha': 997,\n",
              " 'rạch': 998,\n",
              " 'phiên': 999,\n",
              " 'phúc': 1000,\n",
              " ...}"
            ]
          },
          "metadata": {},
          "execution_count": 46
        }
      ]
    },
    {
      "cell_type": "code",
      "source": [
        "x_train_tokens = tokenizer.texts_to_sequences(x_train_text)"
      ],
      "metadata": {
        "id": "mUw4HjnU7ng7"
      },
      "execution_count": 47,
      "outputs": []
    },
    {
      "cell_type": "code",
      "source": [
        "x_train_text[1]"
      ],
      "metadata": {
        "id": "Fy_rSenk7u-t",
        "colab": {
          "base_uri": "https://localhost:8080/",
          "height": 35
        },
        "outputId": "607f38ce-0eec-4ef0-d568-d4935fad6bca"
      },
      "execution_count": 48,
      "outputs": [
        {
          "output_type": "execute_result",
          "data": {
            "text/plain": [
              "'Công dụng sữa rửa mặt Mùi hương da bình chất vỏ nghi ngờ chất'"
            ],
            "application/vnd.google.colaboratory.intrinsic+json": {
              "type": "string"
            }
          },
          "metadata": {},
          "execution_count": 48
        }
      ]
    },
    {
      "cell_type": "code",
      "source": [
        "np.array(x_train_tokens[1])"
      ],
      "metadata": {
        "id": "NhA8k40E7y2u",
        "colab": {
          "base_uri": "https://localhost:8080/"
        },
        "outputId": "622a6b3c-05e0-48ad-b126-fbb70adb69a3"
      },
      "execution_count": 49,
      "outputs": [
        {
          "output_type": "execute_result",
          "data": {
            "text/plain": [
              "array([   2,    5, 2730,  533,    1,    1,    6,    4,    8,    7,   16,\n",
              "          3,   15,   12,   40,   41,   42,    2, 2730,  533,  161,   93,\n",
              "         16,   30,   37,   23,   26,   48,   28,  861, 1237,    9])"
            ]
          },
          "metadata": {},
          "execution_count": 49
        }
      ]
    },
    {
      "cell_type": "code",
      "source": [
        "x_test_tokens = tokenizer.texts_to_sequences(x_test_text)"
      ],
      "metadata": {
        "id": "vKIha3EmHAL6"
      },
      "execution_count": 50,
      "outputs": []
    },
    {
      "cell_type": "code",
      "source": [
        "len(x_train_tokens),len(x_test_text)"
      ],
      "metadata": {
        "id": "B-XSDGag3VCO",
        "colab": {
          "base_uri": "https://localhost:8080/"
        },
        "outputId": "170d129d-1a5f-4ae9-aeea-856433018e58"
      },
      "execution_count": 51,
      "outputs": [
        {
          "output_type": "execute_result",
          "data": {
            "text/plain": [
              "(9015, 2254)"
            ]
          },
          "metadata": {},
          "execution_count": 51
        }
      ]
    },
    {
      "cell_type": "markdown",
      "source": [
        "Padding and Truncating Data"
      ],
      "metadata": {
        "id": "AEMVYyA7HDLW"
      }
    },
    {
      "cell_type": "code",
      "source": [
        "num_tokens = [len(tokens) for tokens in x_train_tokens + x_test_tokens]\n",
        "num_tokens = np.array(num_tokens)"
      ],
      "metadata": {
        "id": "DB6IOP7mHEMu"
      },
      "execution_count": 52,
      "outputs": []
    },
    {
      "cell_type": "markdown",
      "source": [
        "The average number of tokens in a sequence is:"
      ],
      "metadata": {
        "id": "toIK416LHIwt"
      }
    },
    {
      "cell_type": "code",
      "source": [
        "np.mean(num_tokens)"
      ],
      "metadata": {
        "id": "ZmCfrsT6HKBi",
        "colab": {
          "base_uri": "https://localhost:8080/"
        },
        "outputId": "3ce8f20e-e7b8-4c55-eeb1-86e0096fac6b"
      },
      "execution_count": 53,
      "outputs": [
        {
          "output_type": "execute_result",
          "data": {
            "text/plain": [
              "15.642115538202148"
            ]
          },
          "metadata": {},
          "execution_count": 53
        }
      ]
    },
    {
      "cell_type": "markdown",
      "source": [
        "The maximum number of tokens in a sequence is:"
      ],
      "metadata": {
        "id": "6S9V5kNOHSv6"
      }
    },
    {
      "cell_type": "code",
      "source": [
        "np.max(num_tokens)"
      ],
      "metadata": {
        "id": "z7HvP6XqHULj",
        "colab": {
          "base_uri": "https://localhost:8080/"
        },
        "outputId": "424581e8-d948-4f85-d131-dc433ef73a5c"
      },
      "execution_count": 54,
      "outputs": [
        {
          "output_type": "execute_result",
          "data": {
            "text/plain": [
              "330"
            ]
          },
          "metadata": {},
          "execution_count": 54
        }
      ]
    },
    {
      "cell_type": "markdown",
      "source": [],
      "metadata": {
        "id": "8vYH9104G53J"
      }
    },
    {
      "cell_type": "markdown",
      "source": [
        "Số lượng token tối đa cho phép được đặt ở mức trung bình cộng với 2 độ lệch chuẩn."
      ],
      "metadata": {
        "id": "3xZ-b1SRHWvm"
      }
    },
    {
      "cell_type": "code",
      "source": [
        "max_tokens = np.mean(num_tokens) + 2 * np.std(num_tokens)\n",
        "max_tokens = int(max_tokens)\n",
        "max_tokens"
      ],
      "metadata": {
        "id": "lIj5DjZ5HX3q",
        "colab": {
          "base_uri": "https://localhost:8080/"
        },
        "outputId": "fe110003-c603-47e8-8929-af919764338f"
      },
      "execution_count": 55,
      "outputs": [
        {
          "output_type": "execute_result",
          "data": {
            "text/plain": [
              "41"
            ]
          },
          "metadata": {},
          "execution_count": 55
        }
      ]
    },
    {
      "cell_type": "code",
      "source": [
        "np.sum(num_tokens < max_tokens) / len(num_tokens)"
      ],
      "metadata": {
        "id": "VhuhyFl9Hcsv",
        "colab": {
          "base_uri": "https://localhost:8080/"
        },
        "outputId": "5ce9b55e-e022-4121-cb91-6425e7df968b"
      },
      "execution_count": 56,
      "outputs": [
        {
          "output_type": "execute_result",
          "data": {
            "text/plain": [
              "0.9743544236400745"
            ]
          },
          "metadata": {},
          "execution_count": 56
        }
      ]
    },
    {
      "cell_type": "markdown",
      "source": [
        "Khi thêm hoặc cắt các chuỗi có độ dài khác nhau, chúng ta cần quyết định liệu chúng ta muốn thực hiện việc thêm hoặc cắt 'pre' hay 'post'. Nếu một chuỗi bị cắt, điều đó có nghĩa là một phần của chuỗi được loại bỏ. Nếu một chuỗi được thêm, điều đó có nghĩa là các số không được thêm vào chuỗi.\n",
        "\n",
        "Đúng, việc lựa chọn 'pre' hoặc 'post' có thể quan trọng vì nó xác định liệu chúng ta sẽ loại bỏ phần đầu hay phần cuối của một chuỗi khi cắt, và nó xác định liệu chúng ta sẽ thêm các số không vào đầu hoặc cuối của chuỗi khi thêm. Điều này có thể làm rối loạn Recurrent Neural Network."
      ],
      "metadata": {
        "id": "wmiaASejHfIH"
      }
    },
    {
      "cell_type": "code",
      "source": [
        "pad = 'pre'"
      ],
      "metadata": {
        "id": "dPD1WS7HHgWp"
      },
      "execution_count": 57,
      "outputs": []
    },
    {
      "cell_type": "code",
      "source": [
        "x_train_pad = pad_sequences(x_train_tokens, maxlen=max_tokens,\n",
        "                            padding=pad, truncating=pad)"
      ],
      "metadata": {
        "id": "SzGq6gt8HjQR"
      },
      "execution_count": 58,
      "outputs": []
    },
    {
      "cell_type": "code",
      "source": [
        "x_test_pad = pad_sequences(x_test_tokens, maxlen=max_tokens,\n",
        "                           padding=pad, truncating=pad)"
      ],
      "metadata": {
        "id": "3hdPJYqHHlQl"
      },
      "execution_count": 59,
      "outputs": []
    },
    {
      "cell_type": "markdown",
      "source": [
        "Bây giờ chúng ta đã biến đổi tập dữ liệu huấn luyện thành một ma trận lớn chứa các số nguyên (token) có hình dạng:"
      ],
      "metadata": {
        "id": "1lqZ5XeFHnoT"
      }
    },
    {
      "cell_type": "code",
      "source": [
        "x_train_pad.shape"
      ],
      "metadata": {
        "id": "TSeUoDWQHoqX",
        "colab": {
          "base_uri": "https://localhost:8080/"
        },
        "outputId": "61c3003f-1b04-4c94-ecd6-aeec60b3860e"
      },
      "execution_count": 60,
      "outputs": [
        {
          "output_type": "execute_result",
          "data": {
            "text/plain": [
              "(9015, 41)"
            ]
          },
          "metadata": {},
          "execution_count": 60
        }
      ]
    },
    {
      "cell_type": "markdown",
      "source": [
        "The matrix for the test-set has the same shape:"
      ],
      "metadata": {
        "id": "k2bAiqkmHySX"
      }
    },
    {
      "cell_type": "code",
      "source": [
        "x_test_pad.shape\n"
      ],
      "metadata": {
        "id": "k7uDxlgIHzzE",
        "colab": {
          "base_uri": "https://localhost:8080/"
        },
        "outputId": "835547fb-bfa6-4d02-83d1-07dd9c85bb6a"
      },
      "execution_count": 61,
      "outputs": [
        {
          "output_type": "execute_result",
          "data": {
            "text/plain": [
              "(2254, 41)"
            ]
          },
          "metadata": {},
          "execution_count": 61
        }
      ]
    },
    {
      "cell_type": "code",
      "source": [
        "np.array(x_train_tokens[1])"
      ],
      "metadata": {
        "id": "s0NVi55BH4M2",
        "colab": {
          "base_uri": "https://localhost:8080/"
        },
        "outputId": "807aaff8-009f-426b-ec66-ff0c6f84ec0e"
      },
      "execution_count": 62,
      "outputs": [
        {
          "output_type": "execute_result",
          "data": {
            "text/plain": [
              "array([   2,    5, 2730,  533,    1,    1,    6,    4,    8,    7,   16,\n",
              "          3,   15,   12,   40,   41,   42,    2, 2730,  533,  161,   93,\n",
              "         16,   30,   37,   23,   26,   48,   28,  861, 1237,    9])"
            ]
          },
          "metadata": {},
          "execution_count": 62
        }
      ]
    },
    {
      "cell_type": "markdown",
      "source": [
        "\n",
        "Đây đã được đệm đơn giản để tạo ra chuỗi sau. Lưu ý rằng khi đầu vào này được đưa vào Recurrent Neural Network, nó trước tiên đầu vào nhiều số không. Nếu chúng ta đã đệm 'post' thì nó sẽ đầu vào các số nguyên trước và sau đó là nhiều số không. Điều này có thể làm rối loạn Recurrent Neural Network.."
      ],
      "metadata": {
        "id": "LYcWlp2mH9Mj"
      }
    },
    {
      "cell_type": "code",
      "source": [
        "x_train_pad[1]"
      ],
      "metadata": {
        "id": "Z7zUgB-4H7K1",
        "colab": {
          "base_uri": "https://localhost:8080/"
        },
        "outputId": "a9c25ac5-1270-4e63-8d32-b40c4249c99c"
      },
      "execution_count": 63,
      "outputs": [
        {
          "output_type": "execute_result",
          "data": {
            "text/plain": [
              "array([   0,    0,    0,    0,    0,    0,    0,    0,    0,    2,    5,\n",
              "       2730,  533,    1,    1,    6,    4,    8,    7,   16,    3,   15,\n",
              "         12,   40,   41,   42,    2, 2730,  533,  161,   93,   16,   30,\n",
              "         37,   23,   26,   48,   28,  861, 1237,    9], dtype=int32)"
            ]
          },
          "metadata": {},
          "execution_count": 63
        }
      ]
    },
    {
      "cell_type": "markdown",
      "source": [
        "##Tokenizer Inverse Map"
      ],
      "metadata": {
        "id": "bec9Gcv_IFdV"
      }
    },
    {
      "cell_type": "code",
      "source": [
        "idx = tokenizer.word_index\n",
        "inverse_map = dict(zip(idx.values(), idx.keys()))"
      ],
      "metadata": {
        "id": "waA4-BZnIHCP"
      },
      "execution_count": 64,
      "outputs": []
    },
    {
      "cell_type": "code",
      "source": [
        "def tokens_to_string(tokens):\n",
        "    # Map from tokens back to words.\n",
        "    words = [inverse_map[token] for token in tokens if token != 0]\n",
        "\n",
        "    # Concatenate all words.\n",
        "    text = \" \".join(words)\n",
        "\n",
        "    return text"
      ],
      "metadata": {
        "id": "ZzTrrw4mIKVL"
      },
      "execution_count": 65,
      "outputs": []
    },
    {
      "cell_type": "code",
      "source": [
        "x_train_text[1]"
      ],
      "metadata": {
        "id": "t2sgs9vGIMHD",
        "colab": {
          "base_uri": "https://localhost:8080/",
          "height": 35
        },
        "outputId": "6d42318c-9e53-4f36-a1a7-0d8ad7821153"
      },
      "execution_count": 66,
      "outputs": [
        {
          "output_type": "execute_result",
          "data": {
            "text/plain": [
              "'Công dụng sữa rửa mặt Mùi hương da bình chất vỏ nghi ngờ chất'"
            ],
            "application/vnd.google.colaboratory.intrinsic+json": {
              "type": "string"
            }
          },
          "metadata": {},
          "execution_count": 66
        }
      ]
    },
    {
      "cell_type": "code",
      "source": [
        "tokens_to_string(x_train_tokens[1])"
      ],
      "metadata": {
        "id": "fYnF6tb8IOQK",
        "colab": {
          "base_uri": "https://localhost:8080/",
          "height": 35
        },
        "outputId": "0f4ed16b-91dd-486b-c06f-a581c8b00f1b"
      },
      "execution_count": 67,
      "outputs": [
        {
          "output_type": "execute_result",
          "data": {
            "text/plain": [
              "'mùi hương chàm trà da da công dụng rửa mặt sạch hàng đóng gói cẩn thận hơi mùi chàm trà dạng gel sạch ok dịu nhẹ giá phù hợp hs sv mua'"
            ],
            "application/vnd.google.colaboratory.intrinsic+json": {
              "type": "string"
            }
          },
          "metadata": {},
          "execution_count": 67
        }
      ]
    },
    {
      "cell_type": "markdown",
      "source": [
        "##Create the Recurrent Neural Network"
      ],
      "metadata": {
        "id": "5xQM82OeIVGa"
      }
    },
    {
      "cell_type": "code",
      "source": [
        "# Xây dựng mô hình RNN\n",
        "model = Sequential()"
      ],
      "metadata": {
        "id": "aWW87WUvIXES"
      },
      "execution_count": 68,
      "outputs": []
    },
    {
      "cell_type": "code",
      "source": [
        "embedding_size = 8"
      ],
      "metadata": {
        "id": "6Ne5Vo3RIbMT"
      },
      "execution_count": 69,
      "outputs": []
    },
    {
      "cell_type": "markdown",
      "source": [
        "The embedding-layer also needs to know the number of words in the vocabulary (num_words) and the length of the padded token-sequences (max_tokens). We also give this layer a name because we need to retrieve its weights further below."
      ],
      "metadata": {
        "id": "cI9LRq4sIeXp"
      }
    },
    {
      "cell_type": "code",
      "source": [
        "model.add(Embedding(input_dim=num_words,\n",
        "                    output_dim=embedding_size,\n",
        "                    input_length=max_tokens,\n",
        "                    name='layer_embedding'))"
      ],
      "metadata": {
        "id": "JbqNwxq4IcOC"
      },
      "execution_count": 70,
      "outputs": []
    },
    {
      "cell_type": "markdown",
      "source": [
        "We can now add the first Gated Recurrent Unit (GRU) to the network. This will have 16 outputs. Because we will add a second GRU after this one, we need to return sequences of data because the next GRU expects sequences as its input."
      ],
      "metadata": {
        "id": "JlG0DR1IIrwv"
      }
    },
    {
      "cell_type": "code",
      "source": [
        "model.add(GRU(units=16, return_sequences=True))"
      ],
      "metadata": {
        "id": "C4qUF1QqIlLd"
      },
      "execution_count": 71,
      "outputs": []
    },
    {
      "cell_type": "code",
      "source": [
        "model.add(GRU(units=8, return_sequences=True))"
      ],
      "metadata": {
        "id": "hfc12CaYIjuQ"
      },
      "execution_count": 72,
      "outputs": []
    },
    {
      "cell_type": "code",
      "source": [
        "model.add(GRU(units=4))"
      ],
      "metadata": {
        "id": "Qkv2PZJIIwfU"
      },
      "execution_count": 73,
      "outputs": []
    },
    {
      "cell_type": "code",
      "source": [
        "model.add(Dense(3, activation='sigmoid'))"
      ],
      "metadata": {
        "id": "06N8z6Z_IzKt"
      },
      "execution_count": 74,
      "outputs": []
    },
    {
      "cell_type": "code",
      "source": [
        "optimizer = Adam(lr=1e-3)"
      ],
      "metadata": {
        "id": "UZwsqlQ9I1no",
        "colab": {
          "base_uri": "https://localhost:8080/"
        },
        "outputId": "0d5ca5c0-917e-464f-fbe3-0bca61d46b84"
      },
      "execution_count": 75,
      "outputs": [
        {
          "output_type": "stream",
          "name": "stderr",
          "text": [
            "WARNING:absl:`lr` is deprecated in Keras optimizer, please use `learning_rate` or use the legacy optimizer, e.g.,tf.keras.optimizers.legacy.Adam.\n"
          ]
        }
      ]
    },
    {
      "cell_type": "code",
      "source": [
        "# Biên dịch mô hình\n",
        "model.compile(loss='sparse_categorical_crossentropy',\n",
        "              optimizer=optimizer,\n",
        "              metrics=['accuracy'])"
      ],
      "metadata": {
        "id": "MINajWyeI55i"
      },
      "execution_count": 76,
      "outputs": []
    },
    {
      "cell_type": "code",
      "source": [
        "model.summary()"
      ],
      "metadata": {
        "id": "OgY1uH9CI7u0",
        "colab": {
          "base_uri": "https://localhost:8080/"
        },
        "outputId": "ba82a1ae-8322-495d-80a7-aa80af1c3c37"
      },
      "execution_count": 77,
      "outputs": [
        {
          "output_type": "stream",
          "name": "stdout",
          "text": [
            "Model: \"sequential\"\n",
            "_________________________________________________________________\n",
            " Layer (type)                Output Shape              Param #   \n",
            "=================================================================\n",
            " layer_embedding (Embedding  (None, 41, 8)             80000     \n",
            " )                                                               \n",
            "                                                                 \n",
            " gru (GRU)                   (None, 41, 16)            1248      \n",
            "                                                                 \n",
            " gru_1 (GRU)                 (None, 41, 8)             624       \n",
            "                                                                 \n",
            " gru_2 (GRU)                 (None, 4)                 168       \n",
            "                                                                 \n",
            " dense (Dense)               (None, 3)                 15        \n",
            "                                                                 \n",
            "=================================================================\n",
            "Total params: 82055 (320.53 KB)\n",
            "Trainable params: 82055 (320.53 KB)\n",
            "Non-trainable params: 0 (0.00 Byte)\n",
            "_________________________________________________________________\n"
          ]
        }
      ]
    },
    {
      "cell_type": "markdown",
      "source": [
        "##Train the Recurrent Neural Network\n"
      ],
      "metadata": {
        "id": "qoFtuI5nI-Te"
      }
    },
    {
      "cell_type": "markdown",
      "source": [
        "We can now train the model. Note that we are using the data-set with the paddedsequences. We use 5% of the training-set as a small validation-set, so we have a rough idea whether the model is generalizing well or if it is perhaps over-fitting to the training-set."
      ],
      "metadata": {
        "id": "ssEdgI3NJD7p"
      }
    },
    {
      "cell_type": "code",
      "source": [
        "x_train_pad"
      ],
      "metadata": {
        "id": "KA2kOlCw4Clu",
        "colab": {
          "base_uri": "https://localhost:8080/"
        },
        "outputId": "ea455586-8155-4780-d7fd-8676559ade14"
      },
      "execution_count": 78,
      "outputs": [
        {
          "output_type": "execute_result",
          "data": {
            "text/plain": [
              "array([[   0,    0,    0, ...,   11,  475, 1051],\n",
              "       [   0,    0,    0, ...,  861, 1237,    9],\n",
              "       [   0,    0,    0, ...,   29,   82,   26],\n",
              "       ...,\n",
              "       [   0,    0,    0, ...,   35,   10,    3],\n",
              "       [   0,    0,    0, ...,    8,    7,  162],\n",
              "       [   0,    0,    0, ...,   12,    3,  345]], dtype=int32)"
            ]
          },
          "metadata": {},
          "execution_count": 78
        }
      ]
    },
    {
      "cell_type": "code",
      "source": [
        "y_train"
      ],
      "metadata": {
        "id": "Lyhb1DcZ4FOb",
        "colab": {
          "base_uri": "https://localhost:8080/"
        },
        "outputId": "daaba976-004f-4480-b308-8f33fbcdaee3"
      },
      "execution_count": 79,
      "outputs": [
        {
          "output_type": "execute_result",
          "data": {
            "text/plain": [
              "array([2, 2, 2, ..., 2, 0, 2])"
            ]
          },
          "metadata": {},
          "execution_count": 79
        }
      ]
    },
    {
      "cell_type": "code",
      "source": [
        "%%time\n",
        "model.fit(x_train_pad, y_train,\n",
        "          validation_split=0.05, epochs=3, batch_size=64)"
      ],
      "metadata": {
        "id": "87YUYMi4ERKl",
        "colab": {
          "base_uri": "https://localhost:8080/"
        },
        "outputId": "c5dfd9aa-8e84-498e-f052-065e4e99d992"
      },
      "execution_count": 80,
      "outputs": [
        {
          "output_type": "stream",
          "name": "stdout",
          "text": [
            "Epoch 1/3\n",
            "134/134 [==============================] - 16s 66ms/step - loss: 0.9107 - accuracy: 0.5850 - val_loss: 0.7607 - val_accuracy: 0.6807\n",
            "Epoch 2/3\n",
            "134/134 [==============================] - 6s 45ms/step - loss: 0.7238 - accuracy: 0.6961 - val_loss: 0.6987 - val_accuracy: 0.7051\n",
            "Epoch 3/3\n",
            "134/134 [==============================] - 7s 55ms/step - loss: 0.6687 - accuracy: 0.7167 - val_loss: 0.6918 - val_accuracy: 0.7095\n",
            "CPU times: user 36.3 s, sys: 1.03 s, total: 37.3 s\n",
            "Wall time: 48 s\n"
          ]
        },
        {
          "output_type": "execute_result",
          "data": {
            "text/plain": [
              "<keras.src.callbacks.History at 0x7a64fb065390>"
            ]
          },
          "metadata": {},
          "execution_count": 80
        }
      ]
    },
    {
      "cell_type": "markdown",
      "source": [
        "Performance on Test-Set\n"
      ],
      "metadata": {
        "id": "JpLcMzkoGH1q"
      }
    },
    {
      "cell_type": "code",
      "source": [
        "%%time\n",
        "result = model.evaluate(x_test_pad, y_test)"
      ],
      "metadata": {
        "id": "gqkZ7f9dGJ_I",
        "colab": {
          "base_uri": "https://localhost:8080/"
        },
        "outputId": "4ff1fbbe-028e-4536-dc83-74511c92a9f3"
      },
      "execution_count": 81,
      "outputs": [
        {
          "output_type": "stream",
          "name": "stdout",
          "text": [
            "71/71 [==============================] - 1s 19ms/step - loss: 0.7144 - accuracy: 0.6988\n",
            "CPU times: user 1.2 s, sys: 35.2 ms, total: 1.23 s\n",
            "Wall time: 2.73 s\n"
          ]
        }
      ]
    },
    {
      "cell_type": "code",
      "source": [
        "print(\"Accuracy: {0:.2%}\".format(result[1]))"
      ],
      "metadata": {
        "id": "DOYSuU6-QqHb",
        "colab": {
          "base_uri": "https://localhost:8080/"
        },
        "outputId": "d1b3bdaf-a152-4e64-f8ff-474683f61b0c"
      },
      "execution_count": 82,
      "outputs": [
        {
          "output_type": "stream",
          "name": "stdout",
          "text": [
            "Accuracy: 69.88%\n"
          ]
        }
      ]
    },
    {
      "cell_type": "markdown",
      "source": [
        "## Example of Mis-Classified Text"
      ],
      "metadata": {
        "id": "8Kto3Upx10b7"
      }
    },
    {
      "cell_type": "code",
      "source": [
        "%%time\n",
        "y_pred = model.predict(x=x_test_pad[0:1000])\n",
        "y_pred = y_pred.T[0]"
      ],
      "metadata": {
        "id": "BkoPH8AY11QW",
        "colab": {
          "base_uri": "https://localhost:8080/"
        },
        "outputId": "bee8b1ef-bf88-4233-b5d4-07db6b03e11a"
      },
      "execution_count": 83,
      "outputs": [
        {
          "output_type": "stream",
          "name": "stdout",
          "text": [
            "32/32 [==============================] - 2s 14ms/step\n",
            "CPU times: user 2.04 s, sys: 35.9 ms, total: 2.07 s\n",
            "Wall time: 2.75 s\n"
          ]
        }
      ]
    },
    {
      "cell_type": "code",
      "source": [
        "cls_pred = np.array([1.0 if p>0.5 else 0.0 for p in y_pred])"
      ],
      "metadata": {
        "id": "gt6qEu8015Cw"
      },
      "execution_count": 84,
      "outputs": []
    },
    {
      "cell_type": "code",
      "source": [
        "cls_true = np.array(y_test[0:1000])"
      ],
      "metadata": {
        "id": "QcUnUAd0165O"
      },
      "execution_count": 85,
      "outputs": []
    },
    {
      "cell_type": "code",
      "source": [
        "incorrect = np.where(cls_pred != cls_true)\n",
        "incorrect = incorrect[0]"
      ],
      "metadata": {
        "id": "b9V6GCZg19nb"
      },
      "execution_count": 86,
      "outputs": []
    },
    {
      "cell_type": "code",
      "source": [
        "len(incorrect)"
      ],
      "metadata": {
        "id": "GIAO9Osm1_Nl",
        "colab": {
          "base_uri": "https://localhost:8080/"
        },
        "outputId": "382733f8-7171-48db-b2fe-e82d7beb4833"
      },
      "execution_count": 87,
      "outputs": [
        {
          "output_type": "execute_result",
          "data": {
            "text/plain": [
              "840"
            ]
          },
          "metadata": {},
          "execution_count": 87
        }
      ]
    },
    {
      "cell_type": "code",
      "source": [
        "idx = incorrect[0]\n",
        "idx"
      ],
      "metadata": {
        "id": "Nl46ucW-2BCm",
        "colab": {
          "base_uri": "https://localhost:8080/"
        },
        "outputId": "8d844e69-acc9-4513-e5f8-c3078ed4cbd6"
      },
      "execution_count": 88,
      "outputs": [
        {
          "output_type": "execute_result",
          "data": {
            "text/plain": [
              "0"
            ]
          },
          "metadata": {},
          "execution_count": 88
        }
      ]
    },
    {
      "cell_type": "code",
      "source": [
        "text = x_test_text[idx]\n",
        "text"
      ],
      "metadata": {
        "id": "BmujuJWM2C9q",
        "colab": {
          "base_uri": "https://localhost:8080/",
          "height": 35
        },
        "outputId": "92ff09bd-0bcf-4b77-818d-bc2f8afcd765"
      },
      "execution_count": 89,
      "outputs": [
        {
          "output_type": "execute_result",
          "data": {
            "text/plain": [
              "'Công dụng rỬa mặt Mùi hương ổn Kết cấu gel shop giao 1 tuýp lành lặn tuýp băng bó băng dính dở ship k lí j lỗi Đóng gói cẩn thận giao hàng'"
            ],
            "application/vnd.google.colaboratory.intrinsic+json": {
              "type": "string"
            }
          },
          "metadata": {},
          "execution_count": 89
        }
      ]
    },
    {
      "cell_type": "code",
      "source": [
        "y_pred[idx]"
      ],
      "metadata": {
        "id": "qJhT3K9k2FoK",
        "colab": {
          "base_uri": "https://localhost:8080/"
        },
        "outputId": "34b82ac4-ed58-4974-92ee-5a7a528990a0"
      },
      "execution_count": 90,
      "outputs": [
        {
          "output_type": "execute_result",
          "data": {
            "text/plain": [
              "0.2536174"
            ]
          },
          "metadata": {},
          "execution_count": 90
        }
      ]
    },
    {
      "cell_type": "code",
      "source": [
        "cls_true[idx]"
      ],
      "metadata": {
        "id": "6TyufWsL2HTD",
        "colab": {
          "base_uri": "https://localhost:8080/"
        },
        "outputId": "4d06a08d-22e6-491a-ba55-39a6b60ef09e"
      },
      "execution_count": 91,
      "outputs": [
        {
          "output_type": "execute_result",
          "data": {
            "text/plain": [
              "2"
            ]
          },
          "metadata": {},
          "execution_count": 91
        }
      ]
    },
    {
      "cell_type": "markdown",
      "source": [
        "## New Data"
      ],
      "metadata": {
        "id": "kiupxy2W2PMF"
      }
    },
    {
      "cell_type": "code",
      "source": [
        "text1 = \"Sản phẩm rất tuyệt mọi người nên dùng thử\"\n",
        "text2 = \"Sản phẩm tốt\"\n",
        "text3 = \"Tôi thích sản phẩm này\"\n",
        "text4 = \"Bình thường\"\n",
        "text5 = \"Ok\"\n",
        "text6 = \"Sản phẩm không phù hợp\"\n",
        "text7 = \"Sản phẩm tệ, kém chất lượng\"\n",
        "text8 = \"Tôi không thích sản phẩm này, có thể hoàn tiền lại không?\"\n",
        "texts = [text1, text2, text3, text4, text5, text6, text7, text8]"
      ],
      "metadata": {
        "id": "fgRHF_d82SUV"
      },
      "execution_count": 92,
      "outputs": []
    },
    {
      "cell_type": "code",
      "source": [
        "tokens = tokenizer.texts_to_sequences(texts)"
      ],
      "metadata": {
        "id": "jnJmbmsa2vwk"
      },
      "execution_count": 93,
      "outputs": []
    },
    {
      "cell_type": "code",
      "source": [
        "tokens_pad = pad_sequences(tokens, maxlen=max_tokens,\n",
        "                           padding=pad, truncating=pad)\n",
        "tokens_pad.shape"
      ],
      "metadata": {
        "id": "ix7ErZp02xdO",
        "colab": {
          "base_uri": "https://localhost:8080/"
        },
        "outputId": "4316ba4d-d4b9-4ce4-ae70-34fbe99f59f0"
      },
      "execution_count": 94,
      "outputs": [
        {
          "output_type": "execute_result",
          "data": {
            "text/plain": [
              "(8, 41)"
            ]
          },
          "metadata": {},
          "execution_count": 94
        }
      ]
    },
    {
      "cell_type": "code",
      "source": [
        "model.predict(tokens_pad)"
      ],
      "metadata": {
        "id": "jEOIMCw92zSn",
        "colab": {
          "base_uri": "https://localhost:8080/"
        },
        "outputId": "48558bf4-f8e0-411f-fa32-c8a6ffe40d6d"
      },
      "execution_count": 95,
      "outputs": [
        {
          "output_type": "stream",
          "name": "stdout",
          "text": [
            "1/1 [==============================] - 0s 50ms/step\n"
          ]
        },
        {
          "output_type": "execute_result",
          "data": {
            "text/plain": [
              "array([[0.43144166, 0.46441495, 0.73908216],\n",
              "       [0.5862758 , 0.46447483, 0.41698727],\n",
              "       [0.5862758 , 0.46447483, 0.41698727],\n",
              "       [0.60227484, 0.4647844 , 0.37753424],\n",
              "       [0.5260879 , 0.47653732, 0.5590555 ],\n",
              "       [0.4292531 , 0.46347675, 0.73998266],\n",
              "       [0.6632944 , 0.4777973 , 0.21978723],\n",
              "       [0.6290639 , 0.4575151 , 0.30296728]], dtype=float32)"
            ]
          },
          "metadata": {},
          "execution_count": 95
        }
      ]
    },
    {
      "cell_type": "markdown",
      "source": [
        "A value close to 0.0 means a negative sentiment and a value close to 1.0 means a positive sentiment. These numbers will vary every time you train the model."
      ],
      "metadata": {
        "id": "X1XS78MZ26b5"
      }
    },
    {
      "cell_type": "markdown",
      "source": [
        "## Embeddings"
      ],
      "metadata": {
        "id": "BNeH66fV273n"
      }
    },
    {
      "cell_type": "code",
      "source": [
        "layer_embedding = model.get_layer('layer_embedding')"
      ],
      "metadata": {
        "id": "hRpIVQzq2_FA"
      },
      "execution_count": 96,
      "outputs": []
    },
    {
      "cell_type": "code",
      "source": [
        "weights_embedding = layer_embedding.get_weights()[0]"
      ],
      "metadata": {
        "id": "I95oBO6y3RFd"
      },
      "execution_count": 97,
      "outputs": []
    },
    {
      "cell_type": "code",
      "source": [
        "weights_embedding.shape"
      ],
      "metadata": {
        "id": "_WmqTNst3TcF",
        "colab": {
          "base_uri": "https://localhost:8080/"
        },
        "outputId": "6a094b8c-8b4a-44b6-826d-96142a646b66"
      },
      "execution_count": 98,
      "outputs": [
        {
          "output_type": "execute_result",
          "data": {
            "text/plain": [
              "(10000, 8)"
            ]
          },
          "metadata": {},
          "execution_count": 98
        }
      ]
    },
    {
      "cell_type": "code",
      "source": [
        "token_good = tokenizer.word_index['đen']\n",
        "token_good"
      ],
      "metadata": {
        "id": "bCZEg-573VVR",
        "colab": {
          "base_uri": "https://localhost:8080/"
        },
        "outputId": "7fb8a67c-9441-4811-f4e7-d49cd014b2c0"
      },
      "execution_count": 99,
      "outputs": [
        {
          "output_type": "execute_result",
          "data": {
            "text/plain": [
              "977"
            ]
          },
          "metadata": {},
          "execution_count": 99
        }
      ]
    },
    {
      "cell_type": "code",
      "source": [
        "token_great = tokenizer.word_index['tuyệt']\n",
        "token_great"
      ],
      "metadata": {
        "id": "1pAawXoL3bpf",
        "colab": {
          "base_uri": "https://localhost:8080/"
        },
        "outputId": "2c9a5267-082d-488d-f1ba-73236e0753f3"
      },
      "execution_count": 100,
      "outputs": [
        {
          "output_type": "execute_result",
          "data": {
            "text/plain": [
              "198"
            ]
          },
          "metadata": {},
          "execution_count": 100
        }
      ]
    },
    {
      "cell_type": "code",
      "source": [
        "weights_embedding[token_good]"
      ],
      "metadata": {
        "id": "OpWBQzr63fs0",
        "colab": {
          "base_uri": "https://localhost:8080/"
        },
        "outputId": "5d1d4c50-21fa-482f-e1e2-d2e067352b77"
      },
      "execution_count": 101,
      "outputs": [
        {
          "output_type": "execute_result",
          "data": {
            "text/plain": [
              "array([-0.01043146,  0.04024279, -0.00597815,  0.0238607 ,  0.04592841,\n",
              "        0.00975737,  0.03047192, -0.00333958], dtype=float32)"
            ]
          },
          "metadata": {},
          "execution_count": 101
        }
      ]
    },
    {
      "cell_type": "code",
      "source": [
        "weights_embedding[token_great]"
      ],
      "metadata": {
        "id": "gEyL938O3hf5",
        "colab": {
          "base_uri": "https://localhost:8080/"
        },
        "outputId": "b91c2e5c-73a8-47ef-db0f-7fe5a7f833d0"
      },
      "execution_count": 102,
      "outputs": [
        {
          "output_type": "execute_result",
          "data": {
            "text/plain": [
              "array([-0.10164957, -0.1291076 , -0.14449777,  0.06884264, -0.05431428,\n",
              "       -0.14061268,  0.0879513 , -0.06572095], dtype=float32)"
            ]
          },
          "metadata": {},
          "execution_count": 102
        }
      ]
    },
    {
      "cell_type": "code",
      "source": [
        "token_bad = tokenizer.word_index['dở']\n",
        "token_horrible = tokenizer.word_index['tệ']"
      ],
      "metadata": {
        "id": "-zSvSHlu3j9e"
      },
      "execution_count": 103,
      "outputs": []
    },
    {
      "cell_type": "code",
      "source": [
        "weights_embedding[token_bad]"
      ],
      "metadata": {
        "id": "9ggIb5kN3pGB",
        "colab": {
          "base_uri": "https://localhost:8080/"
        },
        "outputId": "d689381a-624a-4803-9a44-f08af9d85fa7"
      },
      "execution_count": 104,
      "outputs": [
        {
          "output_type": "execute_result",
          "data": {
            "text/plain": [
              "array([ 0.04594126,  0.01139731, -0.0166044 ,  0.00114778,  0.02614721,\n",
              "        0.02572938,  0.00702855,  0.02659528], dtype=float32)"
            ]
          },
          "metadata": {},
          "execution_count": 104
        }
      ]
    },
    {
      "cell_type": "code",
      "source": [
        "weights_embedding[token_horrible]"
      ],
      "metadata": {
        "id": "zqFTr8Oe3qiT",
        "colab": {
          "base_uri": "https://localhost:8080/"
        },
        "outputId": "64d336e5-06a7-44fa-b675-f8cc3a8f75aa"
      },
      "execution_count": 105,
      "outputs": [
        {
          "output_type": "execute_result",
          "data": {
            "text/plain": [
              "array([ 0.24644306,  0.14436626,  0.2136528 , -0.19732453,  0.21592669,\n",
              "        0.19024009, -0.21956849,  0.2639705 ], dtype=float32)"
            ]
          },
          "metadata": {},
          "execution_count": 105
        }
      ]
    },
    {
      "cell_type": "markdown",
      "source": [
        "## Sorted Words\n",
        "We can also sort all the words in the vocabulary according to their \"similarity\" in the embedding-space. We want to see if words that have similar embedding-vectors also have similar meanings.\n",
        "\n",
        "Similarity of embedding-vectors can be measured by different metrics, e.g. Euclidean distance or cosine distance.\n",
        "\n",
        "We have a helper-function for calculating these distances and printing the words in sorted order."
      ],
      "metadata": {
        "id": "frN60uCk3wyN"
      }
    },
    {
      "cell_type": "code",
      "source": [
        "def print_sorted_words(word, metric='cosine'):\n",
        "\n",
        "    # Get the token (i.e. integer ID) for the given word.\n",
        "    token = tokenizer.word_index[word]\n",
        "\n",
        "    # Get the embedding for the given word. Note that the\n",
        "    # embedding-weight-matrix is indexed by the word-tokens\n",
        "    # which are integer IDs.\n",
        "    embedding = weights_embedding[token]\n",
        "\n",
        "    # Calculate the distance between the embeddings for\n",
        "    # this word and all other words in the vocabulary.\n",
        "    distances = cdist(weights_embedding, [embedding],\n",
        "                      metric=metric).T[0]\n",
        "\n",
        "    # Get an index sorted according to the embedding-distances.\n",
        "    # These are the tokens (integer IDs) for words in the vocabulary.\n",
        "    sorted_index = np.argsort(distances)\n",
        "\n",
        "    # Sort the embedding-distances.\n",
        "    sorted_distances = distances[sorted_index]\n",
        "\n",
        "    # Sort all the words in the vocabulary according to their\n",
        "    # embedding-distance. This is a bit excessive because we\n",
        "    # will only print the top and bottom words.\n",
        "    sorted_words = [inverse_map[token] for token in sorted_index\n",
        "                    if token != 0]\n",
        "\n",
        "    # Helper-function for printing words and embedding-distances.\n",
        "    def _print_words(words, distances):\n",
        "        for word, distance in zip(words, distances):\n",
        "            print(\"{0:.3f} - {1}\".format(distance, word))\n",
        "\n",
        "    # Number of words to print from the top and bottom of the list.\n",
        "    k = 10\n",
        "\n",
        "    print(\"Distance from '{0}':\".format(word))\n",
        "\n",
        "    # Print the words with smallest embedding-distance.\n",
        "    _print_words(sorted_words[0:k], sorted_distances[0:k])\n",
        "\n",
        "    print(\"...\")\n",
        "\n",
        "    # Print the words with highest embedding-distance.\n",
        "    _print_words(sorted_words[-k:], sorted_distances[-k:])"
      ],
      "metadata": {
        "id": "uom1duZI31kD"
      },
      "execution_count": 106,
      "outputs": []
    },
    {
      "cell_type": "markdown",
      "source": [
        "# Long short-term memory"
      ],
      "metadata": {
        "id": "04vorKg3MYUi"
      }
    },
    {
      "cell_type": "markdown",
      "source": [
        "Biến đổi nhãn chuỗi thành số"
      ],
      "metadata": {
        "id": "0i-GT_6UoFtl"
      }
    },
    {
      "cell_type": "code",
      "source": [
        "import tensorflow as tf\n",
        "from tensorflow.keras.preprocessing.text import Tokenizer\n",
        "from tensorflow.keras.preprocessing.sequence import pad_sequences\n",
        "from tensorflow.keras.layers import Embedding, LSTM, Dense\n",
        "from tensorflow.keras.models import Sequential\n",
        "from sklearn.model_selection import train_test_split\n",
        "from sklearn.preprocessing import LabelEncoder\n",
        "from sklearn.metrics import accuracy_score, classification_report\n",
        "from imblearn.over_sampling import SMOTE\n",
        "\n",
        "# Biến đổi nhãn chuỗi thành số\n",
        "label_encoder = LabelEncoder()\n",
        "df['label'] = label_encoder.fit_transform(df['label'])\n",
        "\n",
        "# Chia dữ liệu thành tập huấn luyện và tập kiểm tra\n",
        "X = df['words']\n",
        "y = df['label']\n",
        "X_train, X_test, y_train, y_test = train_test_split(X, y, test_size=0.2, random_state=42)"
      ],
      "metadata": {
        "id": "BNjUZ6Ieufo8"
      },
      "execution_count": 109,
      "outputs": []
    },
    {
      "cell_type": "code",
      "source": [
        "max_words = 10000  # Số lượng từ tối đa trong từ điển\n",
        "tokenizer = Tokenizer(num_words=max_words)\n",
        "tokenizer.fit_on_texts(X_train)\n",
        "X_train_seq = tokenizer.texts_to_sequences(X_train)\n",
        "X_test_seq = tokenizer.texts_to_sequences(X_test)"
      ],
      "metadata": {
        "id": "Y_Gk4XL77dZB"
      },
      "execution_count": 110,
      "outputs": []
    },
    {
      "cell_type": "code",
      "source": [
        "max_seq_length = 100\n",
        "X_train_seq = pad_sequences(X_train_seq, maxlen=max_seq_length)\n",
        "X_test_seq = pad_sequences(X_test_seq, maxlen=max_seq_length)"
      ],
      "metadata": {
        "id": "6QfWU2AK7fBH"
      },
      "execution_count": 111,
      "outputs": []
    },
    {
      "cell_type": "code",
      "source": [
        "model = Sequential()\n",
        "model.add(Embedding(input_dim=max_words, output_dim=128, input_length=max_seq_length))\n",
        "model.add(LSTM(128))\n",
        "model.add(Dense(3, activation='softmax'))"
      ],
      "metadata": {
        "id": "UT50Lau8yPrM"
      },
      "execution_count": 112,
      "outputs": []
    },
    {
      "cell_type": "code",
      "source": [
        "# Biên dịch mô hình\n",
        "model.compile(loss='sparse_categorical_crossentropy', optimizer='adam', metrics=['accuracy'])\n",
        "\n",
        "# Huấn luyện mô hình\n",
        "model.fit(X_train_seq, y_train, epochs=10, batch_size=64, validation_data=(X_test_seq, y_test))\n",
        "\n",
        "# Đánh giá mô hình\n",
        "y_pred = model.predict(X_test_seq)\n",
        "y_pred = np.argmax(y_pred, axis=1)\n",
        "accuracy = accuracy_score(y_test, y_pred)\n",
        "report = classification_report(y_test, y_pred)\n",
        "\n",
        "print(f\"Accuracy: {accuracy}\")\n",
        "print(report)"
      ],
      "metadata": {
        "colab": {
          "base_uri": "https://localhost:8080/"
        },
        "id": "y3ri8mM-yXUB",
        "outputId": "f13dc63e-2d94-42f0-a704-48d779e031e7"
      },
      "execution_count": 113,
      "outputs": [
        {
          "output_type": "stream",
          "name": "stdout",
          "text": [
            "Epoch 1/10\n",
            "141/141 [==============================] - 45s 296ms/step - loss: 0.7559 - accuracy: 0.6692 - val_loss: 0.6893 - val_accuracy: 0.6877\n",
            "Epoch 2/10\n",
            "141/141 [==============================] - 35s 252ms/step - loss: 0.6208 - accuracy: 0.7266 - val_loss: 0.6665 - val_accuracy: 0.6810\n",
            "Epoch 3/10\n",
            "141/141 [==============================] - 35s 246ms/step - loss: 0.5625 - accuracy: 0.7486 - val_loss: 0.6724 - val_accuracy: 0.7209\n",
            "Epoch 4/10\n",
            "141/141 [==============================] - 36s 259ms/step - loss: 0.5137 - accuracy: 0.7676 - val_loss: 0.7043 - val_accuracy: 0.6979\n",
            "Epoch 5/10\n",
            "141/141 [==============================] - 37s 266ms/step - loss: 0.4766 - accuracy: 0.7840 - val_loss: 0.7429 - val_accuracy: 0.6704\n",
            "Epoch 6/10\n",
            "141/141 [==============================] - 35s 250ms/step - loss: 0.4457 - accuracy: 0.7996 - val_loss: 0.8009 - val_accuracy: 0.6704\n",
            "Epoch 7/10\n",
            "141/141 [==============================] - 36s 258ms/step - loss: 0.4182 - accuracy: 0.8131 - val_loss: 0.8052 - val_accuracy: 0.6970\n",
            "Epoch 8/10\n",
            "141/141 [==============================] - 45s 320ms/step - loss: 0.3947 - accuracy: 0.8173 - val_loss: 0.8452 - val_accuracy: 0.6930\n",
            "Epoch 9/10\n",
            "141/141 [==============================] - 37s 266ms/step - loss: 0.3730 - accuracy: 0.8244 - val_loss: 0.8760 - val_accuracy: 0.6832\n",
            "Epoch 10/10\n",
            "141/141 [==============================] - 35s 246ms/step - loss: 0.3573 - accuracy: 0.8312 - val_loss: 0.9411 - val_accuracy: 0.6890\n",
            "71/71 [==============================] - 4s 47ms/step\n",
            "Accuracy: 0.6889973380656611\n",
            "              precision    recall  f1-score   support\n",
            "\n",
            "           0       0.58      0.74      0.65       662\n",
            "           1       0.33      0.14      0.20       391\n",
            "           2       0.81      0.84      0.82      1201\n",
            "\n",
            "    accuracy                           0.69      2254\n",
            "   macro avg       0.57      0.57      0.56      2254\n",
            "weighted avg       0.66      0.69      0.66      2254\n",
            "\n"
          ]
        }
      ]
    },
    {
      "cell_type": "code",
      "source": [
        "# Tạo một đối tượng SMOTE\n",
        "smote = SMOTE(random_state=42)\n",
        "\n",
        "# Áp dụng SMOTE cho dữ liệu huấn luyện\n",
        "X_train_seq_resampled, y_train_resampled = smote.fit_resample(X_train_seq, y_train)\n",
        "\n",
        "# Chia dữ liệu sau khi áp dụng SMOTE\n",
        "X_train_resampled, _, y_train_resampled, _ = train_test_split(X_train_seq_resampled, y_train_resampled, test_size=0.2, random_state=42)\n",
        "\n",
        "# Xây dựng mô hình deep learning\n",
        "model = Sequential()\n",
        "model.add(Embedding(input_dim=max_words, output_dim=128, input_length=max_seq_length))\n",
        "model.add(LSTM(128))\n",
        "model.add(Dense(3, activation='softmax'))  # 3 là số lớp (tích cực, tiêu cực, trung lập)\n",
        "\n",
        "# Biên dịch mô hình\n",
        "model.compile(loss='sparse_categorical_crossentropy', optimizer='adam', metrics=['accuracy'])\n",
        "\n",
        "# Huấn luyện mô hình trên dữ liệu đã được mở rộng\n",
        "model.fit(X_train_resampled, y_train_resampled, epochs=10, batch_size=64, validation_data=(X_test_seq, y_test))\n",
        "\n",
        "# Đánh giá mô hình\n",
        "y_pred = model.predict(X_test_seq)\n",
        "y_pred = np.argmax(y_pred, axis=1)\n",
        "accuracy = accuracy_score(y_test, y_pred)\n",
        "report = classification_report(y_test, y_pred)\n",
        "\n",
        "print(f\"Accuracy: {accuracy}\")\n",
        "print(report)"
      ],
      "metadata": {
        "colab": {
          "base_uri": "https://localhost:8080/"
        },
        "id": "fAEV-Pim0NPH",
        "outputId": "a70f86b4-e497-44ae-ff7a-e95e768c941c"
      },
      "execution_count": 114,
      "outputs": [
        {
          "output_type": "stream",
          "name": "stdout",
          "text": [
            "Epoch 1/10\n",
            "184/184 [==============================] - 60s 268ms/step - loss: 0.9141 - accuracy: 0.5240 - val_loss: 0.7637 - val_accuracy: 0.6730\n",
            "Epoch 2/10\n",
            "184/184 [==============================] - 44s 241ms/step - loss: 0.7861 - accuracy: 0.6084 - val_loss: 0.7310 - val_accuracy: 0.6539\n",
            "Epoch 3/10\n",
            "184/184 [==============================] - 45s 245ms/step - loss: 0.7056 - accuracy: 0.6508 - val_loss: 0.7654 - val_accuracy: 0.6464\n",
            "Epoch 4/10\n",
            "184/184 [==============================] - 46s 250ms/step - loss: 0.6390 - accuracy: 0.6928 - val_loss: 0.8479 - val_accuracy: 0.6171\n",
            "Epoch 5/10\n",
            "184/184 [==============================] - 45s 246ms/step - loss: 0.5817 - accuracy: 0.7188 - val_loss: 0.8109 - val_accuracy: 0.6398\n",
            "Epoch 6/10\n",
            "184/184 [==============================] - 45s 243ms/step - loss: 0.5378 - accuracy: 0.7361 - val_loss: 0.8506 - val_accuracy: 0.6269\n",
            "Epoch 7/10\n",
            "184/184 [==============================] - 48s 263ms/step - loss: 0.4981 - accuracy: 0.7550 - val_loss: 0.9071 - val_accuracy: 0.6207\n",
            "Epoch 8/10\n",
            "184/184 [==============================] - 45s 242ms/step - loss: 0.4674 - accuracy: 0.7691 - val_loss: 1.0484 - val_accuracy: 0.6229\n",
            "Epoch 9/10\n",
            "184/184 [==============================] - 45s 244ms/step - loss: 0.4506 - accuracy: 0.7794 - val_loss: 0.9040 - val_accuracy: 0.6766\n",
            "Epoch 10/10\n",
            "184/184 [==============================] - 45s 246ms/step - loss: 0.4263 - accuracy: 0.7909 - val_loss: 1.0536 - val_accuracy: 0.6389\n",
            "71/71 [==============================] - 5s 69ms/step\n",
            "Accuracy: 0.6388642413487134\n",
            "              precision    recall  f1-score   support\n",
            "\n",
            "           0       0.59      0.49      0.53       662\n",
            "           1       0.30      0.47      0.37       391\n",
            "           2       0.85      0.78      0.81      1201\n",
            "\n",
            "    accuracy                           0.64      2254\n",
            "   macro avg       0.58      0.58      0.57      2254\n",
            "weighted avg       0.68      0.64      0.65      2254\n",
            "\n"
          ]
        }
      ]
    },
    {
      "cell_type": "code",
      "source": [
        "import matplotlib.pyplot as plt\n",
        "\n",
        "# Huấn luyện mô hình và lưu lịch sử huấn luyện\n",
        "history = model.fit(X_train_seq, y_train, epochs=10, batch_size=64, validation_data=(X_test_seq, y_test))\n",
        "\n",
        "# Lấy thông tin lịch sử huấn luyện\n",
        "train_loss = history.history['loss']\n",
        "val_loss = history.history['val_loss']\n",
        "train_acc = history.history['accuracy']\n",
        "val_acc = history.history['val_accuracy']\n",
        "\n",
        "# Biểu diễn độ chính xác\n",
        "plt.figure(figsize=(10, 5))\n",
        "plt.subplot(1, 2, 1)\n",
        "plt.plot(train_acc, label='Training Accuracy')\n",
        "plt.plot(val_acc, label='Validation Accuracy')\n",
        "plt.title('Training and Validation Accuracy')\n",
        "plt.xlabel('Epoch')\n",
        "plt.ylabel('Accuracy')\n",
        "plt.legend()\n",
        "\n",
        "# Biểu diễn mất mát\n",
        "plt.subplot(1, 2, 2)\n",
        "plt.plot(train_loss, label='Training Loss')\n",
        "plt.plot(val_loss, label='Validation Loss')\n",
        "plt.title('Training and Validation Loss')\n",
        "plt.xlabel('Epoch')\n",
        "plt.ylabel('Loss')\n",
        "plt.legend()\n",
        "\n",
        "# Hiển thị biểu đồ\n",
        "plt.tight_layout()\n",
        "plt.show()"
      ],
      "metadata": {
        "colab": {
          "base_uri": "https://localhost:8080/",
          "height": 854
        },
        "id": "vDATrUXG2kcQ",
        "outputId": "7a5c5d9d-3600-4d45-a956-d6d2101c6b1b"
      },
      "execution_count": 115,
      "outputs": [
        {
          "output_type": "stream",
          "name": "stdout",
          "text": [
            "Epoch 1/10\n",
            "141/141 [==============================] - 40s 284ms/step - loss: 0.4706 - accuracy: 0.8017 - val_loss: 0.8211 - val_accuracy: 0.6832\n",
            "Epoch 2/10\n",
            "141/141 [==============================] - 35s 247ms/step - loss: 0.3841 - accuracy: 0.8293 - val_loss: 0.9254 - val_accuracy: 0.6810\n",
            "Epoch 3/10\n",
            "141/141 [==============================] - 37s 265ms/step - loss: 0.3499 - accuracy: 0.8455 - val_loss: 0.9408 - val_accuracy: 0.6783\n",
            "Epoch 4/10\n",
            "141/141 [==============================] - 38s 269ms/step - loss: 0.3275 - accuracy: 0.8548 - val_loss: 1.0336 - val_accuracy: 0.6713\n",
            "Epoch 5/10\n",
            "141/141 [==============================] - 35s 249ms/step - loss: 0.3027 - accuracy: 0.8637 - val_loss: 1.1002 - val_accuracy: 0.6797\n",
            "Epoch 6/10\n",
            "141/141 [==============================] - 49s 346ms/step - loss: 0.3099 - accuracy: 0.8570 - val_loss: 1.1258 - val_accuracy: 0.6761\n",
            "Epoch 7/10\n",
            "141/141 [==============================] - 34s 239ms/step - loss: 0.2923 - accuracy: 0.8646 - val_loss: 1.1685 - val_accuracy: 0.6664\n",
            "Epoch 8/10\n",
            "141/141 [==============================] - 36s 253ms/step - loss: 0.2766 - accuracy: 0.8728 - val_loss: 1.2114 - val_accuracy: 0.6757\n",
            "Epoch 9/10\n",
            "141/141 [==============================] - 34s 244ms/step - loss: 0.2704 - accuracy: 0.8738 - val_loss: 1.2991 - val_accuracy: 0.6695\n",
            "Epoch 10/10\n",
            "141/141 [==============================] - 36s 252ms/step - loss: 0.2663 - accuracy: 0.8751 - val_loss: 1.2646 - val_accuracy: 0.6389\n"
          ]
        },
        {
          "output_type": "display_data",
          "data": {
            "text/plain": [
              "<Figure size 1000x500 with 2 Axes>"
            ],
            "image/png": "[encoded data removed]"
          },
          "metadata": {}
        }
      ]
    }
  ]
}