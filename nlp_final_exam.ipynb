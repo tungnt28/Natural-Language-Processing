{
  "nbformat": 4,
  "nbformat_minor": 0,
  "metadata": {
    "colab": {
      "provenance": [],
      "include_colab_link": true
    },
    "kernelspec": {
      "name": "python3",
      "display_name": "Python 3"
    },
    "language_info": {
      "name": "python"
    }
  },
  "cells": [
    {
      "cell_type": "markdown",
      "metadata": {
        "id": "view-in-github",
        "colab_type": "text"
      },
      "source": [
        "<a href=\"https://colab.research.google.com/github/tungnt28/Natural-Language-Processing/blob/main/nlp_final_exam.ipynb\" target=\"_parent\"><img src=\"https://colab.research.google.com/assets/colab-badge.svg\" alt=\"Open In Colab\"/></a>"
      ]
    },
    {
      "cell_type": "markdown",
      "source": [
        "**Get data comment from Shopee**"
      ],
      "metadata": {
        "id": "v0pEP1udHrl7"
      }
    },
    {
      "cell_type": "code",
      "source": [
        "import re\n",
        "import json\n",
        "import requests\n",
        "import pandas as pd\n",
        "\n",
        "def get_cmt_from_shopee_url(url):\n",
        "\n",
        "    r = re.search(r\"i\\.(\\d+)\\.(\\d+)\", url)\n",
        "    shop_id, item_id = r[1], r[2]\n",
        "    ratings_url = \"https://shopee.vn/api/v2/item/get_ratings?filter=0&flag=1&itemid={item_id}&limit=50&offset={offset}&shopid={shop_id}&type={rating}\"\n",
        "\n",
        "    # d = {\"username\": [], \"rating\": [], \"comment\": []}\n",
        "    d = {\"comment\": [], \"rating\": []}\n",
        "\n",
        "    for rate in range(1, 6):\n",
        "        offset = 0\n",
        "        while True:\n",
        "            try:\n",
        "              data = requests.get(ratings_url.format(shop_id=shop_id, item_id=item_id, offset=offset, rating = rate)).json()\n",
        "\n",
        "              i = 1\n",
        "              for i, rating in enumerate(data[\"data\"][\"ratings\"], 1):\n",
        "                  d[\"rating\"].append(rating[\"rating_star\"])\n",
        "                  d[\"comment\"].append(rating[\"comment\"])\n",
        "\n",
        "                  # print(rating[\"rating_star\"])\n",
        "                  # print(rating[\"comment\"])\n",
        "                  # print(\"-\" * 100)\n",
        "\n",
        "              offset += 50\n",
        "            except TypeError:\n",
        "              break\n",
        "    return d"
      ],
      "metadata": {
        "id": "e6kIYl9IHygB"
      },
      "execution_count": null,
      "outputs": []
    },
    {
      "cell_type": "code",
      "source": [
        "url = \"https://shopee.vn/S%E1%BB%AFa-r%E1%BB%ADa-m%E1%BA%B7t-Simple-l%C3%A0nh-t%C3%ADnh-s%E1%BA%A1ch-tho%C3%A1ng-cho-da-nh%E1%BA%A1y-c%E1%BA%A3m-150ml-CH%C3%8DNH-H%C3%83NG-%C4%90%E1%BB%98C-QUY%E1%BB%80N-DI%E1%BB%86N-M%E1%BA%A0O-M%E1%BB%9AI--i.111138057.8587034871\"\n",
        "df = pd.DataFrame(get_cmt_from_shopee_url(url))\n",
        "df"
      ],
      "metadata": {
        "id": "LEPe2YZiISzu",
        "colab": {
          "base_uri": "https://localhost:8080/",
          "height": 424
        },
        "outputId": "e933e395-af47-4925-b1c2-e4c969331cf6"
      },
      "execution_count": null,
      "outputs": [
        {
          "output_type": "execute_result",
          "data": {
            "text/plain": [
              "                                                 comment  rating\n",
              "0      Công dụng:rỬa mặt\\nMùi hương:ổn\\nKết cấu:gel\\n...       1\n",
              "1      Công dụng:sữa rửa mặt\\nMùi hương:chưa biết\\nDà...       1\n",
              "2      Dành cho da:lhuf hợp với mọi loại da\\nCông dụn...       1\n",
              "3      Công dụng:Rửa mặt\\nMùi hương:Gần như không có\\...       1\n",
              "4      Công dụng:làm sạch\\nMùi hương:không biết\\nDành...       1\n",
              "...                                                  ...     ...\n",
              "11263  Công dụng:làm sạch bề da mặt\\nMùi hương:không ...       5\n",
              "11264  Công dụng:lamf sạch da\\nMùi hương:thơm dịu\\nDà...       5\n",
              "11265  Nhận hàng, cảm nhận quá tuyệt vời luôn ạ! Shop...       5\n",
              "11266  Dành cho da:nhạy cảm\\nMùi hương:nhẹ\\nCông dụng...       5\n",
              "11267  Công dụng:rỬa mặt\\nMùi hương:tHơm\\nDành cho da...       5\n",
              "\n",
              "[11268 rows x 2 columns]"
            ],
            "text/html": [
              "\n",
              "  <div id=\"df-1d66368a-00a7-4577-b571-791b15f8c1af\" class=\"colab-df-container\">\n",
              "    <div>\n",
              "<style scoped>\n",
              "    .dataframe tbody tr th:only-of-type {\n",
              "        vertical-align: middle;\n",
              "    }\n",
              "\n",
              "    .dataframe tbody tr th {\n",
              "        vertical-align: top;\n",
              "    }\n",
              "\n",
              "    .dataframe thead th {\n",
              "        text-align: right;\n",
              "    }\n",
              "</style>\n",
              "<table border=\"1\" class=\"dataframe\">\n",
              "  <thead>\n",
              "    <tr style=\"text-align: right;\">\n",
              "      <th></th>\n",
              "      <th>comment</th>\n",
              "      <th>rating</th>\n",
              "    </tr>\n",
              "  </thead>\n",
              "  <tbody>\n",
              "    <tr>\n",
              "      <th>0</th>\n",
              "      <td>Công dụng:rỬa mặt\\nMùi hương:ổn\\nKết cấu:gel\\n...</td>\n",
              "      <td>1</td>\n",
              "    </tr>\n",
              "    <tr>\n",
              "      <th>1</th>\n",
              "      <td>Công dụng:sữa rửa mặt\\nMùi hương:chưa biết\\nDà...</td>\n",
              "      <td>1</td>\n",
              "    </tr>\n",
              "    <tr>\n",
              "      <th>2</th>\n",
              "      <td>Dành cho da:lhuf hợp với mọi loại da\\nCông dụn...</td>\n",
              "      <td>1</td>\n",
              "    </tr>\n",
              "    <tr>\n",
              "      <th>3</th>\n",
              "      <td>Công dụng:Rửa mặt\\nMùi hương:Gần như không có\\...</td>\n",
              "      <td>1</td>\n",
              "    </tr>\n",
              "    <tr>\n",
              "      <th>4</th>\n",
              "      <td>Công dụng:làm sạch\\nMùi hương:không biết\\nDành...</td>\n",
              "      <td>1</td>\n",
              "    </tr>\n",
              "    <tr>\n",
              "      <th>...</th>\n",
              "      <td>...</td>\n",
              "      <td>...</td>\n",
              "    </tr>\n",
              "    <tr>\n",
              "      <th>11263</th>\n",
              "      <td>Công dụng:làm sạch bề da mặt\\nMùi hương:không ...</td>\n",
              "      <td>5</td>\n",
              "    </tr>\n",
              "    <tr>\n",
              "      <th>11264</th>\n",
              "      <td>Công dụng:lamf sạch da\\nMùi hương:thơm dịu\\nDà...</td>\n",
              "      <td>5</td>\n",
              "    </tr>\n",
              "    <tr>\n",
              "      <th>11265</th>\n",
              "      <td>Nhận hàng, cảm nhận quá tuyệt vời luôn ạ! Shop...</td>\n",
              "      <td>5</td>\n",
              "    </tr>\n",
              "    <tr>\n",
              "      <th>11266</th>\n",
              "      <td>Dành cho da:nhạy cảm\\nMùi hương:nhẹ\\nCông dụng...</td>\n",
              "      <td>5</td>\n",
              "    </tr>\n",
              "    <tr>\n",
              "      <th>11267</th>\n",
              "      <td>Công dụng:rỬa mặt\\nMùi hương:tHơm\\nDành cho da...</td>\n",
              "      <td>5</td>\n",
              "    </tr>\n",
              "  </tbody>\n",
              "</table>\n",
              "<p>11268 rows × 2 columns</p>\n",
              "</div>\n",
              "    <div class=\"colab-df-buttons\">\n",
              "\n",
              "  <div class=\"colab-df-container\">\n",
              "    <button class=\"colab-df-convert\" onclick=\"convertToInteractive('df-1d66368a-00a7-4577-b571-791b15f8c1af')\"\n",
              "            title=\"Convert this dataframe to an interactive table.\"\n",
              "            style=\"display:none;\">\n",
              "\n",
              "  <svg xmlns=\"http://www.w3.org/2000/svg\" height=\"24px\" viewBox=\"0 -960 960 960\">\n",
              "    <path d=\"M120-120v-720h720v720H120Zm60-500h600v-160H180v160Zm220 220h160v-160H400v160Zm0 220h160v-160H400v160ZM180-400h160v-160H180v160Zm440 0h160v-160H620v160ZM180-180h160v-160H180v160Zm440 0h160v-160H620v160Z\"/>\n",
              "  </svg>\n",
              "    </button>\n",
              "\n",
              "  <style>\n",
              "    .colab-df-container {\n",
              "      display:flex;\n",
              "      gap: 12px;\n",
              "    }\n",
              "\n",
              "    .colab-df-convert {\n",
              "      background-color: #E8F0FE;\n",
              "      border: none;\n",
              "      border-radius: 50%;\n",
              "      cursor: pointer;\n",
              "      display: none;\n",
              "      fill: #1967D2;\n",
              "      height: 32px;\n",
              "      padding: 0 0 0 0;\n",
              "      width: 32px;\n",
              "    }\n",
              "\n",
              "    .colab-df-convert:hover {\n",
              "      background-color: #E2EBFA;\n",
              "      box-shadow: 0px 1px 2px rgba(60, 64, 67, 0.3), 0px 1px 3px 1px rgba(60, 64, 67, 0.15);\n",
              "      fill: #174EA6;\n",
              "    }\n",
              "\n",
              "    .colab-df-buttons div {\n",
              "      margin-bottom: 4px;\n",
              "    }\n",
              "\n",
              "    [theme=dark] .colab-df-convert {\n",
              "      background-color: #3B4455;\n",
              "      fill: #D2E3FC;\n",
              "    }\n",
              "\n",
              "    [theme=dark] .colab-df-convert:hover {\n",
              "      background-color: #434B5C;\n",
              "      box-shadow: 0px 1px 3px 1px rgba(0, 0, 0, 0.15);\n",
              "      filter: drop-shadow(0px 1px 2px rgba(0, 0, 0, 0.3));\n",
              "      fill: #FFFFFF;\n",
              "    }\n",
              "  </style>\n",
              "\n",
              "    <script>\n",
              "      const buttonEl =\n",
              "        document.querySelector('#df-1d66368a-00a7-4577-b571-791b15f8c1af button.colab-df-convert');\n",
              "      buttonEl.style.display =\n",
              "        google.colab.kernel.accessAllowed ? 'block' : 'none';\n",
              "\n",
              "      async function convertToInteractive(key) {\n",
              "        const element = document.querySelector('#df-1d66368a-00a7-4577-b571-791b15f8c1af');\n",
              "        const dataTable =\n",
              "          await google.colab.kernel.invokeFunction('convertToInteractive',\n",
              "                                                    [key], {});\n",
              "        if (!dataTable) return;\n",
              "\n",
              "        const docLinkHtml = 'Like what you see? Visit the ' +\n",
              "          '<a target=\"_blank\" href=https://colab.research.google.com/notebooks/data_table.ipynb>data table notebook</a>'\n",
              "          + ' to learn more about interactive tables.';\n",
              "        element.innerHTML = '';\n",
              "        dataTable['output_type'] = 'display_data';\n",
              "        await google.colab.output.renderOutput(dataTable, element);\n",
              "        const docLink = document.createElement('div');\n",
              "        docLink.innerHTML = docLinkHtml;\n",
              "        element.appendChild(docLink);\n",
              "      }\n",
              "    </script>\n",
              "  </div>\n",
              "\n",
              "\n",
              "<div id=\"df-d781ac05-0798-4643-a68f-8b48d79a609c\">\n",
              "  <button class=\"colab-df-quickchart\" onclick=\"quickchart('df-d781ac05-0798-4643-a68f-8b48d79a609c')\"\n",
              "            title=\"Suggest charts\"\n",
              "            style=\"display:none;\">\n",
              "\n",
              "<svg xmlns=\"http://www.w3.org/2000/svg\" height=\"24px\"viewBox=\"0 0 24 24\"\n",
              "     width=\"24px\">\n",
              "    <g>\n",
              "        <path d=\"M19 3H5c-1.1 0-2 .9-2 2v14c0 1.1.9 2 2 2h14c1.1 0 2-.9 2-2V5c0-1.1-.9-2-2-2zM9 17H7v-7h2v7zm4 0h-2V7h2v10zm4 0h-2v-4h2v4z\"/>\n",
              "    </g>\n",
              "</svg>\n",
              "  </button>\n",
              "\n",
              "<style>\n",
              "  .colab-df-quickchart {\n",
              "      --bg-color: #E8F0FE;\n",
              "      --fill-color: #1967D2;\n",
              "      --hover-bg-color: #E2EBFA;\n",
              "      --hover-fill-color: #174EA6;\n",
              "      --disabled-fill-color: #AAA;\n",
              "      --disabled-bg-color: #DDD;\n",
              "  }\n",
              "\n",
              "  [theme=dark] .colab-df-quickchart {\n",
              "      --bg-color: #3B4455;\n",
              "      --fill-color: #D2E3FC;\n",
              "      --hover-bg-color: #434B5C;\n",
              "      --hover-fill-color: #FFFFFF;\n",
              "      --disabled-bg-color: #3B4455;\n",
              "      --disabled-fill-color: #666;\n",
              "  }\n",
              "\n",
              "  .colab-df-quickchart {\n",
              "    background-color: var(--bg-color);\n",
              "    border: none;\n",
              "    border-radius: 50%;\n",
              "    cursor: pointer;\n",
              "    display: none;\n",
              "    fill: var(--fill-color);\n",
              "    height: 32px;\n",
              "    padding: 0;\n",
              "    width: 32px;\n",
              "  }\n",
              "\n",
              "  .colab-df-quickchart:hover {\n",
              "    background-color: var(--hover-bg-color);\n",
              "    box-shadow: 0 1px 2px rgba(60, 64, 67, 0.3), 0 1px 3px 1px rgba(60, 64, 67, 0.15);\n",
              "    fill: var(--button-hover-fill-color);\n",
              "  }\n",
              "\n",
              "  .colab-df-quickchart-complete:disabled,\n",
              "  .colab-df-quickchart-complete:disabled:hover {\n",
              "    background-color: var(--disabled-bg-color);\n",
              "    fill: var(--disabled-fill-color);\n",
              "    box-shadow: none;\n",
              "  }\n",
              "\n",
              "  .colab-df-spinner {\n",
              "    border: 2px solid var(--fill-color);\n",
              "    border-color: transparent;\n",
              "    border-bottom-color: var(--fill-color);\n",
              "    animation:\n",
              "      spin 1s steps(1) infinite;\n",
              "  }\n",
              "\n",
              "  @keyframes spin {\n",
              "    0% {\n",
              "      border-color: transparent;\n",
              "      border-bottom-color: var(--fill-color);\n",
              "      border-left-color: var(--fill-color);\n",
              "    }\n",
              "    20% {\n",
              "      border-color: transparent;\n",
              "      border-left-color: var(--fill-color);\n",
              "      border-top-color: var(--fill-color);\n",
              "    }\n",
              "    30% {\n",
              "      border-color: transparent;\n",
              "      border-left-color: var(--fill-color);\n",
              "      border-top-color: var(--fill-color);\n",
              "      border-right-color: var(--fill-color);\n",
              "    }\n",
              "    40% {\n",
              "      border-color: transparent;\n",
              "      border-right-color: var(--fill-color);\n",
              "      border-top-color: var(--fill-color);\n",
              "    }\n",
              "    60% {\n",
              "      border-color: transparent;\n",
              "      border-right-color: var(--fill-color);\n",
              "    }\n",
              "    80% {\n",
              "      border-color: transparent;\n",
              "      border-right-color: var(--fill-color);\n",
              "      border-bottom-color: var(--fill-color);\n",
              "    }\n",
              "    90% {\n",
              "      border-color: transparent;\n",
              "      border-bottom-color: var(--fill-color);\n",
              "    }\n",
              "  }\n",
              "</style>\n",
              "\n",
              "  <script>\n",
              "    async function quickchart(key) {\n",
              "      const quickchartButtonEl =\n",
              "        document.querySelector('#' + key + ' button');\n",
              "      quickchartButtonEl.disabled = true;  // To prevent multiple clicks.\n",
              "      quickchartButtonEl.classList.add('colab-df-spinner');\n",
              "      try {\n",
              "        const charts = await google.colab.kernel.invokeFunction(\n",
              "            'suggestCharts', [key], {});\n",
              "      } catch (error) {\n",
              "        console.error('Error during call to suggestCharts:', error);\n",
              "      }\n",
              "      quickchartButtonEl.classList.remove('colab-df-spinner');\n",
              "      quickchartButtonEl.classList.add('colab-df-quickchart-complete');\n",
              "    }\n",
              "    (() => {\n",
              "      let quickchartButtonEl =\n",
              "        document.querySelector('#df-d781ac05-0798-4643-a68f-8b48d79a609c button');\n",
              "      quickchartButtonEl.style.display =\n",
              "        google.colab.kernel.accessAllowed ? 'block' : 'none';\n",
              "    })();\n",
              "  </script>\n",
              "</div>\n",
              "    </div>\n",
              "  </div>\n"
            ],
            "application/vnd.google.colaboratory.intrinsic+json": {
              "type": "dataframe",
              "variable_name": "df",
              "summary": "{\n  \"name\": \"df\",\n  \"rows\": 11268,\n  \"fields\": [\n    {\n      \"column\": \"comment\",\n      \"properties\": {\n        \"dtype\": \"string\",\n        \"num_unique_values\": 9516,\n        \"samples\": [\n          \"C\\u00f4ng d\\u1ee5ng:l\\u00e0m s\\u1ea1ch da\\nM\\u00f9i h\\u01b0\\u01a1ng:nh\\u1eb9\\nD\\u00e0nh cho da:m\\u1ecdi lo\\u1ea1i da\\n\\nMua \\u0111\\u00fang \\u0111\\u1ee3t sale .mua m\\u1ed9t s\\u1eefa r\\u1eeda m\\u1eb7t \\u0111\\u01b0\\u1ee3c t\\u1eb7ng n\\u01b0\\u1edbc t\\u1ea9y trang qu\\u00e1 l\\u00e0 h\\u1eddi lu\\u00f4nnnnn\",\n          \"\\u0111\\u00f3ng goi k k\\u0129 l\\u1eafm \\u1ea5y \\u1ea1\",\n          \"C\\u00f4ng d\\u1ee5ng:l\\u00e0m s\\u1ea1ch\\nD\\u00e0nh cho da:t\\u1ea5t c\\u1ea3\\n\\nGi\\u00e1 hs sv ,\\u0111\\u00f3ng g\\u1ecdi c\\u1ef1c k\\u00ec c\\u1ea9n th\\u1eadn\\n\\u0110\\u00e2y l\\u00e0 chai th\\u1ee9 2 mk d\\u00f9ng th\\u1ea5y kh\\u00e1 ok\\n\\u0110\\u1ed9 ph v\\u1eeba ph\\u1ea3i k l\\u00e0m kh\\u00f4 da \\nH\\u00e0ng ch\\u00ednh h\\u00e3ng\\nGiao h\\u00e0ng nhanh \\n10\\u20ab 10\\u20ab\"\n        ],\n        \"semantic_type\": \"\",\n        \"description\": \"\"\n      }\n    },\n    {\n      \"column\": \"rating\",\n      \"properties\": {\n        \"dtype\": \"number\",\n        \"std\": 1,\n        \"min\": 1,\n        \"max\": 5,\n        \"num_unique_values\": 5,\n        \"samples\": [\n          2,\n          5,\n          3\n        ],\n        \"semantic_type\": \"\",\n        \"description\": \"\"\n      }\n    }\n  ]\n}"
            }
          },
          "metadata": {},
          "execution_count": 134
        }
      ]
    },
    {
      "cell_type": "code",
      "source": [
        "from google.colab import drive\n",
        "drive.mount('/content/drive')"
      ],
      "metadata": {
        "colab": {
          "base_uri": "https://localhost:8080/"
        },
        "id": "1toECn91jW1P",
        "outputId": "9b5e87fb-8735-459a-b4e6-a57f58a3a5a1"
      },
      "execution_count": null,
      "outputs": [
        {
          "output_type": "stream",
          "name": "stdout",
          "text": [
            "Mounted at /content/drive\n"
          ]
        }
      ]
    },
    {
      "cell_type": "code",
      "source": [
        "df.to_csv(\"/content/drive/MyDrive/Colab Notebooks/shopee_data_final.csv\", index=False)"
      ],
      "metadata": {
        "id": "Qk0F3EghjX8l"
      },
      "execution_count": null,
      "outputs": []
    },
    {
      "cell_type": "code",
      "source": [
        "df.info()"
      ],
      "metadata": {
        "colab": {
          "base_uri": "https://localhost:8080/"
        },
        "id": "BFD5KuqEjwot",
        "outputId": "db824d61-644a-47b1-9adf-037436a3bf4f"
      },
      "execution_count": 201,
      "outputs": [
        {
          "output_type": "stream",
          "name": "stdout",
          "text": [
            "<class 'pandas.core.frame.DataFrame'>\n",
            "RangeIndex: 11268 entries, 0 to 11267\n",
            "Data columns (total 5 columns):\n",
            " #   Column   Non-Null Count  Dtype \n",
            "---  ------   --------------  ----- \n",
            " 0   comment  11268 non-null  object\n",
            " 1   rating   11268 non-null  int64 \n",
            " 2   words    11268 non-null  object\n",
            " 3   label    11268 non-null  object\n",
            " 4   feature  11268 non-null  object\n",
            "dtypes: int64(1), object(4)\n",
            "memory usage: 440.3+ KB\n"
          ]
        }
      ]
    },
    {
      "cell_type": "markdown",
      "source": [
        "# Xử lý dữ liệu"
      ],
      "metadata": {
        "id": "-ndMEbTcjzno"
      }
    },
    {
      "cell_type": "code",
      "source": [
        "num_words = 11268"
      ],
      "metadata": {
        "id": "JlRR-q0deRQm"
      },
      "execution_count": null,
      "outputs": []
    },
    {
      "cell_type": "code",
      "source": [
        "%matplotlib inline\n",
        "import matplotlib.pyplot as plt\n",
        "import tensorflow as tf\n",
        "import numpy as np\n",
        "from scipy.spatial.distance import cdist"
      ],
      "metadata": {
        "id": "Yjg79gsifz-k"
      },
      "execution_count": null,
      "outputs": []
    },
    {
      "cell_type": "code",
      "source": [
        "from tensorflow.keras.models import Sequential\n",
        "from tensorflow.keras.layers import Dense, GRU, Embedding\n",
        "from tensorflow.keras.optimizers import Adam\n",
        "from tensorflow.keras.preprocessing.text import Tokenizer\n",
        "from tensorflow.keras.preprocessing.sequence import pad_sequences"
      ],
      "metadata": {
        "id": "4Tyeh7gUf97F"
      },
      "execution_count": null,
      "outputs": []
    },
    {
      "cell_type": "code",
      "source": [
        "! pip install underthesea==6.6.0\n",
        "! pip install stop-words"
      ],
      "metadata": {
        "colab": {
          "base_uri": "https://localhost:8080/"
        },
        "id": "f14dKbeBia-w",
        "outputId": "9eb92451-6959-4ede-c78a-ae4c4d0f5e15"
      },
      "execution_count": null,
      "outputs": [
        {
          "output_type": "stream",
          "name": "stdout",
          "text": [
            "Requirement already satisfied: underthesea==6.6.0 in /usr/local/lib/python3.10/dist-packages (6.6.0)\n",
            "Requirement already satisfied: Click>=6.0 in /usr/local/lib/python3.10/dist-packages (from underthesea==6.6.0) (8.1.7)\n",
            "Requirement already satisfied: python-crfsuite>=0.9.6 in /usr/local/lib/python3.10/dist-packages (from underthesea==6.6.0) (0.9.10)\n",
            "Requirement already satisfied: nltk in /usr/local/lib/python3.10/dist-packages (from underthesea==6.6.0) (3.8.1)\n",
            "Requirement already satisfied: tqdm in /usr/local/lib/python3.10/dist-packages (from underthesea==6.6.0) (4.66.2)\n",
            "Requirement already satisfied: requests in /usr/local/lib/python3.10/dist-packages (from underthesea==6.6.0) (2.31.0)\n",
            "Requirement already satisfied: joblib in /usr/local/lib/python3.10/dist-packages (from underthesea==6.6.0) (1.4.0)\n",
            "Requirement already satisfied: scikit-learn in /usr/local/lib/python3.10/dist-packages (from underthesea==6.6.0) (1.2.2)\n",
            "Requirement already satisfied: PyYAML in /usr/local/lib/python3.10/dist-packages (from underthesea==6.6.0) (6.0.1)\n",
            "Requirement already satisfied: underthesea-core==1.0.4 in /usr/local/lib/python3.10/dist-packages (from underthesea==6.6.0) (1.0.4)\n",
            "Requirement already satisfied: regex>=2021.8.3 in /usr/local/lib/python3.10/dist-packages (from nltk->underthesea==6.6.0) (2023.12.25)\n",
            "Requirement already satisfied: charset-normalizer<4,>=2 in /usr/local/lib/python3.10/dist-packages (from requests->underthesea==6.6.0) (3.3.2)\n",
            "Requirement already satisfied: idna<4,>=2.5 in /usr/local/lib/python3.10/dist-packages (from requests->underthesea==6.6.0) (3.7)\n",
            "Requirement already satisfied: urllib3<3,>=1.21.1 in /usr/local/lib/python3.10/dist-packages (from requests->underthesea==6.6.0) (2.0.7)\n",
            "Requirement already satisfied: certifi>=2017.4.17 in /usr/local/lib/python3.10/dist-packages (from requests->underthesea==6.6.0) (2024.2.2)\n",
            "Requirement already satisfied: numpy>=1.17.3 in /usr/local/lib/python3.10/dist-packages (from scikit-learn->underthesea==6.6.0) (1.25.2)\n",
            "Requirement already satisfied: scipy>=1.3.2 in /usr/local/lib/python3.10/dist-packages (from scikit-learn->underthesea==6.6.0) (1.11.4)\n",
            "Requirement already satisfied: threadpoolctl>=2.0.0 in /usr/local/lib/python3.10/dist-packages (from scikit-learn->underthesea==6.6.0) (3.4.0)\n",
            "Requirement already satisfied: stop-words in /usr/local/lib/python3.10/dist-packages (2018.7.23)\n"
          ]
        }
      ]
    },
    {
      "cell_type": "markdown",
      "source": [
        "**Chuẩn hóa dữ liệu tiếng việt, tách từ**"
      ],
      "metadata": {
        "id": "SjVLCpfqj8-g"
      }
    },
    {
      "cell_type": "code",
      "source": [
        "from underthesea import sent_tokenize\n",
        "from underthesea import text_normalize\n",
        "from underthesea import word_tokenize"
      ],
      "metadata": {
        "id": "V5DWEqYyimaY"
      },
      "execution_count": null,
      "outputs": []
    },
    {
      "cell_type": "code",
      "source": [
        "from stop_words import get_stop_words\n",
        "from nltk.tokenize import RegexpTokenizer\n",
        "\n",
        "stop_words = get_stop_words('vi')\n",
        "\n",
        "def remove_vietnamese_stopwords(words):\n",
        "  filtered_words = [word for word in words if word.lower() not in stop_words]\n",
        "  return ' '.join(filtered_words)\n",
        "\n",
        "def assign_label(rating):\n",
        "  new_class = \"neutral\"\n",
        "  if rating>=4:\n",
        "    new_class = \"positive\"\n",
        "  elif rating<=2:\n",
        "    new_class = \"negative\"\n",
        "  return new_class"
      ],
      "metadata": {
        "id": "x8ujU-x5gALk"
      },
      "execution_count": null,
      "outputs": []
    },
    {
      "cell_type": "code",
      "source": [
        "tokenizer = RegexpTokenizer(r'\\w+')\n",
        "df['words'] = df['comment'].apply(tokenizer.tokenize)\n",
        "df['words'] = df['words'].apply(remove_vietnamese_stopwords)\n",
        "df['label'] = df['rating'].apply(assign_label)\n",
        "df.head(5)"
      ],
      "metadata": {
        "colab": {
          "base_uri": "https://localhost:8080/",
          "height": 206
        },
        "id": "u5X6Wg8EgCOV",
        "outputId": "a66385cc-e5ed-48a8-a59d-fd1f9b391c91"
      },
      "execution_count": null,
      "outputs": [
        {
          "output_type": "execute_result",
          "data": {
            "text/plain": [
              "                                             comment  rating  \\\n",
              "0  Công dụng:rỬa mặt\\nMùi hương:ổn\\nKết cấu:gel\\n...       1   \n",
              "1  Công dụng:sữa rửa mặt\\nMùi hương:chưa biết\\nDà...       1   \n",
              "2  Dành cho da:lhuf hợp với mọi loại da\\nCông dụn...       1   \n",
              "3  Công dụng:Rửa mặt\\nMùi hương:Gần như không có\\...       1   \n",
              "4  Công dụng:làm sạch\\nMùi hương:không biết\\nDành...       1   \n",
              "\n",
              "                                               words     label  \n",
              "0  Công dụng rỬa mặt Mùi hương ổn Kết cấu gel sho...  negative  \n",
              "1  Công dụng sữa rửa mặt Mùi hương da bình chất v...  negative  \n",
              "2  da lhuf hợp da Công dụng sạch da Mùi hương mùi...  negative  \n",
              "3  Công dụng Rửa mặt Mùi hương da da Shipper gọi ...  negative  \n",
              "4  Công dụng sạch Mùi hương da tất flashs sale 1 ...  negative  "
            ],
            "text/html": [
              "\n",
              "  <div id=\"df-60e1762b-9f75-448e-93b3-c09504543624\" class=\"colab-df-container\">\n",
              "    <div>\n",
              "<style scoped>\n",
              "    .dataframe tbody tr th:only-of-type {\n",
              "        vertical-align: middle;\n",
              "    }\n",
              "\n",
              "    .dataframe tbody tr th {\n",
              "        vertical-align: top;\n",
              "    }\n",
              "\n",
              "    .dataframe thead th {\n",
              "        text-align: right;\n",
              "    }\n",
              "</style>\n",
              "<table border=\"1\" class=\"dataframe\">\n",
              "  <thead>\n",
              "    <tr style=\"text-align: right;\">\n",
              "      <th></th>\n",
              "      <th>comment</th>\n",
              "      <th>rating</th>\n",
              "      <th>words</th>\n",
              "      <th>label</th>\n",
              "    </tr>\n",
              "  </thead>\n",
              "  <tbody>\n",
              "    <tr>\n",
              "      <th>0</th>\n",
              "      <td>Công dụng:rỬa mặt\\nMùi hương:ổn\\nKết cấu:gel\\n...</td>\n",
              "      <td>1</td>\n",
              "      <td>Công dụng rỬa mặt Mùi hương ổn Kết cấu gel sho...</td>\n",
              "      <td>negative</td>\n",
              "    </tr>\n",
              "    <tr>\n",
              "      <th>1</th>\n",
              "      <td>Công dụng:sữa rửa mặt\\nMùi hương:chưa biết\\nDà...</td>\n",
              "      <td>1</td>\n",
              "      <td>Công dụng sữa rửa mặt Mùi hương da bình chất v...</td>\n",
              "      <td>negative</td>\n",
              "    </tr>\n",
              "    <tr>\n",
              "      <th>2</th>\n",
              "      <td>Dành cho da:lhuf hợp với mọi loại da\\nCông dụn...</td>\n",
              "      <td>1</td>\n",
              "      <td>da lhuf hợp da Công dụng sạch da Mùi hương mùi...</td>\n",
              "      <td>negative</td>\n",
              "    </tr>\n",
              "    <tr>\n",
              "      <th>3</th>\n",
              "      <td>Công dụng:Rửa mặt\\nMùi hương:Gần như không có\\...</td>\n",
              "      <td>1</td>\n",
              "      <td>Công dụng Rửa mặt Mùi hương da da Shipper gọi ...</td>\n",
              "      <td>negative</td>\n",
              "    </tr>\n",
              "    <tr>\n",
              "      <th>4</th>\n",
              "      <td>Công dụng:làm sạch\\nMùi hương:không biết\\nDành...</td>\n",
              "      <td>1</td>\n",
              "      <td>Công dụng sạch Mùi hương da tất flashs sale 1 ...</td>\n",
              "      <td>negative</td>\n",
              "    </tr>\n",
              "  </tbody>\n",
              "</table>\n",
              "</div>\n",
              "    <div class=\"colab-df-buttons\">\n",
              "\n",
              "  <div class=\"colab-df-container\">\n",
              "    <button class=\"colab-df-convert\" onclick=\"convertToInteractive('df-60e1762b-9f75-448e-93b3-c09504543624')\"\n",
              "            title=\"Convert this dataframe to an interactive table.\"\n",
              "            style=\"display:none;\">\n",
              "\n",
              "  <svg xmlns=\"http://www.w3.org/2000/svg\" height=\"24px\" viewBox=\"0 -960 960 960\">\n",
              "    <path d=\"M120-120v-720h720v720H120Zm60-500h600v-160H180v160Zm220 220h160v-160H400v160Zm0 220h160v-160H400v160ZM180-400h160v-160H180v160Zm440 0h160v-160H620v160ZM180-180h160v-160H180v160Zm440 0h160v-160H620v160Z\"/>\n",
              "  </svg>\n",
              "    </button>\n",
              "\n",
              "  <style>\n",
              "    .colab-df-container {\n",
              "      display:flex;\n",
              "      gap: 12px;\n",
              "    }\n",
              "\n",
              "    .colab-df-convert {\n",
              "      background-color: #E8F0FE;\n",
              "      border: none;\n",
              "      border-radius: 50%;\n",
              "      cursor: pointer;\n",
              "      display: none;\n",
              "      fill: #1967D2;\n",
              "      height: 32px;\n",
              "      padding: 0 0 0 0;\n",
              "      width: 32px;\n",
              "    }\n",
              "\n",
              "    .colab-df-convert:hover {\n",
              "      background-color: #E2EBFA;\n",
              "      box-shadow: 0px 1px 2px rgba(60, 64, 67, 0.3), 0px 1px 3px 1px rgba(60, 64, 67, 0.15);\n",
              "      fill: #174EA6;\n",
              "    }\n",
              "\n",
              "    .colab-df-buttons div {\n",
              "      margin-bottom: 4px;\n",
              "    }\n",
              "\n",
              "    [theme=dark] .colab-df-convert {\n",
              "      background-color: #3B4455;\n",
              "      fill: #D2E3FC;\n",
              "    }\n",
              "\n",
              "    [theme=dark] .colab-df-convert:hover {\n",
              "      background-color: #434B5C;\n",
              "      box-shadow: 0px 1px 3px 1px rgba(0, 0, 0, 0.15);\n",
              "      filter: drop-shadow(0px 1px 2px rgba(0, 0, 0, 0.3));\n",
              "      fill: #FFFFFF;\n",
              "    }\n",
              "  </style>\n",
              "\n",
              "    <script>\n",
              "      const buttonEl =\n",
              "        document.querySelector('#df-60e1762b-9f75-448e-93b3-c09504543624 button.colab-df-convert');\n",
              "      buttonEl.style.display =\n",
              "        google.colab.kernel.accessAllowed ? 'block' : 'none';\n",
              "\n",
              "      async function convertToInteractive(key) {\n",
              "        const element = document.querySelector('#df-60e1762b-9f75-448e-93b3-c09504543624');\n",
              "        const dataTable =\n",
              "          await google.colab.kernel.invokeFunction('convertToInteractive',\n",
              "                                                    [key], {});\n",
              "        if (!dataTable) return;\n",
              "\n",
              "        const docLinkHtml = 'Like what you see? Visit the ' +\n",
              "          '<a target=\"_blank\" href=https://colab.research.google.com/notebooks/data_table.ipynb>data table notebook</a>'\n",
              "          + ' to learn more about interactive tables.';\n",
              "        element.innerHTML = '';\n",
              "        dataTable['output_type'] = 'display_data';\n",
              "        await google.colab.output.renderOutput(dataTable, element);\n",
              "        const docLink = document.createElement('div');\n",
              "        docLink.innerHTML = docLinkHtml;\n",
              "        element.appendChild(docLink);\n",
              "      }\n",
              "    </script>\n",
              "  </div>\n",
              "\n",
              "\n",
              "<div id=\"df-eb9e000a-ac20-40b8-8173-4f00335857f4\">\n",
              "  <button class=\"colab-df-quickchart\" onclick=\"quickchart('df-eb9e000a-ac20-40b8-8173-4f00335857f4')\"\n",
              "            title=\"Suggest charts\"\n",
              "            style=\"display:none;\">\n",
              "\n",
              "<svg xmlns=\"http://www.w3.org/2000/svg\" height=\"24px\"viewBox=\"0 0 24 24\"\n",
              "     width=\"24px\">\n",
              "    <g>\n",
              "        <path d=\"M19 3H5c-1.1 0-2 .9-2 2v14c0 1.1.9 2 2 2h14c1.1 0 2-.9 2-2V5c0-1.1-.9-2-2-2zM9 17H7v-7h2v7zm4 0h-2V7h2v10zm4 0h-2v-4h2v4z\"/>\n",
              "    </g>\n",
              "</svg>\n",
              "  </button>\n",
              "\n",
              "<style>\n",
              "  .colab-df-quickchart {\n",
              "      --bg-color: #E8F0FE;\n",
              "      --fill-color: #1967D2;\n",
              "      --hover-bg-color: #E2EBFA;\n",
              "      --hover-fill-color: #174EA6;\n",
              "      --disabled-fill-color: #AAA;\n",
              "      --disabled-bg-color: #DDD;\n",
              "  }\n",
              "\n",
              "  [theme=dark] .colab-df-quickchart {\n",
              "      --bg-color: #3B4455;\n",
              "      --fill-color: #D2E3FC;\n",
              "      --hover-bg-color: #434B5C;\n",
              "      --hover-fill-color: #FFFFFF;\n",
              "      --disabled-bg-color: #3B4455;\n",
              "      --disabled-fill-color: #666;\n",
              "  }\n",
              "\n",
              "  .colab-df-quickchart {\n",
              "    background-color: var(--bg-color);\n",
              "    border: none;\n",
              "    border-radius: 50%;\n",
              "    cursor: pointer;\n",
              "    display: none;\n",
              "    fill: var(--fill-color);\n",
              "    height: 32px;\n",
              "    padding: 0;\n",
              "    width: 32px;\n",
              "  }\n",
              "\n",
              "  .colab-df-quickchart:hover {\n",
              "    background-color: var(--hover-bg-color);\n",
              "    box-shadow: 0 1px 2px rgba(60, 64, 67, 0.3), 0 1px 3px 1px rgba(60, 64, 67, 0.15);\n",
              "    fill: var(--button-hover-fill-color);\n",
              "  }\n",
              "\n",
              "  .colab-df-quickchart-complete:disabled,\n",
              "  .colab-df-quickchart-complete:disabled:hover {\n",
              "    background-color: var(--disabled-bg-color);\n",
              "    fill: var(--disabled-fill-color);\n",
              "    box-shadow: none;\n",
              "  }\n",
              "\n",
              "  .colab-df-spinner {\n",
              "    border: 2px solid var(--fill-color);\n",
              "    border-color: transparent;\n",
              "    border-bottom-color: var(--fill-color);\n",
              "    animation:\n",
              "      spin 1s steps(1) infinite;\n",
              "  }\n",
              "\n",
              "  @keyframes spin {\n",
              "    0% {\n",
              "      border-color: transparent;\n",
              "      border-bottom-color: var(--fill-color);\n",
              "      border-left-color: var(--fill-color);\n",
              "    }\n",
              "    20% {\n",
              "      border-color: transparent;\n",
              "      border-left-color: var(--fill-color);\n",
              "      border-top-color: var(--fill-color);\n",
              "    }\n",
              "    30% {\n",
              "      border-color: transparent;\n",
              "      border-left-color: var(--fill-color);\n",
              "      border-top-color: var(--fill-color);\n",
              "      border-right-color: var(--fill-color);\n",
              "    }\n",
              "    40% {\n",
              "      border-color: transparent;\n",
              "      border-right-color: var(--fill-color);\n",
              "      border-top-color: var(--fill-color);\n",
              "    }\n",
              "    60% {\n",
              "      border-color: transparent;\n",
              "      border-right-color: var(--fill-color);\n",
              "    }\n",
              "    80% {\n",
              "      border-color: transparent;\n",
              "      border-right-color: var(--fill-color);\n",
              "      border-bottom-color: var(--fill-color);\n",
              "    }\n",
              "    90% {\n",
              "      border-color: transparent;\n",
              "      border-bottom-color: var(--fill-color);\n",
              "    }\n",
              "  }\n",
              "</style>\n",
              "\n",
              "  <script>\n",
              "    async function quickchart(key) {\n",
              "      const quickchartButtonEl =\n",
              "        document.querySelector('#' + key + ' button');\n",
              "      quickchartButtonEl.disabled = true;  // To prevent multiple clicks.\n",
              "      quickchartButtonEl.classList.add('colab-df-spinner');\n",
              "      try {\n",
              "        const charts = await google.colab.kernel.invokeFunction(\n",
              "            'suggestCharts', [key], {});\n",
              "      } catch (error) {\n",
              "        console.error('Error during call to suggestCharts:', error);\n",
              "      }\n",
              "      quickchartButtonEl.classList.remove('colab-df-spinner');\n",
              "      quickchartButtonEl.classList.add('colab-df-quickchart-complete');\n",
              "    }\n",
              "    (() => {\n",
              "      let quickchartButtonEl =\n",
              "        document.querySelector('#df-eb9e000a-ac20-40b8-8173-4f00335857f4 button');\n",
              "      quickchartButtonEl.style.display =\n",
              "        google.colab.kernel.accessAllowed ? 'block' : 'none';\n",
              "    })();\n",
              "  </script>\n",
              "</div>\n",
              "    </div>\n",
              "  </div>\n"
            ],
            "application/vnd.google.colaboratory.intrinsic+json": {
              "type": "dataframe",
              "variable_name": "df",
              "summary": "{\n  \"name\": \"df\",\n  \"rows\": 11268,\n  \"fields\": [\n    {\n      \"column\": \"comment\",\n      \"properties\": {\n        \"dtype\": \"string\",\n        \"num_unique_values\": 9516,\n        \"samples\": [\n          \"C\\u00f4ng d\\u1ee5ng:l\\u00e0m s\\u1ea1ch da\\nM\\u00f9i h\\u01b0\\u01a1ng:nh\\u1eb9\\nD\\u00e0nh cho da:m\\u1ecdi lo\\u1ea1i da\\n\\nMua \\u0111\\u00fang \\u0111\\u1ee3t sale .mua m\\u1ed9t s\\u1eefa r\\u1eeda m\\u1eb7t \\u0111\\u01b0\\u1ee3c t\\u1eb7ng n\\u01b0\\u1edbc t\\u1ea9y trang qu\\u00e1 l\\u00e0 h\\u1eddi lu\\u00f4nnnnn\",\n          \"\\u0111\\u00f3ng goi k k\\u0129 l\\u1eafm \\u1ea5y \\u1ea1\",\n          \"C\\u00f4ng d\\u1ee5ng:l\\u00e0m s\\u1ea1ch\\nD\\u00e0nh cho da:t\\u1ea5t c\\u1ea3\\n\\nGi\\u00e1 hs sv ,\\u0111\\u00f3ng g\\u1ecdi c\\u1ef1c k\\u00ec c\\u1ea9n th\\u1eadn\\n\\u0110\\u00e2y l\\u00e0 chai th\\u1ee9 2 mk d\\u00f9ng th\\u1ea5y kh\\u00e1 ok\\n\\u0110\\u1ed9 ph v\\u1eeba ph\\u1ea3i k l\\u00e0m kh\\u00f4 da \\nH\\u00e0ng ch\\u00ednh h\\u00e3ng\\nGiao h\\u00e0ng nhanh \\n10\\u20ab 10\\u20ab\"\n        ],\n        \"semantic_type\": \"\",\n        \"description\": \"\"\n      }\n    },\n    {\n      \"column\": \"rating\",\n      \"properties\": {\n        \"dtype\": \"number\",\n        \"std\": 1,\n        \"min\": 1,\n        \"max\": 5,\n        \"num_unique_values\": 5,\n        \"samples\": [\n          2,\n          5,\n          3\n        ],\n        \"semantic_type\": \"\",\n        \"description\": \"\"\n      }\n    },\n    {\n      \"column\": \"words\",\n      \"properties\": {\n        \"dtype\": \"string\",\n        \"num_unique_values\": 9433,\n        \"samples\": [\n          \"C\\u00f4ng d\\u1ee5ng r\\u1eeda m\\u1eb7t da da M\\u00f9i h\\u01b0\\u01a1ng S\\u1ea1ch d\\u1ecbu nh\\u1eb9 kh\\u00f4 k c\\u1ea3m gi\\u00e1c c\\u0103ng da m\\u1eb7t \\u00eam l\\u1eafm mua s\\u00e0i \\u0111c g\\u00e1i ch\\u00f4m r\",\n          \"da nh\\u1ea1y c\\u1ea3m d\\u1ea7u j S\\u00e0i \\u0111c C\\u00f4ng d\\u1ee5ng r\\u1eeda m\\u1eb7t M\\u00f9i h\\u01b0\\u01a1ng m\\u00f9i Gi\\u00e1 th\\u00e0nh h\\u1ee3p l\\u00fd S\\u1ea3n ph\\u1ea9m S\\u00e0i \\u1ed5n \\u00e1p l\\u1eafm\",\n          \"S\\u1ea3n ph\\u1ea9m d\\u00e1n b\\u0103ng keo n\\u1eafp h\\u1ed9p ko \\u0111c bao b\\u1ecdc k\\u0129 Ko qu\\u00e0 t\\u1eb7ng k\\u00e8m shop gt \\u0111\\u1ea7u sd t ko bt c\\u00f4ng d\\u1ee5ng m\\u00f9i h\\u1eafc ng\\u1eedi Giao h\\u00e0ng\"\n        ],\n        \"semantic_type\": \"\",\n        \"description\": \"\"\n      }\n    },\n    {\n      \"column\": \"label\",\n      \"properties\": {\n        \"dtype\": \"category\",\n        \"num_unique_values\": 3,\n        \"samples\": [\n          \"negative\",\n          \"neutral\",\n          \"positive\"\n        ],\n        \"semantic_type\": \"\",\n        \"description\": \"\"\n      }\n    }\n  ]\n}"
            }
          },
          "metadata": {},
          "execution_count": 145
        }
      ]
    },
    {
      "cell_type": "code",
      "source": [
        "import matplotlib.pyplot as plt\n",
        "countClass = pd.value_counts(df['label'], sort=True, dropna=False)\n",
        "print(countClass)\n",
        "countClass.plot(kind = \"pie\", autopct= '%1.0f%%')\n",
        "plt.show()"
      ],
      "metadata": {
        "colab": {
          "base_uri": "https://localhost:8080/",
          "height": 493
        },
        "id": "IiUIHEiFi1d_",
        "outputId": "28ce59a2-08b2-477a-cd3c-17fbb3a2381f"
      },
      "execution_count": null,
      "outputs": [
        {
          "output_type": "stream",
          "name": "stdout",
          "text": [
            "label\n",
            "positive    6100\n",
            "negative    3169\n",
            "neutral     1999\n",
            "Name: count, dtype: int64\n"
          ]
        },
        {
          "output_type": "display_data",
          "data": {
            "text/plain": [
              "<Figure size 640x480 with 1 Axes>"
            ],
            "image/png": "[encoded data removed]"
          },
          "metadata": {}
        }
      ]
    },
    {
      "cell_type": "markdown",
      "source": [
        "**Load data**"
      ],
      "metadata": {
        "id": "MBgLL_OQjJ-b"
      }
    },
    {
      "cell_type": "code",
      "source": [
        "def create_word_features(clean_words):\n",
        "    my_dict = dict([(word, True) for word in clean_words])\n",
        "    return my_dict\n",
        "\n",
        "df['feature'] = df['words'].apply(create_word_features)"
      ],
      "metadata": {
        "id": "_429kJpQpmbF"
      },
      "execution_count": null,
      "outputs": []
    },
    {
      "cell_type": "code",
      "source": [
        "from sklearn.feature_extraction.text import CountVectorizer\n",
        "from sklearn.model_selection import train_test_split\n",
        "from sklearn.naive_bayes import MultinomialNB\n",
        "from sklearn.metrics import accuracy_score, classification_report\n",
        "\n",
        "# Convert text data into bag-of-words features\n",
        "vectorizer = CountVectorizer()\n",
        "x = vectorizer.fit_transform(df['words'])\n",
        "\n",
        "# Split the data into training and testing sets\n",
        "x_train_text, x_test_text, y_train, y_test = train_test_split(x, df['words'], test_size= 0.2, random_state = 42)"
      ],
      "metadata": {
        "id": "vqDYGU4AmY4E"
      },
      "execution_count": 192,
      "outputs": []
    },
    {
      "cell_type": "code",
      "source": [
        "# Convert to numpy arrays\n",
        "y_train = np.array(y_train)\n",
        "y_test = np.array(y_test)"
      ],
      "metadata": {
        "id": "4xXSO5tqugiO"
      },
      "execution_count": 193,
      "outputs": []
    },
    {
      "cell_type": "code",
      "source": [
        "# Conver to numpy arrays\n",
        "x_train_text = np.array(x_train_text)\n",
        "x_test_text = np.array(x_test_text)"
      ],
      "metadata": {
        "id": "EelgW8W99GcM"
      },
      "execution_count": 202,
      "outputs": []
    },
    {
      "cell_type": "code",
      "source": [
        "print (x_test_text[1])"
      ],
      "metadata": {
        "colab": {
          "base_uri": "https://localhost:8080/"
        },
        "id": "Ky_e2Yfs8C5M",
        "outputId": "f4ee946c-6c42-46b0-8baa-375653539afc"
      },
      "execution_count": 203,
      "outputs": [
        {
          "output_type": "stream",
          "name": "stdout",
          "text": [
            "Kết cấu típ Công dụng rữa mặt Mùi hương hơi hôi hàng giả hya j mn nắp vận nhìu bọt lắm nhìu hơi hôi\n"
          ]
        }
      ]
    },
    {
      "cell_type": "code",
      "source": [
        "print (x_train_text[1])"
      ],
      "metadata": {
        "colab": {
          "base_uri": "https://localhost:8080/"
        },
        "id": "jQb36ppp8JGU",
        "outputId": "69c37757-652d-44c6-eba8-f82b7405ad76"
      },
      "execution_count": 204,
      "outputs": [
        {
          "output_type": "stream",
          "name": "stdout",
          "text": [
            "Sản phẩm giao đóng gói cẩn thận hình Nắp ko đóng Cảm giác srm k sạch lắm\n"
          ]
        }
      ]
    },
    {
      "cell_type": "code",
      "source": [
        "print(\"Train-set size: \", len(x_train_text))\n",
        "print(\"Test-set size:  \", len(x_test_text))"
      ],
      "metadata": {
        "id": "ddK5Mm7n7v-5",
        "colab": {
          "base_uri": "https://localhost:8080/"
        },
        "outputId": "c49a1a44-5912-4b8a-8ebf-f306c93f77d4"
      },
      "execution_count": 208,
      "outputs": [
        {
          "output_type": "stream",
          "name": "stdout",
          "text": [
            "Train-set size:  9014\n",
            "Test-set size:   2254\n"
          ]
        }
      ]
    },
    {
      "cell_type": "code",
      "source": [
        "x_train_text[1]"
      ],
      "metadata": {
        "colab": {
          "base_uri": "https://localhost:8080/",
          "height": 35
        },
        "id": "sTSNjUlt7t_f",
        "outputId": "667559f0-af0c-4aec-d444-ae0e9ab469db"
      },
      "execution_count": 210,
      "outputs": [
        {
          "output_type": "execute_result",
          "data": {
            "text/plain": [
              "'Sản phẩm giao đóng gói cẩn thận hình Nắp ko đóng Cảm giác srm k sạch lắm'"
            ],
            "application/vnd.google.colaboratory.intrinsic+json": {
              "type": "string"
            }
          },
          "metadata": {},
          "execution_count": 210
        }
      ]
    },
    {
      "cell_type": "markdown",
      "source": [
        "**Tokenization**\n"
      ],
      "metadata": {
        "id": "-s0PCvj8_sB_"
      }
    },
    {
      "cell_type": "code",
      "source": [
        "num_words = 10000000"
      ],
      "metadata": {
        "id": "usbU7rhdkgSW"
      },
      "execution_count": 211,
      "outputs": []
    },
    {
      "cell_type": "code",
      "source": [
        "tokenizer = Tokenizer(num_words=num_words)"
      ],
      "metadata": {
        "id": "vRfTKZ_PkhdP"
      },
      "execution_count": 212,
      "outputs": []
    },
    {
      "cell_type": "code",
      "source": [
        "%%time\n",
        "tokenizer.fit_on_texts(df['comment'])"
      ],
      "metadata": {
        "colab": {
          "base_uri": "https://localhost:8080/"
        },
        "id": "tsLhswZiklD3",
        "outputId": "98616592-2cd5-4437-e31b-356b3b8efebb"
      },
      "execution_count": 213,
      "outputs": [
        {
          "output_type": "stream",
          "name": "stdout",
          "text": [
            "CPU times: user 492 ms, sys: 6.43 ms, total: 499 ms\n",
            "Wall time: 522 ms\n"
          ]
        }
      ]
    },
    {
      "cell_type": "code",
      "source": [
        "if num_words is None:\n",
        "    num_words = len(tokenizer.word_index)"
      ],
      "metadata": {
        "id": "0htLqFCpkw-Z"
      },
      "execution_count": 214,
      "outputs": []
    },
    {
      "cell_type": "code",
      "source": [
        "tokenizer.word_index"
      ],
      "metadata": {
        "id": "RA_ynqz3kyMx"
      },
      "execution_count": null,
      "outputs": []
    },
    {
      "cell_type": "code",
      "source": [
        "x_train_tokens = tokenizer.texts_to_sequences(x_train_text)"
      ],
      "metadata": {
        "id": "mUw4HjnU7ng7"
      },
      "execution_count": 216,
      "outputs": []
    },
    {
      "cell_type": "code",
      "source": [
        "x_train_text[1]"
      ],
      "metadata": {
        "colab": {
          "base_uri": "https://localhost:8080/",
          "height": 35
        },
        "id": "Fy_rSenk7u-t",
        "outputId": "e13ae496-4efc-444d-cb56-abf7be7bf8f1"
      },
      "execution_count": 217,
      "outputs": [
        {
          "output_type": "execute_result",
          "data": {
            "text/plain": [
              "'Sản phẩm giao đóng gói cẩn thận hình Nắp ko đóng Cảm giác srm k sạch lắm'"
            ],
            "application/vnd.google.colaboratory.intrinsic+json": {
              "type": "string"
            }
          },
          "metadata": {},
          "execution_count": 217
        }
      ]
    },
    {
      "cell_type": "code",
      "source": [
        "np.array(x_train_tokens[1])"
      ],
      "metadata": {
        "colab": {
          "base_uri": "https://localhost:8080/"
        },
        "id": "NhA8k40E7y2u",
        "outputId": "8075dadf-f403-4cb9-86ff-e59f66e0b123"
      },
      "execution_count": 218,
      "outputs": [
        {
          "output_type": "execute_result",
          "data": {
            "text/plain": [
              "array([ 33,  31,  14,  22,  16,  76,  77, 105, 149,  20,  22,  35, 253,\n",
              "        68,  25,  23,  66])"
            ]
          },
          "metadata": {},
          "execution_count": 218
        }
      ]
    },
    {
      "cell_type": "code",
      "source": [
        "x_test_tokens = tokenizer.texts_to_sequences(x_test_text)"
      ],
      "metadata": {
        "id": "vKIha3EmHAL6"
      },
      "execution_count": 219,
      "outputs": []
    },
    {
      "cell_type": "markdown",
      "source": [
        "Padding and Truncating Data"
      ],
      "metadata": {
        "id": "AEMVYyA7HDLW"
      }
    },
    {
      "cell_type": "code",
      "source": [
        "num_tokens = [len(tokens) for tokens in x_train_tokens + x_test_tokens]\n",
        "num_tokens = np.array(num_tokens)"
      ],
      "metadata": {
        "id": "DB6IOP7mHEMu"
      },
      "execution_count": 220,
      "outputs": []
    },
    {
      "cell_type": "markdown",
      "source": [
        "The average number of tokens in a sequence is:"
      ],
      "metadata": {
        "id": "toIK416LHIwt"
      }
    },
    {
      "cell_type": "code",
      "source": [
        "np.mean(num_tokens)"
      ],
      "metadata": {
        "colab": {
          "base_uri": "https://localhost:8080/"
        },
        "id": "ZmCfrsT6HKBi",
        "outputId": "093f1c04-4247-4ad2-a241-16aa64346f63"
      },
      "execution_count": 221,
      "outputs": [
        {
          "output_type": "execute_result",
          "data": {
            "text/plain": [
              "15.620962016329429"
            ]
          },
          "metadata": {},
          "execution_count": 221
        }
      ]
    },
    {
      "cell_type": "markdown",
      "source": [
        "The maximum number of tokens in a sequence is:"
      ],
      "metadata": {
        "id": "6S9V5kNOHSv6"
      }
    },
    {
      "cell_type": "code",
      "source": [
        "np.max(num_tokens)"
      ],
      "metadata": {
        "colab": {
          "base_uri": "https://localhost:8080/"
        },
        "id": "z7HvP6XqHULj",
        "outputId": "ec3ed71f-45ab-46fa-e40b-29c999f07181"
      },
      "execution_count": 222,
      "outputs": [
        {
          "output_type": "execute_result",
          "data": {
            "text/plain": [
              "329"
            ]
          },
          "metadata": {},
          "execution_count": 222
        }
      ]
    },
    {
      "cell_type": "markdown",
      "source": [
        "The max number of tokens we will allow is set to the average plus 2 standard deviations."
      ],
      "metadata": {
        "id": "3xZ-b1SRHWvm"
      }
    },
    {
      "cell_type": "code",
      "source": [
        "max_tokens = np.mean(num_tokens) + 2 * np.std(num_tokens)\n",
        "max_tokens = int(max_tokens)\n",
        "max_tokens"
      ],
      "metadata": {
        "colab": {
          "base_uri": "https://localhost:8080/"
        },
        "id": "lIj5DjZ5HX3q",
        "outputId": "799d564c-4c7b-4714-8d04-73840f8491cf"
      },
      "execution_count": 223,
      "outputs": [
        {
          "output_type": "execute_result",
          "data": {
            "text/plain": [
              "41"
            ]
          },
          "metadata": {},
          "execution_count": 223
        }
      ]
    },
    {
      "cell_type": "code",
      "source": [
        "This covers about 95% of the data-set."
      ],
      "metadata": {
        "id": "YzCtg2MLHbB_"
      },
      "execution_count": null,
      "outputs": []
    },
    {
      "cell_type": "code",
      "source": [
        "np.sum(num_tokens < max_tokens) / len(num_tokens)"
      ],
      "metadata": {
        "colab": {
          "base_uri": "https://localhost:8080/"
        },
        "id": "VhuhyFl9Hcsv",
        "outputId": "dadda5d9-2a37-4781-dd79-4c73907de2b4"
      },
      "execution_count": 224,
      "outputs": [
        {
          "output_type": "execute_result",
          "data": {
            "text/plain": [
              "0.9751508697195598"
            ]
          },
          "metadata": {},
          "execution_count": 224
        }
      ]
    },
    {
      "cell_type": "markdown",
      "source": [
        "When padding or truncating the sequences that have a different length, we need to determine if we want to do this padding or truncating 'pre' or 'post'. If a sequence is truncated, it means that a part of the sequence is simply thrown away. If a sequence is padded, it means that zeros are added to the sequence.\n",
        "\n",
        "So the choice of 'pre' or 'post' can be important because it determines whether we throw away the first or last part of a sequence when truncating, and it determines whether we add zeros to the beginning or end of the sequence when padding. This may confuse the Recurrent Neural Network."
      ],
      "metadata": {
        "id": "wmiaASejHfIH"
      }
    },
    {
      "cell_type": "code",
      "source": [
        "pad = 'pre'"
      ],
      "metadata": {
        "id": "dPD1WS7HHgWp"
      },
      "execution_count": 225,
      "outputs": []
    },
    {
      "cell_type": "code",
      "source": [
        "x_train_pad = pad_sequences(x_train_tokens, maxlen=max_tokens,\n",
        "                            padding=pad, truncating=pad)"
      ],
      "metadata": {
        "id": "SzGq6gt8HjQR"
      },
      "execution_count": 226,
      "outputs": []
    },
    {
      "cell_type": "code",
      "source": [
        "x_test_pad = pad_sequences(x_test_tokens, maxlen=max_tokens,\n",
        "                           padding=pad, truncating=pad)"
      ],
      "metadata": {
        "id": "3hdPJYqHHlQl"
      },
      "execution_count": 227,
      "outputs": []
    },
    {
      "cell_type": "markdown",
      "source": [
        "We have now transformed the training-set into one big matrix of integers (tokens) with this shape:"
      ],
      "metadata": {
        "id": "1lqZ5XeFHnoT"
      }
    },
    {
      "cell_type": "code",
      "source": [
        "x_train_pad.shape"
      ],
      "metadata": {
        "colab": {
          "base_uri": "https://localhost:8080/"
        },
        "id": "TSeUoDWQHoqX",
        "outputId": "ec5965ed-4910-417b-92a0-ce45044c6527"
      },
      "execution_count": 228,
      "outputs": [
        {
          "output_type": "execute_result",
          "data": {
            "text/plain": [
              "(9014, 41)"
            ]
          },
          "metadata": {},
          "execution_count": 228
        }
      ]
    },
    {
      "cell_type": "markdown",
      "source": [
        "The matrix for the test-set has the same shape:"
      ],
      "metadata": {
        "id": "k2bAiqkmHySX"
      }
    },
    {
      "cell_type": "code",
      "source": [
        "x_test_pad.shape\n"
      ],
      "metadata": {
        "colab": {
          "base_uri": "https://localhost:8080/"
        },
        "id": "k7uDxlgIHzzE",
        "outputId": "de696d48-3665-40f0-908e-30b1da286eeb"
      },
      "execution_count": 229,
      "outputs": [
        {
          "output_type": "execute_result",
          "data": {
            "text/plain": [
              "(2254, 41)"
            ]
          },
          "metadata": {},
          "execution_count": 229
        }
      ]
    },
    {
      "cell_type": "code",
      "source": [
        "np.array(x_train_tokens[1])"
      ],
      "metadata": {
        "colab": {
          "base_uri": "https://localhost:8080/"
        },
        "id": "s0NVi55BH4M2",
        "outputId": "6522e7c5-45c4-402b-c768-79c0c100f7f1"
      },
      "execution_count": 231,
      "outputs": [
        {
          "output_type": "execute_result",
          "data": {
            "text/plain": [
              "array([ 33,  31,  14,  22,  16,  76,  77, 105, 149,  20,  22,  35, 253,\n",
              "        68,  25,  23,  66])"
            ]
          },
          "metadata": {},
          "execution_count": 231
        }
      ]
    },
    {
      "cell_type": "markdown",
      "source": [
        "This has simply been padded to create the following sequence. Note that when this is input to the Recurrent Neural Network, then it first inputs a lot of zeros. If we had padded 'post' then it would input the integer-tokens first and then a lot of zeros. This may confuse the Recurrent Neural Network."
      ],
      "metadata": {
        "id": "LYcWlp2mH9Mj"
      }
    },
    {
      "cell_type": "code",
      "source": [
        "x_train_pad[1]"
      ],
      "metadata": {
        "colab": {
          "base_uri": "https://localhost:8080/"
        },
        "id": "Z7zUgB-4H7K1",
        "outputId": "25cfd207-748b-4358-b016-79bc766d540b"
      },
      "execution_count": 232,
      "outputs": [
        {
          "output_type": "execute_result",
          "data": {
            "text/plain": [
              "array([  0,   0,   0,   0,   0,   0,   0,   0,   0,   0,   0,   0,   0,\n",
              "         0,   0,   0,   0,   0,   0,   0,   0,   0,   0,   0,  33,  31,\n",
              "        14,  22,  16,  76,  77, 105, 149,  20,  22,  35, 253,  68,  25,\n",
              "        23,  66], dtype=int32)"
            ]
          },
          "metadata": {},
          "execution_count": 232
        }
      ]
    },
    {
      "cell_type": "markdown",
      "source": [
        "##Tokenizer Inverse Map"
      ],
      "metadata": {
        "id": "bec9Gcv_IFdV"
      }
    },
    {
      "cell_type": "code",
      "source": [
        "idx = tokenizer.word_index\n",
        "inverse_map = dict(zip(idx.values(), idx.keys()))"
      ],
      "metadata": {
        "id": "waA4-BZnIHCP"
      },
      "execution_count": 233,
      "outputs": []
    },
    {
      "cell_type": "code",
      "source": [
        "def tokens_to_string(tokens):\n",
        "    # Map from tokens back to words.\n",
        "    words = [inverse_map[token] for token in tokens if token != 0]\n",
        "\n",
        "    # Concatenate all words.\n",
        "    text = \" \".join(words)\n",
        "\n",
        "    return text"
      ],
      "metadata": {
        "id": "ZzTrrw4mIKVL"
      },
      "execution_count": 234,
      "outputs": []
    },
    {
      "cell_type": "code",
      "source": [
        "x_train_text[1]"
      ],
      "metadata": {
        "colab": {
          "base_uri": "https://localhost:8080/",
          "height": 35
        },
        "id": "t2sgs9vGIMHD",
        "outputId": "ea7d554a-f8c0-48b5-ea18-406af81943c7"
      },
      "execution_count": 235,
      "outputs": [
        {
          "output_type": "execute_result",
          "data": {
            "text/plain": [
              "'Sản phẩm giao đóng gói cẩn thận hình Nắp ko đóng Cảm giác srm k sạch lắm'"
            ],
            "application/vnd.google.colaboratory.intrinsic+json": {
              "type": "string"
            }
          },
          "metadata": {},
          "execution_count": 235
        }
      ]
    },
    {
      "cell_type": "code",
      "source": [
        "tokens_to_string(x_train_tokens[1])"
      ],
      "metadata": {
        "colab": {
          "base_uri": "https://localhost:8080/",
          "height": 35
        },
        "id": "fYnF6tb8IOQK",
        "outputId": "34a3ed83-93bb-4271-cd43-4d546a311aaf"
      },
      "execution_count": 236,
      "outputs": [
        {
          "output_type": "execute_result",
          "data": {
            "text/plain": [
              "'sản phẩm giao đóng gói cẩn thận hình nắp ko đóng cảm giác srm k sạch lắm'"
            ],
            "application/vnd.google.colaboratory.intrinsic+json": {
              "type": "string"
            }
          },
          "metadata": {},
          "execution_count": 236
        }
      ]
    },
    {
      "cell_type": "markdown",
      "source": [
        "##Create the Recurrent Neural Network"
      ],
      "metadata": {
        "id": "5xQM82OeIVGa"
      }
    },
    {
      "cell_type": "code",
      "source": [
        "model = Sequential()"
      ],
      "metadata": {
        "id": "aWW87WUvIXES"
      },
      "execution_count": 237,
      "outputs": []
    },
    {
      "cell_type": "code",
      "source": [
        "embedding_size = 8"
      ],
      "metadata": {
        "id": "6Ne5Vo3RIbMT"
      },
      "execution_count": 238,
      "outputs": []
    },
    {
      "cell_type": "markdown",
      "source": [
        "The embedding-layer also needs to know the number of words in the vocabulary (num_words) and the length of the padded token-sequences (max_tokens). We also give this layer a name because we need to retrieve its weights further below."
      ],
      "metadata": {
        "id": "cI9LRq4sIeXp"
      }
    },
    {
      "cell_type": "code",
      "source": [
        "model.add(Embedding(input_dim=num_words,\n",
        "                    output_dim=embedding_size,\n",
        "                    input_length=max_tokens,\n",
        "                    name='layer_embedding'))"
      ],
      "metadata": {
        "id": "JbqNwxq4IcOC"
      },
      "execution_count": 239,
      "outputs": []
    },
    {
      "cell_type": "markdown",
      "source": [
        "We can now add the first Gated Recurrent Unit (GRU) to the network. This will have 16 outputs. Because we will add a second GRU after this one, we need to return sequences of data because the next GRU expects sequences as its input."
      ],
      "metadata": {
        "id": "JlG0DR1IIrwv"
      }
    },
    {
      "cell_type": "code",
      "source": [
        "model.add(GRU(units=16, return_sequences=True))"
      ],
      "metadata": {
        "id": "C4qUF1QqIlLd"
      },
      "execution_count": 240,
      "outputs": []
    },
    {
      "cell_type": "code",
      "source": [
        "model.add(GRU(units=8, return_sequences=True))"
      ],
      "metadata": {
        "id": "hfc12CaYIjuQ"
      },
      "execution_count": 242,
      "outputs": []
    },
    {
      "cell_type": "code",
      "source": [
        "model.add(GRU(units=4))"
      ],
      "metadata": {
        "id": "Qkv2PZJIIwfU"
      },
      "execution_count": 243,
      "outputs": []
    },
    {
      "cell_type": "code",
      "source": [
        "model.add(Dense(1, activation='sigmoid'))"
      ],
      "metadata": {
        "id": "06N8z6Z_IzKt"
      },
      "execution_count": 244,
      "outputs": []
    },
    {
      "cell_type": "code",
      "source": [
        "optimizer = Adam(lr=1e-3)"
      ],
      "metadata": {
        "colab": {
          "base_uri": "https://localhost:8080/"
        },
        "id": "UZwsqlQ9I1no",
        "outputId": "c7eb35f2-c47d-45c1-c49c-cbe4400ed99e"
      },
      "execution_count": 245,
      "outputs": [
        {
          "output_type": "stream",
          "name": "stderr",
          "text": [
            "WARNING:absl:`lr` is deprecated in Keras optimizer, please use `learning_rate` or use the legacy optimizer, e.g.,tf.keras.optimizers.legacy.Adam.\n"
          ]
        }
      ]
    },
    {
      "cell_type": "code",
      "source": [
        "model.compile(loss='binary_crossentropy',\n",
        "              optimizer=optimizer,\n",
        "              metrics=['accuracy'])"
      ],
      "metadata": {
        "id": "MINajWyeI55i"
      },
      "execution_count": 246,
      "outputs": []
    },
    {
      "cell_type": "code",
      "source": [
        "model.summary()"
      ],
      "metadata": {
        "colab": {
          "base_uri": "https://localhost:8080/"
        },
        "id": "OgY1uH9CI7u0",
        "outputId": "20d3720c-2ac3-4dfa-a057-ad29f9a1e3bb"
      },
      "execution_count": 247,
      "outputs": [
        {
          "output_type": "stream",
          "name": "stdout",
          "text": [
            "Model: \"sequential\"\n",
            "_________________________________________________________________\n",
            " Layer (type)                Output Shape              Param #   \n",
            "=================================================================\n",
            " layer_embedding (Embedding  (None, 41, 8)             80000000  \n",
            " )                                                               \n",
            "                                                                 \n",
            " gru (GRU)                   (None, 41, 16)            1248      \n",
            "                                                                 \n",
            " gru_1 (GRU)                 (None, 41, 8)             624       \n",
            "                                                                 \n",
            " gru_2 (GRU)                 (None, 41, 8)             432       \n",
            "                                                                 \n",
            " gru_3 (GRU)                 (None, 4)                 168       \n",
            "                                                                 \n",
            " dense (Dense)               (None, 1)                 5         \n",
            "                                                                 \n",
            "=================================================================\n",
            "Total params: 80002477 (305.19 MB)\n",
            "Trainable params: 80002477 (305.19 MB)\n",
            "Non-trainable params: 0 (0.00 Byte)\n",
            "_________________________________________________________________\n"
          ]
        }
      ]
    },
    {
      "cell_type": "markdown",
      "source": [
        "##Train the Recurrent Neural Network\n"
      ],
      "metadata": {
        "id": "qoFtuI5nI-Te"
      }
    },
    {
      "cell_type": "markdown",
      "source": [
        "We can now train the model. Note that we are using the data-set with the padded sequences. We use 5% of the training-set as a small validation-set, so we have a rough idea whether the model is generalizing well or if it is perhaps over-fitting to the training-set."
      ],
      "metadata": {
        "id": "ssEdgI3NJD7p"
      }
    },
    {
      "cell_type": "code",
      "source": [
        "%%time\n",
        "model.fit(x_train_pad, y_train,\n",
        "          validation_split=0.05, epochs=3, batch_size=64)"
      ],
      "metadata": {
        "id": "WPzd6BAsJC3F"
      },
      "execution_count": null,
      "outputs": []
    }
  ]
}